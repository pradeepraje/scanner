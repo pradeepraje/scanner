{
 "cells": [
  {
   "cell_type": "code",
   "execution_count": 1,
   "id": "c1050bc5",
   "metadata": {},
   "outputs": [
    {
     "ename": "ERROR",
     "evalue": "Error in Ver(): could not find function \"Ver\"\n",
     "output_type": "error",
     "traceback": [
      "Error in Ver(): could not find function \"Ver\"\nTraceback:\n"
     ]
    }
   ],
   "source": [
    "Ver()"
   ]
  },
  {
   "cell_type": "code",
   "execution_count": null,
   "id": "3dfb84b7",
   "metadata": {},
   "outputs": [],
   "source": []
  }
 ],
 "metadata": {
  "kernelspec": {
   "display_name": "R",
   "language": "R",
   "name": "ir"
  },
  "language_info": {
   "codemirror_mode": "r",
   "file_extension": ".r",
   "mimetype": "text/x-r-source",
   "name": "R",
   "pygments_lexer": "r",
   "version": "4.0.4"
  }
 },
 "nbformat": 4,
 "nbformat_minor": 5
}
