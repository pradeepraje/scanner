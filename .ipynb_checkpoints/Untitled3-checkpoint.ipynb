{
 "cells": [
  {
   "cell_type": "code",
   "execution_count": 18,
   "id": "a118f122",
   "metadata": {},
   "outputs": [],
   "source": [
    "from lxml import etree\n",
    "import time,xlrd,sqlite3, pickle\n",
    "#from bs4 import BeautifulSoup\n",
    "from datetime import datetime\n",
    "import selenium as se\n",
    "from selenium import webdriver\n"
   ]
  },
  {
   "cell_type": "code",
   "execution_count": 4,
   "id": "bb6489ef",
   "metadata": {},
   "outputs": [],
   "source": [
    "ibook = xlrd.open_workbook(\"cairn17.xls\", formatting_info=True)\n",
    "isheet = ibook.sheet_by_index(0)\n"
   ]
  },
  {
   "cell_type": "code",
   "execution_count": 19,
   "id": "e46d469d",
   "metadata": {},
   "outputs": [],
   "source": [
    "import requests\n",
    "import bs4\n",
    "from lxml import etree\n",
    "from bs4 import BeautifulSoup\n"
   ]
  },
  {
   "cell_type": "code",
   "execution_count": 26,
   "id": "af75e890",
   "metadata": {
    "scrolled": false
   },
   "outputs": [
    {
     "name": "stdout",
     "output_type": "stream",
     "text": [
      "Agency: 01-01-2017Bureau\n",
      "Agency: 02-01-2017Bureau\n",
      "Agency: 02-01-2017Bureau\n",
      "Journalist:   03-01-2017 Rejesh Naidu\n",
      "Journalist:   03-01-2017 Kunal Bose\n",
      "Agency: 03-01-2017Bureau\n",
      "Agency: 04-01-2017Bureau\n",
      "Agency: 04-01-2017PTI\n",
      "Agency: 04-01-2017PTI\n",
      "Agency: 04-01-2017Bureau\n"
     ]
    }
   ],
   "source": [
    "options = se.webdriver.ChromeOptions()\n",
    "options.add_argument('headless')\n",
    "driver=se.webdriver.Chrome(options=options)   \n",
    "ibook = xlrd.open_workbook(\"cairn17.xls\", formatting_info=True)\n",
    "isheet = ibook.sheet_by_index(0)\n",
    "for row in range(11):\n",
    "    if (isheet.cell_value(row,5).lower()=='english'):\n",
    "        link = isheet.hyperlink_map.get((row, 1))\n",
    "        url = '(No URL)' if link is None else link.url_or_path        \n",
    "        driver.get(url)            \n",
    "        time.sleep(5)\n",
    "        id_date=datetime.strftime(datetime.strptime(datex, '%d-%m-%Y'), '%Y-%m-%d')\n",
    "        webpage=requests.get(url)\n",
    "        soup=BeautifulSoup(webpage.content, 'html.parser')\n",
    "        dom=etree.HTML(str(soup))\n",
    "        id_date=dom.xpath('//*[@id=\"ctl00_ContentPlaceHolder1_lblNewsDate\"]')[0].text\n",
    "\n",
    "        if dom.xpath( '//*[@id=\"ctl00_ContentPlaceHolder1_lblJournalist\"]'):\n",
    "            print(\"Journalist:   \"+'\\t'+id_date+'\\t'+ dom.xpath( '//*[@id=\"ctl00_ContentPlaceHolder1_lblJournalist\"]')[0].text)\n",
    "        elif  dom.xpath('//*[@id=\"ctl00_ContentPlaceHolder1_lblAgency\"]'):\n",
    "            print('Agency: '+'\\t'+id_date+'\\t'+dom.xpath('//*[@id=\"ctl00_ContentPlaceHolder1_lblAgency\"]')[0].text)\n",
    "        elif dom.xpath( '//*[@id=\"ctl00_ContentPlaceHolder1_lblAuthor\"]'):\n",
    "                    print('Author: '+'\\t'+id_date +'\\t'+dom.xpath('//*[@id=\"ctl00_ContentPlaceHolder1_lblAuthor\"]')[0].text)\n",
    "        else:\n",
    "            print (\"Nothing recorded\")"
   ]
  },
  {
   "cell_type": "code",
   "execution_count": 16,
   "id": "cf51784b",
   "metadata": {},
   "outputs": [
    {
     "name": "stdout",
     "output_type": "stream",
     "text": [
      "100\n"
     ]
    }
   ],
   "source": [
    "ibook = xlrd.open_workbook(\"cairn17.xls\", formatting_info=True)\n",
    "isheet = ibook.sheet_by_index(0)\n",
    "print(isheet.nrows)"
   ]
  },
  {
   "cell_type": "code",
   "execution_count": 22,
   "id": "1d3d81fa",
   "metadata": {},
   "outputs": [],
   "source": [
    "url='http://mtrack.merryspiders.com/NewsDetailsPublished.aspx?NewsId=Kz14iYUqklsFJjwdoptEIw==&MediaType='"
   ]
  },
  {
   "cell_type": "code",
   "execution_count": null,
   "id": "f40ea99a",
   "metadata": {},
   "outputs": [],
   "source": []
  }
 ],
 "metadata": {
  "kernelspec": {
   "display_name": "Python 3 (ipykernel)",
   "language": "python",
   "name": "python3"
  },
  "language_info": {
   "codemirror_mode": {
    "name": "ipython",
    "version": 3
   },
   "file_extension": ".py",
   "mimetype": "text/x-python",
   "name": "python",
   "nbconvert_exporter": "python",
   "pygments_lexer": "ipython3",
   "version": "3.9.2"
  }
 },
 "nbformat": 4,
 "nbformat_minor": 5
}
