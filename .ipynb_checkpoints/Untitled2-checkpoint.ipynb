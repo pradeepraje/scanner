{
 "cells": [
  {
   "cell_type": "code",
   "execution_count": 2,
   "id": "a2e4697f",
   "metadata": {},
   "outputs": [],
   "source": [
    "import requests,urllib3"
   ]
  },
  {
   "cell_type": "code",
   "execution_count": null,
   "id": "a5ff8b0e",
   "metadata": {},
   "outputs": [],
   "source": []
  },
  {
   "cell_type": "code",
   "execution_count": 3,
   "id": "7a16e0ef",
   "metadata": {},
   "outputs": [],
   "source": [
    "from splinter import Browser"
   ]
  },
  {
   "cell_type": "code",
   "execution_count": 5,
   "id": "8b8c4855",
   "metadata": {},
   "outputs": [],
   "source": [
    "from lxml import etree\n",
    "from bs4 import BeautifulSoup"
   ]
  },
  {
   "cell_type": "code",
   "execution_count": 10,
   "id": "cd8b712d",
   "metadata": {},
   "outputs": [],
   "source": [
    "browser=Browser('chrome')"
   ]
  },
  {
   "cell_type": "code",
   "execution_count": 6,
   "id": "526a2813",
   "metadata": {},
   "outputs": [],
   "source": [
    "url='http://mtrack.merryspiders.com/NewsDetailsPublished.aspx?NewsId=e3E6Ggaq2uAX9SosCfBB7Q==&MediaType='\n",
    "webpage=requests.get(url)"
   ]
  },
  {
   "cell_type": "code",
   "execution_count": 8,
   "id": "5b6f4c52",
   "metadata": {},
   "outputs": [],
   "source": [
    "soup=BeautifulSoup(webpage.content, 'html.parser')"
   ]
  },
  {
   "cell_type": "code",
   "execution_count": 11,
   "id": "fcef89d2",
   "metadata": {},
   "outputs": [],
   "source": [
    "dom=etree.HTML(str(soup))\n",
    "#print(dom.xtree.get_element_by_id(\"ctl00_ContentPlaceHolder1_TabContainer1_TabPanel2_lblNews\").text_content())"
   ]
  },
  {
   "cell_type": "code",
   "execution_count": 13,
   "id": "b3f4a8e7",
   "metadata": {},
   "outputs": [
    {
     "name": "stdout",
     "output_type": "stream",
     "text": [
      "None\n"
     ]
    }
   ],
   "source": [
    "text=(dom.xpath('//*[@id=\"ctl00_ContentPlaceHolder1_TabContainer1_TabPanel2_lblNews\"]')[0].text)\n",
    "print(text)\n"
   ]
  },
  {
   "cell_type": "code",
   "execution_count": 27,
   "id": "f14ea52c",
   "metadata": {},
   "outputs": [
    {
     "ename": "SyntaxError",
     "evalue": "EOL while scanning string literal (Temp/ipykernel_13096/1154965585.py, line 1)",
     "output_type": "error",
     "traceback": [
      "\u001b[1;36m  File \u001b[1;32m\"C:\\Users\\pradeep\\AppData\\Local\\Temp/ipykernel_13096/1154965585.py\"\u001b[1;36m, line \u001b[1;32m1\u001b[0m\n\u001b[1;33m    print(dom.xpath('/html/body/form/div[3]/div/div[3]/div/div[2]/div/div[1]/div/div[2]/table/tbody/tr/td/div/div[2]/div[2]/div/span[0]).text)\u001b[0m\n\u001b[1;37m                                                                                                                                              ^\u001b[0m\n\u001b[1;31mSyntaxError\u001b[0m\u001b[1;31m:\u001b[0m EOL while scanning string literal\n"
     ]
    }
   ],
   "source": [
    "print(dom.xpath('/html/body/form/div[3]/div/div[3]/div/div[2]/div/div[1]/div/div[2]/table/tbody/tr/td/div/div[2]/div[2]/div/span[0]).text)\n",
    "      "
   ]
  },
  {
   "cell_type": "code",
   "execution_count": 20,
   "id": "e789ff91",
   "metadata": {},
   "outputs": [
    {
     "data": {
      "text/plain": [
       "requests.models.Response"
      ]
     },
     "execution_count": 20,
     "metadata": {},
     "output_type": "execute_result"
    }
   ],
   "source": [
    "from lxml import html\n",
    "type(webpage)"
   ]
  },
  {
   "cell_type": "code",
   "execution_count": 1,
   "id": "eb9346bc",
   "metadata": {},
   "outputs": [],
   "source": [
    "from selenium import webdriver"
   ]
  },
  {
   "cell_type": "code",
   "execution_count": 2,
   "id": "04d0fd99",
   "metadata": {},
   "outputs": [],
   "source": [
    "driver=webdriver.Chrome()"
   ]
  },
  {
   "cell_type": "code",
   "execution_count": 4,
   "id": "b1b915b2",
   "metadata": {},
   "outputs": [],
   "source": [
    "driver.get('http://mtrack.merryspiders.com/NewsDetailsPublished.aspx?NewsId=e3E6Ggaq2uAX9SosCfBB7Q==&MediaType=')\n"
   ]
  },
  {
   "cell_type": "code",
   "execution_count": 6,
   "id": "8bf196d4",
   "metadata": {},
   "outputs": [],
   "source": [
    "element = driver.find_element_by_xpath('//*[@id=\"ctl00_ContentPlaceHolder1_TabContainer1_TabPanel2_lblNews\"]')"
   ]
  },
  {
   "cell_type": "code",
   "execution_count": 7,
   "id": "09f14655",
   "metadata": {},
   "outputs": [
    {
     "name": "stdout",
     "output_type": "stream",
     "text": [
      "THE government proposes to allow Oil and Natural Gas Corporation (ONGC), the country’s largest state-owned oil explorer, to pay royalty and cess in all its six pre-New Exploration Licensing Policy (Nelp) blocks in proportion to its shareholding. It is expected to help the company improve its earnings, which could be under pressure over the move to offer up to 60 per cent stake in some of its producing oil and gas fields to private firms to help these blocks improve production and extend their life. \n",
      "\n",
      "Sources privy to the development said that the oil and gas ministry may soon move a note for approval of the cabinet proposing changes in all pre-Nelp contracts allowing licensees to share royalty and cess payment to the government along with other equity partners in the block The move would impact public and private oil explorers such as Vedanta, GSPC, Essar Oil, Focus Energy, Hindustan Oil and UK’s Ha rdy Oil. All these companies are partners in the six preNELP fields, where largely ONGC is the operator. Moreover, to incentivise and make oil & gas explora tion more attractive in these old and ageing pre-Nelp fields, the government may also make royalty and cess payments cost recoverable. \n",
      "\n",
      "This would imply that these payments would be adjusted from the revenue generated by the block before profit is shared between the government and the contractor. “This is an excellent move that could help get much desired investments in pre-Nelp fields. ONGC was losing interest in additional investments in these fields, as it meant higher cost for it as a licensee while other partners reaped the benefit of higher profit,” said an oil industry expert, not willing to be named. Once the government accords clearance to the cha nges in oil and gas contracts, all entities participating in the pre-Nelp fields would also have to bear the burden of government charges in proportion to their shareholding along with ONGC. These 6 blocks with ONGC — CB/OS-2, CBON /2, CB-ON/3, CB-ON/7, CYOS90/1 (PY3) and RJON/ 6 — are located in Gujarat and Rajasthan. \n",
      "\n",
      "These are called pre-Nelp as oil and gas blocks under New Exploration Licensing Policy round, launched abo ut 2 decades ago, mandated proportionate sharing of government charges by all contractors of a block. Between 1980 and 1995 (prior to Nelp round), the government awarded 28 exploration blocks in nine rounds to private companies where ONGC and OIL were given the right to participate after hydrocarbon discoveries. The Nelp round was approved in 1997 and it became effective in February 1999 (with the first production sharing contract (PSC) getting signed in 2000). NELP brought productionsharing contract (PSC) under its ambit that made royalty, cess and other statutory charges payable by contractors under a cost recovery formula. \n",
      "\n",
      "Before the oil ministry, upstream regulator, the Directorate General of Hydrocarbons (DGH), had also recommended ONGC to exit from all pre-Nelp contracts and let other partners share the government charges in proportion to their stakes. But the government didn’t accept the DGH proposal as it meant removing ONGC from contractorship of these blocks. The fresh move by the government to address ONGC concerns in pre-Nelp blocks came after its experience in dealing with the prolific Barmer block (RJON90/1). In this block, ONGC was 30 per cent partner along with erstwhile Cairn India with 70 per cent holding, but had to bear entire cess and royalty liability. \n",
      "\n",
      "About 6 years ago, Vedanta, while purchasing the fie ld from Cairn Energy, agreed to share with ONGC the liability of paying government charges. The government is now thinking of ch anging terms of pre-Nelp contracts, as most are nearing their terms and would come up for renewal. Cha n ges could be incorporated at this stage. This proposal has faced opposition from state-owned companies’ employee associations, which feel any such move would have lasting consequences on health and future growth of these public sector enterprises. The bone of contention, as far as the association is co ncerned, is the proposed move by the oil ministry to have a new policy on auction of producing nominated fie l ds of state-run upstream firms to boost production. \n"
     ]
    }
   ],
   "source": [
    "print(element.text)"
   ]
  },
  {
   "cell_type": "code",
   "execution_count": 9,
   "id": "6bb4c843",
   "metadata": {},
   "outputs": [
    {
     "name": "stdout",
     "output_type": "stream",
     "text": [
      "ONGC to share statutory payments with pvt explorers\n"
     ]
    }
   ],
   "source": [
    "print(driver.find_element_by_xpath('//*[@id=\"ctl00_ContentPlaceHolder1_lblHeadline\"]').text)"
   ]
  },
  {
   "cell_type": "code",
   "execution_count": 10,
   "id": "4d242e3e",
   "metadata": {},
   "outputs": [],
   "source": [
    "date= driver.find_element_by_xpath('//*[@id=\"ctl00_ContentPlaceHolder1_lblNewsDate\"]').text\n",
    "publication= driver.find_element_by_xpath('//*[@id=\"ctl00_ContentPlaceHolder1_lblPublication\"]').text\n",
    "author= driver.find_element_by_xpath('//*[@id=\"ctl00_ContentPlaceHolder1_lblJournalist\"]').text\n",
    "headline= driver.find_element_by_xpath('//*[@id=\"ctl00_ContentPlaceHolder1_lblHeadline\"]').text"
   ]
  },
  {
   "cell_type": "code",
   "execution_count": 12,
   "id": "48a3512f",
   "metadata": {},
   "outputs": [
    {
     "name": "stdout",
     "output_type": "stream",
     "text": [
      "01-01-2018 \n",
      " Financial Chronicle \n",
      " Subhash Narayan \n",
      " ONGC to share statutory payments with pvt explorers\n"
     ]
    }
   ],
   "source": [
    "print(date,'\\n',publication,'\\n',author,'\\n',headline)"
   ]
  },
  {
   "cell_type": "code",
   "execution_count": 15,
   "id": "254f2cba",
   "metadata": {},
   "outputs": [],
   "source": [
    "import selenium as se\n",
    "\n",
    "options = se.webdriver.ChromeOptions()\n",
    "options.add_argument('headless')\n",
    "\n",
    "driver = se.webdriver.Chrome(options=options)"
   ]
  },
  {
   "cell_type": "code",
   "execution_count": 16,
   "id": "e1ca22d4",
   "metadata": {},
   "outputs": [
    {
     "name": "stdout",
     "output_type": "stream",
     "text": [
      "01-01-2018 \n",
      " Financial Chronicle \n",
      " Subhash Narayan \n",
      " ONGC to share statutory payments with pvt explorers\n"
     ]
    }
   ],
   "source": [
    "driver.get('http://mtrack.merryspiders.com/NewsDetailsPublished.aspx?NewsId=e3E6Ggaq2uAX9SosCfBB7Q==&MediaType=')\n",
    "page= driver.find_element_by_xpath('//*[@id=\"ctl00_ContentPlaceHolder1_TabContainer1_TabPanel2_lblNews\"]').text\n",
    "text = driver.find_element_by_xpath('//*[@id=\"ctl00_ContentPlaceHolder1_TabContainer1_TabPanel2_lblNews\"]').text\n",
    "date= driver.find_element_by_xpath('//*[@id=\"ctl00_ContentPlaceHolder1_lblNewsDate\"]').text\n",
    "publication= driver.find_element_by_xpath('//*[@id=\"ctl00_ContentPlaceHolder1_lblPublication\"]').text\n",
    "author= driver.find_element_by_xpath('//*[@id=\"ctl00_ContentPlaceHolder1_lblJournalist\"]').text\n",
    "headline= driver.find_element_by_xpath('//*[@id=\"ctl00_ContentPlaceHolder1_lblHeadline\"]').text\n",
    "print(date,'\\n',publication,'\\n',author,'\\n',headline)"
   ]
  },
  {
   "cell_type": "code",
   "execution_count": 17,
   "id": "cb16f11b",
   "metadata": {},
   "outputs": [
    {
     "name": "stdout",
     "output_type": "stream",
     "text": [
      "01-01-2018 \n",
      " Financial Chronicle \n",
      " Subhash Narayan \n",
      " ONGC to share statutory payments with pvt explorers\n"
     ]
    }
   ],
   "source": [
    "import selenium as se\n",
    "import time\n",
    "\n",
    "options = se.webdriver.ChromeOptions()\n",
    "options.add_argument('headless')\n",
    "\n",
    "driver = se.webdriver.Chrome(options=options)\n",
    "driver.get('http://mtrack.merryspiders.com/NewsDetailsPublished.aspx?NewsId=e3E6Ggaq2uAX9SosCfBB7Q==&MediaType=')\n",
    "time.sleep(5)\n",
    "page= driver.find_element_by_xpath('//*[@id=\"ctl00_ContentPlaceHolder1_TabContainer1_TabPanel2_lblNews\"]').text\n",
    "text = driver.find_element_by_xpath('//*[@id=\"ctl00_ContentPlaceHolder1_TabContainer1_TabPanel2_lblNews\"]').text\n",
    "date= driver.find_element_by_xpath('//*[@id=\"ctl00_ContentPlaceHolder1_lblNewsDate\"]').text\n",
    "publication= driver.find_element_by_xpath('//*[@id=\"ctl00_ContentPlaceHolder1_lblPublication\"]').text\n",
    "author= driver.find_element_by_xpath('//*[@id=\"ctl00_ContentPlaceHolder1_lblJournalist\"]').text\n",
    "headline= driver.find_element_by_xpath('//*[@id=\"ctl00_ContentPlaceHolder1_lblHeadline\"]').text\n",
    "print(date,'\\n',publication,'\\n',author,'\\n',headline)"
   ]
  },
  {
   "cell_type": "code",
   "execution_count": 19,
   "id": "89b61dd4",
   "metadata": {},
   "outputs": [
    {
     "name": "stdout",
     "output_type": "stream",
     "text": [
      "01-01-2018 \n",
      " Financial Chronicle \n",
      " Subhash Narayan \n",
      " ONGC to share statutory payments with pvt explorers\n",
      "Total execution time in seconds,\n",
      "\n",
      "7\n"
     ]
    }
   ],
   "source": [
    "import selenium as se\n",
    "import time\n",
    "\n",
    "options = se.webdriver.ChromeOptions()\n",
    "options.add_argument('headless')\n",
    "driver = se.webdriver.Chrome(options=options)\n",
    "start = time.localtime()\n",
    "\n",
    "driver.get('http://mtrack.merryspiders.com/NewsDetailsPublished.aspx?NewsId=e3E6Ggaq2uAX9SosCfBB7Q==&MediaType=')\n",
    "time.sleep(5)\n",
    "page= driver.find_element_by_xpath('//*[@id=\"ctl00_ContentPlaceHolder1_TabContainer1_TabPanel2_lblNews\"]').text\n",
    "text = driver.find_element_by_xpath('//*[@id=\"ctl00_ContentPlaceHolder1_TabContainer1_TabPanel2_lblNews\"]').text\n",
    "date= driver.find_element_by_xpath('//*[@id=\"ctl00_ContentPlaceHolder1_lblNewsDate\"]').text\n",
    "publication= driver.find_element_by_xpath('//*[@id=\"ctl00_ContentPlaceHolder1_lblPublication\"]').text\n",
    "author= driver.find_element_by_xpath('//*[@id=\"ctl00_ContentPlaceHolder1_lblJournalist\"]').text\n",
    "headline= driver.find_element_by_xpath('//*[@id=\"ctl00_ContentPlaceHolder1_lblHeadline\"]').text\n",
    "print(date,'\\n',publication,'\\n',author,'\\n',headline)\n",
    "end = time.localtime()\n",
    "print(\"Total execution time in seconds,\" '\\n')\n",
    "print(end.tm_sec - start.tm_sec)"
   ]
  },
  {
   "cell_type": "code",
   "execution_count": 1,
   "id": "c67ee8f7",
   "metadata": {},
   "outputs": [
    {
     "name": "stdout",
     "output_type": "stream",
     "text": [
      "created Cairn_table\n"
     ]
    }
   ],
   "source": [
    "import sqlite3\n",
    "with sqlite3.connect('cairndb.db') as con:\n",
    "    cur=con.cursor()\n",
    "    table=\"\"\"CREATE TABLE \"cairn_table\" (\n",
    "                \"id\" INTEGER PRIMARY KEY AUTOINCREMENT, -- rowid\n",
    "                \"date\" TEXT,\n",
    "                \"publication\" TEXT,\n",
    "                \"author\" TEXT,\n",
    "                \"headline\" TEXT,\n",
    "                \"items\" TEXT                \n",
    "            )\n",
    "            \"\"\"\n",
    "    cur.execute(table)\n",
    "    print (\"created Cairn_table\") \n"
   ]
  },
  {
   "cell_type": "code",
   "execution_count": 2,
   "id": "3a54dacd",
   "metadata": {},
   "outputs": [],
   "source": [
    "import pandas as pd"
   ]
  },
  {
   "cell_type": "code",
   "execution_count": 7,
   "id": "4e9afb33",
   "metadata": {},
   "outputs": [
    {
     "data": {
      "text/plain": [
       "<bound method NDFrame.head of     A  B\n",
       "0   0  0\n",
       "1   0  1\n",
       "2   0  2\n",
       "3   0  3\n",
       "4   0  4\n",
       "5   1  0\n",
       "6   1  1\n",
       "7   1  2\n",
       "8   1  3\n",
       "9   1  4\n",
       "10  2  0\n",
       "11  2  1\n",
       "12  2  2\n",
       "13  2  3\n",
       "14  2  4\n",
       "15  3  0\n",
       "16  3  1\n",
       "17  3  2\n",
       "18  3  3\n",
       "19  3  4\n",
       "20  4  0\n",
       "21  4  1\n",
       "22  4  2\n",
       "23  4  3\n",
       "24  4  4>"
      ]
     },
     "execution_count": 7,
     "metadata": {},
     "output_type": "execute_result"
    }
   ],
   "source": [
    "data = []\n",
    "for a in range(5):\n",
    "    for b in range (5):\n",
    "        data.append([a, b])\n",
    "\n",
    "df = pd.DataFrame(data, columns=['A', 'B'])\n",
    "df.head"
   ]
  },
  {
   "cell_type": "code",
   "execution_count": 8,
   "id": "c37e4f13",
   "metadata": {},
   "outputs": [
    {
     "data": {
      "text/plain": [
       "<bound method NDFrame.head of     A  B\n",
       "0   0  0\n",
       "1   0  1\n",
       "2   0  2\n",
       "3   0  3\n",
       "4   0  4\n",
       "5   1  0\n",
       "6   1  1\n",
       "7   1  2\n",
       "8   1  3\n",
       "9   1  4\n",
       "10  2  0\n",
       "11  2  1\n",
       "12  2  2\n",
       "13  2  3\n",
       "14  2  4\n",
       "15  3  0\n",
       "16  3  1\n",
       "17  3  2\n",
       "18  3  3\n",
       "19  3  4\n",
       "20  4  0\n",
       "21  4  1\n",
       "22  4  2\n",
       "23  4  3\n",
       "24  4  4>"
      ]
     },
     "execution_count": 8,
     "metadata": {},
     "output_type": "execute_result"
    }
   ],
   "source": [
    "df.head"
   ]
  },
  {
   "cell_type": "code",
   "execution_count": 9,
   "id": "de1aa210",
   "metadata": {},
   "outputs": [],
   "source": [
    "df.to_pickle('cairn_done.pkl')"
   ]
  },
  {
   "cell_type": "code",
   "execution_count": 13,
   "id": "12bd0f43",
   "metadata": {},
   "outputs": [],
   "source": [
    "pdf_1 = pd.read_excel('cairn18.xls', sheet_name='Sheet1')"
   ]
  },
  {
   "cell_type": "code",
   "execution_count": 14,
   "id": "60358554",
   "metadata": {},
   "outputs": [
    {
     "data": {
      "text/html": [
       "<div>\n",
       "<style scoped>\n",
       "    .dataframe tbody tr th:only-of-type {\n",
       "        vertical-align: middle;\n",
       "    }\n",
       "\n",
       "    .dataframe tbody tr th {\n",
       "        vertical-align: top;\n",
       "    }\n",
       "\n",
       "    .dataframe thead th {\n",
       "        text-align: right;\n",
       "    }\n",
       "</style>\n",
       "<table border=\"1\" class=\"dataframe\">\n",
       "  <thead>\n",
       "    <tr style=\"text-align: right;\">\n",
       "      <th></th>\n",
       "      <th>NewsDate</th>\n",
       "      <th>Headline</th>\n",
       "      <th>Media Type</th>\n",
       "      <th>Publication Type</th>\n",
       "      <th>Publication</th>\n",
       "      <th>Language</th>\n",
       "      <th>Source</th>\n",
       "      <th>PageNo</th>\n",
       "      <th>HtInCms</th>\n",
       "      <th>NoCols</th>\n",
       "      <th>AgencyID</th>\n",
       "      <th>Edition</th>\n",
       "      <th>NewsLocation</th>\n",
       "    </tr>\n",
       "  </thead>\n",
       "  <tbody>\n",
       "    <tr>\n",
       "      <th>0</th>\n",
       "      <td>2018-01-01</td>\n",
       "      <td>ONGC to share statutory payments with pvt expl...</td>\n",
       "      <td>Newspapers</td>\n",
       "      <td>English Business Newspaper</td>\n",
       "      <td>Financial Chronicle</td>\n",
       "      <td>English</td>\n",
       "      <td>Subhash Narayan</td>\n",
       "      <td>1</td>\n",
       "      <td>10</td>\n",
       "      <td>1</td>\n",
       "      <td>0</td>\n",
       "      <td>All</td>\n",
       "      <td>Centre</td>\n",
       "    </tr>\n",
       "    <tr>\n",
       "      <th>1</th>\n",
       "      <td>2018-01-03</td>\n",
       "      <td>GIC Re Backs .Rs 2l-cr Cover to RIL Units</td>\n",
       "      <td>Newspapers</td>\n",
       "      <td>English Business Newspaper</td>\n",
       "      <td>The Economic Times</td>\n",
       "      <td>English</td>\n",
       "      <td>Shilpy Sinha</td>\n",
       "      <td>10</td>\n",
       "      <td>12</td>\n",
       "      <td>3</td>\n",
       "      <td>0</td>\n",
       "      <td>Ahmedabad, Bangalore, Chennai, Hyderabad, Koch...</td>\n",
       "      <td>Top</td>\n",
       "    </tr>\n",
       "    <tr>\n",
       "      <th>2</th>\n",
       "      <td>2018-01-04</td>\n",
       "      <td>GIC Re Backs Rs 2l-cr Cover to RIL Units at Ja...</td>\n",
       "      <td>Newspapers</td>\n",
       "      <td>English Daily Newspaper</td>\n",
       "      <td>The Times Of India</td>\n",
       "      <td>English</td>\n",
       "      <td>Shilpy Sinha</td>\n",
       "      <td>6</td>\n",
       "      <td>15</td>\n",
       "      <td>3</td>\n",
       "      <td>0</td>\n",
       "      <td>Chandigarh</td>\n",
       "      <td>Centre</td>\n",
       "    </tr>\n",
       "    <tr>\n",
       "      <th>3</th>\n",
       "      <td>2018-01-08</td>\n",
       "      <td>Vedanta to acquire majority stake in Japans Av...</td>\n",
       "      <td>Newspapers</td>\n",
       "      <td>English Daily Newspaper</td>\n",
       "      <td>Western Times</td>\n",
       "      <td>English</td>\n",
       "      <td>Bureau</td>\n",
       "      <td>6</td>\n",
       "      <td>15</td>\n",
       "      <td>3</td>\n",
       "      <td>36</td>\n",
       "      <td>Ahmedabad</td>\n",
       "      <td>Centre</td>\n",
       "    </tr>\n",
       "    <tr>\n",
       "      <th>4</th>\n",
       "      <td>2018-01-09</td>\n",
       "      <td>Old, new players divided over enhanced oil rec...</td>\n",
       "      <td>Newspapers</td>\n",
       "      <td>English Business Newspaper</td>\n",
       "      <td>The Hindu Business Line</td>\n",
       "      <td>English</td>\n",
       "      <td>Twesh Mishra</td>\n",
       "      <td>4</td>\n",
       "      <td>15</td>\n",
       "      <td>5</td>\n",
       "      <td>0</td>\n",
       "      <td>All</td>\n",
       "      <td>Centre</td>\n",
       "    </tr>\n",
       "  </tbody>\n",
       "</table>\n",
       "</div>"
      ],
      "text/plain": [
       "    NewsDate                                           Headline  Media Type  \\\n",
       "0 2018-01-01  ONGC to share statutory payments with pvt expl...  Newspapers   \n",
       "1 2018-01-03          GIC Re Backs .Rs 2l-cr Cover to RIL Units  Newspapers   \n",
       "2 2018-01-04  GIC Re Backs Rs 2l-cr Cover to RIL Units at Ja...  Newspapers   \n",
       "3 2018-01-08  Vedanta to acquire majority stake in Japans Av...  Newspapers   \n",
       "4 2018-01-09  Old, new players divided over enhanced oil rec...  Newspapers   \n",
       "\n",
       "             Publication Type              Publication Language  \\\n",
       "0  English Business Newspaper      Financial Chronicle  English   \n",
       "1  English Business Newspaper       The Economic Times  English   \n",
       "2     English Daily Newspaper       The Times Of India  English   \n",
       "3     English Daily Newspaper            Western Times  English   \n",
       "4  English Business Newspaper  The Hindu Business Line  English   \n",
       "\n",
       "            Source PageNo HtInCms NoCols  AgencyID  \\\n",
       "0  Subhash Narayan      1      10      1         0   \n",
       "1     Shilpy Sinha     10      12      3         0   \n",
       "2     Shilpy Sinha      6      15      3         0   \n",
       "3           Bureau      6      15      3        36   \n",
       "4     Twesh Mishra      4      15      5         0   \n",
       "\n",
       "                                             Edition NewsLocation  \n",
       "0                                                All       Centre  \n",
       "1  Ahmedabad, Bangalore, Chennai, Hyderabad, Koch...          Top  \n",
       "2                                         Chandigarh       Centre  \n",
       "3                                          Ahmedabad       Centre  \n",
       "4                                                All       Centre  "
      ]
     },
     "execution_count": 14,
     "metadata": {},
     "output_type": "execute_result"
    }
   ],
   "source": [
    "pdf_1.head()"
   ]
  },
  {
   "cell_type": "code",
   "execution_count": 18,
   "id": "a75e5b84",
   "metadata": {},
   "outputs": [],
   "source": [
    "from datetime import datetime"
   ]
  },
  {
   "cell_type": "code",
   "execution_count": 21,
   "id": "d0cf9752",
   "metadata": {},
   "outputs": [
    {
     "name": "stdout",
     "output_type": "stream",
     "text": [
      "2018-01-01 00:00:00\n",
      "2012-12-31 00:00:00\n",
      "2015-02-06 00:00:00\n",
      "2021-01-04 00:00:00\n",
      "2015-02-07 00:00:00\n",
      "2017-01-01 00:00:00\n",
      "2016-01-01 00:00:00\n",
      "2019-01-07 00:00:00\n",
      "2020-01-06 00:00:00\n",
      "2013-12-31 00:00:00\n"
     ]
    }
   ],
   "source": [
    "import xlrd\n",
    "ibook = xlrd.open_workbook(\"cairn18.xls\", formatting_info=True)\n",
    "for ix in range(10):\n",
    "    isheet = ibook.sheet_by_index(ix)\n",
    "    print(datetime(*xlrd.xldate_as_tuple(isheet.cell_value(0,0), 0)))"
   ]
  },
  {
   "cell_type": "code",
   "execution_count": null,
   "id": "6ff46a11",
   "metadata": {},
   "outputs": [],
   "source": []
  }
 ],
 "metadata": {
  "kernelspec": {
   "display_name": "Python 3 (ipykernel)",
   "language": "python",
   "name": "python3"
  },
  "language_info": {
   "codemirror_mode": {
    "name": "ipython",
    "version": 3
   },
   "file_extension": ".py",
   "mimetype": "text/x-python",
   "name": "python",
   "nbconvert_exporter": "python",
   "pygments_lexer": "ipython3",
   "version": "3.9.2"
  }
 },
 "nbformat": 4,
 "nbformat_minor": 5
}
