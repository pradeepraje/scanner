{
 "cells": [
  {
   "cell_type": "code",
   "execution_count": 2,
   "id": "a2e4697f",
   "metadata": {},
   "outputs": [],
   "source": [
    "import requests,urllib3"
   ]
  },
  {
   "cell_type": "code",
   "execution_count": null,
   "id": "a5ff8b0e",
   "metadata": {},
   "outputs": [],
   "source": []
  },
  {
   "cell_type": "code",
   "execution_count": 3,
   "id": "7a16e0ef",
   "metadata": {},
   "outputs": [],
   "source": [
    "from splinter import Browser"
   ]
  },
  {
   "cell_type": "code",
   "execution_count": 5,
   "id": "8b8c4855",
   "metadata": {},
   "outputs": [],
   "source": [
    "from lxml import etree\n",
    "from bs4 import BeautifulSoup"
   ]
  },
  {
   "cell_type": "code",
   "execution_count": 10,
   "id": "cd8b712d",
   "metadata": {},
   "outputs": [],
   "source": [
    "browser=Browser('chrome')"
   ]
  },
  {
   "cell_type": "code",
   "execution_count": 6,
   "id": "526a2813",
   "metadata": {},
   "outputs": [],
   "source": [
    "url='http://mtrack.merryspiders.com/NewsDetailsPublished.aspx?NewsId=e3E6Ggaq2uAX9SosCfBB7Q==&MediaType='\n",
    "webpage=requests.get(url)"
   ]
  },
  {
   "cell_type": "code",
   "execution_count": 8,
   "id": "5b6f4c52",
   "metadata": {},
   "outputs": [],
   "source": [
    "soup=BeautifulSoup(webpage.content, 'html.parser')"
   ]
  },
  {
   "cell_type": "code",
   "execution_count": 11,
   "id": "fcef89d2",
   "metadata": {},
   "outputs": [],
   "source": [
    "dom=etree.HTML(str(soup))\n",
    "#print(dom.xtree.get_element_by_id(\"ctl00_ContentPlaceHolder1_TabContainer1_TabPanel2_lblNews\").text_content())"
   ]
  },
  {
   "cell_type": "code",
   "execution_count": 13,
   "id": "b3f4a8e7",
   "metadata": {},
   "outputs": [
    {
     "name": "stdout",
     "output_type": "stream",
     "text": [
      "None\n"
     ]
    }
   ],
   "source": [
    "text=(dom.xpath('//*[@id=\"ctl00_ContentPlaceHolder1_TabContainer1_TabPanel2_lblNews\"]')[0].text)\n",
    "print(text)\n"
   ]
  },
  {
   "cell_type": "code",
   "execution_count": 27,
   "id": "f14ea52c",
   "metadata": {},
   "outputs": [
    {
     "ename": "SyntaxError",
     "evalue": "EOL while scanning string literal (Temp/ipykernel_13096/1154965585.py, line 1)",
     "output_type": "error",
     "traceback": [
      "\u001b[1;36m  File \u001b[1;32m\"C:\\Users\\pradeep\\AppData\\Local\\Temp/ipykernel_13096/1154965585.py\"\u001b[1;36m, line \u001b[1;32m1\u001b[0m\n\u001b[1;33m    print(dom.xpath('/html/body/form/div[3]/div/div[3]/div/div[2]/div/div[1]/div/div[2]/table/tbody/tr/td/div/div[2]/div[2]/div/span[0]).text)\u001b[0m\n\u001b[1;37m                                                                                                                                              ^\u001b[0m\n\u001b[1;31mSyntaxError\u001b[0m\u001b[1;31m:\u001b[0m EOL while scanning string literal\n"
     ]
    }
   ],
   "source": [
    "print(dom.xpath('/html/body/form/div[3]/div/div[3]/div/div[2]/div/div[1]/div/div[2]/table/tbody/tr/td/div/div[2]/div[2]/div/span[0]).text)\n",
    "      "
   ]
  },
  {
   "cell_type": "code",
   "execution_count": 20,
   "id": "e789ff91",
   "metadata": {},
   "outputs": [
    {
     "data": {
      "text/plain": [
       "requests.models.Response"
      ]
     },
     "execution_count": 20,
     "metadata": {},
     "output_type": "execute_result"
    }
   ],
   "source": [
    "from lxml import html\n",
    "type(webpage)"
   ]
  },
  {
   "cell_type": "code",
   "execution_count": 1,
   "id": "eb9346bc",
   "metadata": {},
   "outputs": [],
   "source": [
    "from selenium import webdriver"
   ]
  },
  {
   "cell_type": "code",
   "execution_count": 2,
   "id": "04d0fd99",
   "metadata": {},
   "outputs": [],
   "source": [
    "driver=webdriver.Chrome()"
   ]
  },
  {
   "cell_type": "code",
   "execution_count": 4,
   "id": "b1b915b2",
   "metadata": {},
   "outputs": [],
   "source": [
    "driver.get('http://mtrack.merryspiders.com/NewsDetailsPublished.aspx?NewsId=e3E6Ggaq2uAX9SosCfBB7Q==&MediaType=')\n"
   ]
  },
  {
   "cell_type": "code",
   "execution_count": 6,
   "id": "8bf196d4",
   "metadata": {},
   "outputs": [],
   "source": [
    "element = driver.find_element_by_xpath('//*[@id=\"ctl00_ContentPlaceHolder1_TabContainer1_TabPanel2_lblNews\"]')"
   ]
  },
  {
   "cell_type": "code",
   "execution_count": 7,
   "id": "09f14655",
   "metadata": {},
   "outputs": [
    {
     "name": "stdout",
     "output_type": "stream",
     "text": [
      "THE government proposes to allow Oil and Natural Gas Corporation (ONGC), the country’s largest state-owned oil explorer, to pay royalty and cess in all its six pre-New Exploration Licensing Policy (Nelp) blocks in proportion to its shareholding. It is expected to help the company improve its earnings, which could be under pressure over the move to offer up to 60 per cent stake in some of its producing oil and gas fields to private firms to help these blocks improve production and extend their life. \n",
      "\n",
      "Sources privy to the development said that the oil and gas ministry may soon move a note for approval of the cabinet proposing changes in all pre-Nelp contracts allowing licensees to share royalty and cess payment to the government along with other equity partners in the block The move would impact public and private oil explorers such as Vedanta, GSPC, Essar Oil, Focus Energy, Hindustan Oil and UK’s Ha rdy Oil. All these companies are partners in the six preNELP fields, where largely ONGC is the operator. Moreover, to incentivise and make oil & gas explora tion more attractive in these old and ageing pre-Nelp fields, the government may also make royalty and cess payments cost recoverable. \n",
      "\n",
      "This would imply that these payments would be adjusted from the revenue generated by the block before profit is shared between the government and the contractor. “This is an excellent move that could help get much desired investments in pre-Nelp fields. ONGC was losing interest in additional investments in these fields, as it meant higher cost for it as a licensee while other partners reaped the benefit of higher profit,” said an oil industry expert, not willing to be named. Once the government accords clearance to the cha nges in oil and gas contracts, all entities participating in the pre-Nelp fields would also have to bear the burden of government charges in proportion to their shareholding along with ONGC. These 6 blocks with ONGC — CB/OS-2, CBON /2, CB-ON/3, CB-ON/7, CYOS90/1 (PY3) and RJON/ 6 — are located in Gujarat and Rajasthan. \n",
      "\n",
      "These are called pre-Nelp as oil and gas blocks under New Exploration Licensing Policy round, launched abo ut 2 decades ago, mandated proportionate sharing of government charges by all contractors of a block. Between 1980 and 1995 (prior to Nelp round), the government awarded 28 exploration blocks in nine rounds to private companies where ONGC and OIL were given the right to participate after hydrocarbon discoveries. The Nelp round was approved in 1997 and it became effective in February 1999 (with the first production sharing contract (PSC) getting signed in 2000). NELP brought productionsharing contract (PSC) under its ambit that made royalty, cess and other statutory charges payable by contractors under a cost recovery formula. \n",
      "\n",
      "Before the oil ministry, upstream regulator, the Directorate General of Hydrocarbons (DGH), had also recommended ONGC to exit from all pre-Nelp contracts and let other partners share the government charges in proportion to their stakes. But the government didn’t accept the DGH proposal as it meant removing ONGC from contractorship of these blocks. The fresh move by the government to address ONGC concerns in pre-Nelp blocks came after its experience in dealing with the prolific Barmer block (RJON90/1). In this block, ONGC was 30 per cent partner along with erstwhile Cairn India with 70 per cent holding, but had to bear entire cess and royalty liability. \n",
      "\n",
      "About 6 years ago, Vedanta, while purchasing the fie ld from Cairn Energy, agreed to share with ONGC the liability of paying government charges. The government is now thinking of ch anging terms of pre-Nelp contracts, as most are nearing their terms and would come up for renewal. Cha n ges could be incorporated at this stage. This proposal has faced opposition from state-owned companies’ employee associations, which feel any such move would have lasting consequences on health and future growth of these public sector enterprises. The bone of contention, as far as the association is co ncerned, is the proposed move by the oil ministry to have a new policy on auction of producing nominated fie l ds of state-run upstream firms to boost production. \n"
     ]
    }
   ],
   "source": [
    "print(element.text)"
   ]
  },
  {
   "cell_type": "code",
   "execution_count": 9,
   "id": "6bb4c843",
   "metadata": {},
   "outputs": [
    {
     "name": "stdout",
     "output_type": "stream",
     "text": [
      "ONGC to share statutory payments with pvt explorers\n"
     ]
    }
   ],
   "source": [
    "print(driver.find_element_by_xpath('//*[@id=\"ctl00_ContentPlaceHolder1_lblHeadline\"]').text)"
   ]
  },
  {
   "cell_type": "code",
   "execution_count": 10,
   "id": "4d242e3e",
   "metadata": {},
   "outputs": [],
   "source": [
    "date= driver.find_element_by_xpath('//*[@id=\"ctl00_ContentPlaceHolder1_lblNewsDate\"]').text\n",
    "publication= driver.find_element_by_xpath('//*[@id=\"ctl00_ContentPlaceHolder1_lblPublication\"]').text\n",
    "author= driver.find_element_by_xpath('//*[@id=\"ctl00_ContentPlaceHolder1_lblJournalist\"]').text\n",
    "headline= driver.find_element_by_xpath('//*[@id=\"ctl00_ContentPlaceHolder1_lblHeadline\"]').text"
   ]
  },
  {
   "cell_type": "code",
   "execution_count": 12,
   "id": "48a3512f",
   "metadata": {},
   "outputs": [
    {
     "name": "stdout",
     "output_type": "stream",
     "text": [
      "01-01-2018 \n",
      " Financial Chronicle \n",
      " Subhash Narayan \n",
      " ONGC to share statutory payments with pvt explorers\n"
     ]
    }
   ],
   "source": [
    "print(date,'\\n',publication,'\\n',author,'\\n',headline)"
   ]
  },
  {
   "cell_type": "code",
   "execution_count": 15,
   "id": "254f2cba",
   "metadata": {},
   "outputs": [],
   "source": [
    "import selenium as se\n",
    "\n",
    "options = se.webdriver.ChromeOptions()\n",
    "options.add_argument('headless')\n",
    "\n",
    "driver = se.webdriver.Chrome(options=options)"
   ]
  },
  {
   "cell_type": "code",
   "execution_count": 16,
   "id": "e1ca22d4",
   "metadata": {},
   "outputs": [
    {
     "name": "stdout",
     "output_type": "stream",
     "text": [
      "01-01-2018 \n",
      " Financial Chronicle \n",
      " Subhash Narayan \n",
      " ONGC to share statutory payments with pvt explorers\n"
     ]
    }
   ],
   "source": [
    "driver.get('http://mtrack.merryspiders.com/NewsDetailsPublished.aspx?NewsId=e3E6Ggaq2uAX9SosCfBB7Q==&MediaType=')\n",
    "page= driver.find_element_by_xpath('//*[@id=\"ctl00_ContentPlaceHolder1_TabContainer1_TabPanel2_lblNews\"]').text\n",
    "text = driver.find_element_by_xpath('//*[@id=\"ctl00_ContentPlaceHolder1_TabContainer1_TabPanel2_lblNews\"]').text\n",
    "date= driver.find_element_by_xpath('//*[@id=\"ctl00_ContentPlaceHolder1_lblNewsDate\"]').text\n",
    "publication= driver.find_element_by_xpath('//*[@id=\"ctl00_ContentPlaceHolder1_lblPublication\"]').text\n",
    "author= driver.find_element_by_xpath('//*[@id=\"ctl00_ContentPlaceHolder1_lblJournalist\"]').text\n",
    "headline= driver.find_element_by_xpath('//*[@id=\"ctl00_ContentPlaceHolder1_lblHeadline\"]').text\n",
    "print(date,'\\n',publication,'\\n',author,'\\n',headline)"
   ]
  },
  {
   "cell_type": "code",
   "execution_count": 17,
   "id": "cb16f11b",
   "metadata": {},
   "outputs": [
    {
     "name": "stdout",
     "output_type": "stream",
     "text": [
      "01-01-2018 \n",
      " Financial Chronicle \n",
      " Subhash Narayan \n",
      " ONGC to share statutory payments with pvt explorers\n"
     ]
    }
   ],
   "source": [
    "import selenium as se\n",
    "import time\n",
    "\n",
    "options = se.webdriver.ChromeOptions()\n",
    "options.add_argument('headless')\n",
    "\n",
    "driver = se.webdriver.Chrome(options=options)\n",
    "driver.get('http://mtrack.merryspiders.com/NewsDetailsPublished.aspx?NewsId=e3E6Ggaq2uAX9SosCfBB7Q==&MediaType=')\n",
    "time.sleep(5)\n",
    "page= driver.find_element_by_xpath('//*[@id=\"ctl00_ContentPlaceHolder1_TabContainer1_TabPanel2_lblNews\"]').text\n",
    "text = driver.find_element_by_xpath('//*[@id=\"ctl00_ContentPlaceHolder1_TabContainer1_TabPanel2_lblNews\"]').text\n",
    "date= driver.find_element_by_xpath('//*[@id=\"ctl00_ContentPlaceHolder1_lblNewsDate\"]').text\n",
    "publication= driver.find_element_by_xpath('//*[@id=\"ctl00_ContentPlaceHolder1_lblPublication\"]').text\n",
    "author= driver.find_element_by_xpath('//*[@id=\"ctl00_ContentPlaceHolder1_lblJournalist\"]').text\n",
    "headline= driver.find_element_by_xpath('//*[@id=\"ctl00_ContentPlaceHolder1_lblHeadline\"]').text\n",
    "print(date,'\\n',publication,'\\n',author,'\\n',headline)"
   ]
  },
  {
   "cell_type": "code",
   "execution_count": 19,
   "id": "89b61dd4",
   "metadata": {},
   "outputs": [
    {
     "name": "stdout",
     "output_type": "stream",
     "text": [
      "01-01-2018 \n",
      " Financial Chronicle \n",
      " Subhash Narayan \n",
      " ONGC to share statutory payments with pvt explorers\n",
      "Total execution time in seconds,\n",
      "\n",
      "7\n"
     ]
    }
   ],
   "source": [
    "import selenium as se\n",
    "import time\n",
    "\n",
    "options = se.webdriver.ChromeOptions()\n",
    "options.add_argument('headless')\n",
    "driver = se.webdriver.Chrome(options=options)\n",
    "start = time.localtime()\n",
    "\n",
    "driver.get('http://mtrack.merryspiders.com/NewsDetailsPublished.aspx?NewsId=e3E6Ggaq2uAX9SosCfBB7Q==&MediaType=')\n",
    "time.sleep(5)\n",
    "page= driver.find_element_by_xpath('//*[@id=\"ctl00_ContentPlaceHolder1_TabContainer1_TabPanel2_lblNews\"]').text\n",
    "text = driver.find_element_by_xpath('//*[@id=\"ctl00_ContentPlaceHolder1_TabContainer1_TabPanel2_lblNews\"]').text\n",
    "date= driver.find_element_by_xpath('//*[@id=\"ctl00_ContentPlaceHolder1_lblNewsDate\"]').text\n",
    "publication= driver.find_element_by_xpath('//*[@id=\"ctl00_ContentPlaceHolder1_lblPublication\"]').text\n",
    "author= driver.find_element_by_xpath('//*[@id=\"ctl00_ContentPlaceHolder1_lblJournalist\"]').text\n",
    "headline= driver.find_element_by_xpath('//*[@id=\"ctl00_ContentPlaceHolder1_lblHeadline\"]').text\n",
    "print(date,'\\n',publication,'\\n',author,'\\n',headline)\n",
    "end = time.localtime()\n",
    "print(\"Total execution time in seconds,\" '\\n')\n",
    "print(end.tm_sec - start.tm_sec)"
   ]
  },
  {
   "cell_type": "code",
   "execution_count": null,
   "id": "c67ee8f7",
   "metadata": {},
   "outputs": [],
   "source": []
  }
 ],
 "metadata": {
  "kernelspec": {
   "display_name": "Python 3 (ipykernel)",
   "language": "python",
   "name": "python3"
  },
  "language_info": {
   "codemirror_mode": {
    "name": "ipython",
    "version": 3
   },
   "file_extension": ".py",
   "mimetype": "text/x-python",
   "name": "python",
   "nbconvert_exporter": "python",
   "pygments_lexer": "ipython3",
   "version": "3.9.2"
  }
 },
 "nbformat": 4,
 "nbformat_minor": 5
}
