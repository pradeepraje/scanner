{
 "cells": [
  {
   "cell_type": "code",
   "execution_count": 7,
   "id": "1c5944cc",
   "metadata": {},
   "outputs": [
    {
     "data": {
      "text/html": [
       "'R version 4.1.2 (2021-11-01)'"
      ],
      "text/latex": [
       "'R version 4.1.2 (2021-11-01)'"
      ],
      "text/markdown": [
       "'R version 4.1.2 (2021-11-01)'"
      ],
      "text/plain": [
       "[1] \"R version 4.1.2 (2021-11-01)\""
      ]
     },
     "metadata": {},
     "output_type": "display_data"
    }
   ],
   "source": [
    "R.version.string"
   ]
  },
  {
   "cell_type": "code",
   "execution_count": 5,
   "id": "3b6fc237",
   "metadata": {},
   "outputs": [
    {
     "ename": "ERROR",
     "evalue": "Error in library(ggplot2): there is no package called 'ggplot2'\n",
     "output_type": "error",
     "traceback": [
      "Error in library(ggplot2): there is no package called 'ggplot2'\nTraceback:\n",
      "1. library(ggplot2)"
     ]
    }
   ],
   "source": [
    "library(ggplot2)\n",
    "y<-c(6,9,11,13,15)\n",
    "data=data.frame(x=LETTERS[1:5], y=y)\n",
    "#set up labels\n",
    "yat<-c(\"\",\"3\",\"6\",\"9\",\"12\",\"15\",\"18\")\n",
    "\n",
    "\n",
    "p<-ggplot(data, aes(x=x, y=y)) +\n",
    "    geom_segment( aes(x=x, xend=x, y=0, yend=y), color=\"springgreen\",size=4) +\n",
    "    geom_point( size=8, color=\"lawngreen\", fill=alpha(\"springgreen3\", 0.3), alpha=0.7,    shape=21, stroke=2)+\n",
    "    theme_bw() +\n",
    "    scale_y_continuous(limits = c(0,18), breaks = c(0,3,6,9,12,15,18),labels=yat)+\n",
    "      coord_flip() + \n",
    "      annotate(\"text\", x = 1.225:5.225, y = 0.01, label = yat, size=4,hjust=0.05,family=\"serif\",fontface =2)+\n",
    "      theme(\n",
    "     panel.grid.minor.x = element_blank(),\n",
    "     panel.grid.minor.y = element_blank(),\n",
    "     panel.border = element_blank(),\n",
    "     axis.line=element_blank(),\n",
    "     axis.title.x=element_blank(),\n",
    "     axis.title.y=element_blank(), \n",
    "       axis.text.y=element_blank(),\n",
    "     axis.ticks.y=element_blank())+\n",
    "     theme(axis.line.x = element_line(color = \"black\"), axis.line.y = element_line(color = \"black\")\n",
    "     )\n",
    "     \n",
    "plot(p)\n",
    "\n"
   ]
  },
  {
   "cell_type": "code",
   "execution_count": 8,
   "id": "f30776cf",
   "metadata": {},
   "outputs": [
    {
     "ename": "ERROR",
     "evalue": "Error in library(ggplot2): there is no package called 'ggplot2'\n",
     "output_type": "error",
     "traceback": [
      "Error in library(ggplot2): there is no package called 'ggplot2'\nTraceback:\n",
      "1. library(ggplot2)"
     ]
    }
   ],
   "source": [
    "library(ggplot2)"
   ]
  },
  {
   "cell_type": "code",
   "execution_count": null,
   "id": "56c779a5",
   "metadata": {},
   "outputs": [],
   "source": []
  }
 ],
 "metadata": {
  "kernelspec": {
   "display_name": "R",
   "language": "R",
   "name": "ir"
  },
  "language_info": {
   "codemirror_mode": "r",
   "file_extension": ".r",
   "mimetype": "text/x-r-source",
   "name": "R",
   "pygments_lexer": "r",
   "version": "4.1.2"
  }
 },
 "nbformat": 4,
 "nbformat_minor": 5
}
