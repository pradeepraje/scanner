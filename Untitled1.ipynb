{
 "cells": [
  {
   "cell_type": "code",
   "execution_count": 3,
   "id": "17709542",
   "metadata": {},
   "outputs": [],
   "source": [
    "import wordwise\n"
   ]
  },
  {
   "cell_type": "code",
   "execution_count": 4,
   "id": "80c88a13",
   "metadata": {},
   "outputs": [],
   "source": [
    "from wordwise import Extractor"
   ]
  },
  {
   "cell_type": "code",
   "execution_count": 5,
   "id": "5a2d6696",
   "metadata": {
    "scrolled": true
   },
   "outputs": [
    {
     "data": {
      "application/vnd.jupyter.widget-view+json": {
       "model_id": "3c353e11582449c3ac356b88360652e9",
       "version_major": 2,
       "version_minor": 0
      },
      "text/plain": [
       "Downloading:   0%|          | 0.00/555 [00:00<?, ?B/s]"
      ]
     },
     "metadata": {},
     "output_type": "display_data"
    },
    {
     "data": {
      "application/vnd.jupyter.widget-view+json": {
       "model_id": "d4e6527774f64ef9be35087968483b8a",
       "version_major": 2,
       "version_minor": 0
      },
      "text/plain": [
       "Downloading:   0%|          | 0.00/253M [00:00<?, ?B/s]"
      ]
     },
     "metadata": {},
     "output_type": "display_data"
    },
    {
     "data": {
      "application/vnd.jupyter.widget-view+json": {
       "model_id": "16525a1f71964cf99178d3b8ada82659",
       "version_major": 2,
       "version_minor": 0
      },
      "text/plain": [
       "Downloading:   0%|          | 0.00/505 [00:00<?, ?B/s]"
      ]
     },
     "metadata": {},
     "output_type": "display_data"
    },
    {
     "data": {
      "application/vnd.jupyter.widget-view+json": {
       "model_id": "9f59d27df2e04285a9ef2c977ba043d3",
       "version_major": 2,
       "version_minor": 0
      },
      "text/plain": [
       "Downloading:   0%|          | 0.00/226k [00:00<?, ?B/s]"
      ]
     },
     "metadata": {},
     "output_type": "display_data"
    },
    {
     "data": {
      "application/vnd.jupyter.widget-view+json": {
       "model_id": "57663f7b07d64baeac527bf971e2bdd1",
       "version_major": 2,
       "version_minor": 0
      },
      "text/plain": [
       "Downloading:   0%|          | 0.00/455k [00:00<?, ?B/s]"
      ]
     },
     "metadata": {},
     "output_type": "display_data"
    },
    {
     "data": {
      "application/vnd.jupyter.widget-view+json": {
       "model_id": "5aca07bb2f494f8c9996fcd2897d4abd",
       "version_major": 2,
       "version_minor": 0
      },
      "text/plain": [
       "Downloading:   0%|          | 0.00/112 [00:00<?, ?B/s]"
      ]
     },
     "metadata": {},
     "output_type": "display_data"
    }
   ],
   "source": [
    "extractor=Extractor()"
   ]
  },
  {
   "cell_type": "code",
   "execution_count": 6,
   "id": "e5ef35c6",
   "metadata": {},
   "outputs": [],
   "source": [
    "with open('cairn1.txt','r') as fin:\n",
    "    data=fin.read()"
   ]
  },
  {
   "cell_type": "code",
   "execution_count": 8,
   "id": "7eaa3e26",
   "metadata": {},
   "outputs": [],
   "source": [
    "import io"
   ]
  },
  {
   "cell_type": "code",
   "execution_count": 32,
   "id": "e2122315",
   "metadata": {},
   "outputs": [],
   "source": [
    "with io.open(\"cairn1.txt\", mode=\"r\", encoding=\"utf-8\") as fin:\n",
    "    data1=fin.read()"
   ]
  },
  {
   "cell_type": "code",
   "execution_count": 14,
   "id": "7223f052",
   "metadata": {},
   "outputs": [],
   "source": [
    "from flashtext import KeywordProcessor"
   ]
  },
  {
   "cell_type": "code",
   "execution_count": 15,
   "id": "2cd20c80",
   "metadata": {},
   "outputs": [],
   "source": [
    "keyword_processor = KeywordProcessor()"
   ]
  },
  {
   "cell_type": "code",
   "execution_count": 21,
   "id": "48a2e049",
   "metadata": {},
   "outputs": [
    {
     "data": {
      "text/plain": [
       "True"
      ]
     },
     "execution_count": 21,
     "metadata": {},
     "output_type": "execute_result"
    }
   ],
   "source": [
    "keyword_processor.add_keyword('arbitration')"
   ]
  },
  {
   "cell_type": "code",
   "execution_count": 22,
   "id": "79908e32",
   "metadata": {},
   "outputs": [],
   "source": [
    "keywords_found = keyword_processor.extract_keywords(data)"
   ]
  },
  {
   "cell_type": "code",
   "execution_count": 23,
   "id": "5d986243",
   "metadata": {},
   "outputs": [
    {
     "name": "stdout",
     "output_type": "stream",
     "text": [
      "['Cairn Energy', 'arbitration', 'arbitration', 'arbitration', 'arbitration']\n"
     ]
    }
   ],
   "source": [
    "print(keywords_found)"
   ]
  },
  {
   "cell_type": "code",
   "execution_count": 25,
   "id": "84aab82c",
   "metadata": {},
   "outputs": [],
   "source": [
    "#for Cairn2"
   ]
  },
  {
   "cell_type": "code",
   "execution_count": 70,
   "id": "18569721",
   "metadata": {},
   "outputs": [
    {
     "name": "stdout",
     "output_type": "stream",
     "text": [
      "['Cairn Energy', 'arbitration']\n"
     ]
    }
   ],
   "source": [
    "keywords_found = set(keyword_processor.extract_keywords(data1))\n",
    "print(list(keywords_found))"
   ]
  },
  {
   "cell_type": "code",
   "execution_count": 31,
   "id": "0af6b692",
   "metadata": {},
   "outputs": [
    {
     "name": "stdout",
     "output_type": "stream",
     "text": [
      "[]\n"
     ]
    }
   ],
   "source": [
    "print(keywords_found)"
   ]
  },
  {
   "cell_type": "code",
   "execution_count": 28,
   "id": "df5e5ef6",
   "metadata": {},
   "outputs": [
    {
     "name": "stdout",
     "output_type": "stream",
     "text": [
      "With the establishment of a refinery in Pachpadra, the crude oil exploited in Barmer-Sanchore Basin will be cheaper after refining. Right now the crude oil is being sent to Gujarat and Panipat Refinery from Mangla Oil Field of Kawas through pipeline for getting refined but now HPCL will have to lay off only seventy-km pipeline from Mangla oil field to Pachpadra refinery. At present, it costs oneand- a-half-dollar per barrel for sending the oil to refinery. Two lakh barrels of crude oil is being produced in Barmer and sent to Gujarat every day. Sixty to seventy percent of the crude oil produced in Barmer is supplied to Reliance refinery. The remaining oil is supplied to Essar, IOC and HPCL’s Jamnagar, Koyali and Panipat refinery. Till now, Reliance was the biggest buyer of Barmer’s crude oil, but HPCL will become the biggest buyer when the refinery starts in Pachpadra. Cairn India will have to send the crude oil to Pachpadra refinery situated at a distance of 70 km, instead of Jamnagar-based refinery situated at about 700 km away. With this, cost of oil transport for refining will reduce to 10 percent. This will reduce the cost of refining crude oil produced in Barmer. \n",
      "\n",
      "At the same time, the benefit of sales tax of nearly 400crore that the Gujarat government gets every year from Cairn India, will now be transferred to Rajasthan government. Also, the Rajasthan government will get 12,000 crore rupees annually by refining the oil in Barmer and sending it for sale. Although oil is being produced in the Barmer basin for last nine years and this basin contains crude oil reserves for next twenty years, Cairn India is now going to drill more than five hundred new oil wells. The company’s experts are expected to get huge oil reserves in excavation of wells. Seismic surveys have also found signs of getting oil reserves. Geologist and Head of Department of Geology Department of Jainarayan Vyas University of Science, Professor Suresh Kumar Mathur has also expressed the possibility of getting huge oil reserves in the Barmer basin in one of his research papers. With the expectations of getting oil, Pachpadra refinery can prove to be a beneficial deal for HPCL and Rajasthan government. \n"
     ]
    }
   ],
   "source": [
    "print(data)"
   ]
  },
  {
   "cell_type": "code",
   "execution_count": 130,
   "id": "95e3717d",
   "metadata": {},
   "outputs": [],
   "source": [
    "from splinter import Browser"
   ]
  },
  {
   "cell_type": "code",
   "execution_count": 131,
   "id": "57a8dd97",
   "metadata": {},
   "outputs": [
    {
     "ename": "WebDriverException",
     "evalue": "Message: 'geckodriver' executable needs to be in PATH. \n",
     "output_type": "error",
     "traceback": [
      "\u001b[1;31m---------------------------------------------------------------------------\u001b[0m",
      "\u001b[1;31mFileNotFoundError\u001b[0m                         Traceback (most recent call last)",
      "\u001b[1;32mc:\\python39\\lib\\site-packages\\selenium\\webdriver\\common\\service.py\u001b[0m in \u001b[0;36mstart\u001b[1;34m(self)\u001b[0m\n\u001b[0;32m     71\u001b[0m             \u001b[0mcmd\u001b[0m\u001b[1;33m.\u001b[0m\u001b[0mextend\u001b[0m\u001b[1;33m(\u001b[0m\u001b[0mself\u001b[0m\u001b[1;33m.\u001b[0m\u001b[0mcommand_line_args\u001b[0m\u001b[1;33m(\u001b[0m\u001b[1;33m)\u001b[0m\u001b[1;33m)\u001b[0m\u001b[1;33m\u001b[0m\u001b[1;33m\u001b[0m\u001b[0m\n\u001b[1;32m---> 72\u001b[1;33m             self.process = subprocess.Popen(cmd, env=self.env,\n\u001b[0m\u001b[0;32m     73\u001b[0m                                             \u001b[0mclose_fds\u001b[0m\u001b[1;33m=\u001b[0m\u001b[0mplatform\u001b[0m\u001b[1;33m.\u001b[0m\u001b[0msystem\u001b[0m\u001b[1;33m(\u001b[0m\u001b[1;33m)\u001b[0m \u001b[1;33m!=\u001b[0m \u001b[1;34m'Windows'\u001b[0m\u001b[1;33m,\u001b[0m\u001b[1;33m\u001b[0m\u001b[1;33m\u001b[0m\u001b[0m\n",
      "\u001b[1;32mc:\\python39\\lib\\subprocess.py\u001b[0m in \u001b[0;36m__init__\u001b[1;34m(self, args, bufsize, executable, stdin, stdout, stderr, preexec_fn, close_fds, shell, cwd, env, universal_newlines, startupinfo, creationflags, restore_signals, start_new_session, pass_fds, user, group, extra_groups, encoding, errors, text, umask)\u001b[0m\n\u001b[0;32m    950\u001b[0m \u001b[1;33m\u001b[0m\u001b[0m\n\u001b[1;32m--> 951\u001b[1;33m             self._execute_child(args, executable, preexec_fn, close_fds,\n\u001b[0m\u001b[0;32m    952\u001b[0m                                 \u001b[0mpass_fds\u001b[0m\u001b[1;33m,\u001b[0m \u001b[0mcwd\u001b[0m\u001b[1;33m,\u001b[0m \u001b[0menv\u001b[0m\u001b[1;33m,\u001b[0m\u001b[1;33m\u001b[0m\u001b[1;33m\u001b[0m\u001b[0m\n",
      "\u001b[1;32mc:\\python39\\lib\\subprocess.py\u001b[0m in \u001b[0;36m_execute_child\u001b[1;34m(self, args, executable, preexec_fn, close_fds, pass_fds, cwd, env, startupinfo, creationflags, shell, p2cread, p2cwrite, c2pread, c2pwrite, errread, errwrite, unused_restore_signals, unused_gid, unused_gids, unused_uid, unused_umask, unused_start_new_session)\u001b[0m\n\u001b[0;32m   1419\u001b[0m             \u001b[1;32mtry\u001b[0m\u001b[1;33m:\u001b[0m\u001b[1;33m\u001b[0m\u001b[1;33m\u001b[0m\u001b[0m\n\u001b[1;32m-> 1420\u001b[1;33m                 hp, ht, pid, tid = _winapi.CreateProcess(executable, args,\n\u001b[0m\u001b[0;32m   1421\u001b[0m                                          \u001b[1;31m# no special security\u001b[0m\u001b[1;33m\u001b[0m\u001b[1;33m\u001b[0m\u001b[1;33m\u001b[0m\u001b[0m\n",
      "\u001b[1;31mFileNotFoundError\u001b[0m: [WinError 2] The system cannot find the file specified",
      "\nDuring handling of the above exception, another exception occurred:\n",
      "\u001b[1;31mWebDriverException\u001b[0m                        Traceback (most recent call last)",
      "\u001b[1;32m~\\AppData\\Local\\Temp/ipykernel_9828/3713201390.py\u001b[0m in \u001b[0;36m<module>\u001b[1;34m\u001b[0m\n\u001b[1;32m----> 1\u001b[1;33m \u001b[1;32mwith\u001b[0m \u001b[0mBrowser\u001b[0m\u001b[1;33m(\u001b[0m\u001b[1;33m)\u001b[0m \u001b[1;32mas\u001b[0m \u001b[0mbrowser\u001b[0m\u001b[1;33m:\u001b[0m\u001b[1;33m\u001b[0m\u001b[1;33m\u001b[0m\u001b[0m\n\u001b[0m\u001b[0;32m      2\u001b[0m     \u001b[1;31m# Visit URL\u001b[0m\u001b[1;33m\u001b[0m\u001b[1;33m\u001b[0m\u001b[1;33m\u001b[0m\u001b[0m\n\u001b[0;32m      3\u001b[0m     \u001b[0murl\u001b[0m \u001b[1;33m=\u001b[0m \u001b[1;34m\"http://mtrack.merryspiders.com/NewsDetailsPublished.aspx?NewsId=fStooxHhm+dHReKuXJaoQw==&MediaType=\"\u001b[0m\u001b[1;33m\u001b[0m\u001b[1;33m\u001b[0m\u001b[0m\n\u001b[0;32m      4\u001b[0m     \u001b[0mbrowser\u001b[0m\u001b[1;33m.\u001b[0m\u001b[0mvisit\u001b[0m\u001b[1;33m(\u001b[0m\u001b[0murl\u001b[0m\u001b[1;33m)\u001b[0m\u001b[1;33m\u001b[0m\u001b[1;33m\u001b[0m\u001b[0m\n",
      "\u001b[1;32mc:\\python39\\lib\\site-packages\\splinter\\browser.py\u001b[0m in \u001b[0;36mBrowser\u001b[1;34m(driver_name, retry_count, *args, **kwargs)\u001b[0m\n\u001b[0;32m     99\u001b[0m         \u001b[1;32mraise\u001b[0m \u001b[0mDriverNotFoundError\u001b[0m\u001b[1;33m(\u001b[0m\u001b[1;34m\"No driver for %s\"\u001b[0m \u001b[1;33m%\u001b[0m \u001b[0mdriver_name\u001b[0m\u001b[1;33m)\u001b[0m\u001b[1;33m\u001b[0m\u001b[1;33m\u001b[0m\u001b[0m\n\u001b[0;32m    100\u001b[0m \u001b[1;33m\u001b[0m\u001b[0m\n\u001b[1;32m--> 101\u001b[1;33m     \u001b[1;32mreturn\u001b[0m \u001b[0mget_driver\u001b[0m\u001b[1;33m(\u001b[0m\u001b[0mdriver\u001b[0m\u001b[1;33m,\u001b[0m \u001b[0mretry_count\u001b[0m\u001b[1;33m=\u001b[0m\u001b[0mretry_count\u001b[0m\u001b[1;33m,\u001b[0m \u001b[1;33m*\u001b[0m\u001b[0margs\u001b[0m\u001b[1;33m,\u001b[0m \u001b[1;33m**\u001b[0m\u001b[0mkwargs\u001b[0m\u001b[1;33m)\u001b[0m\u001b[1;33m\u001b[0m\u001b[1;33m\u001b[0m\u001b[0m\n\u001b[0m",
      "\u001b[1;32mc:\\python39\\lib\\site-packages\\splinter\\browser.py\u001b[0m in \u001b[0;36mget_driver\u001b[1;34m(driver, retry_count, *args, **kwargs)\u001b[0m\n\u001b[0;32m     74\u001b[0m             \u001b[0merr\u001b[0m \u001b[1;33m=\u001b[0m \u001b[0me\u001b[0m\u001b[1;33m\u001b[0m\u001b[1;33m\u001b[0m\u001b[0m\n\u001b[0;32m     75\u001b[0m \u001b[1;33m\u001b[0m\u001b[0m\n\u001b[1;32m---> 76\u001b[1;33m     \u001b[1;32mraise\u001b[0m \u001b[0merr\u001b[0m\u001b[1;33m\u001b[0m\u001b[1;33m\u001b[0m\u001b[0m\n\u001b[0m\u001b[0;32m     77\u001b[0m \u001b[1;33m\u001b[0m\u001b[0m\n\u001b[0;32m     78\u001b[0m \u001b[1;33m\u001b[0m\u001b[0m\n",
      "\u001b[1;32mc:\\python39\\lib\\site-packages\\splinter\\browser.py\u001b[0m in \u001b[0;36mget_driver\u001b[1;34m(driver, retry_count, *args, **kwargs)\u001b[0m\n\u001b[0;32m     70\u001b[0m     \u001b[1;32mfor\u001b[0m \u001b[0m_\u001b[0m \u001b[1;32min\u001b[0m \u001b[0mrange\u001b[0m\u001b[1;33m(\u001b[0m\u001b[0mretry_count\u001b[0m\u001b[1;33m)\u001b[0m\u001b[1;33m:\u001b[0m\u001b[1;33m\u001b[0m\u001b[1;33m\u001b[0m\u001b[0m\n\u001b[0;32m     71\u001b[0m         \u001b[1;32mtry\u001b[0m\u001b[1;33m:\u001b[0m\u001b[1;33m\u001b[0m\u001b[1;33m\u001b[0m\u001b[0m\n\u001b[1;32m---> 72\u001b[1;33m             \u001b[1;32mreturn\u001b[0m \u001b[0mdriver\u001b[0m\u001b[1;33m(\u001b[0m\u001b[1;33m*\u001b[0m\u001b[0margs\u001b[0m\u001b[1;33m,\u001b[0m \u001b[1;33m**\u001b[0m\u001b[0mkwargs\u001b[0m\u001b[1;33m)\u001b[0m\u001b[1;33m\u001b[0m\u001b[1;33m\u001b[0m\u001b[0m\n\u001b[0m\u001b[0;32m     73\u001b[0m         \u001b[1;32mexcept\u001b[0m \u001b[1;33m(\u001b[0m\u001b[0mIOError\u001b[0m\u001b[1;33m,\u001b[0m \u001b[0mHTTPException\u001b[0m\u001b[1;33m,\u001b[0m \u001b[0mWebDriverException\u001b[0m\u001b[1;33m,\u001b[0m \u001b[0mMaxRetryError\u001b[0m\u001b[1;33m)\u001b[0m \u001b[1;32mas\u001b[0m \u001b[0me\u001b[0m\u001b[1;33m:\u001b[0m\u001b[1;33m\u001b[0m\u001b[1;33m\u001b[0m\u001b[0m\n\u001b[0;32m     74\u001b[0m             \u001b[0merr\u001b[0m \u001b[1;33m=\u001b[0m \u001b[0me\u001b[0m\u001b[1;33m\u001b[0m\u001b[1;33m\u001b[0m\u001b[0m\n",
      "\u001b[1;32mc:\\python39\\lib\\site-packages\\splinter\\driver\\webdriver\\firefox.py\u001b[0m in \u001b[0;36m__init__\u001b[1;34m(self, options, profile, extensions, user_agent, profile_preferences, fullscreen, wait_time, timeout, capabilities, headless, incognito, **kwargs)\u001b[0m\n\u001b[0;32m     65\u001b[0m             \u001b[0moptions\u001b[0m\u001b[1;33m.\u001b[0m\u001b[0madd_argument\u001b[0m\u001b[1;33m(\u001b[0m\u001b[1;34m\"-private\"\u001b[0m\u001b[1;33m)\u001b[0m\u001b[1;33m\u001b[0m\u001b[1;33m\u001b[0m\u001b[0m\n\u001b[0;32m     66\u001b[0m \u001b[1;33m\u001b[0m\u001b[0m\n\u001b[1;32m---> 67\u001b[1;33m         self.driver = Firefox(\n\u001b[0m\u001b[0;32m     68\u001b[0m             \u001b[0mfirefox_profile\u001b[0m\u001b[1;33m,\u001b[0m\u001b[1;33m\u001b[0m\u001b[1;33m\u001b[0m\u001b[0m\n\u001b[0;32m     69\u001b[0m             \u001b[0mcapabilities\u001b[0m\u001b[1;33m=\u001b[0m\u001b[0mfirefox_capabilities\u001b[0m\u001b[1;33m,\u001b[0m\u001b[1;33m\u001b[0m\u001b[1;33m\u001b[0m\u001b[0m\n",
      "\u001b[1;32mc:\\python39\\lib\\site-packages\\selenium\\webdriver\\firefox\\webdriver.py\u001b[0m in \u001b[0;36m__init__\u001b[1;34m(self, firefox_profile, firefox_binary, timeout, capabilities, proxy, executable_path, options, service_log_path, firefox_options, service_args, desired_capabilities, log_path, keep_alive)\u001b[0m\n\u001b[0;32m    162\u001b[0m                 \u001b[0mservice_args\u001b[0m\u001b[1;33m=\u001b[0m\u001b[0mservice_args\u001b[0m\u001b[1;33m,\u001b[0m\u001b[1;33m\u001b[0m\u001b[1;33m\u001b[0m\u001b[0m\n\u001b[0;32m    163\u001b[0m                 log_path=service_log_path)\n\u001b[1;32m--> 164\u001b[1;33m             \u001b[0mself\u001b[0m\u001b[1;33m.\u001b[0m\u001b[0mservice\u001b[0m\u001b[1;33m.\u001b[0m\u001b[0mstart\u001b[0m\u001b[1;33m(\u001b[0m\u001b[1;33m)\u001b[0m\u001b[1;33m\u001b[0m\u001b[1;33m\u001b[0m\u001b[0m\n\u001b[0m\u001b[0;32m    165\u001b[0m \u001b[1;33m\u001b[0m\u001b[0m\n\u001b[0;32m    166\u001b[0m             \u001b[0mcapabilities\u001b[0m\u001b[1;33m.\u001b[0m\u001b[0mupdate\u001b[0m\u001b[1;33m(\u001b[0m\u001b[0moptions\u001b[0m\u001b[1;33m.\u001b[0m\u001b[0mto_capabilities\u001b[0m\u001b[1;33m(\u001b[0m\u001b[1;33m)\u001b[0m\u001b[1;33m)\u001b[0m\u001b[1;33m\u001b[0m\u001b[1;33m\u001b[0m\u001b[0m\n",
      "\u001b[1;32mc:\\python39\\lib\\site-packages\\selenium\\webdriver\\common\\service.py\u001b[0m in \u001b[0;36mstart\u001b[1;34m(self)\u001b[0m\n\u001b[0;32m     79\u001b[0m         \u001b[1;32mexcept\u001b[0m \u001b[0mOSError\u001b[0m \u001b[1;32mas\u001b[0m \u001b[0merr\u001b[0m\u001b[1;33m:\u001b[0m\u001b[1;33m\u001b[0m\u001b[1;33m\u001b[0m\u001b[0m\n\u001b[0;32m     80\u001b[0m             \u001b[1;32mif\u001b[0m \u001b[0merr\u001b[0m\u001b[1;33m.\u001b[0m\u001b[0merrno\u001b[0m \u001b[1;33m==\u001b[0m \u001b[0merrno\u001b[0m\u001b[1;33m.\u001b[0m\u001b[0mENOENT\u001b[0m\u001b[1;33m:\u001b[0m\u001b[1;33m\u001b[0m\u001b[1;33m\u001b[0m\u001b[0m\n\u001b[1;32m---> 81\u001b[1;33m                 raise WebDriverException(\n\u001b[0m\u001b[0;32m     82\u001b[0m                     \"'%s' executable needs to be in PATH. %s\" % (\n\u001b[0;32m     83\u001b[0m                         os.path.basename(self.path), self.start_error_message)\n",
      "\u001b[1;31mWebDriverException\u001b[0m: Message: 'geckodriver' executable needs to be in PATH. \n"
     ]
    }
   ],
   "source": [
    "with Browser() as browser:\n",
    "    # Visit URL\n",
    "    url = \"http://mtrack.merryspiders.com/NewsDetailsPublished.aspx?NewsId=fStooxHhm+dHReKuXJaoQw==&MediaType=\"\n",
    "    browser.visit(url)\n"
   ]
  },
  {
   "cell_type": "code",
   "execution_count": 40,
   "id": "43283adf",
   "metadata": {},
   "outputs": [],
   "source": [
    "executable_path = {'executable_path':'C:\\ProgramData\\Microsoft\\Windows\\Start Menu\\Programs'}"
   ]
  },
  {
   "cell_type": "code",
   "execution_count": 43,
   "id": "2e5f00bf",
   "metadata": {},
   "outputs": [],
   "source": [
    "browser = Browser('chrome')"
   ]
  },
  {
   "cell_type": "code",
   "execution_count": 45,
   "id": "f6270a20",
   "metadata": {},
   "outputs": [],
   "source": [
    "url=\"http://mtrack.merryspiders.com/NewsDetailsPublished.aspx?NewsId=fStooxHhm+dHReKuXJaoQw==&MediaType=\""
   ]
  },
  {
   "cell_type": "code",
   "execution_count": 47,
   "id": "7f1fe81d",
   "metadata": {},
   "outputs": [],
   "source": [
    "browser.visit(url)"
   ]
  },
  {
   "cell_type": "code",
   "execution_count": 50,
   "id": "d4e1b56a",
   "metadata": {},
   "outputs": [],
   "source": [
    "from bs4 import BeautifulSoup"
   ]
  },
  {
   "cell_type": "code",
   "execution_count": 62,
   "id": "ded44350",
   "metadata": {},
   "outputs": [],
   "source": [
    "mysite = urllib.request.urlopen(url).read()\n",
    "soup= BeautifulSoup(mysite,'html.parser')"
   ]
  },
  {
   "cell_type": "code",
   "execution_count": 59,
   "id": "5ed2b77d",
   "metadata": {},
   "outputs": [
    {
     "name": "stdout",
     "output_type": "stream",
     "text": [
      "200\n"
     ]
    }
   ],
   "source": [
    "import urllib.request, urlopen"
   ]
  },
  {
   "cell_type": "code",
   "execution_count": 56,
   "id": "03a74b7b",
   "metadata": {},
   "outputs": [
    {
     "name": "stdout",
     "output_type": "stream",
     "text": [
      "\n",
      "<!DOCTYPE html PUBLIC \"-//W3C//DTD XHTML 1.0 Transitional//EN\" \"http://www.w3.org/TR/xhtml1/DTD/xhtml1-transitional.dtd\">\n",
      "\n",
      "<html xmlns=\"http://www.w3.org/1999/xhtml\">\n",
      "<head id=\"ctl00_Head1\"><title>\r\n",
      "\tCan't negotiate tax deals\r\n",
      "</title><meta content=\"NOINDEX, NOFOLLOW\" name=\"ROBOTS\"/><meta content=\"width=device-width, initial-scale=1.0\" name=\"viewport\"/><link href=\"css/style.css\" rel=\"stylesheet\" type=\"text/css\"/><link href=\"Styles/updateProgress.css\" rel=\"stylesheet\" type=\"text/css\"/><link href=\"http://fonts.googleapis.com/css?family=Open+Sans:400,300\" rel=\"stylesheet\" type=\"text/css\"/>\n",
      "<!--[if lt IE 9]>\r\n",
      "\t    <script src=\"http://css3-mediaqueries-js.googlecode.com/files/css3-mediaqueries.js\"></script>\r\n",
      "\t    <script src=\"http://html5shim.googlecode.com/svn/trunk/html5.js\"></script>\r\n",
      "        <![endif]-->\n",
      "<script src=\"http://ajax.googleapis.com/ajax/libs/jquery/1.8.2/jquery.min.js\" type=\"text/javascript\"></script>\n",
      "<script src=\"Scripts/menu.js\" type=\"text/javascript\"></script>\n",
      "<script type=\"text/javascript\">\r\n",
      "        function setVisibleMaster() {\r\n",
      "            var d = document.getElementById('LeftMenuMaster');\r\n",
      "            d.style.visibility = 'visible';\r\n",
      "            //            alert('hi');\r\n",
      "            //            $(\"#LeftMenuMaster\").style.display = 'block';\r\n",
      "        }\r\n",
      "    </script>\n",
      "<script type=\"text/javascript\">\r\n",
      "        function ShowDivToggle(divID) {\r\n",
      "\r\n",
      "            var val = document.getElementById('hidDivState').value;\r\n",
      "            if (val == \"show\") {\r\n",
      "                $(\"#\" + divID + \"\").fadeToggle();\r\n",
      "            }\r\n",
      "\r\n",
      "\r\n",
      "        }\r\n",
      "\r\n",
      "    </script>\n",
      "<meta content=\"NOINDEX, NOFOLLOW\" name=\"ROBOTS\"/>\n",
      "<script language=\"javascript\" type=\"text/javascript\">\r\n",
      "\r\n",
      "    $(document).ready(function () {\r\n",
      "        $('#contentbox').css('background', 'white');\r\n",
      "        $('.grid_4of5').css('width', '100%');\r\n",
      "    });\r\n",
      "    </script>\n",
      "<style type=\"text/css\">\r\n",
      "        .style2\r\n",
      "        {\r\n",
      "            width: 11%;\r\n",
      "        }\r\n",
      "    </style>\n",
      "<link href=\"/WebResource.axd?d=8acGL0mCJ5QOODUGQXi4YHsvUFPEHCLDd7cJMfSxElllBxA82RbCGnYHgpunYJ1fuA_irky1smoTGT1abgsNgOKi050JQWym4m5oP76e238rK-PiLVITnWaJCagibuGjjGuSWxN5nvRL7XEtejgNwg2&amp;t=635566748354504904\" rel=\"stylesheet\" type=\"text/css\"/></head>\n",
      "<body>\n",
      "<form action=\"./NewsDetailsPublished.aspx?NewsId=fStooxHhm+dHReKuXJaoQw%3d%3d&amp;MediaType=\" id=\"aspnetForm\" method=\"post\" name=\"aspnetForm\">\n",
      "<input id=\"ctl00_ContentPlaceHolder1_TabContainer1_ClientState\" name=\"ctl00_ContentPlaceHolder1_TabContainer1_ClientState\" type=\"hidden\" value='{\"ActiveTabIndex\":1,\"TabState\":[true,true]}'/>\n",
      "<input id=\"__VIEWSTATE\" name=\"__VIEWSTATE\" type=\"hidden\" value=\"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\"/>\n",
      "<script src=\"/ScriptResource.axd?d=ntkUhZ7j_D3OOxKDVuO0vAofvj6tUsAbVi8IQBwthKtawFCnFYKKI32deGGmgiMNbS7xWo8dBEQrlEIdmUEVOmneyL65HoQjZm4lnFQp7AvjbMDo73ky0G7Ff9qfNu9B0&amp;t=734d43f5\" type=\"text/javascript\"></script>\n",
      "<script src=\"/ScriptResource.axd?d=G0pVyeONhB9xbl6cowoHzBc2N66nmjJkQAiE_pJVXkP7_fdr-oAU1-CkwOB5DH2RURiRdydSDT5djMqkf69hJhVY_TBf_UKgidC1iqOOpvgvRuo0hjXa6USXE6EzTBs10&amp;t=734d43f5\" type=\"text/javascript\"></script>\n",
      "<script src=\"/ScriptResource.axd?d=r6xZObukeg4uqBClD88cP9hUBMT-yUnxAPBezXb32Dwt38KOlxyYsCnfMtlOEcDHoxw6kGWGYctdVlVjdnMK_9CeBNHdYGQ8vbQZ7DjhhJx8LuOjG2TvRGuAMmVK4LtaYNkwy5N59hvYGBQM1h2PBw2&amp;t=734d43f5\" type=\"text/javascript\"></script>\n",
      "<script src=\"/ScriptResource.axd?d=hkJyUZF8E2NMyNkq1boHj_1QrJfDUda7wba8kbiXJv0iHrQ9vkSGaKqDQXy4NjQzLG-Sjk7XUvSOzFxVMziNbLjX67sRC6pC5yntSSrBbipIZh8IjIUFdRG5tDvHG5p80&amp;t=734d43f5\" type=\"text/javascript\"></script>\n",
      "<script src=\"/ScriptResource.axd?d=X13GkhI4wOr-ZPZG-1_7idZku-aRVJXGv3rtAhGYVMxui070SM3Vgw_bAdsnwZcvrfllGBdhXZPOrpVtx4IOb2nDDWEAHHyUPA7SIhBRU_727N1bMWNKU4B8-f08O3_iBU9U49M8FgOUNVEZvGsJPQn4q9A0wCpE6bLHJieTnII1&amp;t=734d43f5\" type=\"text/javascript\"></script>\n",
      "<script src=\"/ScriptResource.axd?d=WqaYDFRtFXUACHD_-ZlwDK3_daFscgSfXD1rU5Qw_hwRUVKKqtzaZUaIGpGscgVRxNx6hCqTe_Ko-a90LMxCfC6cIgQ-ioqIucWaunErIwz2SZoepkgdY7-wdjex8DOCUwamp1nclaEDAGF4xATtqQ2&amp;t=734d43f5\" type=\"text/javascript\"></script>\n",
      "<script src=\"/ScriptResource.axd?d=XLdX2Vmbd_u8NYjPsKBqaVoJz5RNN7x8mSeZ9IqXvn4vlpr6ziAFK7849N_0BFZJNJO_Rz0HLXzPbF2bZwFZyqnBTtLjzIaUV1jzz2Jkr6ZDF7SMCswoWRrn357J7SgT6GozjwkB_fwqgLoDmH57nw2&amp;t=734d43f5\" type=\"text/javascript\"></script>\n",
      "<script src=\"/ScriptResource.axd?d=05CvgHL-9TxivTZ3fJcjQAmxhq0m6QQNdtqRYknscBystJ3DQfYNz4ObAg229Ss1-ArvVrAAlf3GRJKoiFcO5Tvc9-CbSGha096qS2V4KSpzmqs9nVG6OdNvvVDArZMLHr4s9f5jfVRW_ykbwxGfKA2&amp;t=734d43f5\" type=\"text/javascript\"></script>\n",
      "<script src=\"/ScriptResource.axd?d=v3LzHocr-GQg55oQTkdPMwF0iF6gMyrQDpC89jXNeuJsS81L93sj8KL5k52HjqEn-sA0oJ_OiTjLQkowvaBwS8d83UloTOxuBFR8Oa6C2icupidOcQQbjLrRfmnRqZMD_iV0jdt63FNww-INVv32YNxM8dgVxnipE7lhH6GyrxQ1&amp;t=734d43f5\" type=\"text/javascript\"></script>\n",
      "<script src=\"/ScriptResource.axd?d=X6fDNeHodHq_KyxbEUwzAYhWjAVE4UJltLdgO53VFfnKPwgHiQebfvHRSUcFybkFpax0CfaIhGm9-ki7kUb0cE61tBysEG7Dp2eeGtaueqacB8EPWfrsg6YGGsrC-DIe166nbP_toPh3Bx7VUwaxdQ2&amp;t=734d43f5\" type=\"text/javascript\"></script>\n",
      "<script src=\"/ScriptResource.axd?d=w51k24NBdVhi9T861IY3T2X_3YxCzgGX-YSYTQktMhtz9bl0hAynWjHJNwIA6xm4G4GfMzbNq0Ss__LmdzIjIBJJP_2uqVuhVGOsl4ptGfTbb4AYa_pV4CTGQJdALPJCv2_dIeVYiemrkq4fiC8UyA2&amp;t=734d43f5\" type=\"text/javascript\"></script>\n",
      "<input id=\"__VIEWSTATEGENERATOR\" name=\"__VIEWSTATEGENERATOR\" type=\"hidden\" value=\"015C1E89\"/>\n",
      "<input id=\"__VIEWSTATEENCRYPTED\" name=\"__VIEWSTATEENCRYPTED\" type=\"hidden\" value=\"\"/>\n",
      "<input id=\"__EVENTVALIDATION\" name=\"__EVENTVALIDATION\" type=\"hidden\" value=\"13MPNV8PsxLuwYlSwHu944AQ6xs+R73ghKhvCYxqMsL3GvpS3KkIu3kebPAQNrAtMfCZrMZWDtv4EyqctqOaOqjYyTjEfBP1U9MKRJ7gzf1A0OkRLb/SHEvp/vjwYtIvrrP4TY/eOoNe65jHtwv4n4O4Njj9PqFh7gFXkkKfou9AWEhBbIDFqmJ5oq0T3WY4NUswK5IR28dXMgDD3NWx9Lwr9kkG4P6stzW6rt3WxFJTZ/dhfzta0Svy+1inRRSNtC6JkpJfbh8Y/tYRmAI+9I2q8YKawMq+GPTDmfDfD78=\"/>\n",
      "<div id=\"pagewrap\">\n",
      "<input id=\"hidDivState\" name=\"ctl00$hidDivState\" type=\"hidden\"/>\n",
      "<!-- Header starts here-->\n",
      "<div id=\"navwrap\">\n",
      "<div class=\"clearfix\" style=\"padding: 5px;\">\n",
      "<div id=\"logo\" style=\"float: left; width: 20%;\">\n",
      "<a href=\"Index.aspx\">\n",
      "<img border=\"0\" id=\"ctl00_imgClientLogo\" src=\"\"/></a></div>\n",
      "<div style=\"float: left; width: 60%; text-align: center;\">\n",
      "<a href=\"Index.aspx\">\n",
      "<img border=\"0\" id=\"ctl00_imgHeaderLogo\" src=\"images/medi-tracking-logo.gif\"/></a>\n",
      "<div class=\"warning\">\n",
      "<span id=\"ctl00_lblClientName\"></span></div>\n",
      "</div>\n",
      "<div style=\"float: left; padding-top: 5px; width: 20%; text-align: right;\">\n",
      "<a href=\"http://www.adfactorspr.com\">\n",
      "<img src=\"images/adfactorspr-logo.gif\"/></a>\n",
      "</div>\n",
      "</div>\n",
      "<div class=\"clearfix\" style=\"background-color: #DDD;\">\n",
      "<div id=\"nav\">\n",
      "<div style=\"float: left;\">\n",
      "<div class=\"navigation\">\n",
      "<ul class=\"clearfix\">\n",
      "<li class=\"menu\">\n",
      "<a class=\"selected\" href=\"javascript:__doPostBack('ctl00$MliHome','')\" id=\"ctl00_MliHome\">Home</a>\n",
      "</li>\n",
      "</ul>\n",
      "</div>\n",
      "</div>\n",
      "</div>\n",
      "<div style=\"float: right; padding: 10px;\">\n",
      "<div id=\"hidediv\" onclick=\"ShowDivToggle('showdiv');\">\n",
      "<span class=\"user\" id=\"ctl00_lblUserName\" style=\"cursor: pointer;\">Welcome USER</span>\n",
      "</div>\n",
      "<div id=\"showdiv\">\n",
      "<div class=\"divbox\">\n",
      "<li>\n",
      "<a class=\"logout\" href=\"javascript:__doPostBack('ctl00$lnkbtnLogout','')\" id=\"ctl00_lnkbtnLogout\">Logout</a></li>\n",
      "<li><a href=\"ChangePassword.aspx\" id=\"ctl00_chngPassword\">Change Password</a></li>\n",
      "</div>\n",
      "</div>\n",
      "</div>\n",
      "</div>\n",
      "<!-- Header ends here-->\n",
      "<!-- Main Content starts here-->\n",
      "<div id=\"contentwrap\">\n",
      "<div class=\"clearfix\" id=\"contentbox\">\n",
      "<div>\n",
      "<div class=\"grid_1of5 nogap\">\n",
      "<div>\n",
      "<div id=\"leftmenu\">\n",
      "</div>\n",
      "</div>\n",
      "</div>\n",
      "</div>\n",
      "<div class=\"grid_4of5 nogap\">\n",
      "<div id=\"ctl00_ContentPlaceHolder1_upNewsDetails\">\n",
      "<div class=\"content\">\n",
      "<div id=\"ctl00_ContentPlaceHolder1_PnlNewsDetail\">\n",
      "<div id=\"ctl00_ContentPlaceHolder1_divNewsdet\" style=\"margin-top: 20px;\">\n",
      "<table bgcolor=\"#ffffff\" border=\"0\" cellpadding=\"0\" cellspacing=\"0\" width=\"100%\">\n",
      "<tr>\n",
      "<td>\n",
      "<table border=\"0\" cellpadding=\"2\" cellspacing=\"3\" width=\"100%\">\n",
      "<tr>\n",
      "<td>\n",
      "<div class=\"subsection\">\n",
      "<h2>\n",
      "<span style=\"color: #ffcc66; text-transform: uppercase;\">Headline: </span>\n",
      "<span id=\"ctl00_ContentPlaceHolder1_lblHeadline\">Can't negotiate tax deals</span></h2>\n",
      "</div>\n",
      "</td>\n",
      "</tr>\n",
      "<tr>\n",
      "<td>\n",
      "<table width=\"100%\">\n",
      "<tr>\n",
      "<td colspan=\"2\" valign=\"top\">\n",
      "<div class=\"modalPopup\" id=\"ctl00_ContentPlaceHolder1_pnlDisplayImage\" style=\"display: none\">\n",
      "<img id=\"ctl00_ContentPlaceHolder1_imgdisp\"/>\n",
      "<br/>\n",
      "<br/>\n",
      "<input id=\"ctl00_ContentPlaceHolder1_btnCancel\" name=\"ctl00$ContentPlaceHolder1$btnCancel\" type=\"submit\" value=\"Close\"/>\n",
      "</div>\n",
      "<a href=\"javascript:__doPostBack('ctl00$ContentPlaceHolder1$LinkButton1','')\" id=\"ctl00_ContentPlaceHolder1_LinkButton1\"></a>\n",
      "</td>\n",
      "</tr>\n",
      "</table>\n",
      "</td>\n",
      "</tr>\n",
      "</table>\n",
      "</td>\n",
      "</tr>\n",
      "<tr>\n",
      "<td bgcolor=\"#f1f1f1\" valign=\"top\">\n",
      "<table border=\"0\" cellpadding=\"7\" cellspacing=\"3\" width=\"100%\">\n",
      "<!--tr>\r\n",
      "                                                <td colspan=\"6\">\r\n",
      "                                                    <div class=\"subsection\">\r\n",
      "                                                        <h2>\r\n",
      "                                                            News Details</h2>\r\n",
      "                                                    </div>\r\n",
      "                                                </td>\r\n",
      "                                            </tr-->\n",
      "<tr>\n",
      "<td class=\"style2\">\n",
      "<b>News Date</b>\n",
      "</td>\n",
      "<td width=\"15%\">\n",
      "<span id=\"ctl00_ContentPlaceHolder1_lblNewsDate\">15-01-2018</span>\n",
      "</td>\n",
      "<td width=\"10%\">\n",
      "<b>Media Type</b>\n",
      "</td>\n",
      "<td width=\"15%\">\n",
      "<span id=\"ctl00_ContentPlaceHolder1_lblMediaType\">Newspapers</span>\n",
      "</td>\n",
      "<td id=\"ctl00_ContentPlaceHolder1_tdpublicastiontype\" width=\"18%\">\n",
      "<b>Publication Type</b>\n",
      "</td>\n",
      "<td width=\"15%\">\n",
      "<span id=\"ctl00_ContentPlaceHolder1_lblPublicationType\">English Business Newspaper</span>\n",
      "</td>\n",
      "</tr>\n",
      "<tr>\n",
      "<td class=\"style2\">\n",
      "<b>Publication</b>\n",
      "</td>\n",
      "<td width=\"20%\">\n",
      "<span id=\"ctl00_ContentPlaceHolder1_lblPublication\">The Financial Express</span>\n",
      "</td>\n",
      "<td width=\"10%\">\n",
      "<b>Language</b>\n",
      "</td>\n",
      "<td width=\"15%\">\n",
      "<span id=\"ctl00_ContentPlaceHolder1_lblLanguage\">English</span>\n",
      "</td>\n",
      "<td id=\"ctl00_ContentPlaceHolder1_tdpageno\" width=\"10%\">\n",
      "<b>Page No</b>\n",
      "</td>\n",
      "<td width=\"15%\">\n",
      "<span id=\"ctl00_ContentPlaceHolder1_lblPageNo\"> 6</span>\n",
      "</td>\n",
      "</tr>\n",
      "<tr>\n",
      "<td class=\"style2\" id=\"ctl00_ContentPlaceHolder1_tdheight\">\n",
      "<b>Height</b>\n",
      "</td>\n",
      "<td width=\"15%\">\n",
      "<span id=\"ctl00_ContentPlaceHolder1_lblHt\"> 15</span>\n",
      "</td>\n",
      "<td id=\"ctl00_ContentPlaceHolder1_tdcolumns\" width=\"10%\">\n",
      "<b>Cols</b>\n",
      "</td>\n",
      "<td width=\"15%\">\n",
      "<span id=\"ctl00_ContentPlaceHolder1_lblCols\"> 1</span>\n",
      "</td>\n",
      "</tr>\n",
      "<tr id=\"ctl00_ContentPlaceHolder1_trAuthor\">\n",
      "<td class=\"style2\">\n",
      "<b>Author</b>\n",
      "</td>\n",
      "<td colspan=\"5\">\n",
      "<span id=\"ctl00_ContentPlaceHolder1_lblAuthor\">Editorial</span>\n",
      "</td>\n",
      "</tr>\n",
      "<tr>\n",
      "<td align=\"top\" class=\"style2\">\n",
      "<b>Edition</b>\n",
      "</td>\n",
      "<td>\n",
      "<span id=\"ctl00_ContentPlaceHolder1_lblEdition\"> All</span>\n",
      "</td>\n",
      "</tr>\n",
      "</table>\n",
      "</td>\n",
      "</tr>\n",
      "</table>\n",
      "</div>\n",
      "<div>\n",
      "<table width=\"100%\">\n",
      "<tr>\n",
      "<td>\n",
      "<div class=\"ajax__tab_xp\" id=\"ctl00_ContentPlaceHolder1_TabContainer1\">\n",
      "<div id=\"ctl00_ContentPlaceHolder1_TabContainer1_header\">\n",
      "<span id=\"ctl00_ContentPlaceHolder1_TabContainer1_TabPanel1_tab\"><span class=\"ajax__tab_outer\"><span class=\"ajax__tab_inner\"><span class=\"ajax__tab_tab\" id=\"__tab_ctl00_ContentPlaceHolder1_TabContainer1_TabPanel1\">\r\n",
      "                                                View Images\r\n",
      "                                            </span></span></span></span><span id=\"ctl00_ContentPlaceHolder1_TabContainer1_TabPanel2_tab\"><span class=\"ajax__tab_outer\"><span class=\"ajax__tab_inner\"><span class=\"ajax__tab_tab\" id=\"__tab_ctl00_ContentPlaceHolder1_TabContainer1_TabPanel2\">\r\n",
      "                                                View Text\r\n",
      "                                            </span></span></span></span>\n",
      "</div><div id=\"ctl00_ContentPlaceHolder1_TabContainer1_body\">\n",
      "<div class=\"ajax__tab_panel\" id=\"ctl00_ContentPlaceHolder1_TabContainer1_TabPanel1\" style=\"display:none;\">\n",
      "<table width=\"50%\">\n",
      "<tr>\n",
      "<td style=\"width: 10%;\">\n",
      "<div style=\"padding: 10px;\">\n",
      "<b>Image</b></div>\n",
      "</td>\n",
      "<td style=\"width: 50%;\">\n",
      "<div style=\"padding: 10px;\">\n",
      "<select id=\"ctl00_ContentPlaceHolder1_TabContainer1_TabPanel1_ddlImages\" name=\"ctl00$ContentPlaceHolder1$TabContainer1$TabPanel1$ddlImages\">\n",
      "<option selected=\"selected\" value=\"1761687\">pg-6</option>\n",
      "</select>\n",
      "</div>\n",
      "</td>\n",
      "</tr>\n",
      "</table>\n",
      "<img border=\"0\" id=\"ctl00_ContentPlaceHolder1_TabContainer1_TabPanel1_Image1\" src=\"http://mtimages.merryspiders.com/ArticleImages/Uploaded_Images/2018/1/15/2018_1_15_cf056bcc-c65b-4d5b-ae64-c5ebafb33240.jpg\"/>\r\n",
      "                                                 <br/>\n",
      "</div><div class=\"ajax__tab_panel\" id=\"ctl00_ContentPlaceHolder1_TabContainer1_TabPanel2\">\n",
      "<div style=\"padding: 10px;\">\n",
      "<span id=\"ctl00_ContentPlaceHolder1_TabContainer1_TabPanel2_lblNews\"><div><span style=\"font-size: 13.3333px;\">That’s a critical lacunae in a nation that has so many disputes  </span></div>\n",
      "<div><span style=\"font-size: 13.3333px;\"><br/>\n",
      "</span></div>\n",
      "<div><span style=\"font-size: 13.3333px;\">IF ALL GOES to plan, the Cairn Energy Plc arbitration against the Indian tax authorities $4.4 billion tax demand—$1.6 billion of this was the original demand, the rest is interest but more penalties could be added—could get resolved towards the end of theyear.The arbitration courtwill have its final hearing in August and a ruling could be out by October or November. No matter who wins, the stage is set for an end of one of the messier chapters—there are others,likeVodafonewhich is also in arbitration,but not as advanced as Cairn— in India’s tax history and relations with foreign investors. Should Cairn win, as most expect given the arbitrary nature of the demand, the question is what the government will do. Normally, it should pay up but so close to the election, it may not want to—keep in mind that, in the DoCoMo arbitration, even after the foreign award against the Tata Group, RBI argued in Indian courts against implementing the award. Life would be so much simpler, forboth the government as well as investors, if there was a robust dispute resolution process. There is a dispute settlement mechanism right now under the tax law, but it is very limited in scope.There is, for instance, no provision to settle on the basic fine—the current resolution allows for just reducing the penalties and interest.</span></div>\n",
      "<div><span style=\"font-size: 13.3333px;\"><br/>\n",
      "</span></div>\n",
      "<div><span style=\"font-size: 13.3333px;\">The current system doesn’t allow companies the option to appeal if the appeal doesn’t go theirway. If there was, however, a system that allowed a Cairn or a Vodafone to not admit guilt— Vodafone, in fact, won in the Supreme Court, after which the government brought in the retrospective amendment—and to negotiate a settlement, chances are the companies would go for it. In the Cairn case,when the taxman seized its shares thatwereworth $1 billion, it had to layoffworkers since it didn’t have the capital to invest in otherventures.The shares lost a substantial part of theirvalue once oil prices collapsed, andwhile some of this has been recouped with oil touching $70, the opportunity cost has been large. Since the company was always aware of India’s tortuous legal system, as it celebrates the fourth anniversary of its tax case, it may have preferred to settle for a few hundred million dollars. Hopefully, sooner rather than later, the finance minister will look into this. Given how large the unresolved tax demands are—^6.8 lakh crore in FY16 or equal to around 47% of total tax collections—this is a big source of potential revenue for the government, and closure for corporates. </span></div></span></div>\n",
      "</div>\n",
      "</div>\n",
      "</div>\n",
      "</td>\n",
      "</tr>\n",
      "</table>\n",
      "</div>\n",
      "</div>\n",
      "<input id=\"ctl00_ContentPlaceHolder1_btnPDF\" name=\"ctl00$ContentPlaceHolder1$btnPDF\" type=\"submit\" value=\"Export to PDF\"/>\n",
      "<input id=\"ctl00_ContentPlaceHolder1_btnDownload\" name=\"ctl00$ContentPlaceHolder1$btnDownload\" type=\"submit\" value=\"Download Image\"/>\n",
      "<br/>\n",
      "</div>\n",
      "<div id=\"ctl00_ContentPlaceHolder1_UpdateProgress1\" style=\"display:none;\">\n",
      "<div class=\"modal\">\n",
      "<div class=\"center\">\n",
      "<img align=\"middle\" border=\"0\" id=\"ctl00_ContentPlaceHolder1_imgProgress\" src=\"images/ajax-loader.gif\"/>\n",
      "</div>\n",
      "</div>\n",
      "</div>\n",
      "</div>\n",
      "</div>\n",
      "</div>\n",
      "</div>\n",
      "<!-- Main Content ends here-->\n",
      "<!-- Copyright starts here-->\n",
      "<div id=\"copyrightwrap\">\n",
      "<div id=\"copyright\">\r\n",
      "                    Copyright ©2014 <a href=\"#\">Media Tracking</a>.<br/>\n",
      "<a href=\"Index.aspx\">\n",
      "<img border=\"0\" id=\"ctl00_imgFooterLogo\" src=\"images/radar-logo.png\"/></a></div>\n",
      "</div>\n",
      "<!-- Copyright ends here-->\n",
      "</div>\n",
      "</div>\n",
      "<script type=\"text/javascript\">\r\n",
      "//<![CDATA[\r\n",
      "Sys.Application.add_init(function() {\r\n",
      "    $create(Sys.Extended.UI.ModalPopupBehavior, {\"BackgroundCssClass\":\"modalBackground\",\"CancelControlID\":\"ctl00_ContentPlaceHolder1_btnCancel\",\"PopupControlID\":\"ctl00_ContentPlaceHolder1_pnlDisplayImage\",\"dynamicServicePath\":\"/NewsDetailsPublished.aspx\",\"id\":\"ctl00_ContentPlaceHolder1_mdlpopupDisplayImage\"}, null, null, $get(\"ctl00_ContentPlaceHolder1_LinkButton1\"));\r\n",
      "});\r\n",
      "Sys.Application.add_init(function() {\r\n",
      "    $create(Sys.Extended.UI.TabPanel, {\"headerTab\":$get(\"__tab_ctl00_ContentPlaceHolder1_TabContainer1_TabPanel1\"),\"ownerID\":\"ctl00_ContentPlaceHolder1_TabContainer1\"}, null, {\"owner\":\"ctl00_ContentPlaceHolder1_TabContainer1\"}, $get(\"ctl00_ContentPlaceHolder1_TabContainer1_TabPanel1\"));\r\n",
      "});\r\n",
      "Sys.Application.add_init(function() {\r\n",
      "    $create(Sys.Extended.UI.TabPanel, {\"headerTab\":$get(\"__tab_ctl00_ContentPlaceHolder1_TabContainer1_TabPanel2\"),\"ownerID\":\"ctl00_ContentPlaceHolder1_TabContainer1\"}, null, {\"owner\":\"ctl00_ContentPlaceHolder1_TabContainer1\"}, $get(\"ctl00_ContentPlaceHolder1_TabContainer1_TabPanel2\"));\r\n",
      "});\r\n",
      "Sys.Application.add_init(function() {\r\n",
      "    $create(Sys.Extended.UI.TabContainer, {\"activeTabIndex\":1,\"autoPostBackId\":\"ctl00$ContentPlaceHolder1$TabContainer1\",\"clientStateField\":$get(\"ctl00_ContentPlaceHolder1_TabContainer1_ClientState\")}, null, null, $get(\"ctl00_ContentPlaceHolder1_TabContainer1\"));\r\n",
      "});\r\n",
      "//]]>\r\n",
      "</script>\n",
      "</form>\n",
      "</body>\n",
      "</html>\n",
      "\n"
     ]
    }
   ],
   "source": [
    "print(soup_mysite)"
   ]
  },
  {
   "cell_type": "code",
   "execution_count": 63,
   "id": "491ea654",
   "metadata": {},
   "outputs": [
    {
     "name": "stdout",
     "output_type": "stream",
     "text": [
      "\n",
      "\n",
      "\n",
      "\r\n",
      "\tCan't negotiate tax deals\r\n",
      "\n",
      "\n",
      "\n",
      "\n",
      "\n",
      "\n",
      "\n",
      "\n",
      "\n",
      "\n",
      "\n",
      "\n",
      "\n",
      "\n",
      "\n",
      "\n",
      "\n",
      "\n",
      "\n",
      "\n",
      "\n",
      "\n",
      "\n",
      "\n",
      "\n",
      "\n",
      "\n",
      "\n",
      "\n",
      "\n",
      "\n",
      "\n",
      "\n",
      "\n",
      "\n",
      "\n",
      "\n",
      "\n",
      "\n",
      "\n",
      "\n",
      "\n",
      "\n",
      "\n",
      "\n",
      "\n",
      "\n",
      "\n",
      "\n",
      "\n",
      "\n",
      "\n",
      "\n",
      "Home\n",
      "\n",
      "\n",
      "\n",
      "\n",
      "\n",
      "\n",
      "\n",
      "Welcome USER\n",
      "\n",
      "\n",
      "\n",
      "\n",
      "Logout\n",
      "Change Password\n",
      "\n",
      "\n",
      "\n",
      "\n",
      "\n",
      "\n",
      "\n",
      "\n",
      "\n",
      "\n",
      "\n",
      "\n",
      "\n",
      "\n",
      "\n",
      "\n",
      "\n",
      "\n",
      "\n",
      "\n",
      "\n",
      "\n",
      "\n",
      "\n",
      "\n",
      "\n",
      "\n",
      "\n",
      "\n",
      "Headline: \n",
      "Can't negotiate tax deals\n",
      "\n",
      "\n",
      "\n",
      "\n",
      "\n",
      "\n",
      "\n",
      "\n",
      "\n",
      "\n",
      "\n",
      "\n",
      "\n",
      "\n",
      "\n",
      "\n",
      "\n",
      "\n",
      "\n",
      "\n",
      "\n",
      "\n",
      "\n",
      "\n",
      "\n",
      "\n",
      "\n",
      "\n",
      "\n",
      "News Date\n",
      "\n",
      "\n",
      "15-01-2018\n",
      "\n",
      "\n",
      "Media Type\n",
      "\n",
      "\n",
      "Newspapers\n",
      "\n",
      "\n",
      "Publication Type\n",
      "\n",
      "\n",
      "English Business Newspaper\n",
      "\n",
      "\n",
      "\n",
      "\n",
      "Publication\n",
      "\n",
      "\n",
      "The Financial Express\n",
      "\n",
      "\n",
      "Language\n",
      "\n",
      "\n",
      "English\n",
      "\n",
      "\n",
      "Page No\n",
      "\n",
      "\n",
      " 6\n",
      "\n",
      "\n",
      "\n",
      "\n",
      "Height\n",
      "\n",
      "\n",
      " 15\n",
      "\n",
      "\n",
      "Cols\n",
      "\n",
      "\n",
      " 1\n",
      "\n",
      "\n",
      "\n",
      "\n",
      "Author\n",
      "\n",
      "\n",
      "Editorial\n",
      "\n",
      "\n",
      "\n",
      "\n",
      "Edition\n",
      "\n",
      "\n",
      " All\n",
      "\n",
      "\n",
      "\n",
      "\n",
      "\n",
      "\n",
      "\n",
      "\n",
      "\n",
      "\n",
      "\n",
      "\n",
      "\n",
      "\r\n",
      "                                                View Images\r\n",
      "                                            \r\n",
      "                                                View Text\r\n",
      "                                            \n",
      "\n",
      "\n",
      "\n",
      "\n",
      "\n",
      "\n",
      "Image\n",
      "\n",
      "\n",
      "\n",
      "\n",
      "pg-6\n",
      "\n",
      "\n",
      "\n",
      "\n",
      "\n",
      "\r\n",
      "                                                 \n",
      "\n",
      "\n",
      "That’s a critical lacunae in a nation that has so many disputes  \n",
      "\n",
      "\n",
      "IF ALL GOES to plan, the Cairn Energy Plc arbitration against the Indian tax authorities $4.4 billion tax demand—$1.6 billion of this was the original demand, the rest is interest but more penalties could be added—could get resolved towards the end of theyear.The arbitration courtwill have its final hearing in August and a ruling could be out by October or November. No matter who wins, the stage is set for an end of one of the messier chapters—there are others,likeVodafonewhich is also in arbitration,but not as advanced as Cairn— in India’s tax history and relations with foreign investors. Should Cairn win, as most expect given the arbitrary nature of the demand, the question is what the government will do. Normally, it should pay up but so close to the election, it may not want to—keep in mind that, in the DoCoMo arbitration, even after the foreign award against the Tata Group, RBI argued in Indian courts against implementing the award. Life would be so much simpler, forboth the government as well as investors, if there was a robust dispute resolution process. There is a dispute settlement mechanism right now under the tax law, but it is very limited in scope.There is, for instance, no provision to settle on the basic fine—the current resolution allows for just reducing the penalties and interest.\n",
      "\n",
      "\n",
      "The current system doesn’t allow companies the option to appeal if the appeal doesn’t go theirway. If there was, however, a system that allowed a Cairn or a Vodafone to not admit guilt— Vodafone, in fact, won in the Supreme Court, after which the government brought in the retrospective amendment—and to negotiate a settlement, chances are the companies would go for it. In the Cairn case,when the taxman seized its shares thatwereworth $1 billion, it had to layoffworkers since it didn’t have the capital to invest in otherventures.The shares lost a substantial part of theirvalue once oil prices collapsed, andwhile some of this has been recouped with oil touching $70, the opportunity cost has been large. Since the company was always aware of India’s tortuous legal system, as it celebrates the fourth anniversary of its tax case, it may have preferred to settle for a few hundred million dollars. Hopefully, sooner rather than later, the finance minister will look into this. Given how large the unresolved tax demands are—^6.8 lakh crore in FY16 or equal to around 47% of total tax collections—this is a big source of potential revenue for the government, and closure for corporates. \n",
      "\n",
      "\n",
      "\n",
      "\n",
      "\n",
      "\n",
      "\n",
      "\n",
      "\n",
      "\n",
      "\n",
      "\n",
      "\n",
      "\n",
      "\n",
      "\n",
      "\n",
      "\n",
      "\n",
      "\n",
      "\n",
      "\n",
      "\n",
      "\n",
      "\n",
      "\n",
      "\r\n",
      "                    Copyright ©2014 Media Tracking.\n",
      "\n",
      "\n",
      "\n",
      "\n",
      "\n",
      "\n",
      "\n",
      "\n",
      "\n",
      "\n",
      "\n"
     ]
    }
   ],
   "source": [
    "\n",
    "texts = soup.get_text()\n",
    "print(texts)"
   ]
  },
  {
   "cell_type": "code",
   "execution_count": 126,
   "id": "aeee3cbc",
   "metadata": {},
   "outputs": [
    {
     "ename": "IndexError",
     "evalue": "list index out of range",
     "output_type": "error",
     "traceback": [
      "\u001b[1;31m---------------------------------------------------------------------------\u001b[0m",
      "\u001b[1;31mIndexError\u001b[0m                                Traceback (most recent call last)",
      "\u001b[1;32m~\\AppData\\Local\\Temp/ipykernel_10740/2480570630.py\u001b[0m in \u001b[0;36m<module>\u001b[1;34m\u001b[0m\n\u001b[0;32m      2\u001b[0m \u001b[0msoup\u001b[0m \u001b[1;33m=\u001b[0m \u001b[0mBeautifulSoup\u001b[0m\u001b[1;33m(\u001b[0m\u001b[0mwebpage\u001b[0m\u001b[1;33m.\u001b[0m\u001b[0mcontent\u001b[0m\u001b[1;33m,\u001b[0m \u001b[1;34m\"html.parser\"\u001b[0m\u001b[1;33m)\u001b[0m\u001b[1;33m\u001b[0m\u001b[1;33m\u001b[0m\u001b[0m\n\u001b[0;32m      3\u001b[0m \u001b[0mdom\u001b[0m \u001b[1;33m=\u001b[0m \u001b[0metree\u001b[0m\u001b[1;33m.\u001b[0m\u001b[0mHTML\u001b[0m\u001b[1;33m(\u001b[0m\u001b[0mstr\u001b[0m\u001b[1;33m(\u001b[0m\u001b[0msoup\u001b[0m\u001b[1;33m)\u001b[0m\u001b[1;33m)\u001b[0m\u001b[1;33m\u001b[0m\u001b[1;33m\u001b[0m\u001b[0m\n\u001b[1;32m----> 4\u001b[1;33m \u001b[0mprint\u001b[0m\u001b[1;33m(\u001b[0m\u001b[0mdom\u001b[0m\u001b[1;33m.\u001b[0m\u001b[0mxpath\u001b[0m\u001b[1;33m(\u001b[0m\u001b[1;34m'//*[@id=\"ctl00_ContentPlaceHolder1_TabContainer1_TabPanel2_lblNews\"]/div[3]/span'\u001b[0m\u001b[1;33m)\u001b[0m\u001b[1;33m[\u001b[0m\u001b[1;36m0\u001b[0m\u001b[1;33m]\u001b[0m\u001b[1;33m.\u001b[0m\u001b[0mtext\u001b[0m\u001b[1;33m)\u001b[0m\u001b[1;33m\u001b[0m\u001b[1;33m\u001b[0m\u001b[0m\n\u001b[0m",
      "\u001b[1;31mIndexError\u001b[0m: list index out of range"
     ]
    }
   ],
   "source": [
    "webpage = requests.get(url)\n",
    "soup = BeautifulSoup(webpage.content, \"html.parser\")\n",
    "dom = etree.HTML(str(soup))\n",
    "print(dom.xpath('//*[@id=\"ctl00_ContentPlaceHolder1_TabContainer1_TabPanel2_lblNews\"]/div[3]/span')[0].text)"
   ]
  },
  {
   "cell_type": "code",
   "execution_count": 65,
   "id": "3ad98098",
   "metadata": {},
   "outputs": [],
   "source": [
    "from lxml import etree\n",
    "import requests"
   ]
  },
  {
   "cell_type": "code",
   "execution_count": 73,
   "id": "8d8463a6",
   "metadata": {},
   "outputs": [],
   "source": [
    "lfound=list(keywords_found)"
   ]
  },
  {
   "cell_type": "code",
   "execution_count": 85,
   "id": "5e4e1d41",
   "metadata": {},
   "outputs": [
    {
     "name": "stdout",
     "output_type": "stream",
     "text": [
      "good to go\n"
     ]
    }
   ],
   "source": [
    "if ((\"Cairn Energy\" or \"Cairn plc\" in lfound)) and (('arbitration' or 'retrospective tax' or 'retro tax')in lfound):\n",
    "    print(\"good to go\")"
   ]
  },
  {
   "cell_type": "code",
   "execution_count": 84,
   "id": "5549afd2",
   "metadata": {},
   "outputs": [],
   "source": [
    "lfound=['Cairn Energy','arbitration']"
   ]
  },
  {
   "cell_type": "code",
   "execution_count": 87,
   "id": "a06023da",
   "metadata": {},
   "outputs": [],
   "source": [
    "id_date=(dom.xpath('//*[@id=\"ctl00_ContentPlaceHolder1_lblNewsDate\"]')[0].text)"
   ]
  },
  {
   "cell_type": "code",
   "execution_count": 88,
   "id": "1ec632ee",
   "metadata": {},
   "outputs": [],
   "source": [
    "from datetime import datetime\n",
    "\n",
    "datetime_object = datetime.strptime(id_date, '%d-%m-%Y')"
   ]
  },
  {
   "cell_type": "code",
   "execution_count": 92,
   "id": "5681c260",
   "metadata": {},
   "outputs": [
    {
     "name": "stdout",
     "output_type": "stream",
     "text": [
      "2018-01-15\n"
     ]
    }
   ],
   "source": [
    "print(datetime.strftime(datetime.strptime(id_date, '%d-%m-%Y'), '%Y-%m-%d'))"
   ]
  },
  {
   "cell_type": "code",
   "execution_count": 93,
   "id": "830578e7",
   "metadata": {},
   "outputs": [
    {
     "data": {
      "text/plain": [
       "71"
      ]
     },
     "execution_count": 93,
     "metadata": {},
     "output_type": "execute_result"
    }
   ],
   "source": [
    "71 %100"
   ]
  },
  {
   "cell_type": "code",
   "execution_count": 94,
   "id": "f2ed7138",
   "metadata": {},
   "outputs": [
    {
     "data": {
      "text/plain": [
       "0"
      ]
     },
     "execution_count": 94,
     "metadata": {},
     "output_type": "execute_result"
    }
   ],
   "source": [
    "200%100"
   ]
  },
  {
   "cell_type": "code",
   "execution_count": 97,
   "id": "d336a6ba",
   "metadata": {},
   "outputs": [
    {
     "name": "stdout",
     "output_type": "stream",
     "text": [
      "0\n",
      "50\n",
      "100\n"
     ]
    }
   ],
   "source": [
    "for i in range (150):\n",
    "    if i%50==0:date, publication,author, headline, items\n",
    "        print(i)date, publication,author, headline, items"
   ]
  },
  {
   "cell_type": "code",
   "execution_count": 103,
   "id": "d60fe14f",
   "metadata": {},
   "outputs": [
    {
     "name": "stdout",
     "output_type": "stream",
     "text": [
      "created Cairn_table\n"
     ]
    }
   ],
   "source": [
    "#create db\n",
    "import sqlite3\n",
    "with sqlite3.connect('cairndb') as con:\n",
    "    cur=con.cursor()\n",
    "    table=\"\"\"CREATE TABLE \"cairn_table\" (\n",
    "                \"id\" INTEGER PRIMARY KEY AUTOINCREMENT, -- rowid\n",
    "                \"date\" TEXT,\n",
    "                \"publication\" TEXT,\n",
    "                \"author\" TEXT,\n",
    "                \"headline\" TEXT,\n",
    "                \"items\" TEXT                \n",
    "            )\n",
    "            \"\"\"\n",
    "    cur.execute(table)\n",
    "    print (\"created Cairn_table\") \n"
   ]
  },
  {
   "cell_type": "code",
   "execution_count": 105,
   "id": "3679e45d",
   "metadata": {
    "scrolled": true
   },
   "outputs": [
    {
     "ename": "BadZipFile",
     "evalue": "File is not a zip file",
     "output_type": "error",
     "traceback": [
      "\u001b[1;31m---------------------------------------------------------------------------\u001b[0m",
      "\u001b[1;31mBadZipFile\u001b[0m                                Traceback (most recent call last)",
      "\u001b[1;32m~\\AppData\\Local\\Temp/ipykernel_10740/441034769.py\u001b[0m in \u001b[0;36m<module>\u001b[1;34m\u001b[0m\n\u001b[0;32m      1\u001b[0m \u001b[1;32mimport\u001b[0m \u001b[0mopenpyxl\u001b[0m\u001b[1;33m\u001b[0m\u001b[1;33m\u001b[0m\u001b[0m\n\u001b[0;32m      2\u001b[0m \u001b[1;33m\u001b[0m\u001b[0m\n\u001b[1;32m----> 3\u001b[1;33m \u001b[0mwb\u001b[0m \u001b[1;33m=\u001b[0m \u001b[0mopenpyxl\u001b[0m\u001b[1;33m.\u001b[0m\u001b[0mload_workbook\u001b[0m\u001b[1;33m(\u001b[0m\u001b[1;34m'cairn18.xlsx'\u001b[0m\u001b[1;33m)\u001b[0m\u001b[1;33m\u001b[0m\u001b[1;33m\u001b[0m\u001b[0m\n\u001b[0m\u001b[0;32m      4\u001b[0m \u001b[0mws\u001b[0m \u001b[1;33m=\u001b[0m \u001b[0mwb\u001b[0m\u001b[1;33m[\u001b[0m\u001b[1;34m'Sheet1'\u001b[0m\u001b[1;33m]\u001b[0m\u001b[1;33m\u001b[0m\u001b[1;33m\u001b[0m\u001b[0m\n",
      "\u001b[1;32mc:\\python39\\lib\\site-packages\\openpyxl\\reader\\excel.py\u001b[0m in \u001b[0;36mload_workbook\u001b[1;34m(filename, read_only, keep_vba, data_only, keep_links)\u001b[0m\n\u001b[0;32m    313\u001b[0m \u001b[1;33m\u001b[0m\u001b[0m\n\u001b[0;32m    314\u001b[0m     \"\"\"\n\u001b[1;32m--> 315\u001b[1;33m     reader = ExcelReader(filename, read_only, keep_vba,\n\u001b[0m\u001b[0;32m    316\u001b[0m                         data_only, keep_links)\n\u001b[0;32m    317\u001b[0m     \u001b[0mreader\u001b[0m\u001b[1;33m.\u001b[0m\u001b[0mread\u001b[0m\u001b[1;33m(\u001b[0m\u001b[1;33m)\u001b[0m\u001b[1;33m\u001b[0m\u001b[1;33m\u001b[0m\u001b[0m\n",
      "\u001b[1;32mc:\\python39\\lib\\site-packages\\openpyxl\\reader\\excel.py\u001b[0m in \u001b[0;36m__init__\u001b[1;34m(self, fn, read_only, keep_vba, data_only, keep_links)\u001b[0m\n\u001b[0;32m    122\u001b[0m     def __init__(self,  fn, read_only=False, keep_vba=KEEP_VBA,\n\u001b[0;32m    123\u001b[0m                   data_only=False, keep_links=True):\n\u001b[1;32m--> 124\u001b[1;33m         \u001b[0mself\u001b[0m\u001b[1;33m.\u001b[0m\u001b[0marchive\u001b[0m \u001b[1;33m=\u001b[0m \u001b[0m_validate_archive\u001b[0m\u001b[1;33m(\u001b[0m\u001b[0mfn\u001b[0m\u001b[1;33m)\u001b[0m\u001b[1;33m\u001b[0m\u001b[1;33m\u001b[0m\u001b[0m\n\u001b[0m\u001b[0;32m    125\u001b[0m         \u001b[0mself\u001b[0m\u001b[1;33m.\u001b[0m\u001b[0mvalid_files\u001b[0m \u001b[1;33m=\u001b[0m \u001b[0mself\u001b[0m\u001b[1;33m.\u001b[0m\u001b[0marchive\u001b[0m\u001b[1;33m.\u001b[0m\u001b[0mnamelist\u001b[0m\u001b[1;33m(\u001b[0m\u001b[1;33m)\u001b[0m\u001b[1;33m\u001b[0m\u001b[1;33m\u001b[0m\u001b[0m\n\u001b[0;32m    126\u001b[0m         \u001b[0mself\u001b[0m\u001b[1;33m.\u001b[0m\u001b[0mread_only\u001b[0m \u001b[1;33m=\u001b[0m \u001b[0mread_only\u001b[0m\u001b[1;33m\u001b[0m\u001b[1;33m\u001b[0m\u001b[0m\n",
      "\u001b[1;32mc:\\python39\\lib\\site-packages\\openpyxl\\reader\\excel.py\u001b[0m in \u001b[0;36m_validate_archive\u001b[1;34m(filename)\u001b[0m\n\u001b[0;32m     94\u001b[0m             \u001b[1;32mraise\u001b[0m \u001b[0mInvalidFileException\u001b[0m\u001b[1;33m(\u001b[0m\u001b[0mmsg\u001b[0m\u001b[1;33m)\u001b[0m\u001b[1;33m\u001b[0m\u001b[1;33m\u001b[0m\u001b[0m\n\u001b[0;32m     95\u001b[0m \u001b[1;33m\u001b[0m\u001b[0m\n\u001b[1;32m---> 96\u001b[1;33m     \u001b[0marchive\u001b[0m \u001b[1;33m=\u001b[0m \u001b[0mZipFile\u001b[0m\u001b[1;33m(\u001b[0m\u001b[0mfilename\u001b[0m\u001b[1;33m,\u001b[0m \u001b[1;34m'r'\u001b[0m\u001b[1;33m)\u001b[0m\u001b[1;33m\u001b[0m\u001b[1;33m\u001b[0m\u001b[0m\n\u001b[0m\u001b[0;32m     97\u001b[0m     \u001b[1;32mreturn\u001b[0m \u001b[0marchive\u001b[0m\u001b[1;33m\u001b[0m\u001b[1;33m\u001b[0m\u001b[0m\n\u001b[0;32m     98\u001b[0m \u001b[1;33m\u001b[0m\u001b[0m\n",
      "\u001b[1;32mc:\\python39\\lib\\zipfile.py\u001b[0m in \u001b[0;36m__init__\u001b[1;34m(self, file, mode, compression, allowZip64, compresslevel, strict_timestamps)\u001b[0m\n\u001b[0;32m   1255\u001b[0m         \u001b[1;32mtry\u001b[0m\u001b[1;33m:\u001b[0m\u001b[1;33m\u001b[0m\u001b[1;33m\u001b[0m\u001b[0m\n\u001b[0;32m   1256\u001b[0m             \u001b[1;32mif\u001b[0m \u001b[0mmode\u001b[0m \u001b[1;33m==\u001b[0m \u001b[1;34m'r'\u001b[0m\u001b[1;33m:\u001b[0m\u001b[1;33m\u001b[0m\u001b[1;33m\u001b[0m\u001b[0m\n\u001b[1;32m-> 1257\u001b[1;33m                 \u001b[0mself\u001b[0m\u001b[1;33m.\u001b[0m\u001b[0m_RealGetContents\u001b[0m\u001b[1;33m(\u001b[0m\u001b[1;33m)\u001b[0m\u001b[1;33m\u001b[0m\u001b[1;33m\u001b[0m\u001b[0m\n\u001b[0m\u001b[0;32m   1258\u001b[0m             \u001b[1;32melif\u001b[0m \u001b[0mmode\u001b[0m \u001b[1;32min\u001b[0m \u001b[1;33m(\u001b[0m\u001b[1;34m'w'\u001b[0m\u001b[1;33m,\u001b[0m \u001b[1;34m'x'\u001b[0m\u001b[1;33m)\u001b[0m\u001b[1;33m:\u001b[0m\u001b[1;33m\u001b[0m\u001b[1;33m\u001b[0m\u001b[0m\n\u001b[0;32m   1259\u001b[0m                 \u001b[1;31m# set the modified flag so central directory gets written\u001b[0m\u001b[1;33m\u001b[0m\u001b[1;33m\u001b[0m\u001b[1;33m\u001b[0m\u001b[0m\n",
      "\u001b[1;32mc:\\python39\\lib\\zipfile.py\u001b[0m in \u001b[0;36m_RealGetContents\u001b[1;34m(self)\u001b[0m\n\u001b[0;32m   1322\u001b[0m             \u001b[1;32mraise\u001b[0m \u001b[0mBadZipFile\u001b[0m\u001b[1;33m(\u001b[0m\u001b[1;34m\"File is not a zip file\"\u001b[0m\u001b[1;33m)\u001b[0m\u001b[1;33m\u001b[0m\u001b[1;33m\u001b[0m\u001b[0m\n\u001b[0;32m   1323\u001b[0m         \u001b[1;32mif\u001b[0m \u001b[1;32mnot\u001b[0m \u001b[0mendrec\u001b[0m\u001b[1;33m:\u001b[0m\u001b[1;33m\u001b[0m\u001b[1;33m\u001b[0m\u001b[0m\n\u001b[1;32m-> 1324\u001b[1;33m             \u001b[1;32mraise\u001b[0m \u001b[0mBadZipFile\u001b[0m\u001b[1;33m(\u001b[0m\u001b[1;34m\"File is not a zip file\"\u001b[0m\u001b[1;33m)\u001b[0m\u001b[1;33m\u001b[0m\u001b[1;33m\u001b[0m\u001b[0m\n\u001b[0m\u001b[0;32m   1325\u001b[0m         \u001b[1;32mif\u001b[0m \u001b[0mself\u001b[0m\u001b[1;33m.\u001b[0m\u001b[0mdebug\u001b[0m \u001b[1;33m>\u001b[0m \u001b[1;36m1\u001b[0m\u001b[1;33m:\u001b[0m\u001b[1;33m\u001b[0m\u001b[1;33m\u001b[0m\u001b[0m\n\u001b[0;32m   1326\u001b[0m             \u001b[0mprint\u001b[0m\u001b[1;33m(\u001b[0m\u001b[0mendrec\u001b[0m\u001b[1;33m)\u001b[0m\u001b[1;33m\u001b[0m\u001b[1;33m\u001b[0m\u001b[0m\n",
      "\u001b[1;31mBadZipFile\u001b[0m: File is not a zip file"
     ]
    }
   ],
   "source": [
    "import openpyxl\n",
    "\n",
    "wb = openpyxl.load_workbook('cairn18.xlsx')\n",
    "ws = wb['Sheet1']"
   ]
  },
  {
   "cell_type": "code",
   "execution_count": 110,
   "id": "9087eabe",
   "metadata": {},
   "outputs": [
    {
     "name": "stdout",
     "output_type": "stream",
     "text": [
      "http://mtrack.merryspiders.com/NewsDetailsPublished.aspx?NewsId=e3E6Ggaq2uAX9SosCfBB7Q==&MediaType=\n",
      "http://mtrack.merryspiders.com/NewsDetailsPublished.aspx?NewsId=WconAoCxv9s/4aM/yEylew==&MediaType=\n",
      "http://mtrack.merryspiders.com/NewsDetailsPublished.aspx?NewsId=vOEmj0bXCxXhuhrMp6OgsQ==&MediaType=\n",
      "http://mtrack.merryspiders.com/NewsDetailsPublished.aspx?NewsId=pSKXEX8lrktzNH/LqcGzwQ==&MediaType=\n",
      "http://mtrack.merryspiders.com/NewsDetailsPublished.aspx?NewsId=V/pMS7IXBwgLdlc6L8SMVg==&MediaType=\n",
      "http://mtrack.merryspiders.com/NewsDetailsPublished.aspx?NewsId=R0D1TV6tTdpc3PofpEj+wQ==&MediaType=\n",
      "http://mtrack.merryspiders.com/NewsDetailsPublished.aspx?NewsId=RXxpTsBoJdGMHwYx38Bffg==&MediaType=\n",
      "http://mtrack.merryspiders.com/NewsDetailsPublished.aspx?NewsId=gyR7oOQHt6ZsNG69qLdr3A==&MediaType=\n",
      "http://mtrack.merryspiders.com/NewsDetailsPublished.aspx?NewsId=LL4TnLrpK34t5Zo2DiVMpA==&MediaType=\n",
      "http://mtrack.merryspiders.com/NewsDetailsPublished.aspx?NewsId=1U+HqaQF0jWHETO423d3Vw==&MediaType=\n"
     ]
    }
   ],
   "source": [
    "import xlrd\n",
    "ibook = xlrd.open_workbook(\"cairn18.xls\", formatting_info=True)\n",
    "isheet = ibook.sheet_by_index(0)\n",
    "for row in range(1, 11):\n",
    "    link = isheet.hyperlink_map.get((row, 1))\n",
    "    url = '(No URL)' if link is None else link.url_or_path\n",
    "    print(url)"
   ]
  },
  {
   "cell_type": "code",
   "execution_count": 111,
   "id": "28b98e96",
   "metadata": {},
   "outputs": [
    {
     "name": "stdout",
     "output_type": "stream",
     "text": [
      "689\n"
     ]
    }
   ],
   "source": [
    "print(isheet.nrows)"
   ]
  },
  {
   "cell_type": "code",
   "execution_count": 112,
   "id": "518b4d72",
   "metadata": {},
   "outputs": [
    {
     "name": "stdout",
     "output_type": "stream",
     "text": [
      "0\n",
      "1\n",
      "2\n",
      "3\n",
      "4\n",
      "5\n",
      "6\n",
      "7\n",
      "8\n",
      "9\n",
      "10\n",
      "11\n",
      "12\n",
      "13\n",
      "14\n",
      "15\n",
      "16\n",
      "17\n",
      "18\n",
      "19\n",
      "20\n",
      "21\n",
      "22\n",
      "23\n",
      "24\n",
      "25\n",
      "26\n",
      "27\n",
      "28\n",
      "29\n",
      "30\n",
      "31\n",
      "32\n",
      "33\n",
      "34\n",
      "35\n",
      "36\n",
      "37\n",
      "38\n",
      "39\n",
      "40\n",
      "41\n",
      "42\n",
      "43\n",
      "44\n",
      "45\n",
      "46\n",
      "47\n",
      "48\n",
      "49\n",
      "50\n",
      "51\n",
      "52\n",
      "53\n",
      "54\n",
      "55\n",
      "56\n",
      "57\n",
      "58\n",
      "59\n",
      "60\n",
      "61\n",
      "62\n",
      "63\n",
      "64\n",
      "65\n",
      "66\n",
      "67\n",
      "68\n",
      "69\n",
      "70\n",
      "71\n",
      "72\n",
      "73\n",
      "74\n",
      "75\n",
      "76\n",
      "77\n",
      "78\n",
      "79\n",
      "80\n",
      "81\n",
      "82\n",
      "83\n",
      "84\n",
      "85\n",
      "86\n",
      "87\n",
      "88\n",
      "89\n",
      "90\n",
      "91\n",
      "92\n",
      "93\n",
      "94\n",
      "95\n",
      "96\n",
      "97\n",
      "98\n",
      "99\n",
      "100\n",
      "101\n",
      "102\n",
      "103\n",
      "104\n",
      "105\n",
      "106\n",
      "107\n",
      "108\n",
      "109\n",
      "110\n",
      "111\n",
      "112\n",
      "113\n",
      "114\n",
      "115\n",
      "116\n",
      "117\n",
      "118\n",
      "119\n",
      "120\n",
      "121\n",
      "122\n",
      "123\n",
      "124\n",
      "125\n",
      "126\n",
      "127\n",
      "128\n",
      "129\n",
      "130\n",
      "131\n",
      "132\n",
      "133\n",
      "134\n",
      "135\n",
      "136\n",
      "137\n",
      "138\n",
      "139\n",
      "140\n",
      "141\n",
      "142\n",
      "143\n",
      "144\n",
      "145\n",
      "146\n",
      "147\n",
      "148\n",
      "149\n",
      "150\n",
      "151\n",
      "152\n",
      "153\n",
      "154\n",
      "155\n",
      "156\n",
      "157\n",
      "158\n",
      "159\n",
      "160\n",
      "161\n",
      "162\n",
      "163\n",
      "164\n",
      "165\n",
      "166\n",
      "167\n",
      "168\n",
      "169\n",
      "170\n",
      "171\n",
      "172\n",
      "173\n",
      "174\n",
      "175\n",
      "176\n",
      "177\n",
      "178\n",
      "179\n",
      "180\n",
      "181\n",
      "182\n",
      "183\n",
      "184\n",
      "185\n",
      "186\n",
      "187\n",
      "188\n",
      "189\n",
      "190\n",
      "191\n",
      "192\n",
      "193\n",
      "194\n",
      "195\n",
      "196\n",
      "197\n",
      "198\n",
      "199\n",
      "200\n",
      "201\n",
      "202\n",
      "203\n",
      "204\n",
      "205\n",
      "206\n",
      "207\n",
      "208\n",
      "209\n",
      "210\n",
      "211\n",
      "212\n",
      "213\n",
      "214\n",
      "215\n",
      "216\n",
      "217\n",
      "218\n",
      "219\n",
      "220\n",
      "221\n",
      "222\n",
      "223\n",
      "224\n",
      "225\n",
      "226\n",
      "227\n",
      "228\n",
      "229\n",
      "230\n",
      "231\n",
      "232\n",
      "233\n",
      "234\n",
      "235\n",
      "236\n",
      "237\n",
      "238\n",
      "239\n",
      "240\n",
      "241\n",
      "242\n",
      "243\n",
      "244\n",
      "245\n",
      "246\n",
      "247\n",
      "248\n",
      "249\n",
      "250\n",
      "251\n",
      "252\n",
      "253\n",
      "254\n",
      "255\n",
      "256\n",
      "257\n",
      "258\n",
      "259\n",
      "260\n",
      "261\n",
      "262\n",
      "263\n",
      "264\n",
      "265\n",
      "266\n",
      "267\n",
      "268\n",
      "269\n",
      "270\n",
      "271\n",
      "272\n",
      "273\n",
      "274\n",
      "275\n",
      "276\n",
      "277\n",
      "278\n",
      "279\n",
      "280\n",
      "281\n",
      "282\n",
      "283\n",
      "284\n",
      "285\n",
      "286\n",
      "287\n",
      "288\n",
      "289\n",
      "290\n",
      "291\n",
      "292\n",
      "293\n",
      "294\n",
      "295\n",
      "296\n",
      "297\n",
      "298\n",
      "299\n",
      "300\n",
      "301\n",
      "302\n",
      "303\n",
      "304\n",
      "305\n",
      "306\n",
      "307\n",
      "308\n",
      "309\n",
      "310\n",
      "311\n",
      "312\n",
      "313\n",
      "314\n",
      "315\n",
      "316\n",
      "317\n",
      "318\n",
      "319\n",
      "320\n",
      "321\n",
      "322\n",
      "323\n",
      "324\n",
      "325\n",
      "326\n",
      "327\n",
      "328\n",
      "329\n",
      "330\n",
      "331\n",
      "332\n",
      "333\n",
      "334\n",
      "335\n",
      "336\n",
      "337\n",
      "338\n",
      "339\n",
      "340\n",
      "341\n",
      "342\n",
      "343\n",
      "344\n",
      "345\n",
      "346\n",
      "347\n",
      "348\n",
      "349\n",
      "350\n",
      "351\n",
      "352\n",
      "353\n",
      "354\n",
      "355\n",
      "356\n",
      "357\n",
      "358\n",
      "359\n",
      "360\n",
      "361\n",
      "362\n",
      "363\n",
      "364\n",
      "365\n",
      "366\n",
      "367\n",
      "368\n",
      "369\n",
      "370\n",
      "371\n",
      "372\n",
      "373\n",
      "374\n",
      "375\n",
      "376\n",
      "377\n",
      "378\n",
      "379\n",
      "380\n",
      "381\n",
      "382\n",
      "383\n",
      "384\n",
      "385\n",
      "386\n",
      "387\n",
      "388\n",
      "389\n",
      "390\n",
      "391\n",
      "392\n",
      "393\n",
      "394\n",
      "395\n",
      "396\n",
      "397\n",
      "398\n",
      "399\n",
      "400\n",
      "401\n",
      "402\n",
      "403\n",
      "404\n",
      "405\n",
      "406\n",
      "407\n",
      "408\n",
      "409\n",
      "410\n",
      "411\n",
      "412\n",
      "413\n",
      "414\n",
      "415\n",
      "416\n",
      "417\n",
      "418\n",
      "419\n",
      "420\n",
      "421\n",
      "422\n",
      "423\n",
      "424\n",
      "425\n",
      "426\n",
      "427\n",
      "428\n",
      "429\n",
      "430\n",
      "431\n",
      "432\n",
      "433\n",
      "434\n",
      "435\n",
      "436\n",
      "437\n",
      "438\n",
      "439\n",
      "440\n",
      "441\n",
      "442\n",
      "443\n",
      "444\n",
      "445\n",
      "446\n",
      "447\n",
      "448\n",
      "449\n",
      "450\n",
      "451\n",
      "452\n",
      "453\n",
      "454\n",
      "455\n",
      "456\n",
      "457\n",
      "458\n",
      "459\n",
      "460\n",
      "461\n",
      "462\n",
      "463\n",
      "464\n",
      "465\n",
      "466\n",
      "467\n",
      "468\n",
      "469\n",
      "470\n",
      "471\n",
      "472\n",
      "473\n",
      "474\n",
      "475\n",
      "476\n",
      "477\n",
      "478\n",
      "479\n",
      "480\n",
      "481\n",
      "482\n",
      "483\n",
      "484\n",
      "485\n",
      "486\n",
      "487\n",
      "488\n",
      "489\n",
      "490\n",
      "491\n",
      "492\n",
      "493\n",
      "494\n",
      "495\n",
      "496\n",
      "497\n",
      "498\n",
      "499\n",
      "500\n",
      "501\n",
      "502\n",
      "503\n",
      "504\n",
      "505\n",
      "506\n",
      "507\n",
      "508\n",
      "509\n",
      "510\n",
      "511\n",
      "512\n",
      "513\n",
      "514\n",
      "515\n",
      "516\n",
      "517\n",
      "518\n",
      "519\n",
      "520\n",
      "521\n",
      "522\n",
      "523\n",
      "524\n",
      "525\n",
      "526\n",
      "527\n",
      "528\n",
      "529\n",
      "530\n",
      "531\n",
      "532\n",
      "533\n",
      "534\n",
      "535\n",
      "536\n",
      "537\n",
      "538\n",
      "539\n",
      "540\n",
      "541\n",
      "542\n",
      "543\n",
      "544\n",
      "545\n",
      "546\n",
      "547\n",
      "548\n",
      "549\n",
      "550\n",
      "551\n",
      "552\n",
      "553\n",
      "554\n",
      "555\n",
      "556\n",
      "557\n",
      "558\n",
      "559\n",
      "560\n",
      "561\n",
      "562\n",
      "563\n",
      "564\n",
      "565\n",
      "566\n",
      "567\n",
      "568\n",
      "569\n",
      "570\n",
      "571\n",
      "572\n",
      "573\n",
      "574\n",
      "575\n",
      "576\n",
      "577\n",
      "578\n",
      "579\n",
      "580\n",
      "581\n",
      "582\n",
      "583\n",
      "584\n",
      "585\n",
      "586\n",
      "587\n",
      "588\n",
      "589\n",
      "590\n",
      "591\n",
      "592\n",
      "593\n",
      "594\n",
      "595\n",
      "596\n",
      "597\n",
      "598\n",
      "599\n",
      "600\n",
      "601\n",
      "602\n",
      "603\n",
      "604\n",
      "605\n",
      "606\n",
      "607\n",
      "608\n",
      "609\n",
      "610\n",
      "611\n",
      "612\n",
      "613\n",
      "614\n",
      "615\n",
      "616\n",
      "617\n",
      "618\n",
      "619\n",
      "620\n",
      "621\n",
      "622\n",
      "623\n",
      "624\n",
      "625\n",
      "626\n",
      "627\n",
      "628\n",
      "629\n",
      "630\n",
      "631\n",
      "632\n",
      "633\n",
      "634\n",
      "635\n",
      "636\n",
      "637\n",
      "638\n",
      "639\n",
      "640\n",
      "641\n",
      "642\n",
      "643\n",
      "644\n",
      "645\n",
      "646\n",
      "647\n",
      "648\n",
      "649\n",
      "650\n",
      "651\n",
      "652\n",
      "653\n",
      "654\n",
      "655\n",
      "656\n",
      "657\n",
      "658\n",
      "659\n",
      "660\n",
      "661\n",
      "662\n",
      "663\n",
      "664\n",
      "665\n",
      "666\n",
      "667\n",
      "668\n",
      "669\n",
      "670\n",
      "671\n",
      "672\n",
      "673\n",
      "674\n",
      "675\n",
      "676\n",
      "677\n",
      "678\n",
      "679\n",
      "680\n",
      "681\n",
      "682\n",
      "683\n",
      "684\n",
      "685\n",
      "686\n",
      "687\n",
      "688\n"
     ]
    }
   ],
   "source": [
    "for row in range(isheet.nrows):\n",
    "    print (row)"
   ]
  },
  {
   "cell_type": "code",
   "execution_count": 113,
   "id": "30f61e8b",
   "metadata": {},
   "outputs": [
    {
     "data": {
      "text/plain": [
       "'http://mtrack.merryspiders.com/NewsDetailsPublished.aspx?NewsId=1U+HqaQF0jWHETO423d3Vw==&MediaType='"
      ]
     },
     "execution_count": 113,
     "metadata": {},
     "output_type": "execute_result"
    }
   ],
   "source": [
    "url"
   ]
  },
  {
   "cell_type": "code",
   "execution_count": 118,
   "id": "85644143",
   "metadata": {},
   "outputs": [
    {
     "name": "stdout",
     "output_type": "stream",
     "text": [
      "https://mtrack.merryspiders.com/NewsDetailsPublished.aspx?NewsId=1U+HqaQF0jWHETO423d3Vw==&MediaType=\n"
     ]
    }
   ],
   "source": [
    "urlr='https'+url.lstrip('http')\n",
    "print(urlr)"
   ]
  },
  {
   "cell_type": "code",
   "execution_count": 120,
   "id": "b5c6ab38",
   "metadata": {},
   "outputs": [
    {
     "name": "stdout",
     "output_type": "stream",
     "text": [
      "http://mtrack.merryspiders.com/NewsDetailsPublished.aspx?NewsId=e3E6Ggaq2uAX9SosCfBB7Q==&MediaType=\n",
      "http://mtrack.merryspiders.com/NewsDetailsPublished.aspx?NewsId=WconAoCxv9s/4aM/yEylew==&MediaType=\n",
      "http://mtrack.merryspiders.com/NewsDetailsPublished.aspx?NewsId=vOEmj0bXCxXhuhrMp6OgsQ==&MediaType=\n",
      "http://mtrack.merryspiders.com/NewsDetailsPublished.aspx?NewsId=pSKXEX8lrktzNH/LqcGzwQ==&MediaType=\n",
      "http://mtrack.merryspiders.com/NewsDetailsPublished.aspx?NewsId=V/pMS7IXBwgLdlc6L8SMVg==&MediaType=\n",
      "http://mtrack.merryspiders.com/NewsDetailsPublished.aspx?NewsId=R0D1TV6tTdpc3PofpEj+wQ==&MediaType=\n",
      "http://mtrack.merryspiders.com/NewsDetailsPublished.aspx?NewsId=RXxpTsBoJdGMHwYx38Bffg==&MediaType=\n",
      "http://mtrack.merryspiders.com/NewsDetailsPublished.aspx?NewsId=gyR7oOQHt6ZsNG69qLdr3A==&MediaType=\n",
      "http://mtrack.merryspiders.com/NewsDetailsPublished.aspx?NewsId=LL4TnLrpK34t5Zo2DiVMpA==&MediaType=\n"
     ]
    }
   ],
   "source": [
    "ibook = xlrd.open_workbook(\"cairn18.xls\", formatting_info=True)\n",
    "isheet = ibook.sheet_by_index(0)\n",
    "for row in range(1,10):\n",
    "    link = isheet.hyperlink_map.get((row, 1))\n",
    "    url = '(No URL)' if link is None else link.url_or_path\n",
    "    print(url)"
   ]
  },
  {
   "cell_type": "code",
   "execution_count": 13,
   "id": "53908213",
   "metadata": {},
   "outputs": [
    {
     "ename": "IndexError",
     "evalue": "list index out of range",
     "output_type": "error",
     "traceback": [
      "\u001b[1;31m---------------------------------------------------------------------------\u001b[0m",
      "\u001b[1;31mIndexError\u001b[0m                                Traceback (most recent call last)",
      "\u001b[1;32m~\\AppData\\Local\\Temp/ipykernel_9828/3195831208.py\u001b[0m in \u001b[0;36m<module>\u001b[1;34m\u001b[0m\n\u001b[0;32m      2\u001b[0m \u001b[0msoup\u001b[0m \u001b[1;33m=\u001b[0m \u001b[0mBeautifulSoup\u001b[0m\u001b[1;33m(\u001b[0m\u001b[0mwebpage\u001b[0m\u001b[1;33m.\u001b[0m\u001b[0mcontent\u001b[0m\u001b[1;33m,\u001b[0m \u001b[1;34m\"html.parser\"\u001b[0m\u001b[1;33m)\u001b[0m\u001b[1;33m\u001b[0m\u001b[1;33m\u001b[0m\u001b[0m\n\u001b[0;32m      3\u001b[0m \u001b[0mdom\u001b[0m \u001b[1;33m=\u001b[0m \u001b[0metree\u001b[0m\u001b[1;33m.\u001b[0m\u001b[0mHTML\u001b[0m\u001b[1;33m(\u001b[0m\u001b[0mstr\u001b[0m\u001b[1;33m(\u001b[0m\u001b[0msoup\u001b[0m\u001b[1;33m)\u001b[0m\u001b[1;33m)\u001b[0m\u001b[1;33m\u001b[0m\u001b[1;33m\u001b[0m\u001b[0m\n\u001b[1;32m----> 4\u001b[1;33m \u001b[0mtext\u001b[0m\u001b[1;33m=\u001b[0m\u001b[1;33m(\u001b[0m\u001b[0mdom\u001b[0m\u001b[1;33m.\u001b[0m\u001b[0mxpath\u001b[0m\u001b[1;33m(\u001b[0m\u001b[1;34m'//*[@id=\"ctl00_ContentPlaceHolder1_TabContainer1_TabPanel2_lblNews\"]/div[3]/span'\u001b[0m\u001b[1;33m)\u001b[0m\u001b[1;33m[\u001b[0m\u001b[1;36m0\u001b[0m\u001b[1;33m]\u001b[0m\u001b[1;33m.\u001b[0m\u001b[0mtext\u001b[0m\u001b[1;33m)\u001b[0m\u001b[1;33m\u001b[0m\u001b[1;33m\u001b[0m\u001b[0m\n\u001b[0m",
      "\u001b[1;31mIndexError\u001b[0m: list index out of range"
     ]
    }
   ],
   "source": [
    "webpage = requests.get(url)\n",
    "soup = BeautifulSoup(webpage.content, \"html.parser\")\n",
    "dom = etree.HTML(str(soup))\n",
    "text=(dom.xpath('//*[@id=\"ctl00_ContentPlaceHolder1_TabContainer1_TabPanel2_lblNews\"]/div[3]/span')[0].text)"
   ]
  },
  {
   "cell_type": "code",
   "execution_count": 123,
   "id": "5abe09b5",
   "metadata": {},
   "outputs": [
    {
     "ename": "IndexError",
     "evalue": "list index out of range",
     "output_type": "error",
     "traceback": [
      "\u001b[1;31m---------------------------------------------------------------------------\u001b[0m",
      "\u001b[1;31mIndexError\u001b[0m                                Traceback (most recent call last)",
      "\u001b[1;32m~\\AppData\\Local\\Temp/ipykernel_10740/2895672836.py\u001b[0m in \u001b[0;36m<module>\u001b[1;34m\u001b[0m\n\u001b[1;32m----> 1\u001b[1;33m \u001b[0mtext\u001b[0m\u001b[1;33m=\u001b[0m\u001b[0mdom\u001b[0m\u001b[1;33m.\u001b[0m\u001b[0mxpath\u001b[0m\u001b[1;33m(\u001b[0m\u001b[1;34m'//*[@id=\"ctl00_ContentPlaceHolder1_TabContainer1_TabPanel2_lblNews\"]/div[3]/span'\u001b[0m\u001b[1;33m)\u001b[0m\u001b[1;33m[\u001b[0m\u001b[1;36m0\u001b[0m\u001b[1;33m]\u001b[0m\u001b[1;33m.\u001b[0m\u001b[0mtext\u001b[0m\u001b[1;33m\u001b[0m\u001b[1;33m\u001b[0m\u001b[0m\n\u001b[0m\u001b[0;32m      2\u001b[0m \u001b[0mprint\u001b[0m\u001b[1;33m(\u001b[0m\u001b[0mtext\u001b[0m\u001b[1;33m)\u001b[0m\u001b[1;33m\u001b[0m\u001b[1;33m\u001b[0m\u001b[0m\n",
      "\u001b[1;31mIndexError\u001b[0m: list index out of range"
     ]
    }
   ],
   "source": [
    "text=dom.xpath('//*[@id=\"ctl00_ContentPlaceHolder1_TabContainer1_TabPanel2_lblNews\"]/div[3]/span')[0].text\n",
    "print(text)\n"
   ]
  },
  {
   "cell_type": "code",
   "execution_count": 124,
   "id": "668c5e40",
   "metadata": {},
   "outputs": [
    {
     "ename": "IndexError",
     "evalue": "list index out of range",
     "output_type": "error",
     "traceback": [
      "\u001b[1;31m---------------------------------------------------------------------------\u001b[0m",
      "\u001b[1;31mIndexError\u001b[0m                                Traceback (most recent call last)",
      "\u001b[1;32m~\\AppData\\Local\\Temp/ipykernel_10740/631875430.py\u001b[0m in \u001b[0;36m<module>\u001b[1;34m\u001b[0m\n\u001b[1;32m----> 1\u001b[1;33m \u001b[0mprint\u001b[0m\u001b[1;33m(\u001b[0m\u001b[0mdom\u001b[0m\u001b[1;33m.\u001b[0m\u001b[0mxpath\u001b[0m\u001b[1;33m(\u001b[0m\u001b[1;34m'//*[@id=\"ctl00_ContentPlaceHolder1_TabContainer1_TabPanel2_lblNews\"]/div[3]/span'\u001b[0m\u001b[1;33m)\u001b[0m\u001b[1;33m[\u001b[0m\u001b[1;36m0\u001b[0m\u001b[1;33m]\u001b[0m\u001b[1;33m.\u001b[0m\u001b[0mtext\u001b[0m\u001b[1;33m)\u001b[0m\u001b[1;33m\u001b[0m\u001b[1;33m\u001b[0m\u001b[0m\n\u001b[0m",
      "\u001b[1;31mIndexError\u001b[0m: list index out of range"
     ]
    }
   ],
   "source": [
    "print(dom.xpath('//*[@id=\"ctl00_ContentPlaceHolder1_TabContainer1_TabPanel2_lblNews\"]/div[3]/span')[0].text)"
   ]
  },
  {
   "cell_type": "code",
   "execution_count": 127,
   "id": "e7624f14",
   "metadata": {},
   "outputs": [
    {
     "data": {
      "text/plain": [
       "'http://mtrack.merryspiders.com/NewsDetailsPublished.aspx?NewsId=LL4TnLrpK34t5Zo2DiVMpA==&MediaType='"
      ]
     },
     "execution_count": 127,
     "metadata": {},
     "output_type": "execute_result"
    }
   ],
   "source": [
    "url"
   ]
  },
  {
   "cell_type": "code",
   "execution_count": 1,
   "id": "67f5b2b9",
   "metadata": {},
   "outputs": [
    {
     "ename": "ConnectionError",
     "evalue": "HTTPSConnectionPool(host='mtrack.merryspiders.com', port=443): Max retries exceeded with url: /NewsDetailsPublished.aspx?NewsId=LL4TnLrpK34t5Zo2DiVMpA==&MediaType= (Caused by NewConnectionError('<urllib3.connection.HTTPSConnection object at 0x000001E15CACD550>: Failed to establish a new connection: [WinError 10061] No connection could be made because the target machine actively refused it'))",
     "output_type": "error",
     "traceback": [
      "\u001b[1;31m---------------------------------------------------------------------------\u001b[0m",
      "\u001b[1;31mConnectionRefusedError\u001b[0m                    Traceback (most recent call last)",
      "\u001b[1;32mc:\\python39\\lib\\site-packages\\urllib3\\connection.py\u001b[0m in \u001b[0;36m_new_conn\u001b[1;34m(self)\u001b[0m\n\u001b[0;32m    173\u001b[0m         \u001b[1;32mtry\u001b[0m\u001b[1;33m:\u001b[0m\u001b[1;33m\u001b[0m\u001b[1;33m\u001b[0m\u001b[0m\n\u001b[1;32m--> 174\u001b[1;33m             conn = connection.create_connection(\n\u001b[0m\u001b[0;32m    175\u001b[0m                 \u001b[1;33m(\u001b[0m\u001b[0mself\u001b[0m\u001b[1;33m.\u001b[0m\u001b[0m_dns_host\u001b[0m\u001b[1;33m,\u001b[0m \u001b[0mself\u001b[0m\u001b[1;33m.\u001b[0m\u001b[0mport\u001b[0m\u001b[1;33m)\u001b[0m\u001b[1;33m,\u001b[0m \u001b[0mself\u001b[0m\u001b[1;33m.\u001b[0m\u001b[0mtimeout\u001b[0m\u001b[1;33m,\u001b[0m \u001b[1;33m**\u001b[0m\u001b[0mextra_kw\u001b[0m\u001b[1;33m\u001b[0m\u001b[1;33m\u001b[0m\u001b[0m\n",
      "\u001b[1;32mc:\\python39\\lib\\site-packages\\urllib3\\util\\connection.py\u001b[0m in \u001b[0;36mcreate_connection\u001b[1;34m(address, timeout, source_address, socket_options)\u001b[0m\n\u001b[0;32m     95\u001b[0m     \u001b[1;32mif\u001b[0m \u001b[0merr\u001b[0m \u001b[1;32mis\u001b[0m \u001b[1;32mnot\u001b[0m \u001b[1;32mNone\u001b[0m\u001b[1;33m:\u001b[0m\u001b[1;33m\u001b[0m\u001b[1;33m\u001b[0m\u001b[0m\n\u001b[1;32m---> 96\u001b[1;33m         \u001b[1;32mraise\u001b[0m \u001b[0merr\u001b[0m\u001b[1;33m\u001b[0m\u001b[1;33m\u001b[0m\u001b[0m\n\u001b[0m\u001b[0;32m     97\u001b[0m \u001b[1;33m\u001b[0m\u001b[0m\n",
      "\u001b[1;32mc:\\python39\\lib\\site-packages\\urllib3\\util\\connection.py\u001b[0m in \u001b[0;36mcreate_connection\u001b[1;34m(address, timeout, source_address, socket_options)\u001b[0m\n\u001b[0;32m     85\u001b[0m                 \u001b[0msock\u001b[0m\u001b[1;33m.\u001b[0m\u001b[0mbind\u001b[0m\u001b[1;33m(\u001b[0m\u001b[0msource_address\u001b[0m\u001b[1;33m)\u001b[0m\u001b[1;33m\u001b[0m\u001b[1;33m\u001b[0m\u001b[0m\n\u001b[1;32m---> 86\u001b[1;33m             \u001b[0msock\u001b[0m\u001b[1;33m.\u001b[0m\u001b[0mconnect\u001b[0m\u001b[1;33m(\u001b[0m\u001b[0msa\u001b[0m\u001b[1;33m)\u001b[0m\u001b[1;33m\u001b[0m\u001b[1;33m\u001b[0m\u001b[0m\n\u001b[0m\u001b[0;32m     87\u001b[0m             \u001b[1;32mreturn\u001b[0m \u001b[0msock\u001b[0m\u001b[1;33m\u001b[0m\u001b[1;33m\u001b[0m\u001b[0m\n",
      "\u001b[1;31mConnectionRefusedError\u001b[0m: [WinError 10061] No connection could be made because the target machine actively refused it",
      "\nDuring handling of the above exception, another exception occurred:\n",
      "\u001b[1;31mNewConnectionError\u001b[0m                        Traceback (most recent call last)",
      "\u001b[1;32mc:\\python39\\lib\\site-packages\\urllib3\\connectionpool.py\u001b[0m in \u001b[0;36murlopen\u001b[1;34m(self, method, url, body, headers, retries, redirect, assert_same_host, timeout, pool_timeout, release_conn, chunked, body_pos, **response_kw)\u001b[0m\n\u001b[0;32m    698\u001b[0m             \u001b[1;31m# Make the request on the httplib connection object.\u001b[0m\u001b[1;33m\u001b[0m\u001b[1;33m\u001b[0m\u001b[1;33m\u001b[0m\u001b[0m\n\u001b[1;32m--> 699\u001b[1;33m             httplib_response = self._make_request(\n\u001b[0m\u001b[0;32m    700\u001b[0m                 \u001b[0mconn\u001b[0m\u001b[1;33m,\u001b[0m\u001b[1;33m\u001b[0m\u001b[1;33m\u001b[0m\u001b[0m\n",
      "\u001b[1;32mc:\\python39\\lib\\site-packages\\urllib3\\connectionpool.py\u001b[0m in \u001b[0;36m_make_request\u001b[1;34m(self, conn, method, url, timeout, chunked, **httplib_request_kw)\u001b[0m\n\u001b[0;32m    381\u001b[0m         \u001b[1;32mtry\u001b[0m\u001b[1;33m:\u001b[0m\u001b[1;33m\u001b[0m\u001b[1;33m\u001b[0m\u001b[0m\n\u001b[1;32m--> 382\u001b[1;33m             \u001b[0mself\u001b[0m\u001b[1;33m.\u001b[0m\u001b[0m_validate_conn\u001b[0m\u001b[1;33m(\u001b[0m\u001b[0mconn\u001b[0m\u001b[1;33m)\u001b[0m\u001b[1;33m\u001b[0m\u001b[1;33m\u001b[0m\u001b[0m\n\u001b[0m\u001b[0;32m    383\u001b[0m         \u001b[1;32mexcept\u001b[0m \u001b[1;33m(\u001b[0m\u001b[0mSocketTimeout\u001b[0m\u001b[1;33m,\u001b[0m \u001b[0mBaseSSLError\u001b[0m\u001b[1;33m)\u001b[0m \u001b[1;32mas\u001b[0m \u001b[0me\u001b[0m\u001b[1;33m:\u001b[0m\u001b[1;33m\u001b[0m\u001b[1;33m\u001b[0m\u001b[0m\n",
      "\u001b[1;32mc:\\python39\\lib\\site-packages\\urllib3\\connectionpool.py\u001b[0m in \u001b[0;36m_validate_conn\u001b[1;34m(self, conn)\u001b[0m\n\u001b[0;32m   1009\u001b[0m         \u001b[1;32mif\u001b[0m \u001b[1;32mnot\u001b[0m \u001b[0mgetattr\u001b[0m\u001b[1;33m(\u001b[0m\u001b[0mconn\u001b[0m\u001b[1;33m,\u001b[0m \u001b[1;34m\"sock\"\u001b[0m\u001b[1;33m,\u001b[0m \u001b[1;32mNone\u001b[0m\u001b[1;33m)\u001b[0m\u001b[1;33m:\u001b[0m  \u001b[1;31m# AppEngine might not have  `.sock`\u001b[0m\u001b[1;33m\u001b[0m\u001b[1;33m\u001b[0m\u001b[0m\n\u001b[1;32m-> 1010\u001b[1;33m             \u001b[0mconn\u001b[0m\u001b[1;33m.\u001b[0m\u001b[0mconnect\u001b[0m\u001b[1;33m(\u001b[0m\u001b[1;33m)\u001b[0m\u001b[1;33m\u001b[0m\u001b[1;33m\u001b[0m\u001b[0m\n\u001b[0m\u001b[0;32m   1011\u001b[0m \u001b[1;33m\u001b[0m\u001b[0m\n",
      "\u001b[1;32mc:\\python39\\lib\\site-packages\\urllib3\\connection.py\u001b[0m in \u001b[0;36mconnect\u001b[1;34m(self)\u001b[0m\n\u001b[0;32m    357\u001b[0m         \u001b[1;31m# Add certificate verification\u001b[0m\u001b[1;33m\u001b[0m\u001b[1;33m\u001b[0m\u001b[1;33m\u001b[0m\u001b[0m\n\u001b[1;32m--> 358\u001b[1;33m         \u001b[0mconn\u001b[0m \u001b[1;33m=\u001b[0m \u001b[0mself\u001b[0m\u001b[1;33m.\u001b[0m\u001b[0m_new_conn\u001b[0m\u001b[1;33m(\u001b[0m\u001b[1;33m)\u001b[0m\u001b[1;33m\u001b[0m\u001b[1;33m\u001b[0m\u001b[0m\n\u001b[0m\u001b[0;32m    359\u001b[0m         \u001b[0mhostname\u001b[0m \u001b[1;33m=\u001b[0m \u001b[0mself\u001b[0m\u001b[1;33m.\u001b[0m\u001b[0mhost\u001b[0m\u001b[1;33m\u001b[0m\u001b[1;33m\u001b[0m\u001b[0m\n",
      "\u001b[1;32mc:\\python39\\lib\\site-packages\\urllib3\\connection.py\u001b[0m in \u001b[0;36m_new_conn\u001b[1;34m(self)\u001b[0m\n\u001b[0;32m    185\u001b[0m         \u001b[1;32mexcept\u001b[0m \u001b[0mSocketError\u001b[0m \u001b[1;32mas\u001b[0m \u001b[0me\u001b[0m\u001b[1;33m:\u001b[0m\u001b[1;33m\u001b[0m\u001b[1;33m\u001b[0m\u001b[0m\n\u001b[1;32m--> 186\u001b[1;33m             raise NewConnectionError(\n\u001b[0m\u001b[0;32m    187\u001b[0m                 \u001b[0mself\u001b[0m\u001b[1;33m,\u001b[0m \u001b[1;34m\"Failed to establish a new connection: %s\"\u001b[0m \u001b[1;33m%\u001b[0m \u001b[0me\u001b[0m\u001b[1;33m\u001b[0m\u001b[1;33m\u001b[0m\u001b[0m\n",
      "\u001b[1;31mNewConnectionError\u001b[0m: <urllib3.connection.HTTPSConnection object at 0x000001E15CACD550>: Failed to establish a new connection: [WinError 10061] No connection could be made because the target machine actively refused it",
      "\nDuring handling of the above exception, another exception occurred:\n",
      "\u001b[1;31mMaxRetryError\u001b[0m                             Traceback (most recent call last)",
      "\u001b[1;32mc:\\python39\\lib\\site-packages\\requests\\adapters.py\u001b[0m in \u001b[0;36msend\u001b[1;34m(self, request, stream, timeout, verify, cert, proxies)\u001b[0m\n\u001b[0;32m    438\u001b[0m             \u001b[1;32mif\u001b[0m \u001b[1;32mnot\u001b[0m \u001b[0mchunked\u001b[0m\u001b[1;33m:\u001b[0m\u001b[1;33m\u001b[0m\u001b[1;33m\u001b[0m\u001b[0m\n\u001b[1;32m--> 439\u001b[1;33m                 resp = conn.urlopen(\n\u001b[0m\u001b[0;32m    440\u001b[0m                     \u001b[0mmethod\u001b[0m\u001b[1;33m=\u001b[0m\u001b[0mrequest\u001b[0m\u001b[1;33m.\u001b[0m\u001b[0mmethod\u001b[0m\u001b[1;33m,\u001b[0m\u001b[1;33m\u001b[0m\u001b[1;33m\u001b[0m\u001b[0m\n",
      "\u001b[1;32mc:\\python39\\lib\\site-packages\\urllib3\\connectionpool.py\u001b[0m in \u001b[0;36murlopen\u001b[1;34m(self, method, url, body, headers, retries, redirect, assert_same_host, timeout, pool_timeout, release_conn, chunked, body_pos, **response_kw)\u001b[0m\n\u001b[0;32m    754\u001b[0m \u001b[1;33m\u001b[0m\u001b[0m\n\u001b[1;32m--> 755\u001b[1;33m             retries = retries.increment(\n\u001b[0m\u001b[0;32m    756\u001b[0m                 \u001b[0mmethod\u001b[0m\u001b[1;33m,\u001b[0m \u001b[0murl\u001b[0m\u001b[1;33m,\u001b[0m \u001b[0merror\u001b[0m\u001b[1;33m=\u001b[0m\u001b[0me\u001b[0m\u001b[1;33m,\u001b[0m \u001b[0m_pool\u001b[0m\u001b[1;33m=\u001b[0m\u001b[0mself\u001b[0m\u001b[1;33m,\u001b[0m \u001b[0m_stacktrace\u001b[0m\u001b[1;33m=\u001b[0m\u001b[0msys\u001b[0m\u001b[1;33m.\u001b[0m\u001b[0mexc_info\u001b[0m\u001b[1;33m(\u001b[0m\u001b[1;33m)\u001b[0m\u001b[1;33m[\u001b[0m\u001b[1;36m2\u001b[0m\u001b[1;33m]\u001b[0m\u001b[1;33m\u001b[0m\u001b[1;33m\u001b[0m\u001b[0m\n",
      "\u001b[1;32mc:\\python39\\lib\\site-packages\\urllib3\\util\\retry.py\u001b[0m in \u001b[0;36mincrement\u001b[1;34m(self, method, url, response, error, _pool, _stacktrace)\u001b[0m\n\u001b[0;32m    573\u001b[0m         \u001b[1;32mif\u001b[0m \u001b[0mnew_retry\u001b[0m\u001b[1;33m.\u001b[0m\u001b[0mis_exhausted\u001b[0m\u001b[1;33m(\u001b[0m\u001b[1;33m)\u001b[0m\u001b[1;33m:\u001b[0m\u001b[1;33m\u001b[0m\u001b[1;33m\u001b[0m\u001b[0m\n\u001b[1;32m--> 574\u001b[1;33m             \u001b[1;32mraise\u001b[0m \u001b[0mMaxRetryError\u001b[0m\u001b[1;33m(\u001b[0m\u001b[0m_pool\u001b[0m\u001b[1;33m,\u001b[0m \u001b[0murl\u001b[0m\u001b[1;33m,\u001b[0m \u001b[0merror\u001b[0m \u001b[1;32mor\u001b[0m \u001b[0mResponseError\u001b[0m\u001b[1;33m(\u001b[0m\u001b[0mcause\u001b[0m\u001b[1;33m)\u001b[0m\u001b[1;33m)\u001b[0m\u001b[1;33m\u001b[0m\u001b[1;33m\u001b[0m\u001b[0m\n\u001b[0m\u001b[0;32m    575\u001b[0m \u001b[1;33m\u001b[0m\u001b[0m\n",
      "\u001b[1;31mMaxRetryError\u001b[0m: HTTPSConnectionPool(host='mtrack.merryspiders.com', port=443): Max retries exceeded with url: /NewsDetailsPublished.aspx?NewsId=LL4TnLrpK34t5Zo2DiVMpA==&MediaType= (Caused by NewConnectionError('<urllib3.connection.HTTPSConnection object at 0x000001E15CACD550>: Failed to establish a new connection: [WinError 10061] No connection could be made because the target machine actively refused it'))",
      "\nDuring handling of the above exception, another exception occurred:\n",
      "\u001b[1;31mConnectionError\u001b[0m                           Traceback (most recent call last)",
      "\u001b[1;32m~\\AppData\\Local\\Temp/ipykernel_9828/2061659145.py\u001b[0m in \u001b[0;36m<module>\u001b[1;34m\u001b[0m\n\u001b[0;32m      6\u001b[0m \u001b[1;33m\u001b[0m\u001b[0m\n\u001b[0;32m      7\u001b[0m \u001b[0murl\u001b[0m\u001b[1;33m=\u001b[0m\u001b[1;34m'https://mtrack.merryspiders.com/NewsDetailsPublished.aspx?NewsId=LL4TnLrpK34t5Zo2DiVMpA==&MediaType='\u001b[0m\u001b[1;33m\u001b[0m\u001b[1;33m\u001b[0m\u001b[0m\n\u001b[1;32m----> 8\u001b[1;33m \u001b[0mwebpage\u001b[0m \u001b[1;33m=\u001b[0m \u001b[0mrequests\u001b[0m\u001b[1;33m.\u001b[0m\u001b[0mget\u001b[0m\u001b[1;33m(\u001b[0m\u001b[0murl\u001b[0m\u001b[1;33m)\u001b[0m\u001b[1;33m\u001b[0m\u001b[1;33m\u001b[0m\u001b[0m\n\u001b[0m\u001b[0;32m      9\u001b[0m \u001b[0msoup\u001b[0m \u001b[1;33m=\u001b[0m \u001b[0mBeautifulSoup\u001b[0m\u001b[1;33m(\u001b[0m\u001b[0mwebpage\u001b[0m\u001b[1;33m.\u001b[0m\u001b[0mcontent\u001b[0m\u001b[1;33m,\u001b[0m \u001b[1;34m\"html.parser\"\u001b[0m\u001b[1;33m)\u001b[0m\u001b[1;33m\u001b[0m\u001b[1;33m\u001b[0m\u001b[0m\n\u001b[0;32m     10\u001b[0m \u001b[0mdom\u001b[0m \u001b[1;33m=\u001b[0m \u001b[0metree\u001b[0m\u001b[1;33m.\u001b[0m\u001b[0mHTML\u001b[0m\u001b[1;33m(\u001b[0m\u001b[0mstr\u001b[0m\u001b[1;33m(\u001b[0m\u001b[0msoup\u001b[0m\u001b[1;33m)\u001b[0m\u001b[1;33m)\u001b[0m\u001b[1;33m\u001b[0m\u001b[1;33m\u001b[0m\u001b[0m\n",
      "\u001b[1;32mc:\\python39\\lib\\site-packages\\requests\\api.py\u001b[0m in \u001b[0;36mget\u001b[1;34m(url, params, **kwargs)\u001b[0m\n\u001b[0;32m     73\u001b[0m     \"\"\"\n\u001b[0;32m     74\u001b[0m \u001b[1;33m\u001b[0m\u001b[0m\n\u001b[1;32m---> 75\u001b[1;33m     \u001b[1;32mreturn\u001b[0m \u001b[0mrequest\u001b[0m\u001b[1;33m(\u001b[0m\u001b[1;34m'get'\u001b[0m\u001b[1;33m,\u001b[0m \u001b[0murl\u001b[0m\u001b[1;33m,\u001b[0m \u001b[0mparams\u001b[0m\u001b[1;33m=\u001b[0m\u001b[0mparams\u001b[0m\u001b[1;33m,\u001b[0m \u001b[1;33m**\u001b[0m\u001b[0mkwargs\u001b[0m\u001b[1;33m)\u001b[0m\u001b[1;33m\u001b[0m\u001b[1;33m\u001b[0m\u001b[0m\n\u001b[0m\u001b[0;32m     76\u001b[0m \u001b[1;33m\u001b[0m\u001b[0m\n\u001b[0;32m     77\u001b[0m \u001b[1;33m\u001b[0m\u001b[0m\n",
      "\u001b[1;32mc:\\python39\\lib\\site-packages\\requests\\api.py\u001b[0m in \u001b[0;36mrequest\u001b[1;34m(method, url, **kwargs)\u001b[0m\n\u001b[0;32m     59\u001b[0m     \u001b[1;31m# cases, and look like a memory leak in others.\u001b[0m\u001b[1;33m\u001b[0m\u001b[1;33m\u001b[0m\u001b[1;33m\u001b[0m\u001b[0m\n\u001b[0;32m     60\u001b[0m     \u001b[1;32mwith\u001b[0m \u001b[0msessions\u001b[0m\u001b[1;33m.\u001b[0m\u001b[0mSession\u001b[0m\u001b[1;33m(\u001b[0m\u001b[1;33m)\u001b[0m \u001b[1;32mas\u001b[0m \u001b[0msession\u001b[0m\u001b[1;33m:\u001b[0m\u001b[1;33m\u001b[0m\u001b[1;33m\u001b[0m\u001b[0m\n\u001b[1;32m---> 61\u001b[1;33m         \u001b[1;32mreturn\u001b[0m \u001b[0msession\u001b[0m\u001b[1;33m.\u001b[0m\u001b[0mrequest\u001b[0m\u001b[1;33m(\u001b[0m\u001b[0mmethod\u001b[0m\u001b[1;33m=\u001b[0m\u001b[0mmethod\u001b[0m\u001b[1;33m,\u001b[0m \u001b[0murl\u001b[0m\u001b[1;33m=\u001b[0m\u001b[0murl\u001b[0m\u001b[1;33m,\u001b[0m \u001b[1;33m**\u001b[0m\u001b[0mkwargs\u001b[0m\u001b[1;33m)\u001b[0m\u001b[1;33m\u001b[0m\u001b[1;33m\u001b[0m\u001b[0m\n\u001b[0m\u001b[0;32m     62\u001b[0m \u001b[1;33m\u001b[0m\u001b[0m\n\u001b[0;32m     63\u001b[0m \u001b[1;33m\u001b[0m\u001b[0m\n",
      "\u001b[1;32mc:\\python39\\lib\\site-packages\\requests\\sessions.py\u001b[0m in \u001b[0;36mrequest\u001b[1;34m(self, method, url, params, data, headers, cookies, files, auth, timeout, allow_redirects, proxies, hooks, stream, verify, cert, json)\u001b[0m\n\u001b[0;32m    540\u001b[0m         }\n\u001b[0;32m    541\u001b[0m         \u001b[0msend_kwargs\u001b[0m\u001b[1;33m.\u001b[0m\u001b[0mupdate\u001b[0m\u001b[1;33m(\u001b[0m\u001b[0msettings\u001b[0m\u001b[1;33m)\u001b[0m\u001b[1;33m\u001b[0m\u001b[1;33m\u001b[0m\u001b[0m\n\u001b[1;32m--> 542\u001b[1;33m         \u001b[0mresp\u001b[0m \u001b[1;33m=\u001b[0m \u001b[0mself\u001b[0m\u001b[1;33m.\u001b[0m\u001b[0msend\u001b[0m\u001b[1;33m(\u001b[0m\u001b[0mprep\u001b[0m\u001b[1;33m,\u001b[0m \u001b[1;33m**\u001b[0m\u001b[0msend_kwargs\u001b[0m\u001b[1;33m)\u001b[0m\u001b[1;33m\u001b[0m\u001b[1;33m\u001b[0m\u001b[0m\n\u001b[0m\u001b[0;32m    543\u001b[0m \u001b[1;33m\u001b[0m\u001b[0m\n\u001b[0;32m    544\u001b[0m         \u001b[1;32mreturn\u001b[0m \u001b[0mresp\u001b[0m\u001b[1;33m\u001b[0m\u001b[1;33m\u001b[0m\u001b[0m\n",
      "\u001b[1;32mc:\\python39\\lib\\site-packages\\requests\\sessions.py\u001b[0m in \u001b[0;36msend\u001b[1;34m(self, request, **kwargs)\u001b[0m\n\u001b[0;32m    653\u001b[0m \u001b[1;33m\u001b[0m\u001b[0m\n\u001b[0;32m    654\u001b[0m         \u001b[1;31m# Send the request\u001b[0m\u001b[1;33m\u001b[0m\u001b[1;33m\u001b[0m\u001b[1;33m\u001b[0m\u001b[0m\n\u001b[1;32m--> 655\u001b[1;33m         \u001b[0mr\u001b[0m \u001b[1;33m=\u001b[0m \u001b[0madapter\u001b[0m\u001b[1;33m.\u001b[0m\u001b[0msend\u001b[0m\u001b[1;33m(\u001b[0m\u001b[0mrequest\u001b[0m\u001b[1;33m,\u001b[0m \u001b[1;33m**\u001b[0m\u001b[0mkwargs\u001b[0m\u001b[1;33m)\u001b[0m\u001b[1;33m\u001b[0m\u001b[1;33m\u001b[0m\u001b[0m\n\u001b[0m\u001b[0;32m    656\u001b[0m \u001b[1;33m\u001b[0m\u001b[0m\n\u001b[0;32m    657\u001b[0m         \u001b[1;31m# Total elapsed time of the request (approximately)\u001b[0m\u001b[1;33m\u001b[0m\u001b[1;33m\u001b[0m\u001b[1;33m\u001b[0m\u001b[0m\n",
      "\u001b[1;32mc:\\python39\\lib\\site-packages\\requests\\adapters.py\u001b[0m in \u001b[0;36msend\u001b[1;34m(self, request, stream, timeout, verify, cert, proxies)\u001b[0m\n\u001b[0;32m    514\u001b[0m                 \u001b[1;32mraise\u001b[0m \u001b[0mSSLError\u001b[0m\u001b[1;33m(\u001b[0m\u001b[0me\u001b[0m\u001b[1;33m,\u001b[0m \u001b[0mrequest\u001b[0m\u001b[1;33m=\u001b[0m\u001b[0mrequest\u001b[0m\u001b[1;33m)\u001b[0m\u001b[1;33m\u001b[0m\u001b[1;33m\u001b[0m\u001b[0m\n\u001b[0;32m    515\u001b[0m \u001b[1;33m\u001b[0m\u001b[0m\n\u001b[1;32m--> 516\u001b[1;33m             \u001b[1;32mraise\u001b[0m \u001b[0mConnectionError\u001b[0m\u001b[1;33m(\u001b[0m\u001b[0me\u001b[0m\u001b[1;33m,\u001b[0m \u001b[0mrequest\u001b[0m\u001b[1;33m=\u001b[0m\u001b[0mrequest\u001b[0m\u001b[1;33m)\u001b[0m\u001b[1;33m\u001b[0m\u001b[1;33m\u001b[0m\u001b[0m\n\u001b[0m\u001b[0;32m    517\u001b[0m \u001b[1;33m\u001b[0m\u001b[0m\n\u001b[0;32m    518\u001b[0m         \u001b[1;32mexcept\u001b[0m \u001b[0mClosedPoolError\u001b[0m \u001b[1;32mas\u001b[0m \u001b[0me\u001b[0m\u001b[1;33m:\u001b[0m\u001b[1;33m\u001b[0m\u001b[1;33m\u001b[0m\u001b[0m\n",
      "\u001b[1;31mConnectionError\u001b[0m: HTTPSConnectionPool(host='mtrack.merryspiders.com', port=443): Max retries exceeded with url: /NewsDetailsPublished.aspx?NewsId=LL4TnLrpK34t5Zo2DiVMpA==&MediaType= (Caused by NewConnectionError('<urllib3.connection.HTTPSConnection object at 0x000001E15CACD550>: Failed to establish a new connection: [WinError 10061] No connection could be made because the target machine actively refused it'))"
     ]
    }
   ],
   "source": [
    "import requests\n",
    "from lxml import etree\n",
    "from bs4 import BeautifulSoup\n",
    "\n",
    "\n",
    "\n",
    "url='https://mtrack.merryspiders.com/NewsDetailsPublished.aspx?NewsId=LL4TnLrpK34t5Zo2DiVMpA==&MediaType='\n",
    "webpage = requests.get(url)\n",
    "soup = BeautifulSoup(webpage.content, \"html.parser\")\n",
    "dom = etree.HTML(str(soup))\n",
    "text=(dom.xpath('//*[@id=\"ctl00_ContentPlaceHolder1_TabContainer1_TabPanel2_lblNews\"]/div[3]/span')[0].text)\n",
    "print(text)\n"
   ]
  },
  {
   "cell_type": "code",
   "execution_count": 6,
   "id": "46805618",
   "metadata": {},
   "outputs": [],
   "source": [
    "import requests,urllib3\n",
    "from lxml import etree\n",
    "from bs4 import BeautifulSoup\n",
    "\n",
    "\n",
    "\n",
    "url='http://mtrack.merryspiders.com/NewsDetailsPublished.aspx?NewsId=e3E6Ggaq2uAX9SosCfBB7Q==&MediaType='\n",
    "webpage = requests.get(url)\n",
    "#soup = BeautifulSoup(webpage.content, \"html.parser\")\n",
    "#dom = etree.HTML(str(soup))\n",
    "#text=(dom.xpath('//*[@id=\"ctl00_ContentPlaceHolder1_TabContainer1_TabPanel2_lblNews\"]/div[3]/span')[0].text)\n",
    "#print(text)\n"
   ]
  },
  {
   "cell_type": "code",
   "execution_count": 7,
   "id": "83a3ce01",
   "metadata": {},
   "outputs": [],
   "source": [
    "soup = BeautifulSoup(webpage.content, \"html.parser\")\n"
   ]
  },
  {
   "cell_type": "code",
   "execution_count": 8,
   "id": "4a0c9001",
   "metadata": {},
   "outputs": [],
   "source": [
    "dom = etree.HTML(str(soup))\n"
   ]
  },
  {
   "cell_type": "code",
   "execution_count": 9,
   "id": "348e2699",
   "metadata": {},
   "outputs": [
    {
     "ename": "IndexError",
     "evalue": "list index out of range",
     "output_type": "error",
     "traceback": [
      "\u001b[1;31m---------------------------------------------------------------------------\u001b[0m",
      "\u001b[1;31mIndexError\u001b[0m                                Traceback (most recent call last)",
      "\u001b[1;32m~\\AppData\\Local\\Temp/ipykernel_9828/2784191255.py\u001b[0m in \u001b[0;36m<module>\u001b[1;34m\u001b[0m\n\u001b[1;32m----> 1\u001b[1;33m \u001b[0mtext\u001b[0m\u001b[1;33m=\u001b[0m\u001b[1;33m(\u001b[0m\u001b[0mdom\u001b[0m\u001b[1;33m.\u001b[0m\u001b[0mxpath\u001b[0m\u001b[1;33m(\u001b[0m\u001b[1;34m'//*[@id=\"ctl00_ContentPlaceHolder1_TabContainer1_TabPanel2_lblNews\"]/div[3]/span'\u001b[0m\u001b[1;33m)\u001b[0m\u001b[1;33m[\u001b[0m\u001b[1;36m0\u001b[0m\u001b[1;33m]\u001b[0m\u001b[1;33m.\u001b[0m\u001b[0mtext\u001b[0m\u001b[1;33m)\u001b[0m\u001b[1;33m\u001b[0m\u001b[1;33m\u001b[0m\u001b[0m\n\u001b[0m\u001b[0;32m      2\u001b[0m \u001b[0mprint\u001b[0m\u001b[1;33m(\u001b[0m\u001b[0mtext\u001b[0m\u001b[1;33m)\u001b[0m\u001b[1;33m\u001b[0m\u001b[1;33m\u001b[0m\u001b[0m\n",
      "\u001b[1;31mIndexError\u001b[0m: list index out of range"
     ]
    }
   ],
   "source": [
    "text=(dom.xpath('//*[@id=\"ctl00_ContentPlaceHolder1_TabContainer1_TabPanel2_lblNews\"]/div[3]/span')[0].text)\n",
    "print(text)\n"
   ]
  },
  {
   "cell_type": "code",
   "execution_count": 20,
   "id": "edfb936b",
   "metadata": {},
   "outputs": [
    {
     "name": "stdout",
     "output_type": "stream",
     "text": [
      "None\n"
     ]
    }
   ],
   "source": [
    "text=(dom.xpath('//*[@id=\"ctl00_ContentPlaceHolder1_TabContainer1_TabPanel2_lblNews\"]')[0].text)\n",
    "print(text)"
   ]
  },
  {
   "cell_type": "code",
   "execution_count": 27,
   "id": "cf128c32",
   "metadata": {},
   "outputs": [
    {
     "name": "stdout",
     "output_type": "stream",
     "text": [
      "None\n"
     ]
    }
   ],
   "source": [
    "test=dom.xpath('//*[@id=\"ctl00_ContentPlaceHolder1_TabContainer1_TabPanel2_lblNews\"]')[0].text\n",
    "print(test)"
   ]
  },
  {
   "cell_type": "code",
   "execution_count": 29,
   "id": "d70a8db9",
   "metadata": {},
   "outputs": [],
   "source": [
    "webpage = requests.get(url)\n",
    "soup = BeautifulSoup(webpage.content, \"html.parser\")\n",
    "dom = etree.HTML(str(soup))\n",
    "text=(dom.xpath('//*[@id=\"ctl00_ContentPlaceHolder1_TabContainer1_TabPanel2_lblNews\"]')[0].text)"
   ]
  },
  {
   "cell_type": "code",
   "execution_count": 30,
   "id": "946846db",
   "metadata": {},
   "outputs": [
    {
     "name": "stdout",
     "output_type": "stream",
     "text": [
      "None\n"
     ]
    }
   ],
   "source": [
    "print(text)"
   ]
  },
  {
   "cell_type": "code",
   "execution_count": 31,
   "id": "802b2328",
   "metadata": {},
   "outputs": [
    {
     "name": "stdout",
     "output_type": "stream",
     "text": [
      "None\n"
     ]
    }
   ],
   "source": [
    "for x in dom.xpath('//*[@id=\"ctl00_ContentPlaceHolder1_TabContainer1_TabPanel2_lblNews\"]'):\n",
    "    print (x.text)"
   ]
  },
  {
   "cell_type": "code",
   "execution_count": 33,
   "id": "7fe2fcc3",
   "metadata": {},
   "outputs": [],
   "source": [
    "from lxml import html\n"
   ]
  },
  {
   "cell_type": "code",
   "execution_count": 34,
   "id": "b4a755ce",
   "metadata": {},
   "outputs": [],
   "source": [
    "root=html.parse(url).getroot()"
   ]
  },
  {
   "cell_type": "code",
   "execution_count": 42,
   "id": "029b79c4",
   "metadata": {},
   "outputs": [
    {
     "ename": "KeyError",
     "evalue": "'[ctl00_ContentPlaceHolder1_TabContainer1_TabPanel2_lblNews]'",
     "output_type": "error",
     "traceback": [
      "\u001b[1;31m---------------------------------------------------------------------------\u001b[0m",
      "\u001b[1;31mIndexError\u001b[0m                                Traceback (most recent call last)",
      "\u001b[1;32mc:\\python39\\lib\\site-packages\\lxml\\html\\__init__.py\u001b[0m in \u001b[0;36mget_element_by_id\u001b[1;34m(self, id, *default)\u001b[0m\n\u001b[0;32m    407\u001b[0m             \u001b[1;31m# browsers just return the first one\u001b[0m\u001b[1;33m\u001b[0m\u001b[1;33m\u001b[0m\u001b[1;33m\u001b[0m\u001b[0m\n\u001b[1;32m--> 408\u001b[1;33m             \u001b[1;32mreturn\u001b[0m \u001b[0m_id_xpath\u001b[0m\u001b[1;33m(\u001b[0m\u001b[0mself\u001b[0m\u001b[1;33m,\u001b[0m \u001b[0mid\u001b[0m\u001b[1;33m=\u001b[0m\u001b[0mid\u001b[0m\u001b[1;33m)\u001b[0m\u001b[1;33m[\u001b[0m\u001b[1;36m0\u001b[0m\u001b[1;33m]\u001b[0m\u001b[1;33m\u001b[0m\u001b[1;33m\u001b[0m\u001b[0m\n\u001b[0m\u001b[0;32m    409\u001b[0m         \u001b[1;32mexcept\u001b[0m \u001b[0mIndexError\u001b[0m\u001b[1;33m:\u001b[0m\u001b[1;33m\u001b[0m\u001b[1;33m\u001b[0m\u001b[0m\n",
      "\u001b[1;31mIndexError\u001b[0m: list index out of range",
      "\nDuring handling of the above exception, another exception occurred:\n",
      "\u001b[1;31mKeyError\u001b[0m                                  Traceback (most recent call last)",
      "\u001b[1;32m~\\AppData\\Local\\Temp/ipykernel_9828/2593817476.py\u001b[0m in \u001b[0;36m<module>\u001b[1;34m\u001b[0m\n\u001b[1;32m----> 1\u001b[1;33m \u001b[0melement\u001b[0m \u001b[1;33m=\u001b[0m \u001b[0mroot\u001b[0m\u001b[1;33m.\u001b[0m\u001b[0mget_element_by_id\u001b[0m\u001b[1;33m(\u001b[0m\u001b[1;34m\"[ctl00_ContentPlaceHolder1_TabContainer1_TabPanel2_lblNews]\"\u001b[0m\u001b[1;33m)\u001b[0m\u001b[1;33m\u001b[0m\u001b[1;33m\u001b[0m\u001b[0m\n\u001b[0m\u001b[0;32m      2\u001b[0m \u001b[0mprint\u001b[0m\u001b[1;33m(\u001b[0m\u001b[0melement\u001b[0m\u001b[1;33m)\u001b[0m\u001b[1;33m\u001b[0m\u001b[1;33m\u001b[0m\u001b[0m\n",
      "\u001b[1;32mc:\\python39\\lib\\site-packages\\lxml\\html\\__init__.py\u001b[0m in \u001b[0;36mget_element_by_id\u001b[1;34m(self, id, *default)\u001b[0m\n\u001b[0;32m    411\u001b[0m                 \u001b[1;32mreturn\u001b[0m \u001b[0mdefault\u001b[0m\u001b[1;33m[\u001b[0m\u001b[1;36m0\u001b[0m\u001b[1;33m]\u001b[0m\u001b[1;33m\u001b[0m\u001b[1;33m\u001b[0m\u001b[0m\n\u001b[0;32m    412\u001b[0m             \u001b[1;32melse\u001b[0m\u001b[1;33m:\u001b[0m\u001b[1;33m\u001b[0m\u001b[1;33m\u001b[0m\u001b[0m\n\u001b[1;32m--> 413\u001b[1;33m                 \u001b[1;32mraise\u001b[0m \u001b[0mKeyError\u001b[0m\u001b[1;33m(\u001b[0m\u001b[0mid\u001b[0m\u001b[1;33m)\u001b[0m\u001b[1;33m\u001b[0m\u001b[1;33m\u001b[0m\u001b[0m\n\u001b[0m\u001b[0;32m    414\u001b[0m \u001b[1;33m\u001b[0m\u001b[0m\n\u001b[0;32m    415\u001b[0m     \u001b[1;32mdef\u001b[0m \u001b[0mtext_content\u001b[0m\u001b[1;33m(\u001b[0m\u001b[0mself\u001b[0m\u001b[1;33m)\u001b[0m\u001b[1;33m:\u001b[0m\u001b[1;33m\u001b[0m\u001b[1;33m\u001b[0m\u001b[0m\n",
      "\u001b[1;31mKeyError\u001b[0m: '[ctl00_ContentPlaceHolder1_TabContainer1_TabPanel2_lblNews]'"
     ]
    }
   ],
   "source": [
    "element = root.get_element_by_id(\"ctl00_ContentPlaceHolder1_TabContainer1_TabPanel2_lblNews\")\n",
    "print(element)"
   ]
  },
  {
   "cell_type": "code",
   "execution_count": 43,
   "id": "e44fd8fa",
   "metadata": {},
   "outputs": [
    {
     "name": "stdout",
     "output_type": "stream",
     "text": [
      "http://mtrack.merryspiders.com/NewsDetailsPublished.aspx?NewsId=e3E6Ggaq2uAX9SosCfBB7Q==&MediaType=\n"
     ]
    }
   ],
   "source": [
    "print(url)"
   ]
  },
  {
   "cell_type": "code",
   "execution_count": 44,
   "id": "e547c40e",
   "metadata": {},
   "outputs": [],
   "source": [
    "webpage=requests.get(url)"
   ]
  },
  {
   "cell_type": "code",
   "execution_count": 45,
   "id": "227afe83",
   "metadata": {},
   "outputs": [],
   "source": [
    "soup=BeautifulSoup(webpage.content,'html.parser')"
   ]
  },
  {
   "cell_type": "code",
   "execution_count": 47,
   "id": "c67478ef",
   "metadata": {},
   "outputs": [],
   "source": [
    "dom=etree.HTML(str(soup))"
   ]
  },
  {
   "cell_type": "code",
   "execution_count": 48,
   "id": "9903f842",
   "metadata": {},
   "outputs": [
    {
     "name": "stdout",
     "output_type": "stream",
     "text": [
      "<Element html at 0x1e15cd0e140>\n"
     ]
    }
   ],
   "source": [
    "print (dom)"
   ]
  },
  {
   "cell_type": "code",
   "execution_count": 122,
   "id": "971d39f8",
   "metadata": {},
   "outputs": [
    {
     "ename": "ConnectionError",
     "evalue": "HTTPSConnectionPool(host='mtrack.merryspiders.com', port=443): Max retries exceeded with url: /NewsDetailsPublished.aspx?NewsId=e3E6Ggaq2uAX9SosCfBB7Q==&MediaType= (Caused by NewConnectionError('<urllib3.connection.HTTPSConnection object at 0x000001E15CC9BF10>: Failed to establish a new connection: [WinError 10061] No connection could be made because the target machine actively refused it'))",
     "output_type": "error",
     "traceback": [
      "\u001b[1;31m---------------------------------------------------------------------------\u001b[0m",
      "\u001b[1;31mConnectionRefusedError\u001b[0m                    Traceback (most recent call last)",
      "\u001b[1;32mc:\\python39\\lib\\site-packages\\urllib3\\connection.py\u001b[0m in \u001b[0;36m_new_conn\u001b[1;34m(self)\u001b[0m\n\u001b[0;32m    173\u001b[0m         \u001b[1;32mtry\u001b[0m\u001b[1;33m:\u001b[0m\u001b[1;33m\u001b[0m\u001b[1;33m\u001b[0m\u001b[0m\n\u001b[1;32m--> 174\u001b[1;33m             conn = connection.create_connection(\n\u001b[0m\u001b[0;32m    175\u001b[0m                 \u001b[1;33m(\u001b[0m\u001b[0mself\u001b[0m\u001b[1;33m.\u001b[0m\u001b[0m_dns_host\u001b[0m\u001b[1;33m,\u001b[0m \u001b[0mself\u001b[0m\u001b[1;33m.\u001b[0m\u001b[0mport\u001b[0m\u001b[1;33m)\u001b[0m\u001b[1;33m,\u001b[0m \u001b[0mself\u001b[0m\u001b[1;33m.\u001b[0m\u001b[0mtimeout\u001b[0m\u001b[1;33m,\u001b[0m \u001b[1;33m**\u001b[0m\u001b[0mextra_kw\u001b[0m\u001b[1;33m\u001b[0m\u001b[1;33m\u001b[0m\u001b[0m\n",
      "\u001b[1;32mc:\\python39\\lib\\site-packages\\urllib3\\util\\connection.py\u001b[0m in \u001b[0;36mcreate_connection\u001b[1;34m(address, timeout, source_address, socket_options)\u001b[0m\n\u001b[0;32m     95\u001b[0m     \u001b[1;32mif\u001b[0m \u001b[0merr\u001b[0m \u001b[1;32mis\u001b[0m \u001b[1;32mnot\u001b[0m \u001b[1;32mNone\u001b[0m\u001b[1;33m:\u001b[0m\u001b[1;33m\u001b[0m\u001b[1;33m\u001b[0m\u001b[0m\n\u001b[1;32m---> 96\u001b[1;33m         \u001b[1;32mraise\u001b[0m \u001b[0merr\u001b[0m\u001b[1;33m\u001b[0m\u001b[1;33m\u001b[0m\u001b[0m\n\u001b[0m\u001b[0;32m     97\u001b[0m \u001b[1;33m\u001b[0m\u001b[0m\n",
      "\u001b[1;32mc:\\python39\\lib\\site-packages\\urllib3\\util\\connection.py\u001b[0m in \u001b[0;36mcreate_connection\u001b[1;34m(address, timeout, source_address, socket_options)\u001b[0m\n\u001b[0;32m     85\u001b[0m                 \u001b[0msock\u001b[0m\u001b[1;33m.\u001b[0m\u001b[0mbind\u001b[0m\u001b[1;33m(\u001b[0m\u001b[0msource_address\u001b[0m\u001b[1;33m)\u001b[0m\u001b[1;33m\u001b[0m\u001b[1;33m\u001b[0m\u001b[0m\n\u001b[1;32m---> 86\u001b[1;33m             \u001b[0msock\u001b[0m\u001b[1;33m.\u001b[0m\u001b[0mconnect\u001b[0m\u001b[1;33m(\u001b[0m\u001b[0msa\u001b[0m\u001b[1;33m)\u001b[0m\u001b[1;33m\u001b[0m\u001b[1;33m\u001b[0m\u001b[0m\n\u001b[0m\u001b[0;32m     87\u001b[0m             \u001b[1;32mreturn\u001b[0m \u001b[0msock\u001b[0m\u001b[1;33m\u001b[0m\u001b[1;33m\u001b[0m\u001b[0m\n",
      "\u001b[1;31mConnectionRefusedError\u001b[0m: [WinError 10061] No connection could be made because the target machine actively refused it",
      "\nDuring handling of the above exception, another exception occurred:\n",
      "\u001b[1;31mNewConnectionError\u001b[0m                        Traceback (most recent call last)",
      "\u001b[1;32mc:\\python39\\lib\\site-packages\\urllib3\\connectionpool.py\u001b[0m in \u001b[0;36murlopen\u001b[1;34m(self, method, url, body, headers, retries, redirect, assert_same_host, timeout, pool_timeout, release_conn, chunked, body_pos, **response_kw)\u001b[0m\n\u001b[0;32m    698\u001b[0m             \u001b[1;31m# Make the request on the httplib connection object.\u001b[0m\u001b[1;33m\u001b[0m\u001b[1;33m\u001b[0m\u001b[1;33m\u001b[0m\u001b[0m\n\u001b[1;32m--> 699\u001b[1;33m             httplib_response = self._make_request(\n\u001b[0m\u001b[0;32m    700\u001b[0m                 \u001b[0mconn\u001b[0m\u001b[1;33m,\u001b[0m\u001b[1;33m\u001b[0m\u001b[1;33m\u001b[0m\u001b[0m\n",
      "\u001b[1;32mc:\\python39\\lib\\site-packages\\urllib3\\connectionpool.py\u001b[0m in \u001b[0;36m_make_request\u001b[1;34m(self, conn, method, url, timeout, chunked, **httplib_request_kw)\u001b[0m\n\u001b[0;32m    381\u001b[0m         \u001b[1;32mtry\u001b[0m\u001b[1;33m:\u001b[0m\u001b[1;33m\u001b[0m\u001b[1;33m\u001b[0m\u001b[0m\n\u001b[1;32m--> 382\u001b[1;33m             \u001b[0mself\u001b[0m\u001b[1;33m.\u001b[0m\u001b[0m_validate_conn\u001b[0m\u001b[1;33m(\u001b[0m\u001b[0mconn\u001b[0m\u001b[1;33m)\u001b[0m\u001b[1;33m\u001b[0m\u001b[1;33m\u001b[0m\u001b[0m\n\u001b[0m\u001b[0;32m    383\u001b[0m         \u001b[1;32mexcept\u001b[0m \u001b[1;33m(\u001b[0m\u001b[0mSocketTimeout\u001b[0m\u001b[1;33m,\u001b[0m \u001b[0mBaseSSLError\u001b[0m\u001b[1;33m)\u001b[0m \u001b[1;32mas\u001b[0m \u001b[0me\u001b[0m\u001b[1;33m:\u001b[0m\u001b[1;33m\u001b[0m\u001b[1;33m\u001b[0m\u001b[0m\n",
      "\u001b[1;32mc:\\python39\\lib\\site-packages\\urllib3\\connectionpool.py\u001b[0m in \u001b[0;36m_validate_conn\u001b[1;34m(self, conn)\u001b[0m\n\u001b[0;32m   1009\u001b[0m         \u001b[1;32mif\u001b[0m \u001b[1;32mnot\u001b[0m \u001b[0mgetattr\u001b[0m\u001b[1;33m(\u001b[0m\u001b[0mconn\u001b[0m\u001b[1;33m,\u001b[0m \u001b[1;34m\"sock\"\u001b[0m\u001b[1;33m,\u001b[0m \u001b[1;32mNone\u001b[0m\u001b[1;33m)\u001b[0m\u001b[1;33m:\u001b[0m  \u001b[1;31m# AppEngine might not have  `.sock`\u001b[0m\u001b[1;33m\u001b[0m\u001b[1;33m\u001b[0m\u001b[0m\n\u001b[1;32m-> 1010\u001b[1;33m             \u001b[0mconn\u001b[0m\u001b[1;33m.\u001b[0m\u001b[0mconnect\u001b[0m\u001b[1;33m(\u001b[0m\u001b[1;33m)\u001b[0m\u001b[1;33m\u001b[0m\u001b[1;33m\u001b[0m\u001b[0m\n\u001b[0m\u001b[0;32m   1011\u001b[0m \u001b[1;33m\u001b[0m\u001b[0m\n",
      "\u001b[1;32mc:\\python39\\lib\\site-packages\\urllib3\\connection.py\u001b[0m in \u001b[0;36mconnect\u001b[1;34m(self)\u001b[0m\n\u001b[0;32m    357\u001b[0m         \u001b[1;31m# Add certificate verification\u001b[0m\u001b[1;33m\u001b[0m\u001b[1;33m\u001b[0m\u001b[1;33m\u001b[0m\u001b[0m\n\u001b[1;32m--> 358\u001b[1;33m         \u001b[0mconn\u001b[0m \u001b[1;33m=\u001b[0m \u001b[0mself\u001b[0m\u001b[1;33m.\u001b[0m\u001b[0m_new_conn\u001b[0m\u001b[1;33m(\u001b[0m\u001b[1;33m)\u001b[0m\u001b[1;33m\u001b[0m\u001b[1;33m\u001b[0m\u001b[0m\n\u001b[0m\u001b[0;32m    359\u001b[0m         \u001b[0mhostname\u001b[0m \u001b[1;33m=\u001b[0m \u001b[0mself\u001b[0m\u001b[1;33m.\u001b[0m\u001b[0mhost\u001b[0m\u001b[1;33m\u001b[0m\u001b[1;33m\u001b[0m\u001b[0m\n",
      "\u001b[1;32mc:\\python39\\lib\\site-packages\\urllib3\\connection.py\u001b[0m in \u001b[0;36m_new_conn\u001b[1;34m(self)\u001b[0m\n\u001b[0;32m    185\u001b[0m         \u001b[1;32mexcept\u001b[0m \u001b[0mSocketError\u001b[0m \u001b[1;32mas\u001b[0m \u001b[0me\u001b[0m\u001b[1;33m:\u001b[0m\u001b[1;33m\u001b[0m\u001b[1;33m\u001b[0m\u001b[0m\n\u001b[1;32m--> 186\u001b[1;33m             raise NewConnectionError(\n\u001b[0m\u001b[0;32m    187\u001b[0m                 \u001b[0mself\u001b[0m\u001b[1;33m,\u001b[0m \u001b[1;34m\"Failed to establish a new connection: %s\"\u001b[0m \u001b[1;33m%\u001b[0m \u001b[0me\u001b[0m\u001b[1;33m\u001b[0m\u001b[1;33m\u001b[0m\u001b[0m\n",
      "\u001b[1;31mNewConnectionError\u001b[0m: <urllib3.connection.HTTPSConnection object at 0x000001E15CC9BF10>: Failed to establish a new connection: [WinError 10061] No connection could be made because the target machine actively refused it",
      "\nDuring handling of the above exception, another exception occurred:\n",
      "\u001b[1;31mMaxRetryError\u001b[0m                             Traceback (most recent call last)",
      "\u001b[1;32mc:\\python39\\lib\\site-packages\\requests\\adapters.py\u001b[0m in \u001b[0;36msend\u001b[1;34m(self, request, stream, timeout, verify, cert, proxies)\u001b[0m\n\u001b[0;32m    438\u001b[0m             \u001b[1;32mif\u001b[0m \u001b[1;32mnot\u001b[0m \u001b[0mchunked\u001b[0m\u001b[1;33m:\u001b[0m\u001b[1;33m\u001b[0m\u001b[1;33m\u001b[0m\u001b[0m\n\u001b[1;32m--> 439\u001b[1;33m                 resp = conn.urlopen(\n\u001b[0m\u001b[0;32m    440\u001b[0m                     \u001b[0mmethod\u001b[0m\u001b[1;33m=\u001b[0m\u001b[0mrequest\u001b[0m\u001b[1;33m.\u001b[0m\u001b[0mmethod\u001b[0m\u001b[1;33m,\u001b[0m\u001b[1;33m\u001b[0m\u001b[1;33m\u001b[0m\u001b[0m\n",
      "\u001b[1;32mc:\\python39\\lib\\site-packages\\urllib3\\connectionpool.py\u001b[0m in \u001b[0;36murlopen\u001b[1;34m(self, method, url, body, headers, retries, redirect, assert_same_host, timeout, pool_timeout, release_conn, chunked, body_pos, **response_kw)\u001b[0m\n\u001b[0;32m    754\u001b[0m \u001b[1;33m\u001b[0m\u001b[0m\n\u001b[1;32m--> 755\u001b[1;33m             retries = retries.increment(\n\u001b[0m\u001b[0;32m    756\u001b[0m                 \u001b[0mmethod\u001b[0m\u001b[1;33m,\u001b[0m \u001b[0murl\u001b[0m\u001b[1;33m,\u001b[0m \u001b[0merror\u001b[0m\u001b[1;33m=\u001b[0m\u001b[0me\u001b[0m\u001b[1;33m,\u001b[0m \u001b[0m_pool\u001b[0m\u001b[1;33m=\u001b[0m\u001b[0mself\u001b[0m\u001b[1;33m,\u001b[0m \u001b[0m_stacktrace\u001b[0m\u001b[1;33m=\u001b[0m\u001b[0msys\u001b[0m\u001b[1;33m.\u001b[0m\u001b[0mexc_info\u001b[0m\u001b[1;33m(\u001b[0m\u001b[1;33m)\u001b[0m\u001b[1;33m[\u001b[0m\u001b[1;36m2\u001b[0m\u001b[1;33m]\u001b[0m\u001b[1;33m\u001b[0m\u001b[1;33m\u001b[0m\u001b[0m\n",
      "\u001b[1;32mc:\\python39\\lib\\site-packages\\urllib3\\util\\retry.py\u001b[0m in \u001b[0;36mincrement\u001b[1;34m(self, method, url, response, error, _pool, _stacktrace)\u001b[0m\n\u001b[0;32m    573\u001b[0m         \u001b[1;32mif\u001b[0m \u001b[0mnew_retry\u001b[0m\u001b[1;33m.\u001b[0m\u001b[0mis_exhausted\u001b[0m\u001b[1;33m(\u001b[0m\u001b[1;33m)\u001b[0m\u001b[1;33m:\u001b[0m\u001b[1;33m\u001b[0m\u001b[1;33m\u001b[0m\u001b[0m\n\u001b[1;32m--> 574\u001b[1;33m             \u001b[1;32mraise\u001b[0m \u001b[0mMaxRetryError\u001b[0m\u001b[1;33m(\u001b[0m\u001b[0m_pool\u001b[0m\u001b[1;33m,\u001b[0m \u001b[0murl\u001b[0m\u001b[1;33m,\u001b[0m \u001b[0merror\u001b[0m \u001b[1;32mor\u001b[0m \u001b[0mResponseError\u001b[0m\u001b[1;33m(\u001b[0m\u001b[0mcause\u001b[0m\u001b[1;33m)\u001b[0m\u001b[1;33m)\u001b[0m\u001b[1;33m\u001b[0m\u001b[1;33m\u001b[0m\u001b[0m\n\u001b[0m\u001b[0;32m    575\u001b[0m \u001b[1;33m\u001b[0m\u001b[0m\n",
      "\u001b[1;31mMaxRetryError\u001b[0m: HTTPSConnectionPool(host='mtrack.merryspiders.com', port=443): Max retries exceeded with url: /NewsDetailsPublished.aspx?NewsId=e3E6Ggaq2uAX9SosCfBB7Q==&MediaType= (Caused by NewConnectionError('<urllib3.connection.HTTPSConnection object at 0x000001E15CC9BF10>: Failed to establish a new connection: [WinError 10061] No connection could be made because the target machine actively refused it'))",
      "\nDuring handling of the above exception, another exception occurred:\n",
      "\u001b[1;31mConnectionError\u001b[0m                           Traceback (most recent call last)",
      "\u001b[1;32m~\\AppData\\Local\\Temp/ipykernel_9828/3946469399.py\u001b[0m in \u001b[0;36m<module>\u001b[1;34m\u001b[0m\n\u001b[0;32m      1\u001b[0m \u001b[0murl\u001b[0m\u001b[1;33m=\u001b[0m\u001b[1;34m'https://mtrack.merryspiders.com/NewsDetailsPublished.aspx?NewsId=e3E6Ggaq2uAX9SosCfBB7Q==&MediaType='\u001b[0m\u001b[1;33m\u001b[0m\u001b[1;33m\u001b[0m\u001b[0m\n\u001b[1;32m----> 2\u001b[1;33m \u001b[0mwebpage\u001b[0m\u001b[1;33m=\u001b[0m\u001b[0mrequests\u001b[0m\u001b[1;33m.\u001b[0m\u001b[0mget\u001b[0m\u001b[1;33m(\u001b[0m\u001b[0murl\u001b[0m\u001b[1;33m)\u001b[0m\u001b[1;33m\u001b[0m\u001b[1;33m\u001b[0m\u001b[0m\n\u001b[0m\u001b[0;32m      3\u001b[0m \u001b[0msoup\u001b[0m\u001b[1;33m=\u001b[0m\u001b[0mBeautifulSoup\u001b[0m\u001b[1;33m(\u001b[0m\u001b[0mwebpage\u001b[0m\u001b[1;33m.\u001b[0m\u001b[0mcontent\u001b[0m\u001b[1;33m,\u001b[0m\u001b[1;34m'html.parser'\u001b[0m\u001b[1;33m)\u001b[0m\u001b[1;33m\u001b[0m\u001b[1;33m\u001b[0m\u001b[0m\n\u001b[0;32m      4\u001b[0m \u001b[0mdom\u001b[0m\u001b[1;33m=\u001b[0m\u001b[0mlxml\u001b[0m\u001b[1;33m.\u001b[0m\u001b[0metree\u001b[0m\u001b[1;33m.\u001b[0m\u001b[0mHTML\u001b[0m\u001b[1;33m(\u001b[0m\u001b[0mstr\u001b[0m\u001b[1;33m(\u001b[0m\u001b[0msoup\u001b[0m\u001b[1;33m)\u001b[0m\u001b[1;33m)\u001b[0m\u001b[1;33m\u001b[0m\u001b[1;33m\u001b[0m\u001b[0m\n\u001b[0;32m      5\u001b[0m \u001b[0mprint\u001b[0m\u001b[1;33m(\u001b[0m\u001b[0mdom\u001b[0m\u001b[1;33m.\u001b[0m\u001b[0mxtree\u001b[0m\u001b[1;33m.\u001b[0m\u001b[0mget_element_by_id\u001b[0m\u001b[1;33m(\u001b[0m\u001b[1;34m\"ctl00_ContentPlaceHolder1_TabContainer1_TabPanel2_lblNews\"\u001b[0m\u001b[1;33m)\u001b[0m\u001b[1;33m.\u001b[0m\u001b[0mtext_content\u001b[0m\u001b[1;33m(\u001b[0m\u001b[1;33m)\u001b[0m\u001b[1;33m)\u001b[0m\u001b[1;33m\u001b[0m\u001b[1;33m\u001b[0m\u001b[0m\n",
      "\u001b[1;32mc:\\python39\\lib\\site-packages\\requests\\api.py\u001b[0m in \u001b[0;36mget\u001b[1;34m(url, params, **kwargs)\u001b[0m\n\u001b[0;32m     73\u001b[0m     \"\"\"\n\u001b[0;32m     74\u001b[0m \u001b[1;33m\u001b[0m\u001b[0m\n\u001b[1;32m---> 75\u001b[1;33m     \u001b[1;32mreturn\u001b[0m \u001b[0mrequest\u001b[0m\u001b[1;33m(\u001b[0m\u001b[1;34m'get'\u001b[0m\u001b[1;33m,\u001b[0m \u001b[0murl\u001b[0m\u001b[1;33m,\u001b[0m \u001b[0mparams\u001b[0m\u001b[1;33m=\u001b[0m\u001b[0mparams\u001b[0m\u001b[1;33m,\u001b[0m \u001b[1;33m**\u001b[0m\u001b[0mkwargs\u001b[0m\u001b[1;33m)\u001b[0m\u001b[1;33m\u001b[0m\u001b[1;33m\u001b[0m\u001b[0m\n\u001b[0m\u001b[0;32m     76\u001b[0m \u001b[1;33m\u001b[0m\u001b[0m\n\u001b[0;32m     77\u001b[0m \u001b[1;33m\u001b[0m\u001b[0m\n",
      "\u001b[1;32mc:\\python39\\lib\\site-packages\\requests\\api.py\u001b[0m in \u001b[0;36mrequest\u001b[1;34m(method, url, **kwargs)\u001b[0m\n\u001b[0;32m     59\u001b[0m     \u001b[1;31m# cases, and look like a memory leak in others.\u001b[0m\u001b[1;33m\u001b[0m\u001b[1;33m\u001b[0m\u001b[1;33m\u001b[0m\u001b[0m\n\u001b[0;32m     60\u001b[0m     \u001b[1;32mwith\u001b[0m \u001b[0msessions\u001b[0m\u001b[1;33m.\u001b[0m\u001b[0mSession\u001b[0m\u001b[1;33m(\u001b[0m\u001b[1;33m)\u001b[0m \u001b[1;32mas\u001b[0m \u001b[0msession\u001b[0m\u001b[1;33m:\u001b[0m\u001b[1;33m\u001b[0m\u001b[1;33m\u001b[0m\u001b[0m\n\u001b[1;32m---> 61\u001b[1;33m         \u001b[1;32mreturn\u001b[0m \u001b[0msession\u001b[0m\u001b[1;33m.\u001b[0m\u001b[0mrequest\u001b[0m\u001b[1;33m(\u001b[0m\u001b[0mmethod\u001b[0m\u001b[1;33m=\u001b[0m\u001b[0mmethod\u001b[0m\u001b[1;33m,\u001b[0m \u001b[0murl\u001b[0m\u001b[1;33m=\u001b[0m\u001b[0murl\u001b[0m\u001b[1;33m,\u001b[0m \u001b[1;33m**\u001b[0m\u001b[0mkwargs\u001b[0m\u001b[1;33m)\u001b[0m\u001b[1;33m\u001b[0m\u001b[1;33m\u001b[0m\u001b[0m\n\u001b[0m\u001b[0;32m     62\u001b[0m \u001b[1;33m\u001b[0m\u001b[0m\n\u001b[0;32m     63\u001b[0m \u001b[1;33m\u001b[0m\u001b[0m\n",
      "\u001b[1;32mc:\\python39\\lib\\site-packages\\requests\\sessions.py\u001b[0m in \u001b[0;36mrequest\u001b[1;34m(self, method, url, params, data, headers, cookies, files, auth, timeout, allow_redirects, proxies, hooks, stream, verify, cert, json)\u001b[0m\n\u001b[0;32m    540\u001b[0m         }\n\u001b[0;32m    541\u001b[0m         \u001b[0msend_kwargs\u001b[0m\u001b[1;33m.\u001b[0m\u001b[0mupdate\u001b[0m\u001b[1;33m(\u001b[0m\u001b[0msettings\u001b[0m\u001b[1;33m)\u001b[0m\u001b[1;33m\u001b[0m\u001b[1;33m\u001b[0m\u001b[0m\n\u001b[1;32m--> 542\u001b[1;33m         \u001b[0mresp\u001b[0m \u001b[1;33m=\u001b[0m \u001b[0mself\u001b[0m\u001b[1;33m.\u001b[0m\u001b[0msend\u001b[0m\u001b[1;33m(\u001b[0m\u001b[0mprep\u001b[0m\u001b[1;33m,\u001b[0m \u001b[1;33m**\u001b[0m\u001b[0msend_kwargs\u001b[0m\u001b[1;33m)\u001b[0m\u001b[1;33m\u001b[0m\u001b[1;33m\u001b[0m\u001b[0m\n\u001b[0m\u001b[0;32m    543\u001b[0m \u001b[1;33m\u001b[0m\u001b[0m\n\u001b[0;32m    544\u001b[0m         \u001b[1;32mreturn\u001b[0m \u001b[0mresp\u001b[0m\u001b[1;33m\u001b[0m\u001b[1;33m\u001b[0m\u001b[0m\n",
      "\u001b[1;32mc:\\python39\\lib\\site-packages\\requests\\sessions.py\u001b[0m in \u001b[0;36msend\u001b[1;34m(self, request, **kwargs)\u001b[0m\n\u001b[0;32m    653\u001b[0m \u001b[1;33m\u001b[0m\u001b[0m\n\u001b[0;32m    654\u001b[0m         \u001b[1;31m# Send the request\u001b[0m\u001b[1;33m\u001b[0m\u001b[1;33m\u001b[0m\u001b[1;33m\u001b[0m\u001b[0m\n\u001b[1;32m--> 655\u001b[1;33m         \u001b[0mr\u001b[0m \u001b[1;33m=\u001b[0m \u001b[0madapter\u001b[0m\u001b[1;33m.\u001b[0m\u001b[0msend\u001b[0m\u001b[1;33m(\u001b[0m\u001b[0mrequest\u001b[0m\u001b[1;33m,\u001b[0m \u001b[1;33m**\u001b[0m\u001b[0mkwargs\u001b[0m\u001b[1;33m)\u001b[0m\u001b[1;33m\u001b[0m\u001b[1;33m\u001b[0m\u001b[0m\n\u001b[0m\u001b[0;32m    656\u001b[0m \u001b[1;33m\u001b[0m\u001b[0m\n\u001b[0;32m    657\u001b[0m         \u001b[1;31m# Total elapsed time of the request (approximately)\u001b[0m\u001b[1;33m\u001b[0m\u001b[1;33m\u001b[0m\u001b[1;33m\u001b[0m\u001b[0m\n",
      "\u001b[1;32mc:\\python39\\lib\\site-packages\\requests\\adapters.py\u001b[0m in \u001b[0;36msend\u001b[1;34m(self, request, stream, timeout, verify, cert, proxies)\u001b[0m\n\u001b[0;32m    514\u001b[0m                 \u001b[1;32mraise\u001b[0m \u001b[0mSSLError\u001b[0m\u001b[1;33m(\u001b[0m\u001b[0me\u001b[0m\u001b[1;33m,\u001b[0m \u001b[0mrequest\u001b[0m\u001b[1;33m=\u001b[0m\u001b[0mrequest\u001b[0m\u001b[1;33m)\u001b[0m\u001b[1;33m\u001b[0m\u001b[1;33m\u001b[0m\u001b[0m\n\u001b[0;32m    515\u001b[0m \u001b[1;33m\u001b[0m\u001b[0m\n\u001b[1;32m--> 516\u001b[1;33m             \u001b[1;32mraise\u001b[0m \u001b[0mConnectionError\u001b[0m\u001b[1;33m(\u001b[0m\u001b[0me\u001b[0m\u001b[1;33m,\u001b[0m \u001b[0mrequest\u001b[0m\u001b[1;33m=\u001b[0m\u001b[0mrequest\u001b[0m\u001b[1;33m)\u001b[0m\u001b[1;33m\u001b[0m\u001b[1;33m\u001b[0m\u001b[0m\n\u001b[0m\u001b[0;32m    517\u001b[0m \u001b[1;33m\u001b[0m\u001b[0m\n\u001b[0;32m    518\u001b[0m         \u001b[1;32mexcept\u001b[0m \u001b[0mClosedPoolError\u001b[0m \u001b[1;32mas\u001b[0m \u001b[0me\u001b[0m\u001b[1;33m:\u001b[0m\u001b[1;33m\u001b[0m\u001b[1;33m\u001b[0m\u001b[0m\n",
      "\u001b[1;31mConnectionError\u001b[0m: HTTPSConnectionPool(host='mtrack.merryspiders.com', port=443): Max retries exceeded with url: /NewsDetailsPublished.aspx?NewsId=e3E6Ggaq2uAX9SosCfBB7Q==&MediaType= (Caused by NewConnectionError('<urllib3.connection.HTTPSConnection object at 0x000001E15CC9BF10>: Failed to establish a new connection: [WinError 10061] No connection could be made because the target machine actively refused it'))"
     ]
    }
   ],
   "source": [
    "url='https://mtrack.merryspiders.com/NewsDetailsPublished.aspx?NewsId=e3E6Ggaq2uAX9SosCfBB7Q==&MediaType='\n",
    "webpage=requests.get(url)\n",
    "soup=BeautifulSoup(webpage.content,'html.parser')\n",
    "dom=lxml.etree.HTML(str(soup))\n",
    "print(dom.xtree.get_element_by_id(\"ctl00_ContentPlaceHolder1_TabContainer1_TabPanel2_lblNews\").text_content())"
   ]
  },
  {
   "cell_type": "code",
   "execution_count": 51,
   "id": "5241f2f0",
   "metadata": {},
   "outputs": [],
   "source": [
    "page=requests.get(url)"
   ]
  },
  {
   "cell_type": "code",
   "execution_count": 54,
   "id": "02161807",
   "metadata": {},
   "outputs": [
    {
     "name": "stdout",
     "output_type": "stream",
     "text": [
      "[<Element span at 0x1e15cb8ec70>]\n"
     ]
    }
   ],
   "source": [
    "#tree = html.fromstring(page.content)\n",
    "test = tree.xpath('//*[@id=\"ctl00_ContentPlaceHolder1_TabContainer1_TabPanel2_lblNews\"]')\n",
    "print (test)"
   ]
  },
  {
   "cell_type": "code",
   "execution_count": 53,
   "id": "6daa973a",
   "metadata": {},
   "outputs": [
    {
     "name": "stdout",
     "output_type": "stream",
     "text": [
      "[]\n"
     ]
    }
   ],
   "source": [
    "print(test)"
   ]
  },
  {
   "cell_type": "code",
   "execution_count": 55,
   "id": "3a0c55d3",
   "metadata": {},
   "outputs": [
    {
     "name": "stdout",
     "output_type": "stream",
     "text": [
      "1\n"
     ]
    }
   ],
   "source": [
    "print(len(test))"
   ]
  },
  {
   "cell_type": "code",
   "execution_count": 58,
   "id": "a5d2d833",
   "metadata": {},
   "outputs": [
    {
     "name": "stdout",
     "output_type": "stream",
     "text": [
      "<Element span at 0x1e15cb8ec70>\n"
     ]
    }
   ],
   "source": [
    "print(test[0])"
   ]
  },
  {
   "cell_type": "code",
   "execution_count": 61,
   "id": "1cd3ee9f",
   "metadata": {},
   "outputs": [],
   "source": [
    "xml = etree.XML(str(soup))\n"
   ]
  },
  {
   "cell_type": "code",
   "execution_count": 62,
   "id": "04d2d972",
   "metadata": {},
   "outputs": [
    {
     "name": "stdout",
     "output_type": "stream",
     "text": [
      "{http://www.w3.org/1999/xhtml}html\n",
      "{http://www.w3.org/1999/xhtml}head\n",
      "{http://www.w3.org/1999/xhtml}title\n",
      "{http://www.w3.org/1999/xhtml}meta\n",
      "{http://www.w3.org/1999/xhtml}meta\n",
      "{http://www.w3.org/1999/xhtml}link\n",
      "{http://www.w3.org/1999/xhtml}link\n",
      "{http://www.w3.org/1999/xhtml}link\n",
      "<cyfunction Comment at 0x000001E15C86C450>\n",
      "{http://www.w3.org/1999/xhtml}script\n",
      "{http://www.w3.org/1999/xhtml}script\n",
      "{http://www.w3.org/1999/xhtml}script\n",
      "{http://www.w3.org/1999/xhtml}script\n",
      "{http://www.w3.org/1999/xhtml}meta\n",
      "{http://www.w3.org/1999/xhtml}script\n",
      "{http://www.w3.org/1999/xhtml}style\n",
      "{http://www.w3.org/1999/xhtml}link\n",
      "{http://www.w3.org/1999/xhtml}body\n",
      "{http://www.w3.org/1999/xhtml}form\n",
      "{http://www.w3.org/1999/xhtml}input\n",
      "{http://www.w3.org/1999/xhtml}input\n",
      "{http://www.w3.org/1999/xhtml}script\n",
      "{http://www.w3.org/1999/xhtml}script\n",
      "{http://www.w3.org/1999/xhtml}script\n",
      "{http://www.w3.org/1999/xhtml}script\n",
      "{http://www.w3.org/1999/xhtml}script\n",
      "{http://www.w3.org/1999/xhtml}script\n",
      "{http://www.w3.org/1999/xhtml}script\n",
      "{http://www.w3.org/1999/xhtml}script\n",
      "{http://www.w3.org/1999/xhtml}script\n",
      "{http://www.w3.org/1999/xhtml}script\n",
      "{http://www.w3.org/1999/xhtml}script\n",
      "{http://www.w3.org/1999/xhtml}input\n",
      "{http://www.w3.org/1999/xhtml}input\n",
      "{http://www.w3.org/1999/xhtml}input\n",
      "{http://www.w3.org/1999/xhtml}div\n",
      "{http://www.w3.org/1999/xhtml}input\n",
      "<cyfunction Comment at 0x000001E15C86C450>\n",
      "{http://www.w3.org/1999/xhtml}div\n",
      "{http://www.w3.org/1999/xhtml}div\n",
      "{http://www.w3.org/1999/xhtml}div\n",
      "{http://www.w3.org/1999/xhtml}a\n",
      "{http://www.w3.org/1999/xhtml}img\n",
      "{http://www.w3.org/1999/xhtml}div\n",
      "{http://www.w3.org/1999/xhtml}a\n",
      "{http://www.w3.org/1999/xhtml}img\n",
      "{http://www.w3.org/1999/xhtml}div\n",
      "{http://www.w3.org/1999/xhtml}span\n",
      "{http://www.w3.org/1999/xhtml}div\n",
      "{http://www.w3.org/1999/xhtml}a\n",
      "{http://www.w3.org/1999/xhtml}img\n",
      "{http://www.w3.org/1999/xhtml}div\n",
      "{http://www.w3.org/1999/xhtml}div\n",
      "{http://www.w3.org/1999/xhtml}div\n",
      "{http://www.w3.org/1999/xhtml}div\n",
      "{http://www.w3.org/1999/xhtml}ul\n",
      "{http://www.w3.org/1999/xhtml}li\n",
      "{http://www.w3.org/1999/xhtml}a\n",
      "{http://www.w3.org/1999/xhtml}div\n",
      "{http://www.w3.org/1999/xhtml}div\n",
      "{http://www.w3.org/1999/xhtml}span\n",
      "{http://www.w3.org/1999/xhtml}div\n",
      "{http://www.w3.org/1999/xhtml}div\n",
      "{http://www.w3.org/1999/xhtml}li\n",
      "{http://www.w3.org/1999/xhtml}a\n",
      "{http://www.w3.org/1999/xhtml}li\n",
      "{http://www.w3.org/1999/xhtml}a\n",
      "<cyfunction Comment at 0x000001E15C86C450>\n",
      "<cyfunction Comment at 0x000001E15C86C450>\n",
      "{http://www.w3.org/1999/xhtml}div\n",
      "{http://www.w3.org/1999/xhtml}div\n",
      "{http://www.w3.org/1999/xhtml}div\n",
      "{http://www.w3.org/1999/xhtml}div\n",
      "{http://www.w3.org/1999/xhtml}div\n",
      "{http://www.w3.org/1999/xhtml}div\n",
      "{http://www.w3.org/1999/xhtml}div\n",
      "{http://www.w3.org/1999/xhtml}div\n",
      "{http://www.w3.org/1999/xhtml}div\n",
      "{http://www.w3.org/1999/xhtml}div\n",
      "{http://www.w3.org/1999/xhtml}div\n",
      "{http://www.w3.org/1999/xhtml}table\n",
      "{http://www.w3.org/1999/xhtml}tr\n",
      "{http://www.w3.org/1999/xhtml}td\n",
      "{http://www.w3.org/1999/xhtml}table\n",
      "{http://www.w3.org/1999/xhtml}tr\n",
      "{http://www.w3.org/1999/xhtml}td\n",
      "{http://www.w3.org/1999/xhtml}div\n",
      "{http://www.w3.org/1999/xhtml}h2\n",
      "{http://www.w3.org/1999/xhtml}span\n",
      "{http://www.w3.org/1999/xhtml}span\n",
      "{http://www.w3.org/1999/xhtml}tr\n",
      "{http://www.w3.org/1999/xhtml}td\n",
      "{http://www.w3.org/1999/xhtml}table\n",
      "{http://www.w3.org/1999/xhtml}tr\n",
      "{http://www.w3.org/1999/xhtml}td\n",
      "{http://www.w3.org/1999/xhtml}div\n",
      "{http://www.w3.org/1999/xhtml}img\n",
      "{http://www.w3.org/1999/xhtml}br\n",
      "{http://www.w3.org/1999/xhtml}br\n",
      "{http://www.w3.org/1999/xhtml}input\n",
      "{http://www.w3.org/1999/xhtml}a\n",
      "{http://www.w3.org/1999/xhtml}tr\n",
      "{http://www.w3.org/1999/xhtml}td\n",
      "{http://www.w3.org/1999/xhtml}table\n",
      "<cyfunction Comment at 0x000001E15C86C450>\n",
      "{http://www.w3.org/1999/xhtml}tr\n",
      "{http://www.w3.org/1999/xhtml}td\n",
      "{http://www.w3.org/1999/xhtml}b\n",
      "{http://www.w3.org/1999/xhtml}td\n",
      "{http://www.w3.org/1999/xhtml}span\n",
      "{http://www.w3.org/1999/xhtml}td\n",
      "{http://www.w3.org/1999/xhtml}b\n",
      "{http://www.w3.org/1999/xhtml}td\n",
      "{http://www.w3.org/1999/xhtml}span\n",
      "{http://www.w3.org/1999/xhtml}td\n",
      "{http://www.w3.org/1999/xhtml}b\n",
      "{http://www.w3.org/1999/xhtml}td\n",
      "{http://www.w3.org/1999/xhtml}span\n",
      "{http://www.w3.org/1999/xhtml}tr\n",
      "{http://www.w3.org/1999/xhtml}td\n",
      "{http://www.w3.org/1999/xhtml}b\n",
      "{http://www.w3.org/1999/xhtml}td\n",
      "{http://www.w3.org/1999/xhtml}span\n",
      "{http://www.w3.org/1999/xhtml}td\n",
      "{http://www.w3.org/1999/xhtml}b\n",
      "{http://www.w3.org/1999/xhtml}td\n",
      "{http://www.w3.org/1999/xhtml}span\n",
      "{http://www.w3.org/1999/xhtml}td\n",
      "{http://www.w3.org/1999/xhtml}b\n",
      "{http://www.w3.org/1999/xhtml}td\n",
      "{http://www.w3.org/1999/xhtml}span\n",
      "{http://www.w3.org/1999/xhtml}tr\n",
      "{http://www.w3.org/1999/xhtml}td\n",
      "{http://www.w3.org/1999/xhtml}b\n",
      "{http://www.w3.org/1999/xhtml}td\n",
      "{http://www.w3.org/1999/xhtml}span\n",
      "{http://www.w3.org/1999/xhtml}td\n",
      "{http://www.w3.org/1999/xhtml}b\n",
      "{http://www.w3.org/1999/xhtml}td\n",
      "{http://www.w3.org/1999/xhtml}span\n",
      "{http://www.w3.org/1999/xhtml}tr\n",
      "{http://www.w3.org/1999/xhtml}td\n",
      "{http://www.w3.org/1999/xhtml}b\n",
      "{http://www.w3.org/1999/xhtml}td\n",
      "{http://www.w3.org/1999/xhtml}span\n",
      "{http://www.w3.org/1999/xhtml}tr\n",
      "{http://www.w3.org/1999/xhtml}td\n",
      "{http://www.w3.org/1999/xhtml}b\n",
      "{http://www.w3.org/1999/xhtml}td\n",
      "{http://www.w3.org/1999/xhtml}span\n",
      "{http://www.w3.org/1999/xhtml}div\n",
      "{http://www.w3.org/1999/xhtml}table\n",
      "{http://www.w3.org/1999/xhtml}tr\n",
      "{http://www.w3.org/1999/xhtml}td\n",
      "{http://www.w3.org/1999/xhtml}div\n",
      "{http://www.w3.org/1999/xhtml}div\n",
      "{http://www.w3.org/1999/xhtml}span\n",
      "{http://www.w3.org/1999/xhtml}span\n",
      "{http://www.w3.org/1999/xhtml}span\n",
      "{http://www.w3.org/1999/xhtml}span\n",
      "{http://www.w3.org/1999/xhtml}span\n",
      "{http://www.w3.org/1999/xhtml}span\n",
      "{http://www.w3.org/1999/xhtml}span\n",
      "{http://www.w3.org/1999/xhtml}span\n",
      "{http://www.w3.org/1999/xhtml}div\n",
      "{http://www.w3.org/1999/xhtml}div\n",
      "{http://www.w3.org/1999/xhtml}table\n",
      "{http://www.w3.org/1999/xhtml}tr\n",
      "{http://www.w3.org/1999/xhtml}td\n",
      "{http://www.w3.org/1999/xhtml}div\n",
      "{http://www.w3.org/1999/xhtml}b\n",
      "{http://www.w3.org/1999/xhtml}td\n",
      "{http://www.w3.org/1999/xhtml}div\n",
      "{http://www.w3.org/1999/xhtml}select\n",
      "{http://www.w3.org/1999/xhtml}option\n",
      "{http://www.w3.org/1999/xhtml}img\n",
      "{http://www.w3.org/1999/xhtml}br\n",
      "{http://www.w3.org/1999/xhtml}div\n",
      "{http://www.w3.org/1999/xhtml}div\n",
      "{http://www.w3.org/1999/xhtml}span\n",
      "{http://www.w3.org/1999/xhtml}div\n",
      "{http://www.w3.org/1999/xhtml}div\n",
      "{http://www.w3.org/1999/xhtml}br\n",
      "{http://www.w3.org/1999/xhtml}div\n",
      "{http://www.w3.org/1999/xhtml}div\n",
      "{http://www.w3.org/1999/xhtml}br\n",
      "{http://www.w3.org/1999/xhtml}div\n",
      "{http://www.w3.org/1999/xhtml}div\n",
      "{http://www.w3.org/1999/xhtml}br\n",
      "{http://www.w3.org/1999/xhtml}div\n",
      "{http://www.w3.org/1999/xhtml}div\n",
      "{http://www.w3.org/1999/xhtml}br\n",
      "{http://www.w3.org/1999/xhtml}div\n",
      "{http://www.w3.org/1999/xhtml}div\n",
      "{http://www.w3.org/1999/xhtml}br\n",
      "{http://www.w3.org/1999/xhtml}div\n",
      "{http://www.w3.org/1999/xhtml}input\n",
      "{http://www.w3.org/1999/xhtml}input\n",
      "{http://www.w3.org/1999/xhtml}br\n",
      "{http://www.w3.org/1999/xhtml}div\n",
      "{http://www.w3.org/1999/xhtml}div\n",
      "{http://www.w3.org/1999/xhtml}div\n",
      "{http://www.w3.org/1999/xhtml}img\n",
      "<cyfunction Comment at 0x000001E15C86C450>\n",
      "<cyfunction Comment at 0x000001E15C86C450>\n",
      "{http://www.w3.org/1999/xhtml}div\n",
      "{http://www.w3.org/1999/xhtml}div\n",
      "{http://www.w3.org/1999/xhtml}a\n",
      "{http://www.w3.org/1999/xhtml}br\n",
      "{http://www.w3.org/1999/xhtml}a\n",
      "{http://www.w3.org/1999/xhtml}img\n",
      "<cyfunction Comment at 0x000001E15C86C450>\n",
      "{http://www.w3.org/1999/xhtml}script\n"
     ]
    }
   ],
   "source": [
    "# If you want to visit all of the descendants\n",
    "for element in xml.iter():\n",
    "    print (element.tag)"
   ]
  },
  {
   "cell_type": "code",
   "execution_count": 63,
   "id": "098bf1e9",
   "metadata": {},
   "outputs": [],
   "source": [
    "response=requests.get(url)"
   ]
  },
  {
   "cell_type": "code",
   "execution_count": 64,
   "id": "baf2e308",
   "metadata": {},
   "outputs": [],
   "source": [
    "tree = html.fromstring(response.content)\n"
   ]
  },
  {
   "cell_type": "code",
   "execution_count": 69,
   "id": "ac16e198",
   "metadata": {},
   "outputs": [
    {
     "name": "stdout",
     "output_type": "stream",
     "text": [
      "None\n"
     ]
    }
   ],
   "source": [
    "print(tree.xpath('//*[@id=\"ctl00_ContentPlaceHolder1_TabContainer1_TabPanel2_lblNews\"]')[0].text)"
   ]
  },
  {
   "cell_type": "code",
   "execution_count": 75,
   "id": "6996c6e5",
   "metadata": {},
   "outputs": [
    {
     "name": "stdout",
     "output_type": "stream",
     "text": [
      "ONGC to share statutory payments with pvt explorers\n"
     ]
    }
   ],
   "source": [
    "print(tree.xpath('//*[@id=\"ctl00_ContentPlaceHolder1_lblHeadline\"]')[0].text)"
   ]
  },
  {
   "cell_type": "code",
   "execution_count": 80,
   "id": "4c0cadb1",
   "metadata": {},
   "outputs": [
    {
     "name": "stdout",
     "output_type": "stream",
     "text": [
      "None\n"
     ]
    }
   ],
   "source": [
    "print(tree.xpath('//*[@id=\"ctl00_ContentPlaceHolder1_TabContainer1_TabPanel2_lblNews\"]')[0].text)"
   ]
  },
  {
   "cell_type": "code",
   "execution_count": 81,
   "id": "8b2ada13",
   "metadata": {},
   "outputs": [
    {
     "name": "stdout",
     "output_type": "stream",
     "text": [
      "Financial Chronicle\n"
     ]
    }
   ],
   "source": [
    "print(tree.xpath('//*[@id=\"ctl00_ContentPlaceHolder1_lblPublication\"]')[0].text)"
   ]
  },
  {
   "cell_type": "code",
   "execution_count": 82,
   "id": "d7e2ea72",
   "metadata": {},
   "outputs": [
    {
     "name": "stdout",
     "output_type": "stream",
     "text": [
      "01-01-2018\n"
     ]
    }
   ],
   "source": [
    "print(tree.xpath('//*[@id=\"ctl00_ContentPlaceHolder1_lblNewsDate\"]')[0].text)"
   ]
  },
  {
   "cell_type": "code",
   "execution_count": 87,
   "id": "44fef0c0",
   "metadata": {},
   "outputs": [
    {
     "name": "stdout",
     "output_type": "stream",
     "text": [
      " Subhash Narayan\n"
     ]
    }
   ],
   "source": [
    "print(tree.xpath('//*[@id=\"ctl00_ContentPlaceHolder1_lblJournalist\"]')[0].text)"
   ]
  },
  {
   "cell_type": "code",
   "execution_count": 88,
   "id": "836d0a2f",
   "metadata": {},
   "outputs": [
    {
     "name": "stdout",
     "output_type": "stream",
     "text": [
      "None\n"
     ]
    }
   ],
   "source": [
    "print(tree.xpath('//*[@id=\"ctl00_ContentPlaceHolder1_TabContainer1_TabPanel2_lblNews\"]')[0].text)"
   ]
  },
  {
   "cell_type": "code",
   "execution_count": 98,
   "id": "de8d89fd",
   "metadata": {},
   "outputs": [
    {
     "ename": "AttributeError",
     "evalue": "'HtmlElement' object has no attribute 'content'",
     "output_type": "error",
     "traceback": [
      "\u001b[1;31m---------------------------------------------------------------------------\u001b[0m",
      "\u001b[1;31mAttributeError\u001b[0m                            Traceback (most recent call last)",
      "\u001b[1;32m~\\AppData\\Local\\Temp/ipykernel_9828/4057498116.py\u001b[0m in \u001b[0;36m<module>\u001b[1;34m\u001b[0m\n\u001b[1;32m----> 1\u001b[1;33m \u001b[0mprint\u001b[0m\u001b[1;33m(\u001b[0m\u001b[0mtree\u001b[0m\u001b[1;33m.\u001b[0m\u001b[0mxpath\u001b[0m\u001b[1;33m(\u001b[0m\u001b[1;34m'//*[@id=\"ctl00_ContentPlaceHolder1_TabContainer1_TabPanel2_lblNews\"]'\u001b[0m\u001b[1;33m)\u001b[0m\u001b[1;33m[\u001b[0m\u001b[1;36m0\u001b[0m\u001b[1;33m]\u001b[0m\u001b[1;33m.\u001b[0m\u001b[0mcontent\u001b[0m\u001b[1;33m)\u001b[0m\u001b[1;33m\u001b[0m\u001b[1;33m\u001b[0m\u001b[0m\n\u001b[0m",
      "\u001b[1;31mAttributeError\u001b[0m: 'HtmlElement' object has no attribute 'content'"
     ]
    }
   ],
   "source": [
    "print(tree.xpath('//*[@id=\"ctl00_ContentPlaceHolder1_TabContainer1_TabPanel2_lblNews\"]')[0].content)"
   ]
  },
  {
   "cell_type": "code",
   "execution_count": 99,
   "id": "60c1502b",
   "metadata": {},
   "outputs": [
    {
     "data": {
      "text/plain": [
       "<span id=\"ctl00_ContentPlaceHolder1_TabContainer1_TabPanel2_lblNews\"><div>THE government proposes to allow Oil and Natural Gas Corporation (ONGC), the country’s largest state-owned oil explorer, to pay royalty and cess in all its six pre-New Exploration Licensing Policy (Nelp) blocks in proportion to its shareholding. It is expected to help the company improve its earnings, which could be under pressure over the move to offer up to 60 per cent stake in some of its producing oil and gas fields to private firms to help these blocks improve production and extend their life. </div>\n",
       "<div><br/>\n",
       "</div>\n",
       "<div>Sources privy to the development said that the oil and gas ministry may soon move a note for approval of the cabinet proposing changes in all pre-Nelp contracts allowing licensees to share royalty and cess payment to the government along with other equity partners in the block The move would impact public and private oil explorers such as Vedanta, GSPC, Essar Oil, Focus Energy, Hindustan Oil and UK’s Ha rdy Oil. All these companies are partners in the six preNELP fields, where largely ONGC is the operator. Moreover, to incentivise and make oil &amp; gas explora tion more attractive in these old and ageing pre-Nelp fields, the government may also make royalty and cess payments cost recoverable. </div>\n",
       "<div><br/>\n",
       "</div>\n",
       "<div>This would imply that these payments would be adjusted from the revenue generated by the block before profit is shared between the government and the contractor. “This is an excellent move that could help get much desired investments in pre-Nelp fields. ONGC was losing interest in additional investments in these fields, as it meant higher cost for it as a licensee while other partners reaped the benefit of higher profit,” said an oil industry expert, not willing to be named. Once the government accords clearance to the cha nges in oil and gas contracts, all entities participating in the pre-Nelp fields would also have to bear the burden of government charges in proportion to their shareholding along with ONGC. These 6 blocks with ONGC — CB/OS-2, CBON /2, CB-ON/3, CB-ON/7, CYOS90/1 (PY3) and RJON/ 6 — are located in Gujarat and Rajasthan. </div>\n",
       "<div><br/>\n",
       "</div>\n",
       "<div>These are called pre-Nelp as oil and gas blocks under New Exploration Licensing Policy round, launched abo ut 2 decades ago, mandated proportionate sharing of government charges by all contractors of a block. Between 1980 and 1995 (prior to Nelp round), the government awarded 28 exploration blocks in nine rounds to private companies where ONGC and OIL were given the right to participate after hydrocarbon discoveries. The Nelp round was approved in 1997 and it became effective in February 1999 (with the first production sharing contract (PSC) getting signed in 2000). NELP brought productionsharing contract (PSC) under its ambit that made royalty, cess and other statutory charges payable by contractors under a cost recovery formula. </div>\n",
       "<div><br/>\n",
       "</div>\n",
       "<div>Before the oil ministry, upstream regulator, the Directorate General of Hydrocarbons (DGH), had also recommended ONGC to exit from all pre-Nelp contracts and let other partners share the government charges in proportion to their stakes. But the government didn’t accept the DGH proposal as it meant removing ONGC from contractorship of these blocks. The fresh move by the government to address ONGC concerns in pre-Nelp blocks came after its experience in dealing with the prolific Barmer block (RJON90/1). In this block, ONGC was 30 per cent partner along with erstwhile Cairn India with 70 per cent holding, but had to bear entire cess and royalty liability. </div>\n",
       "<div><br/>\n",
       "</div>\n",
       "<div>About 6 years ago, Vedanta, while purchasing the fie ld from Cairn Energy, agreed to share with ONGC the liability of paying government charges. The government is now thinking of ch anging terms of pre-Nelp contracts, as most are nearing their terms and would come up for renewal. Cha n ges could be incorporated at this stage. This proposal has faced opposition from state-owned companies’ employee associations, which feel any such move would have lasting consequences on health and future growth of these public sector enterprises. The bone of contention, as far as the association is co ncerned, is the proposed move by the oil ministry to have a new policy on auction of producing nominated fie l ds of state-run upstream firms to boost production. </div></span>"
      ]
     },
     "execution_count": 99,
     "metadata": {},
     "output_type": "execute_result"
    }
   ],
   "source": [
    "//*[@id=\"ctl00_ContentPlaceHolder1_TabContainer1_TabPanel2_lblNews\"]"
   ]
  },
  {
   "cell_type": "code",
   "execution_count": 114,
   "id": "b2f8c620",
   "metadata": {},
   "outputs": [
    {
     "name": "stdout",
     "output_type": "stream",
     "text": [
      "None\n"
     ]
    }
   ],
   "source": [
    "print(soup.find(id=\"ctl00_ContentPlaceHolder1_TabContainer1_TabPanel2_lblNews\"))\n"
   ]
  },
  {
   "cell_type": "code",
   "execution_count": 107,
   "id": "ac40dee9",
   "metadata": {},
   "outputs": [
    {
     "name": "stdout",
     "output_type": "stream",
     "text": [
      " Subhash Narayan\n"
     ]
    }
   ],
   "source": [
    "print(soup.find(id=\"ctl00_ContentPlaceHolder1_lblJournalist\").text)"
   ]
  },
  {
   "cell_type": "code",
   "execution_count": 112,
   "id": "07a508c6",
   "metadata": {},
   "outputs": [],
   "source": [
    "response=requests.get(url)\n",
    "tree=html.fromstring(response.content)"
   ]
  },
  {
   "cell_type": "code",
   "execution_count": 116,
   "id": "494d0793",
   "metadata": {},
   "outputs": [
    {
     "ename": "TypeError",
     "evalue": "xpath() takes exactly 1 positional argument (0 given)",
     "output_type": "error",
     "traceback": [
      "\u001b[1;31m---------------------------------------------------------------------------\u001b[0m",
      "\u001b[1;31mTypeError\u001b[0m                                 Traceback (most recent call last)",
      "\u001b[1;32m~\\AppData\\Local\\Temp/ipykernel_9828/2491586260.py\u001b[0m in \u001b[0;36m<module>\u001b[1;34m\u001b[0m\n\u001b[1;32m----> 1\u001b[1;33m \u001b[0mprint\u001b[0m\u001b[1;33m(\u001b[0m\u001b[0mtree\u001b[0m\u001b[1;33m.\u001b[0m\u001b[0mxpath\u001b[0m\u001b[1;33m(\u001b[0m\u001b[0mid\u001b[0m\u001b[1;33m=\u001b[0m\u001b[1;34m\"ctl00_ContentPlaceHolder1_lblJournalist\"\u001b[0m\u001b[1;33m)\u001b[0m\u001b[1;33m[\u001b[0m\u001b[1;36m0\u001b[0m\u001b[1;33m]\u001b[0m\u001b[1;33m.\u001b[0m\u001b[0mtext\u001b[0m\u001b[1;33m)\u001b[0m\u001b[1;33m\u001b[0m\u001b[1;33m\u001b[0m\u001b[0m\n\u001b[0m",
      "\u001b[1;32msrc\\lxml\\etree.pyx\u001b[0m in \u001b[0;36mlxml.etree._Element.xpath\u001b[1;34m()\u001b[0m\n",
      "\u001b[1;31mTypeError\u001b[0m: xpath() takes exactly 1 positional argument (0 given)"
     ]
    }
   ],
   "source": [
    "print(tree.xpath(id=\"ctl00_ContentPlaceHolder1_lblJournalist\")[0].text)"
   ]
  },
  {
   "cell_type": "code",
   "execution_count": 120,
   "id": "ad9cc85b",
   "metadata": {},
   "outputs": [],
   "source": [
    "info=soup.find(\"div\",{\"id\":\"#ctl00_ContentPlaceHolder1_TabContainer1_TabPanel2_lblNews\"})"
   ]
  },
  {
   "cell_type": "code",
   "execution_count": 125,
   "id": "22261eb4",
   "metadata": {},
   "outputs": [],
   "source": [
    "import urllib3, requests"
   ]
  },
  {
   "cell_type": "code",
   "execution_count": 126,
   "id": "62874aae",
   "metadata": {},
   "outputs": [
    {
     "ename": "ConnectionError",
     "evalue": "HTTPSConnectionPool(host='mtrack.merryspiders.com', port=443): Max retries exceeded with url: /NewsDetailsPublished.aspx?NewsId=e3E6Ggaq2uAX9SosCfBB7Q==&MediaType= (Caused by NewConnectionError('<urllib3.connection.HTTPSConnection object at 0x000001E15CC9BE20>: Failed to establish a new connection: [WinError 10061] No connection could be made because the target machine actively refused it'))",
     "output_type": "error",
     "traceback": [
      "\u001b[1;31m---------------------------------------------------------------------------\u001b[0m",
      "\u001b[1;31mConnectionRefusedError\u001b[0m                    Traceback (most recent call last)",
      "\u001b[1;32mc:\\python39\\lib\\site-packages\\urllib3\\connection.py\u001b[0m in \u001b[0;36m_new_conn\u001b[1;34m(self)\u001b[0m\n\u001b[0;32m    173\u001b[0m         \u001b[1;32mtry\u001b[0m\u001b[1;33m:\u001b[0m\u001b[1;33m\u001b[0m\u001b[1;33m\u001b[0m\u001b[0m\n\u001b[1;32m--> 174\u001b[1;33m             conn = connection.create_connection(\n\u001b[0m\u001b[0;32m    175\u001b[0m                 \u001b[1;33m(\u001b[0m\u001b[0mself\u001b[0m\u001b[1;33m.\u001b[0m\u001b[0m_dns_host\u001b[0m\u001b[1;33m,\u001b[0m \u001b[0mself\u001b[0m\u001b[1;33m.\u001b[0m\u001b[0mport\u001b[0m\u001b[1;33m)\u001b[0m\u001b[1;33m,\u001b[0m \u001b[0mself\u001b[0m\u001b[1;33m.\u001b[0m\u001b[0mtimeout\u001b[0m\u001b[1;33m,\u001b[0m \u001b[1;33m**\u001b[0m\u001b[0mextra_kw\u001b[0m\u001b[1;33m\u001b[0m\u001b[1;33m\u001b[0m\u001b[0m\n",
      "\u001b[1;32mc:\\python39\\lib\\site-packages\\urllib3\\util\\connection.py\u001b[0m in \u001b[0;36mcreate_connection\u001b[1;34m(address, timeout, source_address, socket_options)\u001b[0m\n\u001b[0;32m     95\u001b[0m     \u001b[1;32mif\u001b[0m \u001b[0merr\u001b[0m \u001b[1;32mis\u001b[0m \u001b[1;32mnot\u001b[0m \u001b[1;32mNone\u001b[0m\u001b[1;33m:\u001b[0m\u001b[1;33m\u001b[0m\u001b[1;33m\u001b[0m\u001b[0m\n\u001b[1;32m---> 96\u001b[1;33m         \u001b[1;32mraise\u001b[0m \u001b[0merr\u001b[0m\u001b[1;33m\u001b[0m\u001b[1;33m\u001b[0m\u001b[0m\n\u001b[0m\u001b[0;32m     97\u001b[0m \u001b[1;33m\u001b[0m\u001b[0m\n",
      "\u001b[1;32mc:\\python39\\lib\\site-packages\\urllib3\\util\\connection.py\u001b[0m in \u001b[0;36mcreate_connection\u001b[1;34m(address, timeout, source_address, socket_options)\u001b[0m\n\u001b[0;32m     85\u001b[0m                 \u001b[0msock\u001b[0m\u001b[1;33m.\u001b[0m\u001b[0mbind\u001b[0m\u001b[1;33m(\u001b[0m\u001b[0msource_address\u001b[0m\u001b[1;33m)\u001b[0m\u001b[1;33m\u001b[0m\u001b[1;33m\u001b[0m\u001b[0m\n\u001b[1;32m---> 86\u001b[1;33m             \u001b[0msock\u001b[0m\u001b[1;33m.\u001b[0m\u001b[0mconnect\u001b[0m\u001b[1;33m(\u001b[0m\u001b[0msa\u001b[0m\u001b[1;33m)\u001b[0m\u001b[1;33m\u001b[0m\u001b[1;33m\u001b[0m\u001b[0m\n\u001b[0m\u001b[0;32m     87\u001b[0m             \u001b[1;32mreturn\u001b[0m \u001b[0msock\u001b[0m\u001b[1;33m\u001b[0m\u001b[1;33m\u001b[0m\u001b[0m\n",
      "\u001b[1;31mConnectionRefusedError\u001b[0m: [WinError 10061] No connection could be made because the target machine actively refused it",
      "\nDuring handling of the above exception, another exception occurred:\n",
      "\u001b[1;31mNewConnectionError\u001b[0m                        Traceback (most recent call last)",
      "\u001b[1;32mc:\\python39\\lib\\site-packages\\urllib3\\connectionpool.py\u001b[0m in \u001b[0;36murlopen\u001b[1;34m(self, method, url, body, headers, retries, redirect, assert_same_host, timeout, pool_timeout, release_conn, chunked, body_pos, **response_kw)\u001b[0m\n\u001b[0;32m    698\u001b[0m             \u001b[1;31m# Make the request on the httplib connection object.\u001b[0m\u001b[1;33m\u001b[0m\u001b[1;33m\u001b[0m\u001b[1;33m\u001b[0m\u001b[0m\n\u001b[1;32m--> 699\u001b[1;33m             httplib_response = self._make_request(\n\u001b[0m\u001b[0;32m    700\u001b[0m                 \u001b[0mconn\u001b[0m\u001b[1;33m,\u001b[0m\u001b[1;33m\u001b[0m\u001b[1;33m\u001b[0m\u001b[0m\n",
      "\u001b[1;32mc:\\python39\\lib\\site-packages\\urllib3\\connectionpool.py\u001b[0m in \u001b[0;36m_make_request\u001b[1;34m(self, conn, method, url, timeout, chunked, **httplib_request_kw)\u001b[0m\n\u001b[0;32m    381\u001b[0m         \u001b[1;32mtry\u001b[0m\u001b[1;33m:\u001b[0m\u001b[1;33m\u001b[0m\u001b[1;33m\u001b[0m\u001b[0m\n\u001b[1;32m--> 382\u001b[1;33m             \u001b[0mself\u001b[0m\u001b[1;33m.\u001b[0m\u001b[0m_validate_conn\u001b[0m\u001b[1;33m(\u001b[0m\u001b[0mconn\u001b[0m\u001b[1;33m)\u001b[0m\u001b[1;33m\u001b[0m\u001b[1;33m\u001b[0m\u001b[0m\n\u001b[0m\u001b[0;32m    383\u001b[0m         \u001b[1;32mexcept\u001b[0m \u001b[1;33m(\u001b[0m\u001b[0mSocketTimeout\u001b[0m\u001b[1;33m,\u001b[0m \u001b[0mBaseSSLError\u001b[0m\u001b[1;33m)\u001b[0m \u001b[1;32mas\u001b[0m \u001b[0me\u001b[0m\u001b[1;33m:\u001b[0m\u001b[1;33m\u001b[0m\u001b[1;33m\u001b[0m\u001b[0m\n",
      "\u001b[1;32mc:\\python39\\lib\\site-packages\\urllib3\\connectionpool.py\u001b[0m in \u001b[0;36m_validate_conn\u001b[1;34m(self, conn)\u001b[0m\n\u001b[0;32m   1009\u001b[0m         \u001b[1;32mif\u001b[0m \u001b[1;32mnot\u001b[0m \u001b[0mgetattr\u001b[0m\u001b[1;33m(\u001b[0m\u001b[0mconn\u001b[0m\u001b[1;33m,\u001b[0m \u001b[1;34m\"sock\"\u001b[0m\u001b[1;33m,\u001b[0m \u001b[1;32mNone\u001b[0m\u001b[1;33m)\u001b[0m\u001b[1;33m:\u001b[0m  \u001b[1;31m# AppEngine might not have  `.sock`\u001b[0m\u001b[1;33m\u001b[0m\u001b[1;33m\u001b[0m\u001b[0m\n\u001b[1;32m-> 1010\u001b[1;33m             \u001b[0mconn\u001b[0m\u001b[1;33m.\u001b[0m\u001b[0mconnect\u001b[0m\u001b[1;33m(\u001b[0m\u001b[1;33m)\u001b[0m\u001b[1;33m\u001b[0m\u001b[1;33m\u001b[0m\u001b[0m\n\u001b[0m\u001b[0;32m   1011\u001b[0m \u001b[1;33m\u001b[0m\u001b[0m\n",
      "\u001b[1;32mc:\\python39\\lib\\site-packages\\urllib3\\connection.py\u001b[0m in \u001b[0;36mconnect\u001b[1;34m(self)\u001b[0m\n\u001b[0;32m    357\u001b[0m         \u001b[1;31m# Add certificate verification\u001b[0m\u001b[1;33m\u001b[0m\u001b[1;33m\u001b[0m\u001b[1;33m\u001b[0m\u001b[0m\n\u001b[1;32m--> 358\u001b[1;33m         \u001b[0mconn\u001b[0m \u001b[1;33m=\u001b[0m \u001b[0mself\u001b[0m\u001b[1;33m.\u001b[0m\u001b[0m_new_conn\u001b[0m\u001b[1;33m(\u001b[0m\u001b[1;33m)\u001b[0m\u001b[1;33m\u001b[0m\u001b[1;33m\u001b[0m\u001b[0m\n\u001b[0m\u001b[0;32m    359\u001b[0m         \u001b[0mhostname\u001b[0m \u001b[1;33m=\u001b[0m \u001b[0mself\u001b[0m\u001b[1;33m.\u001b[0m\u001b[0mhost\u001b[0m\u001b[1;33m\u001b[0m\u001b[1;33m\u001b[0m\u001b[0m\n",
      "\u001b[1;32mc:\\python39\\lib\\site-packages\\urllib3\\connection.py\u001b[0m in \u001b[0;36m_new_conn\u001b[1;34m(self)\u001b[0m\n\u001b[0;32m    185\u001b[0m         \u001b[1;32mexcept\u001b[0m \u001b[0mSocketError\u001b[0m \u001b[1;32mas\u001b[0m \u001b[0me\u001b[0m\u001b[1;33m:\u001b[0m\u001b[1;33m\u001b[0m\u001b[1;33m\u001b[0m\u001b[0m\n\u001b[1;32m--> 186\u001b[1;33m             raise NewConnectionError(\n\u001b[0m\u001b[0;32m    187\u001b[0m                 \u001b[0mself\u001b[0m\u001b[1;33m,\u001b[0m \u001b[1;34m\"Failed to establish a new connection: %s\"\u001b[0m \u001b[1;33m%\u001b[0m \u001b[0me\u001b[0m\u001b[1;33m\u001b[0m\u001b[1;33m\u001b[0m\u001b[0m\n",
      "\u001b[1;31mNewConnectionError\u001b[0m: <urllib3.connection.HTTPSConnection object at 0x000001E15CC9BE20>: Failed to establish a new connection: [WinError 10061] No connection could be made because the target machine actively refused it",
      "\nDuring handling of the above exception, another exception occurred:\n",
      "\u001b[1;31mMaxRetryError\u001b[0m                             Traceback (most recent call last)",
      "\u001b[1;32mc:\\python39\\lib\\site-packages\\requests\\adapters.py\u001b[0m in \u001b[0;36msend\u001b[1;34m(self, request, stream, timeout, verify, cert, proxies)\u001b[0m\n\u001b[0;32m    438\u001b[0m             \u001b[1;32mif\u001b[0m \u001b[1;32mnot\u001b[0m \u001b[0mchunked\u001b[0m\u001b[1;33m:\u001b[0m\u001b[1;33m\u001b[0m\u001b[1;33m\u001b[0m\u001b[0m\n\u001b[1;32m--> 439\u001b[1;33m                 resp = conn.urlopen(\n\u001b[0m\u001b[0;32m    440\u001b[0m                     \u001b[0mmethod\u001b[0m\u001b[1;33m=\u001b[0m\u001b[0mrequest\u001b[0m\u001b[1;33m.\u001b[0m\u001b[0mmethod\u001b[0m\u001b[1;33m,\u001b[0m\u001b[1;33m\u001b[0m\u001b[1;33m\u001b[0m\u001b[0m\n",
      "\u001b[1;32mc:\\python39\\lib\\site-packages\\urllib3\\connectionpool.py\u001b[0m in \u001b[0;36murlopen\u001b[1;34m(self, method, url, body, headers, retries, redirect, assert_same_host, timeout, pool_timeout, release_conn, chunked, body_pos, **response_kw)\u001b[0m\n\u001b[0;32m    754\u001b[0m \u001b[1;33m\u001b[0m\u001b[0m\n\u001b[1;32m--> 755\u001b[1;33m             retries = retries.increment(\n\u001b[0m\u001b[0;32m    756\u001b[0m                 \u001b[0mmethod\u001b[0m\u001b[1;33m,\u001b[0m \u001b[0murl\u001b[0m\u001b[1;33m,\u001b[0m \u001b[0merror\u001b[0m\u001b[1;33m=\u001b[0m\u001b[0me\u001b[0m\u001b[1;33m,\u001b[0m \u001b[0m_pool\u001b[0m\u001b[1;33m=\u001b[0m\u001b[0mself\u001b[0m\u001b[1;33m,\u001b[0m \u001b[0m_stacktrace\u001b[0m\u001b[1;33m=\u001b[0m\u001b[0msys\u001b[0m\u001b[1;33m.\u001b[0m\u001b[0mexc_info\u001b[0m\u001b[1;33m(\u001b[0m\u001b[1;33m)\u001b[0m\u001b[1;33m[\u001b[0m\u001b[1;36m2\u001b[0m\u001b[1;33m]\u001b[0m\u001b[1;33m\u001b[0m\u001b[1;33m\u001b[0m\u001b[0m\n",
      "\u001b[1;32mc:\\python39\\lib\\site-packages\\urllib3\\util\\retry.py\u001b[0m in \u001b[0;36mincrement\u001b[1;34m(self, method, url, response, error, _pool, _stacktrace)\u001b[0m\n\u001b[0;32m    573\u001b[0m         \u001b[1;32mif\u001b[0m \u001b[0mnew_retry\u001b[0m\u001b[1;33m.\u001b[0m\u001b[0mis_exhausted\u001b[0m\u001b[1;33m(\u001b[0m\u001b[1;33m)\u001b[0m\u001b[1;33m:\u001b[0m\u001b[1;33m\u001b[0m\u001b[1;33m\u001b[0m\u001b[0m\n\u001b[1;32m--> 574\u001b[1;33m             \u001b[1;32mraise\u001b[0m \u001b[0mMaxRetryError\u001b[0m\u001b[1;33m(\u001b[0m\u001b[0m_pool\u001b[0m\u001b[1;33m,\u001b[0m \u001b[0murl\u001b[0m\u001b[1;33m,\u001b[0m \u001b[0merror\u001b[0m \u001b[1;32mor\u001b[0m \u001b[0mResponseError\u001b[0m\u001b[1;33m(\u001b[0m\u001b[0mcause\u001b[0m\u001b[1;33m)\u001b[0m\u001b[1;33m)\u001b[0m\u001b[1;33m\u001b[0m\u001b[1;33m\u001b[0m\u001b[0m\n\u001b[0m\u001b[0;32m    575\u001b[0m \u001b[1;33m\u001b[0m\u001b[0m\n",
      "\u001b[1;31mMaxRetryError\u001b[0m: HTTPSConnectionPool(host='mtrack.merryspiders.com', port=443): Max retries exceeded with url: /NewsDetailsPublished.aspx?NewsId=e3E6Ggaq2uAX9SosCfBB7Q==&MediaType= (Caused by NewConnectionError('<urllib3.connection.HTTPSConnection object at 0x000001E15CC9BE20>: Failed to establish a new connection: [WinError 10061] No connection could be made because the target machine actively refused it'))",
      "\nDuring handling of the above exception, another exception occurred:\n",
      "\u001b[1;31mConnectionError\u001b[0m                           Traceback (most recent call last)",
      "\u001b[1;32m~\\AppData\\Local\\Temp/ipykernel_9828/2618849269.py\u001b[0m in \u001b[0;36m<module>\u001b[1;34m\u001b[0m\n\u001b[0;32m      1\u001b[0m \u001b[0murl\u001b[0m\u001b[1;33m=\u001b[0m\u001b[1;34m'https://mtrack.merryspiders.com/NewsDetailsPublished.aspx?NewsId=e3E6Ggaq2uAX9SosCfBB7Q==&MediaType='\u001b[0m\u001b[1;33m\u001b[0m\u001b[1;33m\u001b[0m\u001b[0m\n\u001b[1;32m----> 2\u001b[1;33m \u001b[0mwebpage\u001b[0m\u001b[1;33m=\u001b[0m\u001b[0mrequests\u001b[0m\u001b[1;33m.\u001b[0m\u001b[0mget\u001b[0m\u001b[1;33m(\u001b[0m\u001b[0murl\u001b[0m\u001b[1;33m)\u001b[0m\u001b[1;33m\u001b[0m\u001b[1;33m\u001b[0m\u001b[0m\n\u001b[0m",
      "\u001b[1;32mc:\\python39\\lib\\site-packages\\requests\\api.py\u001b[0m in \u001b[0;36mget\u001b[1;34m(url, params, **kwargs)\u001b[0m\n\u001b[0;32m     73\u001b[0m     \"\"\"\n\u001b[0;32m     74\u001b[0m \u001b[1;33m\u001b[0m\u001b[0m\n\u001b[1;32m---> 75\u001b[1;33m     \u001b[1;32mreturn\u001b[0m \u001b[0mrequest\u001b[0m\u001b[1;33m(\u001b[0m\u001b[1;34m'get'\u001b[0m\u001b[1;33m,\u001b[0m \u001b[0murl\u001b[0m\u001b[1;33m,\u001b[0m \u001b[0mparams\u001b[0m\u001b[1;33m=\u001b[0m\u001b[0mparams\u001b[0m\u001b[1;33m,\u001b[0m \u001b[1;33m**\u001b[0m\u001b[0mkwargs\u001b[0m\u001b[1;33m)\u001b[0m\u001b[1;33m\u001b[0m\u001b[1;33m\u001b[0m\u001b[0m\n\u001b[0m\u001b[0;32m     76\u001b[0m \u001b[1;33m\u001b[0m\u001b[0m\n\u001b[0;32m     77\u001b[0m \u001b[1;33m\u001b[0m\u001b[0m\n",
      "\u001b[1;32mc:\\python39\\lib\\site-packages\\requests\\api.py\u001b[0m in \u001b[0;36mrequest\u001b[1;34m(method, url, **kwargs)\u001b[0m\n\u001b[0;32m     59\u001b[0m     \u001b[1;31m# cases, and look like a memory leak in others.\u001b[0m\u001b[1;33m\u001b[0m\u001b[1;33m\u001b[0m\u001b[1;33m\u001b[0m\u001b[0m\n\u001b[0;32m     60\u001b[0m     \u001b[1;32mwith\u001b[0m \u001b[0msessions\u001b[0m\u001b[1;33m.\u001b[0m\u001b[0mSession\u001b[0m\u001b[1;33m(\u001b[0m\u001b[1;33m)\u001b[0m \u001b[1;32mas\u001b[0m \u001b[0msession\u001b[0m\u001b[1;33m:\u001b[0m\u001b[1;33m\u001b[0m\u001b[1;33m\u001b[0m\u001b[0m\n\u001b[1;32m---> 61\u001b[1;33m         \u001b[1;32mreturn\u001b[0m \u001b[0msession\u001b[0m\u001b[1;33m.\u001b[0m\u001b[0mrequest\u001b[0m\u001b[1;33m(\u001b[0m\u001b[0mmethod\u001b[0m\u001b[1;33m=\u001b[0m\u001b[0mmethod\u001b[0m\u001b[1;33m,\u001b[0m \u001b[0murl\u001b[0m\u001b[1;33m=\u001b[0m\u001b[0murl\u001b[0m\u001b[1;33m,\u001b[0m \u001b[1;33m**\u001b[0m\u001b[0mkwargs\u001b[0m\u001b[1;33m)\u001b[0m\u001b[1;33m\u001b[0m\u001b[1;33m\u001b[0m\u001b[0m\n\u001b[0m\u001b[0;32m     62\u001b[0m \u001b[1;33m\u001b[0m\u001b[0m\n\u001b[0;32m     63\u001b[0m \u001b[1;33m\u001b[0m\u001b[0m\n",
      "\u001b[1;32mc:\\python39\\lib\\site-packages\\requests\\sessions.py\u001b[0m in \u001b[0;36mrequest\u001b[1;34m(self, method, url, params, data, headers, cookies, files, auth, timeout, allow_redirects, proxies, hooks, stream, verify, cert, json)\u001b[0m\n\u001b[0;32m    540\u001b[0m         }\n\u001b[0;32m    541\u001b[0m         \u001b[0msend_kwargs\u001b[0m\u001b[1;33m.\u001b[0m\u001b[0mupdate\u001b[0m\u001b[1;33m(\u001b[0m\u001b[0msettings\u001b[0m\u001b[1;33m)\u001b[0m\u001b[1;33m\u001b[0m\u001b[1;33m\u001b[0m\u001b[0m\n\u001b[1;32m--> 542\u001b[1;33m         \u001b[0mresp\u001b[0m \u001b[1;33m=\u001b[0m \u001b[0mself\u001b[0m\u001b[1;33m.\u001b[0m\u001b[0msend\u001b[0m\u001b[1;33m(\u001b[0m\u001b[0mprep\u001b[0m\u001b[1;33m,\u001b[0m \u001b[1;33m**\u001b[0m\u001b[0msend_kwargs\u001b[0m\u001b[1;33m)\u001b[0m\u001b[1;33m\u001b[0m\u001b[1;33m\u001b[0m\u001b[0m\n\u001b[0m\u001b[0;32m    543\u001b[0m \u001b[1;33m\u001b[0m\u001b[0m\n\u001b[0;32m    544\u001b[0m         \u001b[1;32mreturn\u001b[0m \u001b[0mresp\u001b[0m\u001b[1;33m\u001b[0m\u001b[1;33m\u001b[0m\u001b[0m\n",
      "\u001b[1;32mc:\\python39\\lib\\site-packages\\requests\\sessions.py\u001b[0m in \u001b[0;36msend\u001b[1;34m(self, request, **kwargs)\u001b[0m\n\u001b[0;32m    653\u001b[0m \u001b[1;33m\u001b[0m\u001b[0m\n\u001b[0;32m    654\u001b[0m         \u001b[1;31m# Send the request\u001b[0m\u001b[1;33m\u001b[0m\u001b[1;33m\u001b[0m\u001b[1;33m\u001b[0m\u001b[0m\n\u001b[1;32m--> 655\u001b[1;33m         \u001b[0mr\u001b[0m \u001b[1;33m=\u001b[0m \u001b[0madapter\u001b[0m\u001b[1;33m.\u001b[0m\u001b[0msend\u001b[0m\u001b[1;33m(\u001b[0m\u001b[0mrequest\u001b[0m\u001b[1;33m,\u001b[0m \u001b[1;33m**\u001b[0m\u001b[0mkwargs\u001b[0m\u001b[1;33m)\u001b[0m\u001b[1;33m\u001b[0m\u001b[1;33m\u001b[0m\u001b[0m\n\u001b[0m\u001b[0;32m    656\u001b[0m \u001b[1;33m\u001b[0m\u001b[0m\n\u001b[0;32m    657\u001b[0m         \u001b[1;31m# Total elapsed time of the request (approximately)\u001b[0m\u001b[1;33m\u001b[0m\u001b[1;33m\u001b[0m\u001b[1;33m\u001b[0m\u001b[0m\n",
      "\u001b[1;32mc:\\python39\\lib\\site-packages\\requests\\adapters.py\u001b[0m in \u001b[0;36msend\u001b[1;34m(self, request, stream, timeout, verify, cert, proxies)\u001b[0m\n\u001b[0;32m    514\u001b[0m                 \u001b[1;32mraise\u001b[0m \u001b[0mSSLError\u001b[0m\u001b[1;33m(\u001b[0m\u001b[0me\u001b[0m\u001b[1;33m,\u001b[0m \u001b[0mrequest\u001b[0m\u001b[1;33m=\u001b[0m\u001b[0mrequest\u001b[0m\u001b[1;33m)\u001b[0m\u001b[1;33m\u001b[0m\u001b[1;33m\u001b[0m\u001b[0m\n\u001b[0;32m    515\u001b[0m \u001b[1;33m\u001b[0m\u001b[0m\n\u001b[1;32m--> 516\u001b[1;33m             \u001b[1;32mraise\u001b[0m \u001b[0mConnectionError\u001b[0m\u001b[1;33m(\u001b[0m\u001b[0me\u001b[0m\u001b[1;33m,\u001b[0m \u001b[0mrequest\u001b[0m\u001b[1;33m=\u001b[0m\u001b[0mrequest\u001b[0m\u001b[1;33m)\u001b[0m\u001b[1;33m\u001b[0m\u001b[1;33m\u001b[0m\u001b[0m\n\u001b[0m\u001b[0;32m    517\u001b[0m \u001b[1;33m\u001b[0m\u001b[0m\n\u001b[0;32m    518\u001b[0m         \u001b[1;32mexcept\u001b[0m \u001b[0mClosedPoolError\u001b[0m \u001b[1;32mas\u001b[0m \u001b[0me\u001b[0m\u001b[1;33m:\u001b[0m\u001b[1;33m\u001b[0m\u001b[1;33m\u001b[0m\u001b[0m\n",
      "\u001b[1;31mConnectionError\u001b[0m: HTTPSConnectionPool(host='mtrack.merryspiders.com', port=443): Max retries exceeded with url: /NewsDetailsPublished.aspx?NewsId=e3E6Ggaq2uAX9SosCfBB7Q==&MediaType= (Caused by NewConnectionError('<urllib3.connection.HTTPSConnection object at 0x000001E15CC9BE20>: Failed to establish a new connection: [WinError 10061] No connection could be made because the target machine actively refused it'))"
     ]
    }
   ],
   "source": [
    "url='https://mtrack.merryspiders.com/NewsDetailsPublished.aspx?NewsId=e3E6Ggaq2uAX9SosCfBB7Q==&MediaType='\n",
    "webpage=requests.get(url)\n"
   ]
  },
  {
   "cell_type": "code",
   "execution_count": 127,
   "id": "da8be176",
   "metadata": {},
   "outputs": [],
   "source": [
    "headers={'User-Agent':'Mozilla/5.0 (Windows NT 10.0; Win64'}"
   ]
  },
  {
   "cell_type": "code",
   "execution_count": 129,
   "id": "70463d35",
   "metadata": {},
   "outputs": [
    {
     "ename": "ConnectionError",
     "evalue": "HTTPSConnectionPool(host='mtrack.merryspiders.com', port=443): Max retries exceeded with url: /NewsDetailsPublished.aspx?NewsId=e3E6Ggaq2uAX9SosCfBB7Q==&MediaType= (Caused by NewConnectionError('<urllib3.connection.HTTPSConnection object at 0x000001E15CC2FF70>: Failed to establish a new connection: [WinError 10061] No connection could be made because the target machine actively refused it'))",
     "output_type": "error",
     "traceback": [
      "\u001b[1;31m---------------------------------------------------------------------------\u001b[0m",
      "\u001b[1;31mConnectionRefusedError\u001b[0m                    Traceback (most recent call last)",
      "\u001b[1;32mc:\\python39\\lib\\site-packages\\urllib3\\connection.py\u001b[0m in \u001b[0;36m_new_conn\u001b[1;34m(self)\u001b[0m\n\u001b[0;32m    173\u001b[0m         \u001b[1;32mtry\u001b[0m\u001b[1;33m:\u001b[0m\u001b[1;33m\u001b[0m\u001b[1;33m\u001b[0m\u001b[0m\n\u001b[1;32m--> 174\u001b[1;33m             conn = connection.create_connection(\n\u001b[0m\u001b[0;32m    175\u001b[0m                 \u001b[1;33m(\u001b[0m\u001b[0mself\u001b[0m\u001b[1;33m.\u001b[0m\u001b[0m_dns_host\u001b[0m\u001b[1;33m,\u001b[0m \u001b[0mself\u001b[0m\u001b[1;33m.\u001b[0m\u001b[0mport\u001b[0m\u001b[1;33m)\u001b[0m\u001b[1;33m,\u001b[0m \u001b[0mself\u001b[0m\u001b[1;33m.\u001b[0m\u001b[0mtimeout\u001b[0m\u001b[1;33m,\u001b[0m \u001b[1;33m**\u001b[0m\u001b[0mextra_kw\u001b[0m\u001b[1;33m\u001b[0m\u001b[1;33m\u001b[0m\u001b[0m\n",
      "\u001b[1;32mc:\\python39\\lib\\site-packages\\urllib3\\util\\connection.py\u001b[0m in \u001b[0;36mcreate_connection\u001b[1;34m(address, timeout, source_address, socket_options)\u001b[0m\n\u001b[0;32m     95\u001b[0m     \u001b[1;32mif\u001b[0m \u001b[0merr\u001b[0m \u001b[1;32mis\u001b[0m \u001b[1;32mnot\u001b[0m \u001b[1;32mNone\u001b[0m\u001b[1;33m:\u001b[0m\u001b[1;33m\u001b[0m\u001b[1;33m\u001b[0m\u001b[0m\n\u001b[1;32m---> 96\u001b[1;33m         \u001b[1;32mraise\u001b[0m \u001b[0merr\u001b[0m\u001b[1;33m\u001b[0m\u001b[1;33m\u001b[0m\u001b[0m\n\u001b[0m\u001b[0;32m     97\u001b[0m \u001b[1;33m\u001b[0m\u001b[0m\n",
      "\u001b[1;32mc:\\python39\\lib\\site-packages\\urllib3\\util\\connection.py\u001b[0m in \u001b[0;36mcreate_connection\u001b[1;34m(address, timeout, source_address, socket_options)\u001b[0m\n\u001b[0;32m     85\u001b[0m                 \u001b[0msock\u001b[0m\u001b[1;33m.\u001b[0m\u001b[0mbind\u001b[0m\u001b[1;33m(\u001b[0m\u001b[0msource_address\u001b[0m\u001b[1;33m)\u001b[0m\u001b[1;33m\u001b[0m\u001b[1;33m\u001b[0m\u001b[0m\n\u001b[1;32m---> 86\u001b[1;33m             \u001b[0msock\u001b[0m\u001b[1;33m.\u001b[0m\u001b[0mconnect\u001b[0m\u001b[1;33m(\u001b[0m\u001b[0msa\u001b[0m\u001b[1;33m)\u001b[0m\u001b[1;33m\u001b[0m\u001b[1;33m\u001b[0m\u001b[0m\n\u001b[0m\u001b[0;32m     87\u001b[0m             \u001b[1;32mreturn\u001b[0m \u001b[0msock\u001b[0m\u001b[1;33m\u001b[0m\u001b[1;33m\u001b[0m\u001b[0m\n",
      "\u001b[1;31mConnectionRefusedError\u001b[0m: [WinError 10061] No connection could be made because the target machine actively refused it",
      "\nDuring handling of the above exception, another exception occurred:\n",
      "\u001b[1;31mNewConnectionError\u001b[0m                        Traceback (most recent call last)",
      "\u001b[1;32mc:\\python39\\lib\\site-packages\\urllib3\\connectionpool.py\u001b[0m in \u001b[0;36murlopen\u001b[1;34m(self, method, url, body, headers, retries, redirect, assert_same_host, timeout, pool_timeout, release_conn, chunked, body_pos, **response_kw)\u001b[0m\n\u001b[0;32m    698\u001b[0m             \u001b[1;31m# Make the request on the httplib connection object.\u001b[0m\u001b[1;33m\u001b[0m\u001b[1;33m\u001b[0m\u001b[1;33m\u001b[0m\u001b[0m\n\u001b[1;32m--> 699\u001b[1;33m             httplib_response = self._make_request(\n\u001b[0m\u001b[0;32m    700\u001b[0m                 \u001b[0mconn\u001b[0m\u001b[1;33m,\u001b[0m\u001b[1;33m\u001b[0m\u001b[1;33m\u001b[0m\u001b[0m\n",
      "\u001b[1;32mc:\\python39\\lib\\site-packages\\urllib3\\connectionpool.py\u001b[0m in \u001b[0;36m_make_request\u001b[1;34m(self, conn, method, url, timeout, chunked, **httplib_request_kw)\u001b[0m\n\u001b[0;32m    381\u001b[0m         \u001b[1;32mtry\u001b[0m\u001b[1;33m:\u001b[0m\u001b[1;33m\u001b[0m\u001b[1;33m\u001b[0m\u001b[0m\n\u001b[1;32m--> 382\u001b[1;33m             \u001b[0mself\u001b[0m\u001b[1;33m.\u001b[0m\u001b[0m_validate_conn\u001b[0m\u001b[1;33m(\u001b[0m\u001b[0mconn\u001b[0m\u001b[1;33m)\u001b[0m\u001b[1;33m\u001b[0m\u001b[1;33m\u001b[0m\u001b[0m\n\u001b[0m\u001b[0;32m    383\u001b[0m         \u001b[1;32mexcept\u001b[0m \u001b[1;33m(\u001b[0m\u001b[0mSocketTimeout\u001b[0m\u001b[1;33m,\u001b[0m \u001b[0mBaseSSLError\u001b[0m\u001b[1;33m)\u001b[0m \u001b[1;32mas\u001b[0m \u001b[0me\u001b[0m\u001b[1;33m:\u001b[0m\u001b[1;33m\u001b[0m\u001b[1;33m\u001b[0m\u001b[0m\n",
      "\u001b[1;32mc:\\python39\\lib\\site-packages\\urllib3\\connectionpool.py\u001b[0m in \u001b[0;36m_validate_conn\u001b[1;34m(self, conn)\u001b[0m\n\u001b[0;32m   1009\u001b[0m         \u001b[1;32mif\u001b[0m \u001b[1;32mnot\u001b[0m \u001b[0mgetattr\u001b[0m\u001b[1;33m(\u001b[0m\u001b[0mconn\u001b[0m\u001b[1;33m,\u001b[0m \u001b[1;34m\"sock\"\u001b[0m\u001b[1;33m,\u001b[0m \u001b[1;32mNone\u001b[0m\u001b[1;33m)\u001b[0m\u001b[1;33m:\u001b[0m  \u001b[1;31m# AppEngine might not have  `.sock`\u001b[0m\u001b[1;33m\u001b[0m\u001b[1;33m\u001b[0m\u001b[0m\n\u001b[1;32m-> 1010\u001b[1;33m             \u001b[0mconn\u001b[0m\u001b[1;33m.\u001b[0m\u001b[0mconnect\u001b[0m\u001b[1;33m(\u001b[0m\u001b[1;33m)\u001b[0m\u001b[1;33m\u001b[0m\u001b[1;33m\u001b[0m\u001b[0m\n\u001b[0m\u001b[0;32m   1011\u001b[0m \u001b[1;33m\u001b[0m\u001b[0m\n",
      "\u001b[1;32mc:\\python39\\lib\\site-packages\\urllib3\\connection.py\u001b[0m in \u001b[0;36mconnect\u001b[1;34m(self)\u001b[0m\n\u001b[0;32m    357\u001b[0m         \u001b[1;31m# Add certificate verification\u001b[0m\u001b[1;33m\u001b[0m\u001b[1;33m\u001b[0m\u001b[1;33m\u001b[0m\u001b[0m\n\u001b[1;32m--> 358\u001b[1;33m         \u001b[0mconn\u001b[0m \u001b[1;33m=\u001b[0m \u001b[0mself\u001b[0m\u001b[1;33m.\u001b[0m\u001b[0m_new_conn\u001b[0m\u001b[1;33m(\u001b[0m\u001b[1;33m)\u001b[0m\u001b[1;33m\u001b[0m\u001b[1;33m\u001b[0m\u001b[0m\n\u001b[0m\u001b[0;32m    359\u001b[0m         \u001b[0mhostname\u001b[0m \u001b[1;33m=\u001b[0m \u001b[0mself\u001b[0m\u001b[1;33m.\u001b[0m\u001b[0mhost\u001b[0m\u001b[1;33m\u001b[0m\u001b[1;33m\u001b[0m\u001b[0m\n",
      "\u001b[1;32mc:\\python39\\lib\\site-packages\\urllib3\\connection.py\u001b[0m in \u001b[0;36m_new_conn\u001b[1;34m(self)\u001b[0m\n\u001b[0;32m    185\u001b[0m         \u001b[1;32mexcept\u001b[0m \u001b[0mSocketError\u001b[0m \u001b[1;32mas\u001b[0m \u001b[0me\u001b[0m\u001b[1;33m:\u001b[0m\u001b[1;33m\u001b[0m\u001b[1;33m\u001b[0m\u001b[0m\n\u001b[1;32m--> 186\u001b[1;33m             raise NewConnectionError(\n\u001b[0m\u001b[0;32m    187\u001b[0m                 \u001b[0mself\u001b[0m\u001b[1;33m,\u001b[0m \u001b[1;34m\"Failed to establish a new connection: %s\"\u001b[0m \u001b[1;33m%\u001b[0m \u001b[0me\u001b[0m\u001b[1;33m\u001b[0m\u001b[1;33m\u001b[0m\u001b[0m\n",
      "\u001b[1;31mNewConnectionError\u001b[0m: <urllib3.connection.HTTPSConnection object at 0x000001E15CC2FF70>: Failed to establish a new connection: [WinError 10061] No connection could be made because the target machine actively refused it",
      "\nDuring handling of the above exception, another exception occurred:\n",
      "\u001b[1;31mMaxRetryError\u001b[0m                             Traceback (most recent call last)",
      "\u001b[1;32mc:\\python39\\lib\\site-packages\\requests\\adapters.py\u001b[0m in \u001b[0;36msend\u001b[1;34m(self, request, stream, timeout, verify, cert, proxies)\u001b[0m\n\u001b[0;32m    438\u001b[0m             \u001b[1;32mif\u001b[0m \u001b[1;32mnot\u001b[0m \u001b[0mchunked\u001b[0m\u001b[1;33m:\u001b[0m\u001b[1;33m\u001b[0m\u001b[1;33m\u001b[0m\u001b[0m\n\u001b[1;32m--> 439\u001b[1;33m                 resp = conn.urlopen(\n\u001b[0m\u001b[0;32m    440\u001b[0m                     \u001b[0mmethod\u001b[0m\u001b[1;33m=\u001b[0m\u001b[0mrequest\u001b[0m\u001b[1;33m.\u001b[0m\u001b[0mmethod\u001b[0m\u001b[1;33m,\u001b[0m\u001b[1;33m\u001b[0m\u001b[1;33m\u001b[0m\u001b[0m\n",
      "\u001b[1;32mc:\\python39\\lib\\site-packages\\urllib3\\connectionpool.py\u001b[0m in \u001b[0;36murlopen\u001b[1;34m(self, method, url, body, headers, retries, redirect, assert_same_host, timeout, pool_timeout, release_conn, chunked, body_pos, **response_kw)\u001b[0m\n\u001b[0;32m    754\u001b[0m \u001b[1;33m\u001b[0m\u001b[0m\n\u001b[1;32m--> 755\u001b[1;33m             retries = retries.increment(\n\u001b[0m\u001b[0;32m    756\u001b[0m                 \u001b[0mmethod\u001b[0m\u001b[1;33m,\u001b[0m \u001b[0murl\u001b[0m\u001b[1;33m,\u001b[0m \u001b[0merror\u001b[0m\u001b[1;33m=\u001b[0m\u001b[0me\u001b[0m\u001b[1;33m,\u001b[0m \u001b[0m_pool\u001b[0m\u001b[1;33m=\u001b[0m\u001b[0mself\u001b[0m\u001b[1;33m,\u001b[0m \u001b[0m_stacktrace\u001b[0m\u001b[1;33m=\u001b[0m\u001b[0msys\u001b[0m\u001b[1;33m.\u001b[0m\u001b[0mexc_info\u001b[0m\u001b[1;33m(\u001b[0m\u001b[1;33m)\u001b[0m\u001b[1;33m[\u001b[0m\u001b[1;36m2\u001b[0m\u001b[1;33m]\u001b[0m\u001b[1;33m\u001b[0m\u001b[1;33m\u001b[0m\u001b[0m\n",
      "\u001b[1;32mc:\\python39\\lib\\site-packages\\urllib3\\util\\retry.py\u001b[0m in \u001b[0;36mincrement\u001b[1;34m(self, method, url, response, error, _pool, _stacktrace)\u001b[0m\n\u001b[0;32m    573\u001b[0m         \u001b[1;32mif\u001b[0m \u001b[0mnew_retry\u001b[0m\u001b[1;33m.\u001b[0m\u001b[0mis_exhausted\u001b[0m\u001b[1;33m(\u001b[0m\u001b[1;33m)\u001b[0m\u001b[1;33m:\u001b[0m\u001b[1;33m\u001b[0m\u001b[1;33m\u001b[0m\u001b[0m\n\u001b[1;32m--> 574\u001b[1;33m             \u001b[1;32mraise\u001b[0m \u001b[0mMaxRetryError\u001b[0m\u001b[1;33m(\u001b[0m\u001b[0m_pool\u001b[0m\u001b[1;33m,\u001b[0m \u001b[0murl\u001b[0m\u001b[1;33m,\u001b[0m \u001b[0merror\u001b[0m \u001b[1;32mor\u001b[0m \u001b[0mResponseError\u001b[0m\u001b[1;33m(\u001b[0m\u001b[0mcause\u001b[0m\u001b[1;33m)\u001b[0m\u001b[1;33m)\u001b[0m\u001b[1;33m\u001b[0m\u001b[1;33m\u001b[0m\u001b[0m\n\u001b[0m\u001b[0;32m    575\u001b[0m \u001b[1;33m\u001b[0m\u001b[0m\n",
      "\u001b[1;31mMaxRetryError\u001b[0m: HTTPSConnectionPool(host='mtrack.merryspiders.com', port=443): Max retries exceeded with url: /NewsDetailsPublished.aspx?NewsId=e3E6Ggaq2uAX9SosCfBB7Q==&MediaType= (Caused by NewConnectionError('<urllib3.connection.HTTPSConnection object at 0x000001E15CC2FF70>: Failed to establish a new connection: [WinError 10061] No connection could be made because the target machine actively refused it'))",
      "\nDuring handling of the above exception, another exception occurred:\n",
      "\u001b[1;31mConnectionError\u001b[0m                           Traceback (most recent call last)",
      "\u001b[1;32m~\\AppData\\Local\\Temp/ipykernel_9828/3402403461.py\u001b[0m in \u001b[0;36m<module>\u001b[1;34m\u001b[0m\n\u001b[1;32m----> 1\u001b[1;33m \u001b[0mresponse\u001b[0m \u001b[1;33m=\u001b[0m \u001b[0mrequests\u001b[0m\u001b[1;33m.\u001b[0m\u001b[0mget\u001b[0m\u001b[1;33m(\u001b[0m\u001b[0murl\u001b[0m\u001b[1;33m,\u001b[0m \u001b[0mheaders\u001b[0m\u001b[1;33m=\u001b[0m\u001b[0mheaders\u001b[0m\u001b[1;33m)\u001b[0m\u001b[1;33m\u001b[0m\u001b[1;33m\u001b[0m\u001b[0m\n\u001b[0m\u001b[0;32m      2\u001b[0m \u001b[0mprint\u001b[0m\u001b[1;33m(\u001b[0m\u001b[0mresponse\u001b[0m\u001b[1;33m.\u001b[0m\u001b[0mcontent\u001b[0m\u001b[1;33m)\u001b[0m\u001b[1;33m\u001b[0m\u001b[1;33m\u001b[0m\u001b[0m\n",
      "\u001b[1;32mc:\\python39\\lib\\site-packages\\requests\\api.py\u001b[0m in \u001b[0;36mget\u001b[1;34m(url, params, **kwargs)\u001b[0m\n\u001b[0;32m     73\u001b[0m     \"\"\"\n\u001b[0;32m     74\u001b[0m \u001b[1;33m\u001b[0m\u001b[0m\n\u001b[1;32m---> 75\u001b[1;33m     \u001b[1;32mreturn\u001b[0m \u001b[0mrequest\u001b[0m\u001b[1;33m(\u001b[0m\u001b[1;34m'get'\u001b[0m\u001b[1;33m,\u001b[0m \u001b[0murl\u001b[0m\u001b[1;33m,\u001b[0m \u001b[0mparams\u001b[0m\u001b[1;33m=\u001b[0m\u001b[0mparams\u001b[0m\u001b[1;33m,\u001b[0m \u001b[1;33m**\u001b[0m\u001b[0mkwargs\u001b[0m\u001b[1;33m)\u001b[0m\u001b[1;33m\u001b[0m\u001b[1;33m\u001b[0m\u001b[0m\n\u001b[0m\u001b[0;32m     76\u001b[0m \u001b[1;33m\u001b[0m\u001b[0m\n\u001b[0;32m     77\u001b[0m \u001b[1;33m\u001b[0m\u001b[0m\n",
      "\u001b[1;32mc:\\python39\\lib\\site-packages\\requests\\api.py\u001b[0m in \u001b[0;36mrequest\u001b[1;34m(method, url, **kwargs)\u001b[0m\n\u001b[0;32m     59\u001b[0m     \u001b[1;31m# cases, and look like a memory leak in others.\u001b[0m\u001b[1;33m\u001b[0m\u001b[1;33m\u001b[0m\u001b[1;33m\u001b[0m\u001b[0m\n\u001b[0;32m     60\u001b[0m     \u001b[1;32mwith\u001b[0m \u001b[0msessions\u001b[0m\u001b[1;33m.\u001b[0m\u001b[0mSession\u001b[0m\u001b[1;33m(\u001b[0m\u001b[1;33m)\u001b[0m \u001b[1;32mas\u001b[0m \u001b[0msession\u001b[0m\u001b[1;33m:\u001b[0m\u001b[1;33m\u001b[0m\u001b[1;33m\u001b[0m\u001b[0m\n\u001b[1;32m---> 61\u001b[1;33m         \u001b[1;32mreturn\u001b[0m \u001b[0msession\u001b[0m\u001b[1;33m.\u001b[0m\u001b[0mrequest\u001b[0m\u001b[1;33m(\u001b[0m\u001b[0mmethod\u001b[0m\u001b[1;33m=\u001b[0m\u001b[0mmethod\u001b[0m\u001b[1;33m,\u001b[0m \u001b[0murl\u001b[0m\u001b[1;33m=\u001b[0m\u001b[0murl\u001b[0m\u001b[1;33m,\u001b[0m \u001b[1;33m**\u001b[0m\u001b[0mkwargs\u001b[0m\u001b[1;33m)\u001b[0m\u001b[1;33m\u001b[0m\u001b[1;33m\u001b[0m\u001b[0m\n\u001b[0m\u001b[0;32m     62\u001b[0m \u001b[1;33m\u001b[0m\u001b[0m\n\u001b[0;32m     63\u001b[0m \u001b[1;33m\u001b[0m\u001b[0m\n",
      "\u001b[1;32mc:\\python39\\lib\\site-packages\\requests\\sessions.py\u001b[0m in \u001b[0;36mrequest\u001b[1;34m(self, method, url, params, data, headers, cookies, files, auth, timeout, allow_redirects, proxies, hooks, stream, verify, cert, json)\u001b[0m\n\u001b[0;32m    540\u001b[0m         }\n\u001b[0;32m    541\u001b[0m         \u001b[0msend_kwargs\u001b[0m\u001b[1;33m.\u001b[0m\u001b[0mupdate\u001b[0m\u001b[1;33m(\u001b[0m\u001b[0msettings\u001b[0m\u001b[1;33m)\u001b[0m\u001b[1;33m\u001b[0m\u001b[1;33m\u001b[0m\u001b[0m\n\u001b[1;32m--> 542\u001b[1;33m         \u001b[0mresp\u001b[0m \u001b[1;33m=\u001b[0m \u001b[0mself\u001b[0m\u001b[1;33m.\u001b[0m\u001b[0msend\u001b[0m\u001b[1;33m(\u001b[0m\u001b[0mprep\u001b[0m\u001b[1;33m,\u001b[0m \u001b[1;33m**\u001b[0m\u001b[0msend_kwargs\u001b[0m\u001b[1;33m)\u001b[0m\u001b[1;33m\u001b[0m\u001b[1;33m\u001b[0m\u001b[0m\n\u001b[0m\u001b[0;32m    543\u001b[0m \u001b[1;33m\u001b[0m\u001b[0m\n\u001b[0;32m    544\u001b[0m         \u001b[1;32mreturn\u001b[0m \u001b[0mresp\u001b[0m\u001b[1;33m\u001b[0m\u001b[1;33m\u001b[0m\u001b[0m\n",
      "\u001b[1;32mc:\\python39\\lib\\site-packages\\requests\\sessions.py\u001b[0m in \u001b[0;36msend\u001b[1;34m(self, request, **kwargs)\u001b[0m\n\u001b[0;32m    653\u001b[0m \u001b[1;33m\u001b[0m\u001b[0m\n\u001b[0;32m    654\u001b[0m         \u001b[1;31m# Send the request\u001b[0m\u001b[1;33m\u001b[0m\u001b[1;33m\u001b[0m\u001b[1;33m\u001b[0m\u001b[0m\n\u001b[1;32m--> 655\u001b[1;33m         \u001b[0mr\u001b[0m \u001b[1;33m=\u001b[0m \u001b[0madapter\u001b[0m\u001b[1;33m.\u001b[0m\u001b[0msend\u001b[0m\u001b[1;33m(\u001b[0m\u001b[0mrequest\u001b[0m\u001b[1;33m,\u001b[0m \u001b[1;33m**\u001b[0m\u001b[0mkwargs\u001b[0m\u001b[1;33m)\u001b[0m\u001b[1;33m\u001b[0m\u001b[1;33m\u001b[0m\u001b[0m\n\u001b[0m\u001b[0;32m    656\u001b[0m \u001b[1;33m\u001b[0m\u001b[0m\n\u001b[0;32m    657\u001b[0m         \u001b[1;31m# Total elapsed time of the request (approximately)\u001b[0m\u001b[1;33m\u001b[0m\u001b[1;33m\u001b[0m\u001b[1;33m\u001b[0m\u001b[0m\n",
      "\u001b[1;32mc:\\python39\\lib\\site-packages\\requests\\adapters.py\u001b[0m in \u001b[0;36msend\u001b[1;34m(self, request, stream, timeout, verify, cert, proxies)\u001b[0m\n\u001b[0;32m    514\u001b[0m                 \u001b[1;32mraise\u001b[0m \u001b[0mSSLError\u001b[0m\u001b[1;33m(\u001b[0m\u001b[0me\u001b[0m\u001b[1;33m,\u001b[0m \u001b[0mrequest\u001b[0m\u001b[1;33m=\u001b[0m\u001b[0mrequest\u001b[0m\u001b[1;33m)\u001b[0m\u001b[1;33m\u001b[0m\u001b[1;33m\u001b[0m\u001b[0m\n\u001b[0;32m    515\u001b[0m \u001b[1;33m\u001b[0m\u001b[0m\n\u001b[1;32m--> 516\u001b[1;33m             \u001b[1;32mraise\u001b[0m \u001b[0mConnectionError\u001b[0m\u001b[1;33m(\u001b[0m\u001b[0me\u001b[0m\u001b[1;33m,\u001b[0m \u001b[0mrequest\u001b[0m\u001b[1;33m=\u001b[0m\u001b[0mrequest\u001b[0m\u001b[1;33m)\u001b[0m\u001b[1;33m\u001b[0m\u001b[1;33m\u001b[0m\u001b[0m\n\u001b[0m\u001b[0;32m    517\u001b[0m \u001b[1;33m\u001b[0m\u001b[0m\n\u001b[0;32m    518\u001b[0m         \u001b[1;32mexcept\u001b[0m \u001b[0mClosedPoolError\u001b[0m \u001b[1;32mas\u001b[0m \u001b[0me\u001b[0m\u001b[1;33m:\u001b[0m\u001b[1;33m\u001b[0m\u001b[1;33m\u001b[0m\u001b[0m\n",
      "\u001b[1;31mConnectionError\u001b[0m: HTTPSConnectionPool(host='mtrack.merryspiders.com', port=443): Max retries exceeded with url: /NewsDetailsPublished.aspx?NewsId=e3E6Ggaq2uAX9SosCfBB7Q==&MediaType= (Caused by NewConnectionError('<urllib3.connection.HTTPSConnection object at 0x000001E15CC2FF70>: Failed to establish a new connection: [WinError 10061] No connection could be made because the target machine actively refused it'))"
     ]
    }
   ],
   "source": [
    "response = requests.get(url, headers=headers)\n",
    "print(response.content)"
   ]
  },
  {
   "cell_type": "code",
   "execution_count": 135,
   "id": "d9ef232d",
   "metadata": {},
   "outputs": [
    {
     "ename": "WebDriverException",
     "evalue": "Message: 'geckodriver' executable needs to be in PATH. \n",
     "output_type": "error",
     "traceback": [
      "\u001b[1;31m---------------------------------------------------------------------------\u001b[0m",
      "\u001b[1;31mFileNotFoundError\u001b[0m                         Traceback (most recent call last)",
      "\u001b[1;32mc:\\python39\\lib\\site-packages\\selenium\\webdriver\\common\\service.py\u001b[0m in \u001b[0;36mstart\u001b[1;34m(self)\u001b[0m\n\u001b[0;32m     71\u001b[0m             \u001b[0mcmd\u001b[0m\u001b[1;33m.\u001b[0m\u001b[0mextend\u001b[0m\u001b[1;33m(\u001b[0m\u001b[0mself\u001b[0m\u001b[1;33m.\u001b[0m\u001b[0mcommand_line_args\u001b[0m\u001b[1;33m(\u001b[0m\u001b[1;33m)\u001b[0m\u001b[1;33m)\u001b[0m\u001b[1;33m\u001b[0m\u001b[1;33m\u001b[0m\u001b[0m\n\u001b[1;32m---> 72\u001b[1;33m             self.process = subprocess.Popen(cmd, env=self.env,\n\u001b[0m\u001b[0;32m     73\u001b[0m                                             \u001b[0mclose_fds\u001b[0m\u001b[1;33m=\u001b[0m\u001b[0mplatform\u001b[0m\u001b[1;33m.\u001b[0m\u001b[0msystem\u001b[0m\u001b[1;33m(\u001b[0m\u001b[1;33m)\u001b[0m \u001b[1;33m!=\u001b[0m \u001b[1;34m'Windows'\u001b[0m\u001b[1;33m,\u001b[0m\u001b[1;33m\u001b[0m\u001b[1;33m\u001b[0m\u001b[0m\n",
      "\u001b[1;32mc:\\python39\\lib\\subprocess.py\u001b[0m in \u001b[0;36m__init__\u001b[1;34m(self, args, bufsize, executable, stdin, stdout, stderr, preexec_fn, close_fds, shell, cwd, env, universal_newlines, startupinfo, creationflags, restore_signals, start_new_session, pass_fds, user, group, extra_groups, encoding, errors, text, umask)\u001b[0m\n\u001b[0;32m    950\u001b[0m \u001b[1;33m\u001b[0m\u001b[0m\n\u001b[1;32m--> 951\u001b[1;33m             self._execute_child(args, executable, preexec_fn, close_fds,\n\u001b[0m\u001b[0;32m    952\u001b[0m                                 \u001b[0mpass_fds\u001b[0m\u001b[1;33m,\u001b[0m \u001b[0mcwd\u001b[0m\u001b[1;33m,\u001b[0m \u001b[0menv\u001b[0m\u001b[1;33m,\u001b[0m\u001b[1;33m\u001b[0m\u001b[1;33m\u001b[0m\u001b[0m\n",
      "\u001b[1;32mc:\\python39\\lib\\subprocess.py\u001b[0m in \u001b[0;36m_execute_child\u001b[1;34m(self, args, executable, preexec_fn, close_fds, pass_fds, cwd, env, startupinfo, creationflags, shell, p2cread, p2cwrite, c2pread, c2pwrite, errread, errwrite, unused_restore_signals, unused_gid, unused_gids, unused_uid, unused_umask, unused_start_new_session)\u001b[0m\n\u001b[0;32m   1419\u001b[0m             \u001b[1;32mtry\u001b[0m\u001b[1;33m:\u001b[0m\u001b[1;33m\u001b[0m\u001b[1;33m\u001b[0m\u001b[0m\n\u001b[1;32m-> 1420\u001b[1;33m                 hp, ht, pid, tid = _winapi.CreateProcess(executable, args,\n\u001b[0m\u001b[0;32m   1421\u001b[0m                                          \u001b[1;31m# no special security\u001b[0m\u001b[1;33m\u001b[0m\u001b[1;33m\u001b[0m\u001b[1;33m\u001b[0m\u001b[0m\n",
      "\u001b[1;31mFileNotFoundError\u001b[0m: [WinError 2] The system cannot find the file specified",
      "\nDuring handling of the above exception, another exception occurred:\n",
      "\u001b[1;31mWebDriverException\u001b[0m                        Traceback (most recent call last)",
      "\u001b[1;32m~\\AppData\\Local\\Temp/ipykernel_9828/3713201390.py\u001b[0m in \u001b[0;36m<module>\u001b[1;34m\u001b[0m\n\u001b[1;32m----> 1\u001b[1;33m \u001b[1;32mwith\u001b[0m \u001b[0mBrowser\u001b[0m\u001b[1;33m(\u001b[0m\u001b[1;33m)\u001b[0m \u001b[1;32mas\u001b[0m \u001b[0mbrowser\u001b[0m\u001b[1;33m:\u001b[0m\u001b[1;33m\u001b[0m\u001b[1;33m\u001b[0m\u001b[0m\n\u001b[0m\u001b[0;32m      2\u001b[0m     \u001b[1;31m# Visit URL\u001b[0m\u001b[1;33m\u001b[0m\u001b[1;33m\u001b[0m\u001b[1;33m\u001b[0m\u001b[0m\n\u001b[0;32m      3\u001b[0m     \u001b[0murl\u001b[0m \u001b[1;33m=\u001b[0m \u001b[1;34m\"http://mtrack.merryspiders.com/NewsDetailsPublished.aspx?NewsId=fStooxHhm+dHReKuXJaoQw==&MediaType=\"\u001b[0m\u001b[1;33m\u001b[0m\u001b[1;33m\u001b[0m\u001b[0m\n\u001b[0;32m      4\u001b[0m     \u001b[0mbrowser\u001b[0m\u001b[1;33m.\u001b[0m\u001b[0mvisit\u001b[0m\u001b[1;33m(\u001b[0m\u001b[0murl\u001b[0m\u001b[1;33m)\u001b[0m\u001b[1;33m\u001b[0m\u001b[1;33m\u001b[0m\u001b[0m\n",
      "\u001b[1;32mc:\\python39\\lib\\site-packages\\splinter\\browser.py\u001b[0m in \u001b[0;36mBrowser\u001b[1;34m(driver_name, retry_count, *args, **kwargs)\u001b[0m\n\u001b[0;32m     99\u001b[0m         \u001b[1;32mraise\u001b[0m \u001b[0mDriverNotFoundError\u001b[0m\u001b[1;33m(\u001b[0m\u001b[1;34m\"No driver for %s\"\u001b[0m \u001b[1;33m%\u001b[0m \u001b[0mdriver_name\u001b[0m\u001b[1;33m)\u001b[0m\u001b[1;33m\u001b[0m\u001b[1;33m\u001b[0m\u001b[0m\n\u001b[0;32m    100\u001b[0m \u001b[1;33m\u001b[0m\u001b[0m\n\u001b[1;32m--> 101\u001b[1;33m     \u001b[1;32mreturn\u001b[0m \u001b[0mget_driver\u001b[0m\u001b[1;33m(\u001b[0m\u001b[0mdriver\u001b[0m\u001b[1;33m,\u001b[0m \u001b[0mretry_count\u001b[0m\u001b[1;33m=\u001b[0m\u001b[0mretry_count\u001b[0m\u001b[1;33m,\u001b[0m \u001b[1;33m*\u001b[0m\u001b[0margs\u001b[0m\u001b[1;33m,\u001b[0m \u001b[1;33m**\u001b[0m\u001b[0mkwargs\u001b[0m\u001b[1;33m)\u001b[0m\u001b[1;33m\u001b[0m\u001b[1;33m\u001b[0m\u001b[0m\n\u001b[0m",
      "\u001b[1;32mc:\\python39\\lib\\site-packages\\splinter\\browser.py\u001b[0m in \u001b[0;36mget_driver\u001b[1;34m(driver, retry_count, *args, **kwargs)\u001b[0m\n\u001b[0;32m     74\u001b[0m             \u001b[0merr\u001b[0m \u001b[1;33m=\u001b[0m \u001b[0me\u001b[0m\u001b[1;33m\u001b[0m\u001b[1;33m\u001b[0m\u001b[0m\n\u001b[0;32m     75\u001b[0m \u001b[1;33m\u001b[0m\u001b[0m\n\u001b[1;32m---> 76\u001b[1;33m     \u001b[1;32mraise\u001b[0m \u001b[0merr\u001b[0m\u001b[1;33m\u001b[0m\u001b[1;33m\u001b[0m\u001b[0m\n\u001b[0m\u001b[0;32m     77\u001b[0m \u001b[1;33m\u001b[0m\u001b[0m\n\u001b[0;32m     78\u001b[0m \u001b[1;33m\u001b[0m\u001b[0m\n",
      "\u001b[1;32mc:\\python39\\lib\\site-packages\\splinter\\browser.py\u001b[0m in \u001b[0;36mget_driver\u001b[1;34m(driver, retry_count, *args, **kwargs)\u001b[0m\n\u001b[0;32m     70\u001b[0m     \u001b[1;32mfor\u001b[0m \u001b[0m_\u001b[0m \u001b[1;32min\u001b[0m \u001b[0mrange\u001b[0m\u001b[1;33m(\u001b[0m\u001b[0mretry_count\u001b[0m\u001b[1;33m)\u001b[0m\u001b[1;33m:\u001b[0m\u001b[1;33m\u001b[0m\u001b[1;33m\u001b[0m\u001b[0m\n\u001b[0;32m     71\u001b[0m         \u001b[1;32mtry\u001b[0m\u001b[1;33m:\u001b[0m\u001b[1;33m\u001b[0m\u001b[1;33m\u001b[0m\u001b[0m\n\u001b[1;32m---> 72\u001b[1;33m             \u001b[1;32mreturn\u001b[0m \u001b[0mdriver\u001b[0m\u001b[1;33m(\u001b[0m\u001b[1;33m*\u001b[0m\u001b[0margs\u001b[0m\u001b[1;33m,\u001b[0m \u001b[1;33m**\u001b[0m\u001b[0mkwargs\u001b[0m\u001b[1;33m)\u001b[0m\u001b[1;33m\u001b[0m\u001b[1;33m\u001b[0m\u001b[0m\n\u001b[0m\u001b[0;32m     73\u001b[0m         \u001b[1;32mexcept\u001b[0m \u001b[1;33m(\u001b[0m\u001b[0mIOError\u001b[0m\u001b[1;33m,\u001b[0m \u001b[0mHTTPException\u001b[0m\u001b[1;33m,\u001b[0m \u001b[0mWebDriverException\u001b[0m\u001b[1;33m,\u001b[0m \u001b[0mMaxRetryError\u001b[0m\u001b[1;33m)\u001b[0m \u001b[1;32mas\u001b[0m \u001b[0me\u001b[0m\u001b[1;33m:\u001b[0m\u001b[1;33m\u001b[0m\u001b[1;33m\u001b[0m\u001b[0m\n\u001b[0;32m     74\u001b[0m             \u001b[0merr\u001b[0m \u001b[1;33m=\u001b[0m \u001b[0me\u001b[0m\u001b[1;33m\u001b[0m\u001b[1;33m\u001b[0m\u001b[0m\n",
      "\u001b[1;32mc:\\python39\\lib\\site-packages\\splinter\\driver\\webdriver\\firefox.py\u001b[0m in \u001b[0;36m__init__\u001b[1;34m(self, options, profile, extensions, user_agent, profile_preferences, fullscreen, wait_time, timeout, capabilities, headless, incognito, **kwargs)\u001b[0m\n\u001b[0;32m     65\u001b[0m             \u001b[0moptions\u001b[0m\u001b[1;33m.\u001b[0m\u001b[0madd_argument\u001b[0m\u001b[1;33m(\u001b[0m\u001b[1;34m\"-private\"\u001b[0m\u001b[1;33m)\u001b[0m\u001b[1;33m\u001b[0m\u001b[1;33m\u001b[0m\u001b[0m\n\u001b[0;32m     66\u001b[0m \u001b[1;33m\u001b[0m\u001b[0m\n\u001b[1;32m---> 67\u001b[1;33m         self.driver = Firefox(\n\u001b[0m\u001b[0;32m     68\u001b[0m             \u001b[0mfirefox_profile\u001b[0m\u001b[1;33m,\u001b[0m\u001b[1;33m\u001b[0m\u001b[1;33m\u001b[0m\u001b[0m\n\u001b[0;32m     69\u001b[0m             \u001b[0mcapabilities\u001b[0m\u001b[1;33m=\u001b[0m\u001b[0mfirefox_capabilities\u001b[0m\u001b[1;33m,\u001b[0m\u001b[1;33m\u001b[0m\u001b[1;33m\u001b[0m\u001b[0m\n",
      "\u001b[1;32mc:\\python39\\lib\\site-packages\\selenium\\webdriver\\firefox\\webdriver.py\u001b[0m in \u001b[0;36m__init__\u001b[1;34m(self, firefox_profile, firefox_binary, timeout, capabilities, proxy, executable_path, options, service_log_path, firefox_options, service_args, desired_capabilities, log_path, keep_alive)\u001b[0m\n\u001b[0;32m    162\u001b[0m                 \u001b[0mservice_args\u001b[0m\u001b[1;33m=\u001b[0m\u001b[0mservice_args\u001b[0m\u001b[1;33m,\u001b[0m\u001b[1;33m\u001b[0m\u001b[1;33m\u001b[0m\u001b[0m\n\u001b[0;32m    163\u001b[0m                 log_path=service_log_path)\n\u001b[1;32m--> 164\u001b[1;33m             \u001b[0mself\u001b[0m\u001b[1;33m.\u001b[0m\u001b[0mservice\u001b[0m\u001b[1;33m.\u001b[0m\u001b[0mstart\u001b[0m\u001b[1;33m(\u001b[0m\u001b[1;33m)\u001b[0m\u001b[1;33m\u001b[0m\u001b[1;33m\u001b[0m\u001b[0m\n\u001b[0m\u001b[0;32m    165\u001b[0m \u001b[1;33m\u001b[0m\u001b[0m\n\u001b[0;32m    166\u001b[0m             \u001b[0mcapabilities\u001b[0m\u001b[1;33m.\u001b[0m\u001b[0mupdate\u001b[0m\u001b[1;33m(\u001b[0m\u001b[0moptions\u001b[0m\u001b[1;33m.\u001b[0m\u001b[0mto_capabilities\u001b[0m\u001b[1;33m(\u001b[0m\u001b[1;33m)\u001b[0m\u001b[1;33m)\u001b[0m\u001b[1;33m\u001b[0m\u001b[1;33m\u001b[0m\u001b[0m\n",
      "\u001b[1;32mc:\\python39\\lib\\site-packages\\selenium\\webdriver\\common\\service.py\u001b[0m in \u001b[0;36mstart\u001b[1;34m(self)\u001b[0m\n\u001b[0;32m     79\u001b[0m         \u001b[1;32mexcept\u001b[0m \u001b[0mOSError\u001b[0m \u001b[1;32mas\u001b[0m \u001b[0merr\u001b[0m\u001b[1;33m:\u001b[0m\u001b[1;33m\u001b[0m\u001b[1;33m\u001b[0m\u001b[0m\n\u001b[0;32m     80\u001b[0m             \u001b[1;32mif\u001b[0m \u001b[0merr\u001b[0m\u001b[1;33m.\u001b[0m\u001b[0merrno\u001b[0m \u001b[1;33m==\u001b[0m \u001b[0merrno\u001b[0m\u001b[1;33m.\u001b[0m\u001b[0mENOENT\u001b[0m\u001b[1;33m:\u001b[0m\u001b[1;33m\u001b[0m\u001b[1;33m\u001b[0m\u001b[0m\n\u001b[1;32m---> 81\u001b[1;33m                 raise WebDriverException(\n\u001b[0m\u001b[0;32m     82\u001b[0m                     \"'%s' executable needs to be in PATH. %s\" % (\n\u001b[0;32m     83\u001b[0m                         os.path.basename(self.path), self.start_error_message)\n",
      "\u001b[1;31mWebDriverException\u001b[0m: Message: 'geckodriver' executable needs to be in PATH. \n"
     ]
    }
   ],
   "source": [
    "with Browser() as browser:\n",
    "    # Visit URL\n",
    "    url = \"http://mtrack.merryspiders.com/NewsDetailsPublished.aspx?NewsId=fStooxHhm+dHReKuXJaoQw==&MediaType=\"\n",
    "    browser.visit(url)\n"
   ]
  },
  {
   "cell_type": "code",
   "execution_count": 133,
   "id": "6ff11651",
   "metadata": {},
   "outputs": [],
   "source": [
    "browser = Browser('chrome')"
   ]
  },
  {
   "cell_type": "code",
   "execution_count": 134,
   "id": "a17c81c4",
   "metadata": {},
   "outputs": [
    {
     "ename": "DriverNotFoundError",
     "evalue": "No driver for Chrome",
     "output_type": "error",
     "traceback": [
      "\u001b[1;31m---------------------------------------------------------------------------\u001b[0m",
      "\u001b[1;31mKeyError\u001b[0m                                  Traceback (most recent call last)",
      "\u001b[1;32mc:\\python39\\lib\\site-packages\\splinter\\browser.py\u001b[0m in \u001b[0;36mBrowser\u001b[1;34m(driver_name, retry_count, *args, **kwargs)\u001b[0m\n\u001b[0;32m     96\u001b[0m     \u001b[1;32mtry\u001b[0m\u001b[1;33m:\u001b[0m\u001b[1;33m\u001b[0m\u001b[1;33m\u001b[0m\u001b[0m\n\u001b[1;32m---> 97\u001b[1;33m         \u001b[0mdriver\u001b[0m \u001b[1;33m=\u001b[0m \u001b[0m_DRIVERS\u001b[0m\u001b[1;33m[\u001b[0m\u001b[0mdriver_name\u001b[0m\u001b[1;33m]\u001b[0m\u001b[1;33m\u001b[0m\u001b[1;33m\u001b[0m\u001b[0m\n\u001b[0m\u001b[0;32m     98\u001b[0m     \u001b[1;32mexcept\u001b[0m \u001b[0mKeyError\u001b[0m\u001b[1;33m:\u001b[0m\u001b[1;33m\u001b[0m\u001b[1;33m\u001b[0m\u001b[0m\n",
      "\u001b[1;31mKeyError\u001b[0m: 'Chrome'",
      "\nDuring handling of the above exception, another exception occurred:\n",
      "\u001b[1;31mDriverNotFoundError\u001b[0m                       Traceback (most recent call last)",
      "\u001b[1;32m~\\AppData\\Local\\Temp/ipykernel_9828/2047776985.py\u001b[0m in \u001b[0;36m<module>\u001b[1;34m\u001b[0m\n\u001b[1;32m----> 1\u001b[1;33m \u001b[1;32mwith\u001b[0m \u001b[0mBrowser\u001b[0m\u001b[1;33m(\u001b[0m\u001b[1;34m'Chrome'\u001b[0m\u001b[1;33m)\u001b[0m \u001b[1;32mas\u001b[0m \u001b[0mbrowser\u001b[0m\u001b[1;33m:\u001b[0m\u001b[1;33m\u001b[0m\u001b[1;33m\u001b[0m\u001b[0m\n\u001b[0m\u001b[0;32m      2\u001b[0m     \u001b[1;31m# Visit URL\u001b[0m\u001b[1;33m\u001b[0m\u001b[1;33m\u001b[0m\u001b[1;33m\u001b[0m\u001b[0m\n\u001b[0;32m      3\u001b[0m     \u001b[0murl\u001b[0m \u001b[1;33m=\u001b[0m \u001b[1;34m\"http://mtrack.merryspiders.com/NewsDetailsPublished.aspx?NewsId=fStooxHhm+dHReKuXJaoQw==&MediaType=\"\u001b[0m\u001b[1;33m\u001b[0m\u001b[1;33m\u001b[0m\u001b[0m\n\u001b[0;32m      4\u001b[0m     \u001b[0mbrowser\u001b[0m\u001b[1;33m.\u001b[0m\u001b[0mvisit\u001b[0m\u001b[1;33m(\u001b[0m\u001b[0murl\u001b[0m\u001b[1;33m)\u001b[0m\u001b[1;33m\u001b[0m\u001b[1;33m\u001b[0m\u001b[0m\n",
      "\u001b[1;32mc:\\python39\\lib\\site-packages\\splinter\\browser.py\u001b[0m in \u001b[0;36mBrowser\u001b[1;34m(driver_name, retry_count, *args, **kwargs)\u001b[0m\n\u001b[0;32m     97\u001b[0m         \u001b[0mdriver\u001b[0m \u001b[1;33m=\u001b[0m \u001b[0m_DRIVERS\u001b[0m\u001b[1;33m[\u001b[0m\u001b[0mdriver_name\u001b[0m\u001b[1;33m]\u001b[0m\u001b[1;33m\u001b[0m\u001b[1;33m\u001b[0m\u001b[0m\n\u001b[0;32m     98\u001b[0m     \u001b[1;32mexcept\u001b[0m \u001b[0mKeyError\u001b[0m\u001b[1;33m:\u001b[0m\u001b[1;33m\u001b[0m\u001b[1;33m\u001b[0m\u001b[0m\n\u001b[1;32m---> 99\u001b[1;33m         \u001b[1;32mraise\u001b[0m \u001b[0mDriverNotFoundError\u001b[0m\u001b[1;33m(\u001b[0m\u001b[1;34m\"No driver for %s\"\u001b[0m \u001b[1;33m%\u001b[0m \u001b[0mdriver_name\u001b[0m\u001b[1;33m)\u001b[0m\u001b[1;33m\u001b[0m\u001b[1;33m\u001b[0m\u001b[0m\n\u001b[0m\u001b[0;32m    100\u001b[0m \u001b[1;33m\u001b[0m\u001b[0m\n\u001b[0;32m    101\u001b[0m     \u001b[1;32mreturn\u001b[0m \u001b[0mget_driver\u001b[0m\u001b[1;33m(\u001b[0m\u001b[0mdriver\u001b[0m\u001b[1;33m,\u001b[0m \u001b[0mretry_count\u001b[0m\u001b[1;33m=\u001b[0m\u001b[0mretry_count\u001b[0m\u001b[1;33m,\u001b[0m \u001b[1;33m*\u001b[0m\u001b[0margs\u001b[0m\u001b[1;33m,\u001b[0m \u001b[1;33m**\u001b[0m\u001b[0mkwargs\u001b[0m\u001b[1;33m)\u001b[0m\u001b[1;33m\u001b[0m\u001b[1;33m\u001b[0m\u001b[0m\n",
      "\u001b[1;31mDriverNotFoundError\u001b[0m: No driver for Chrome"
     ]
    }
   ],
   "source": [
    "with Browser() as browser:\n",
    "    # Visit URL\n",
    "    url = \"http://mtrack.merryspiders.com/NewsDetailsPublished.aspx?NewsId=fStooxHhm+dHReKuXJaoQw==&MediaType=\"\n",
    "    browser.visit(url)\n"
   ]
  },
  {
   "cell_type": "code",
   "execution_count": null,
   "id": "389f9444",
   "metadata": {},
   "outputs": [],
   "source": []
  }
 ],
 "metadata": {
  "kernelspec": {
   "display_name": "Python 3 (ipykernel)",
   "language": "python",
   "name": "python3"
  },
  "language_info": {
   "codemirror_mode": {
    "name": "ipython",
    "version": 3
   },
   "file_extension": ".py",
   "mimetype": "text/x-python",
   "name": "python",
   "nbconvert_exporter": "python",
   "pygments_lexer": "ipython3",
   "version": "3.9.2"
  }
 },
 "nbformat": 4,
 "nbformat_minor": 5
}
