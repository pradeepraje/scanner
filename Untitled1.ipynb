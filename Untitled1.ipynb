{
 "cells": [
  {
   "cell_type": "code",
   "execution_count": 3,
   "id": "0c23066f",
   "metadata": {},
   "outputs": [],
   "source": [
    "import wordwise\n"
   ]
  },
  {
   "cell_type": "code",
   "execution_count": 4,
   "id": "c9315c71",
   "metadata": {},
   "outputs": [],
   "source": [
    "from wordwise import Extractor"
   ]
  },
  {
   "cell_type": "code",
   "execution_count": 5,
   "id": "30c4a07e",
   "metadata": {},
   "outputs": [
    {
     "data": {
      "application/vnd.jupyter.widget-view+json": {
       "model_id": "3c353e11582449c3ac356b88360652e9",
       "version_major": 2,
       "version_minor": 0
      },
      "text/plain": [
       "Downloading:   0%|          | 0.00/555 [00:00<?, ?B/s]"
      ]
     },
     "metadata": {},
     "output_type": "display_data"
    },
    {
     "data": {
      "application/vnd.jupyter.widget-view+json": {
       "model_id": "d4e6527774f64ef9be35087968483b8a",
       "version_major": 2,
       "version_minor": 0
      },
      "text/plain": [
       "Downloading:   0%|          | 0.00/253M [00:00<?, ?B/s]"
      ]
     },
     "metadata": {},
     "output_type": "display_data"
    },
    {
     "data": {
      "application/vnd.jupyter.widget-view+json": {
       "model_id": "16525a1f71964cf99178d3b8ada82659",
       "version_major": 2,
       "version_minor": 0
      },
      "text/plain": [
       "Downloading:   0%|          | 0.00/505 [00:00<?, ?B/s]"
      ]
     },
     "metadata": {},
     "output_type": "display_data"
    },
    {
     "data": {
      "application/vnd.jupyter.widget-view+json": {
       "model_id": "9f59d27df2e04285a9ef2c977ba043d3",
       "version_major": 2,
       "version_minor": 0
      },
      "text/plain": [
       "Downloading:   0%|          | 0.00/226k [00:00<?, ?B/s]"
      ]
     },
     "metadata": {},
     "output_type": "display_data"
    },
    {
     "data": {
      "application/vnd.jupyter.widget-view+json": {
       "model_id": "57663f7b07d64baeac527bf971e2bdd1",
       "version_major": 2,
       "version_minor": 0
      },
      "text/plain": [
       "Downloading:   0%|          | 0.00/455k [00:00<?, ?B/s]"
      ]
     },
     "metadata": {},
     "output_type": "display_data"
    },
    {
     "data": {
      "application/vnd.jupyter.widget-view+json": {
       "model_id": "5aca07bb2f494f8c9996fcd2897d4abd",
       "version_major": 2,
       "version_minor": 0
      },
      "text/plain": [
       "Downloading:   0%|          | 0.00/112 [00:00<?, ?B/s]"
      ]
     },
     "metadata": {},
     "output_type": "display_data"
    }
   ],
   "source": [
    "extractor=Extractor()"
   ]
  },
  {
   "cell_type": "code",
   "execution_count": 6,
   "id": "30439705",
   "metadata": {},
   "outputs": [],
   "source": [
    "with open('cairn1.txt','r') as fin:\n",
    "    data=fin.read()"
   ]
  },
  {
   "cell_type": "code",
   "execution_count": 8,
   "id": "7568c641",
   "metadata": {},
   "outputs": [],
   "source": [
    "import io"
   ]
  },
  {
   "cell_type": "code",
   "execution_count": 32,
   "id": "2cb9f107",
   "metadata": {},
   "outputs": [],
   "source": [
    "with io.open(\"cairn1.txt\", mode=\"r\", encoding=\"utf-8\") as fin:\n",
    "    data1=fin.read()"
   ]
  },
  {
   "cell_type": "code",
   "execution_count": 14,
   "id": "0ac61723",
   "metadata": {},
   "outputs": [],
   "source": [
    "from flashtext import KeywordProcessor"
   ]
  },
  {
   "cell_type": "code",
   "execution_count": 15,
   "id": "84ca9017",
   "metadata": {},
   "outputs": [],
   "source": [
    "keyword_processor = KeywordProcessor()"
   ]
  },
  {
   "cell_type": "code",
   "execution_count": 21,
   "id": "2625c27d",
   "metadata": {},
   "outputs": [
    {
     "data": {
      "text/plain": [
       "True"
      ]
     },
     "execution_count": 21,
     "metadata": {},
     "output_type": "execute_result"
    }
   ],
   "source": [
    "keyword_processor.add_keyword('arbitration')"
   ]
  },
  {
   "cell_type": "code",
   "execution_count": 22,
   "id": "b573d75a",
   "metadata": {},
   "outputs": [],
   "source": [
    "keywords_found = keyword_processor.extract_keywords(data)"
   ]
  },
  {
   "cell_type": "code",
   "execution_count": 23,
   "id": "d735af75",
   "metadata": {},
   "outputs": [
    {
     "name": "stdout",
     "output_type": "stream",
     "text": [
      "['Cairn Energy', 'arbitration', 'arbitration', 'arbitration', 'arbitration']\n"
     ]
    }
   ],
   "source": [
    "print(keywords_found)"
   ]
  },
  {
   "cell_type": "code",
   "execution_count": 25,
   "id": "f35ea089",
   "metadata": {},
   "outputs": [],
   "source": [
    "#for Cairn2"
   ]
  },
  {
   "cell_type": "code",
   "execution_count": 70,
   "id": "53b62c89",
   "metadata": {},
   "outputs": [
    {
     "name": "stdout",
     "output_type": "stream",
     "text": [
      "['Cairn Energy', 'arbitration']\n"
     ]
    }
   ],
   "source": [
    "keywords_found = set(keyword_processor.extract_keywords(data1))\n",
    "print(list(keywords_found))"
   ]
  },
  {
   "cell_type": "code",
   "execution_count": 31,
   "id": "7f6b1a0e",
   "metadata": {},
   "outputs": [
    {
     "name": "stdout",
     "output_type": "stream",
     "text": [
      "[]\n"
     ]
    }
   ],
   "source": [
    "print(keywords_found)"
   ]
  },
  {
   "cell_type": "code",
   "execution_count": 28,
   "id": "b8494f17",
   "metadata": {},
   "outputs": [
    {
     "name": "stdout",
     "output_type": "stream",
     "text": [
      "With the establishment of a refinery in Pachpadra, the crude oil exploited in Barmer-Sanchore Basin will be cheaper after refining. Right now the crude oil is being sent to Gujarat and Panipat Refinery from Mangla Oil Field of Kawas through pipeline for getting refined but now HPCL will have to lay off only seventy-km pipeline from Mangla oil field to Pachpadra refinery. At present, it costs oneand- a-half-dollar per barrel for sending the oil to refinery. Two lakh barrels of crude oil is being produced in Barmer and sent to Gujarat every day. Sixty to seventy percent of the crude oil produced in Barmer is supplied to Reliance refinery. The remaining oil is supplied to Essar, IOC and HPCL’s Jamnagar, Koyali and Panipat refinery. Till now, Reliance was the biggest buyer of Barmer’s crude oil, but HPCL will become the biggest buyer when the refinery starts in Pachpadra. Cairn India will have to send the crude oil to Pachpadra refinery situated at a distance of 70 km, instead of Jamnagar-based refinery situated at about 700 km away. With this, cost of oil transport for refining will reduce to 10 percent. This will reduce the cost of refining crude oil produced in Barmer. \n",
      "\n",
      "At the same time, the benefit of sales tax of nearly 400crore that the Gujarat government gets every year from Cairn India, will now be transferred to Rajasthan government. Also, the Rajasthan government will get 12,000 crore rupees annually by refining the oil in Barmer and sending it for sale. Although oil is being produced in the Barmer basin for last nine years and this basin contains crude oil reserves for next twenty years, Cairn India is now going to drill more than five hundred new oil wells. The company’s experts are expected to get huge oil reserves in excavation of wells. Seismic surveys have also found signs of getting oil reserves. Geologist and Head of Department of Geology Department of Jainarayan Vyas University of Science, Professor Suresh Kumar Mathur has also expressed the possibility of getting huge oil reserves in the Barmer basin in one of his research papers. With the expectations of getting oil, Pachpadra refinery can prove to be a beneficial deal for HPCL and Rajasthan government. \n"
     ]
    }
   ],
   "source": [
    "print(data)"
   ]
  },
  {
   "cell_type": "code",
   "execution_count": 37,
   "id": "a3d0d71e",
   "metadata": {},
   "outputs": [],
   "source": [
    "from splinter import Browser"
   ]
  },
  {
   "cell_type": "code",
   "execution_count": 44,
   "id": "8ecb0fc0",
   "metadata": {},
   "outputs": [
    {
     "ename": "WebDriverException",
     "evalue": "Message: 'geckodriver' executable needs to be in PATH. \n",
     "output_type": "error",
     "traceback": [
      "\u001b[1;31m---------------------------------------------------------------------------\u001b[0m",
      "\u001b[1;31mFileNotFoundError\u001b[0m                         Traceback (most recent call last)",
      "\u001b[1;32mc:\\python39\\lib\\site-packages\\selenium\\webdriver\\common\\service.py\u001b[0m in \u001b[0;36mstart\u001b[1;34m(self)\u001b[0m\n\u001b[0;32m     71\u001b[0m             \u001b[0mcmd\u001b[0m\u001b[1;33m.\u001b[0m\u001b[0mextend\u001b[0m\u001b[1;33m(\u001b[0m\u001b[0mself\u001b[0m\u001b[1;33m.\u001b[0m\u001b[0mcommand_line_args\u001b[0m\u001b[1;33m(\u001b[0m\u001b[1;33m)\u001b[0m\u001b[1;33m)\u001b[0m\u001b[1;33m\u001b[0m\u001b[1;33m\u001b[0m\u001b[0m\n\u001b[1;32m---> 72\u001b[1;33m             self.process = subprocess.Popen(cmd, env=self.env,\n\u001b[0m\u001b[0;32m     73\u001b[0m                                             \u001b[0mclose_fds\u001b[0m\u001b[1;33m=\u001b[0m\u001b[0mplatform\u001b[0m\u001b[1;33m.\u001b[0m\u001b[0msystem\u001b[0m\u001b[1;33m(\u001b[0m\u001b[1;33m)\u001b[0m \u001b[1;33m!=\u001b[0m \u001b[1;34m'Windows'\u001b[0m\u001b[1;33m,\u001b[0m\u001b[1;33m\u001b[0m\u001b[1;33m\u001b[0m\u001b[0m\n",
      "\u001b[1;32mc:\\python39\\lib\\subprocess.py\u001b[0m in \u001b[0;36m__init__\u001b[1;34m(self, args, bufsize, executable, stdin, stdout, stderr, preexec_fn, close_fds, shell, cwd, env, universal_newlines, startupinfo, creationflags, restore_signals, start_new_session, pass_fds, user, group, extra_groups, encoding, errors, text, umask)\u001b[0m\n\u001b[0;32m    950\u001b[0m \u001b[1;33m\u001b[0m\u001b[0m\n\u001b[1;32m--> 951\u001b[1;33m             self._execute_child(args, executable, preexec_fn, close_fds,\n\u001b[0m\u001b[0;32m    952\u001b[0m                                 \u001b[0mpass_fds\u001b[0m\u001b[1;33m,\u001b[0m \u001b[0mcwd\u001b[0m\u001b[1;33m,\u001b[0m \u001b[0menv\u001b[0m\u001b[1;33m,\u001b[0m\u001b[1;33m\u001b[0m\u001b[1;33m\u001b[0m\u001b[0m\n",
      "\u001b[1;32mc:\\python39\\lib\\subprocess.py\u001b[0m in \u001b[0;36m_execute_child\u001b[1;34m(self, args, executable, preexec_fn, close_fds, pass_fds, cwd, env, startupinfo, creationflags, shell, p2cread, p2cwrite, c2pread, c2pwrite, errread, errwrite, unused_restore_signals, unused_gid, unused_gids, unused_uid, unused_umask, unused_start_new_session)\u001b[0m\n\u001b[0;32m   1419\u001b[0m             \u001b[1;32mtry\u001b[0m\u001b[1;33m:\u001b[0m\u001b[1;33m\u001b[0m\u001b[1;33m\u001b[0m\u001b[0m\n\u001b[1;32m-> 1420\u001b[1;33m                 hp, ht, pid, tid = _winapi.CreateProcess(executable, args,\n\u001b[0m\u001b[0;32m   1421\u001b[0m                                          \u001b[1;31m# no special security\u001b[0m\u001b[1;33m\u001b[0m\u001b[1;33m\u001b[0m\u001b[1;33m\u001b[0m\u001b[0m\n",
      "\u001b[1;31mFileNotFoundError\u001b[0m: [WinError 2] The system cannot find the file specified",
      "\nDuring handling of the above exception, another exception occurred:\n",
      "\u001b[1;31mWebDriverException\u001b[0m                        Traceback (most recent call last)",
      "\u001b[1;32m~\\AppData\\Local\\Temp/ipykernel_10740/3713201390.py\u001b[0m in \u001b[0;36m<module>\u001b[1;34m\u001b[0m\n\u001b[1;32m----> 1\u001b[1;33m \u001b[1;32mwith\u001b[0m \u001b[0mBrowser\u001b[0m\u001b[1;33m(\u001b[0m\u001b[1;33m)\u001b[0m \u001b[1;32mas\u001b[0m \u001b[0mbrowser\u001b[0m\u001b[1;33m:\u001b[0m\u001b[1;33m\u001b[0m\u001b[1;33m\u001b[0m\u001b[0m\n\u001b[0m\u001b[0;32m      2\u001b[0m     \u001b[1;31m# Visit URL\u001b[0m\u001b[1;33m\u001b[0m\u001b[1;33m\u001b[0m\u001b[1;33m\u001b[0m\u001b[0m\n\u001b[0;32m      3\u001b[0m     \u001b[0murl\u001b[0m \u001b[1;33m=\u001b[0m \u001b[1;34m\"http://mtrack.merryspiders.com/NewsDetailsPublished.aspx?NewsId=fStooxHhm+dHReKuXJaoQw==&MediaType=\"\u001b[0m\u001b[1;33m\u001b[0m\u001b[1;33m\u001b[0m\u001b[0m\n\u001b[0;32m      4\u001b[0m     \u001b[0mbrowser\u001b[0m\u001b[1;33m.\u001b[0m\u001b[0mvisit\u001b[0m\u001b[1;33m(\u001b[0m\u001b[0murl\u001b[0m\u001b[1;33m)\u001b[0m\u001b[1;33m\u001b[0m\u001b[1;33m\u001b[0m\u001b[0m\n",
      "\u001b[1;32mc:\\python39\\lib\\site-packages\\splinter\\browser.py\u001b[0m in \u001b[0;36mBrowser\u001b[1;34m(driver_name, retry_count, *args, **kwargs)\u001b[0m\n\u001b[0;32m     99\u001b[0m         \u001b[1;32mraise\u001b[0m \u001b[0mDriverNotFoundError\u001b[0m\u001b[1;33m(\u001b[0m\u001b[1;34m\"No driver for %s\"\u001b[0m \u001b[1;33m%\u001b[0m \u001b[0mdriver_name\u001b[0m\u001b[1;33m)\u001b[0m\u001b[1;33m\u001b[0m\u001b[1;33m\u001b[0m\u001b[0m\n\u001b[0;32m    100\u001b[0m \u001b[1;33m\u001b[0m\u001b[0m\n\u001b[1;32m--> 101\u001b[1;33m     \u001b[1;32mreturn\u001b[0m \u001b[0mget_driver\u001b[0m\u001b[1;33m(\u001b[0m\u001b[0mdriver\u001b[0m\u001b[1;33m,\u001b[0m \u001b[0mretry_count\u001b[0m\u001b[1;33m=\u001b[0m\u001b[0mretry_count\u001b[0m\u001b[1;33m,\u001b[0m \u001b[1;33m*\u001b[0m\u001b[0margs\u001b[0m\u001b[1;33m,\u001b[0m \u001b[1;33m**\u001b[0m\u001b[0mkwargs\u001b[0m\u001b[1;33m)\u001b[0m\u001b[1;33m\u001b[0m\u001b[1;33m\u001b[0m\u001b[0m\n\u001b[0m",
      "\u001b[1;32mc:\\python39\\lib\\site-packages\\splinter\\browser.py\u001b[0m in \u001b[0;36mget_driver\u001b[1;34m(driver, retry_count, *args, **kwargs)\u001b[0m\n\u001b[0;32m     74\u001b[0m             \u001b[0merr\u001b[0m \u001b[1;33m=\u001b[0m \u001b[0me\u001b[0m\u001b[1;33m\u001b[0m\u001b[1;33m\u001b[0m\u001b[0m\n\u001b[0;32m     75\u001b[0m \u001b[1;33m\u001b[0m\u001b[0m\n\u001b[1;32m---> 76\u001b[1;33m     \u001b[1;32mraise\u001b[0m \u001b[0merr\u001b[0m\u001b[1;33m\u001b[0m\u001b[1;33m\u001b[0m\u001b[0m\n\u001b[0m\u001b[0;32m     77\u001b[0m \u001b[1;33m\u001b[0m\u001b[0m\n\u001b[0;32m     78\u001b[0m \u001b[1;33m\u001b[0m\u001b[0m\n",
      "\u001b[1;32mc:\\python39\\lib\\site-packages\\splinter\\browser.py\u001b[0m in \u001b[0;36mget_driver\u001b[1;34m(driver, retry_count, *args, **kwargs)\u001b[0m\n\u001b[0;32m     70\u001b[0m     \u001b[1;32mfor\u001b[0m \u001b[0m_\u001b[0m \u001b[1;32min\u001b[0m \u001b[0mrange\u001b[0m\u001b[1;33m(\u001b[0m\u001b[0mretry_count\u001b[0m\u001b[1;33m)\u001b[0m\u001b[1;33m:\u001b[0m\u001b[1;33m\u001b[0m\u001b[1;33m\u001b[0m\u001b[0m\n\u001b[0;32m     71\u001b[0m         \u001b[1;32mtry\u001b[0m\u001b[1;33m:\u001b[0m\u001b[1;33m\u001b[0m\u001b[1;33m\u001b[0m\u001b[0m\n\u001b[1;32m---> 72\u001b[1;33m             \u001b[1;32mreturn\u001b[0m \u001b[0mdriver\u001b[0m\u001b[1;33m(\u001b[0m\u001b[1;33m*\u001b[0m\u001b[0margs\u001b[0m\u001b[1;33m,\u001b[0m \u001b[1;33m**\u001b[0m\u001b[0mkwargs\u001b[0m\u001b[1;33m)\u001b[0m\u001b[1;33m\u001b[0m\u001b[1;33m\u001b[0m\u001b[0m\n\u001b[0m\u001b[0;32m     73\u001b[0m         \u001b[1;32mexcept\u001b[0m \u001b[1;33m(\u001b[0m\u001b[0mIOError\u001b[0m\u001b[1;33m,\u001b[0m \u001b[0mHTTPException\u001b[0m\u001b[1;33m,\u001b[0m \u001b[0mWebDriverException\u001b[0m\u001b[1;33m,\u001b[0m \u001b[0mMaxRetryError\u001b[0m\u001b[1;33m)\u001b[0m \u001b[1;32mas\u001b[0m \u001b[0me\u001b[0m\u001b[1;33m:\u001b[0m\u001b[1;33m\u001b[0m\u001b[1;33m\u001b[0m\u001b[0m\n\u001b[0;32m     74\u001b[0m             \u001b[0merr\u001b[0m \u001b[1;33m=\u001b[0m \u001b[0me\u001b[0m\u001b[1;33m\u001b[0m\u001b[1;33m\u001b[0m\u001b[0m\n",
      "\u001b[1;32mc:\\python39\\lib\\site-packages\\splinter\\driver\\webdriver\\firefox.py\u001b[0m in \u001b[0;36m__init__\u001b[1;34m(self, options, profile, extensions, user_agent, profile_preferences, fullscreen, wait_time, timeout, capabilities, headless, incognito, **kwargs)\u001b[0m\n\u001b[0;32m     65\u001b[0m             \u001b[0moptions\u001b[0m\u001b[1;33m.\u001b[0m\u001b[0madd_argument\u001b[0m\u001b[1;33m(\u001b[0m\u001b[1;34m\"-private\"\u001b[0m\u001b[1;33m)\u001b[0m\u001b[1;33m\u001b[0m\u001b[1;33m\u001b[0m\u001b[0m\n\u001b[0;32m     66\u001b[0m \u001b[1;33m\u001b[0m\u001b[0m\n\u001b[1;32m---> 67\u001b[1;33m         self.driver = Firefox(\n\u001b[0m\u001b[0;32m     68\u001b[0m             \u001b[0mfirefox_profile\u001b[0m\u001b[1;33m,\u001b[0m\u001b[1;33m\u001b[0m\u001b[1;33m\u001b[0m\u001b[0m\n\u001b[0;32m     69\u001b[0m             \u001b[0mcapabilities\u001b[0m\u001b[1;33m=\u001b[0m\u001b[0mfirefox_capabilities\u001b[0m\u001b[1;33m,\u001b[0m\u001b[1;33m\u001b[0m\u001b[1;33m\u001b[0m\u001b[0m\n",
      "\u001b[1;32mc:\\python39\\lib\\site-packages\\selenium\\webdriver\\firefox\\webdriver.py\u001b[0m in \u001b[0;36m__init__\u001b[1;34m(self, firefox_profile, firefox_binary, timeout, capabilities, proxy, executable_path, options, service_log_path, firefox_options, service_args, desired_capabilities, log_path, keep_alive)\u001b[0m\n\u001b[0;32m    162\u001b[0m                 \u001b[0mservice_args\u001b[0m\u001b[1;33m=\u001b[0m\u001b[0mservice_args\u001b[0m\u001b[1;33m,\u001b[0m\u001b[1;33m\u001b[0m\u001b[1;33m\u001b[0m\u001b[0m\n\u001b[0;32m    163\u001b[0m                 log_path=service_log_path)\n\u001b[1;32m--> 164\u001b[1;33m             \u001b[0mself\u001b[0m\u001b[1;33m.\u001b[0m\u001b[0mservice\u001b[0m\u001b[1;33m.\u001b[0m\u001b[0mstart\u001b[0m\u001b[1;33m(\u001b[0m\u001b[1;33m)\u001b[0m\u001b[1;33m\u001b[0m\u001b[1;33m\u001b[0m\u001b[0m\n\u001b[0m\u001b[0;32m    165\u001b[0m \u001b[1;33m\u001b[0m\u001b[0m\n\u001b[0;32m    166\u001b[0m             \u001b[0mcapabilities\u001b[0m\u001b[1;33m.\u001b[0m\u001b[0mupdate\u001b[0m\u001b[1;33m(\u001b[0m\u001b[0moptions\u001b[0m\u001b[1;33m.\u001b[0m\u001b[0mto_capabilities\u001b[0m\u001b[1;33m(\u001b[0m\u001b[1;33m)\u001b[0m\u001b[1;33m)\u001b[0m\u001b[1;33m\u001b[0m\u001b[1;33m\u001b[0m\u001b[0m\n",
      "\u001b[1;32mc:\\python39\\lib\\site-packages\\selenium\\webdriver\\common\\service.py\u001b[0m in \u001b[0;36mstart\u001b[1;34m(self)\u001b[0m\n\u001b[0;32m     79\u001b[0m         \u001b[1;32mexcept\u001b[0m \u001b[0mOSError\u001b[0m \u001b[1;32mas\u001b[0m \u001b[0merr\u001b[0m\u001b[1;33m:\u001b[0m\u001b[1;33m\u001b[0m\u001b[1;33m\u001b[0m\u001b[0m\n\u001b[0;32m     80\u001b[0m             \u001b[1;32mif\u001b[0m \u001b[0merr\u001b[0m\u001b[1;33m.\u001b[0m\u001b[0merrno\u001b[0m \u001b[1;33m==\u001b[0m \u001b[0merrno\u001b[0m\u001b[1;33m.\u001b[0m\u001b[0mENOENT\u001b[0m\u001b[1;33m:\u001b[0m\u001b[1;33m\u001b[0m\u001b[1;33m\u001b[0m\u001b[0m\n\u001b[1;32m---> 81\u001b[1;33m                 raise WebDriverException(\n\u001b[0m\u001b[0;32m     82\u001b[0m                     \"'%s' executable needs to be in PATH. %s\" % (\n\u001b[0;32m     83\u001b[0m                         os.path.basename(self.path), self.start_error_message)\n",
      "\u001b[1;31mWebDriverException\u001b[0m: Message: 'geckodriver' executable needs to be in PATH. \n"
     ]
    }
   ],
   "source": [
    "with Browser() as browser:\n",
    "    # Visit URL\n",
    "    url = \"http://mtrack.merryspiders.com/NewsDetailsPublished.aspx?NewsId=fStooxHhm+dHReKuXJaoQw==&MediaType=\"\n",
    "    browser.visit(url)\n"
   ]
  },
  {
   "cell_type": "code",
   "execution_count": 40,
   "id": "bef89e86",
   "metadata": {},
   "outputs": [],
   "source": [
    "executable_path = {'executable_path':'C:\\ProgramData\\Microsoft\\Windows\\Start Menu\\Programs'}"
   ]
  },
  {
   "cell_type": "code",
   "execution_count": 43,
   "id": "e1d868d7",
   "metadata": {},
   "outputs": [],
   "source": [
    "browser = Browser('chrome')"
   ]
  },
  {
   "cell_type": "code",
   "execution_count": 45,
   "id": "e9beaed6",
   "metadata": {},
   "outputs": [],
   "source": [
    "url=\"http://mtrack.merryspiders.com/NewsDetailsPublished.aspx?NewsId=fStooxHhm+dHReKuXJaoQw==&MediaType=\""
   ]
  },
  {
   "cell_type": "code",
   "execution_count": 47,
   "id": "1b4874b5",
   "metadata": {},
   "outputs": [],
   "source": [
    "browser.visit(url)"
   ]
  },
  {
   "cell_type": "code",
   "execution_count": 50,
   "id": "298e1b6b",
   "metadata": {},
   "outputs": [],
   "source": [
    "from bs4 import BeautifulSoup"
   ]
  },
  {
   "cell_type": "code",
   "execution_count": 62,
   "id": "8727694d",
   "metadata": {},
   "outputs": [],
   "source": [
    "mysite = urllib.request.urlopen(url).read()\n",
    "soup= BeautifulSoup(mysite,'html.parser')"
   ]
  },
  {
   "cell_type": "code",
   "execution_count": 59,
   "id": "a5de6e5e",
   "metadata": {},
   "outputs": [
    {
     "name": "stdout",
     "output_type": "stream",
     "text": [
      "200\n"
     ]
    }
   ],
   "source": [
    "import urllib.request, urlopen"
   ]
  },
  {
   "cell_type": "code",
   "execution_count": 56,
   "id": "cf10af77",
   "metadata": {},
   "outputs": [
    {
     "name": "stdout",
     "output_type": "stream",
     "text": [
      "\n",
      "<!DOCTYPE html PUBLIC \"-//W3C//DTD XHTML 1.0 Transitional//EN\" \"http://www.w3.org/TR/xhtml1/DTD/xhtml1-transitional.dtd\">\n",
      "\n",
      "<html xmlns=\"http://www.w3.org/1999/xhtml\">\n",
      "<head id=\"ctl00_Head1\"><title>\r\n",
      "\tCan't negotiate tax deals\r\n",
      "</title><meta content=\"NOINDEX, NOFOLLOW\" name=\"ROBOTS\"/><meta content=\"width=device-width, initial-scale=1.0\" name=\"viewport\"/><link href=\"css/style.css\" rel=\"stylesheet\" type=\"text/css\"/><link href=\"Styles/updateProgress.css\" rel=\"stylesheet\" type=\"text/css\"/><link href=\"http://fonts.googleapis.com/css?family=Open+Sans:400,300\" rel=\"stylesheet\" type=\"text/css\"/>\n",
      "<!--[if lt IE 9]>\r\n",
      "\t    <script src=\"http://css3-mediaqueries-js.googlecode.com/files/css3-mediaqueries.js\"></script>\r\n",
      "\t    <script src=\"http://html5shim.googlecode.com/svn/trunk/html5.js\"></script>\r\n",
      "        <![endif]-->\n",
      "<script src=\"http://ajax.googleapis.com/ajax/libs/jquery/1.8.2/jquery.min.js\" type=\"text/javascript\"></script>\n",
      "<script src=\"Scripts/menu.js\" type=\"text/javascript\"></script>\n",
      "<script type=\"text/javascript\">\r\n",
      "        function setVisibleMaster() {\r\n",
      "            var d = document.getElementById('LeftMenuMaster');\r\n",
      "            d.style.visibility = 'visible';\r\n",
      "            //            alert('hi');\r\n",
      "            //            $(\"#LeftMenuMaster\").style.display = 'block';\r\n",
      "        }\r\n",
      "    </script>\n",
      "<script type=\"text/javascript\">\r\n",
      "        function ShowDivToggle(divID) {\r\n",
      "\r\n",
      "            var val = document.getElementById('hidDivState').value;\r\n",
      "            if (val == \"show\") {\r\n",
      "                $(\"#\" + divID + \"\").fadeToggle();\r\n",
      "            }\r\n",
      "\r\n",
      "\r\n",
      "        }\r\n",
      "\r\n",
      "    </script>\n",
      "<meta content=\"NOINDEX, NOFOLLOW\" name=\"ROBOTS\"/>\n",
      "<script language=\"javascript\" type=\"text/javascript\">\r\n",
      "\r\n",
      "    $(document).ready(function () {\r\n",
      "        $('#contentbox').css('background', 'white');\r\n",
      "        $('.grid_4of5').css('width', '100%');\r\n",
      "    });\r\n",
      "    </script>\n",
      "<style type=\"text/css\">\r\n",
      "        .style2\r\n",
      "        {\r\n",
      "            width: 11%;\r\n",
      "        }\r\n",
      "    </style>\n",
      "<link href=\"/WebResource.axd?d=8acGL0mCJ5QOODUGQXi4YHsvUFPEHCLDd7cJMfSxElllBxA82RbCGnYHgpunYJ1fuA_irky1smoTGT1abgsNgOKi050JQWym4m5oP76e238rK-PiLVITnWaJCagibuGjjGuSWxN5nvRL7XEtejgNwg2&amp;t=635566748354504904\" rel=\"stylesheet\" type=\"text/css\"/></head>\n",
      "<body>\n",
      "<form action=\"./NewsDetailsPublished.aspx?NewsId=fStooxHhm+dHReKuXJaoQw%3d%3d&amp;MediaType=\" id=\"aspnetForm\" method=\"post\" name=\"aspnetForm\">\n",
      "<input id=\"ctl00_ContentPlaceHolder1_TabContainer1_ClientState\" name=\"ctl00_ContentPlaceHolder1_TabContainer1_ClientState\" type=\"hidden\" value='{\"ActiveTabIndex\":1,\"TabState\":[true,true]}'/>\n",
      "<input id=\"__VIEWSTATE\" name=\"__VIEWSTATE\" type=\"hidden\" value=\"9QasvffchwVIQinhSNSq49RaPFDzmgPqA7njKmj7/QXnZJ2FIJ4OK/FPnf0cAI9hynB9FQ7WCmUbLvDp3jU6KyVyUON+zhaYcNhjekxGIoOeaEd0kRXWhFT+wE46Bp3CdOiq8rw2pdQ8zvx78HJYJ9QBQTO6PihyE0a7Dt91GeWQRUCojZbEWX0oef8a1B0FOuXEkSZ5Zkloom+bdMUr32vUkN120Atjoxx9Vyp0judV0pNPwQxqfXlW5EHR40489eEk1fLGYdofZsm209Sw4dbzZRvD9DoDshYMtvsAfxGS6E2BjH7QB14e9RypTkYSYgLXjUOi7j15lFKx2sancNty04YoRCCMBurT04/zw38Yb3js1P0bSOi6++xuqiZhvPw4Y5TgmcSc/cnFEOhb9nGlaczQPBhCQLjfrwnVPSrv/Snu4WUM2TKg7zNc4xn1zr68+sX8BzLvjQAk+7tOZYHrzvUqJ70x8s/e2oy5rifx7+omJRTN0RCu0RsYOw+NiE+q5NzjYX1R2V3RCXhvIRpZppYYpvJjNgOP5GKRZcxAOGEBsJ/aYUNctKS0yNn0a3yCDIjRviPcnHJuAKnxeQDfVXV70jZrIN5RiWo6H34OXXTRFu3M0WU9SScra9+LZ/vR+Jd95M31eNOholJ2V8CXjZeKC0mSkbU/4n9Ctm8RH08KOBptCymDg8HOy+3/Jat2NIs7yDeJ/I3HQZwWGEfKyyyD+03hEb4VZ888MyqEroRIyNn1ABXiuQM4ueqbGz5wtUIS8my2qD1HvbaH3yo3A+hO5IgxgvB0kGcT9OCfHgL9wtRbPfAQEOYrEV8uQWy2XaiaVT9SbCf70MmgYnbHflH7k1NoaSvo/KuZNVx7T5BIEVs73mcV1NgyL9neL/puV9afD0SJJUtYSFNU5SFEHxZ+Gv3QYc4mKxNoYuciHCztYbK1T0a5psTW9Z79Q5PnS36KWTJIUyoI5mDDgsnqf842Zi7oR9CYt2W8FK/sL/L9gp4RFXt1mIbFXzJma0tQqDFnKwH8cr7/rWfmhpsBFDDPf9X8GplpTvIKmG+mO+izgPjicHvNDTPUSOGvb71t11DclvbQEcliMxsTi5Zof4QYblXEz0Udwbxx193Qxbv5wRoI2rsO8mQsSE63pN/vv53koTCnMiwMzTwpaGMbL/Tr6hFnbj6+7n+oFBBYjQCkKKWSxqlhGQI9SxlW9qUrumSFIBJ/OuaaQMbEu5viPlUKrfLz01aznilU7dIcW4CoVXkUrtvPcEs9aGeq/u8HrnnLPkxqpWl2siWllPZFgGfBtMDVQmI3TEz/gfEMkQWCwgHHR0stfF2ijO40TiB3FpYho3SkqaA3H4eFboIz5RlEeXLRbvY+puuWaiZXeayGMfdaNz3wZy7EC9upo12kbShQ8g87bSWuKAnhEMa1NyPyJkcqxNacVT/8jtSOKHm1EsOeLdCCGOkrGahzevhxtbiyrUAkLoPqm4i8VgqYeIz0WYjaCfy4gu9f3uGoDW7NZyHJ/YpQikHEwxhM8AZfuPbUvHgZOiF+GtBlH5FRftlnXhP8rSaJmoCpckDXsXfsoNYmaI2Oz6iHSonat1m6aCExX4VHVYHkJ1J02q211FZaSTPWqISx1mFMqGzLGpOdZRFAjXUGNdNEIcU6SW+pS5oLmOsjeJymXz7oPMlCwtxR/cbysgF+hmkDgtyl46YytySlyxarC6Tgv7rQZj9eo/TdyvJRSr++D6x9tP05ks4juz13E0My881lojEIi3RLSA4PBM5qz7S+rvNTaWPRUfaXKKho8QUMv6JR99/Lb+sOjWZJcK5dznlI5NCuohum761652TqHJwoeouYI9FO/o909jk5f7I+u/FDLFP0ZlnQtPw8oVLaBZLVUNQV/s2E2B1tZwBjP8vIlpVbpsJ9MUVnSYyacNcTMP3Nam7XrEO28OzE7k/jEbaWmcUIEsSe0tdWtbM66Cmqvvy49PkV+zlHp570dvNXYZVZ+CRJfOB5ObU/jpNzXylUs2VS2Xf9n79L5gVScPGqDQm8eRp60NHrTSYyw+e6HP/CiGJNT9ofv3vqPD9bgBZfphDM+sj5DViqWnxUx7mvdOXzSEL3LIFdsQCtHjkPx0tgEiInRDYGt0HsFKO1iPw+GNrR/Cy12vC6LnhiJcxz+S7Wz1eHdjKlDuB59VIUCtafJG7e6nlTC80HLSzhLK4388VrEq62EmnAryOOUcTNFRoDiYDO/yBFcuSAJQWyvJtKp6Jnbv6Vl+QZ8cCoXNoDmT7YgXmJHuhnx7tcddQaqgzAbQ2lUBVS51mLW5wvFnoBwzquE/2M4NQTY+aIKTJC7a5Dzfdei0eXYiXt0U8Te+KUo71R6W2E9SOdgyGOwRN8kjKCs902WJhL/RWXKPYJvJNOF5h5fO+7BzDPvg3cZXiNPRjvqb7sQSx9iqiQGayGE4rOh9TBqe8BwTTgZe15+SLoMzw1gZdb77qBd3rui3cqstb6kX/TaCb8mnNkRC3Wvz0mSctLC4BwxK6C2rAsk40m+eruYSv6ZGpKqTUCXxcEH6r9xQo6hrtSaShwIBcQCXMGQok6TXD8UsaV/DWmxHJWkxKtl+hz8btCaG65OVTH8umNq4ThUhW5i7uqId6y9HW2L99fSafxqtlAUOULNGqaVSVfHOtevgRo+VBqn7Ps+t0zq86s3k9vBXuY/kNxyqjUPMwUQPBNXA2Q6XFxFUI+RCqOsFEaBFECvtymttlcLsjBAdvtTt4345Jvpy7ZTPGOmuTJjBntfhSkJBZftAAYcKEFKR0f6TTVFBNLfBmjQ7SBST7KRvLsfvwvO1fwh7V2A5y/MyaUqMPqynVLntzJ4F6t9SOkY72CwbeQuiurhrHAQF3SyRMLIqTGU5UUDetQ/1Lj681QJ/3K1faJUD57CsyOP7VyWhUECPSFZ83Bo3FAokKrY94aPrhuMSxy+zv/Oh6Y2lVlJMGywreeMREwxgEI71RaE9zrBwo2hnr59NMrPZPZr3AE4T4eSfTZR401EA4bhe4RiPlLrG3ZAnPQvY7GdEp4nG2J5dhu0q8jFN7HrEEyugJRLvrD+K8LrsVrOCViWbIkvum1I0CcCjTYS5e6zQooE3FwAkhAESun+Nw6Vbg05XQV6M6soawD9Qi/wBW4sQp8dTFT/c/hQC3EAE7LsBwyycnl24v2D9OGEi8tcQsHSI0c9dmU3PeCsZxn4o4jlQBKd5P9fF7oYFXAOF2VhaTnXktCynHGencnrIK7Bh87jtTIaFVF3VNaVtG3mSjNU8NxMSvSHXm9hmqzL1MZ3VZU/xYuEw9jd9biWtO4ADuGmVom3I+T5JIL8GDpdIqcVq3x25RmFIiyYyN0DRGcxmSq5gQ9lSds8jbPEUMwEIjSgM8JBs3pi7ebiJ4jtwXD0HZzbWNnBxKwzBmHAkq7BUf6gY3cmxuT1HD+xPjWgemzjORAFqYA6DAXA3n5y3UogjG7UxCD9rVrwsM0ZOE3hVOL/z8yKlxFeTIXdmA98SCcy0lp1BACCURWI6dYfC4qbAku2oKAmgPNm7APPFiMlKLqzt5xEM/MZaVy/oWSe5I4nVYfUrBBgyWZrAFKXpafWWo/aZz1nNGIneOO8xpp62mM9oj1aqhiVxWkHh/1OX7gPkcqsbdQYdKGDk2qLTF3LGWLcjPnAnZgG6jydvaPGiLVTEGBxwJsrfAv9vAz+MnlGRzjNM2vNFG4Ww8GueRkXOcTdI4mblF6CJw4CBrGw2jnu1d5LxqZNWZHyCVpe9OB1Diic8cKxiCTIOVy2Kz2jZNhjmiA0knlDcgq6Sp0HVs6dmkXyVdrVpFcl39Hme2XEUyrkOYW2r9N70Hw3M/IlOeZQfawzV7rR7QSUepd1zMXJsCkBLnxLVGWRZ2Kd+lY6YhREUXnBRF+z4W8hKwh4UqS9W8rIhOwu86zIOtAOVcT1mvdo4n+v6HWCDuaxpqtogdi1I6AnH3LM3L8cjSpBpBa7mx4yI8hAnZpnA5V2v/o6AKevULLGmUx7B2Y352ES/PEb/hw6PdCMNHCPrsE+UqBr/pton9SIenVkTwQyLDoSVUyy9ZC8u75MDWP6jreNjau2jTAaPCKKT4ApW0Ue1zxsfHOhfndivWHQx3w/ZE2661o+9/EhZOynhccR14P7e8aryf30Hg8BBwsesgb2T8LdGTxWAJKpFRxiBdsSOiu1Uv5iyufWXUfgSQZkb9Z7vw0ub/v2yhbKSCjy065r9pYzwBf8+uVxwEeWCNQT6HoIi4kVseoB0QNPQsX03owmN72zu5Ho6hqJlst3+0LYeKFPLPS8fofjMMPILd8wRcApeE2+4LVk7nWnbk3PLkWf2IBMdYiK3l5kApgz0omDZ2vhE2oxECVt9nED6+inZfe7q/p1gFqfJsAOny4gE79wn+0s9f2UwuIXNMsAX4WHPrF+Sb/1X3cEWzXNnlQHo8ErcKO8CtpnR2yaPL/I7cl77DOVeewjadI4jWmRhGjyZuomckM1tWaYVu3KVigjQzygKDsPRlMJoQtgrW9OZCn51mYCoTiy4gMy5EVNXvf7oThpHMhBM0pKnk6YHW9VX4buP5zsP7ag5G0XH2PEH6AKYeUoA4YvaNtN5zjlJkYUmbmXkljON6Po4e8F8/qNuQ87n9Ovk6Dj97Kkz3xzxHJrqmj9T7ltRQmDxCTjwO2dFexv9N0wAVFWcUfR1h0J+ovTklHh3xfPa2Yk2n+t4I49fedcrsXYjCbW6ktu8OJ7QTlv8crDMtNRVmR0UtHbUrG2+6B42pFXhKVy4OwLEZis7Up9amgC+b6ivFWUNuz2OMjmx95H1acR4mmqE1uCcU/XWKAXSFbzpRpA+Vgr9sYIWMIWGDt7B5M+lrOFc8JlNk3Hh6KEStem3sQNpkLbZKAjPaOGjkjPnVl6muMBpjOK6PTxbH0iuq5SdrAFA7EY7AlTlEoDQHW4Z0H79D5us581E3QH2iYibd8O6LOJH/yWLWdkNTyqQ5h2yxDA+9UrcuvzCbnGOHMtvMxk+/PqerujgM+clvRpCEJU4HYLZ6QxVY5PQw4Q/wkMNc7XOmU7h5SrdUn+5sjktBdQB5LkCpOpzLK0ewKjpaS62NA/+/mU7oT1UWmPPqCPAkDVAj2YKKClOUoWU0juAUwzOUVO4WX+scuq50F9iqQSW0iWJGR/Y9XfV4Zxu5GNyR/xxgBPz7oxlSfPJ5OPk7CAF6ieeuPS7m54mRIZkYA9fwL2seLN3DWbX1WRLiUBGmglhF9alEB0OcnbUILvkoNtzJlus8ZkSbFkQA6okxV4N8pozm+oOD/wY36IDMN6HvwvZZB3+IB96MQmK+BeLcJu4ylM5WM1fdag6w3OvrmgbRmo9yOhiGO2vKc3dBNoZhXAsM3EPgvyR69D7rT9v4h6f0ia89AY5A77d9wvXAo3DFjBjsgNGPcIBkEUy7CSEcUgy/sObO05viy2JdANFXgto4z7uJJ4qKWKYj2cySYxdXZvbcrT0EYQhgCLCqTycdZWZxndUlzQDzgsnsemICIg2uumkyqf9YNnZNW5S41YTmN9NqRzAy7D1T1SH+s04yUCkP61UXgriMPuIRN5bwxc2EiWn471WDqRShCL+6dAGSCSMx4WvTzh+xXwTPkaoTpA3t2UGXatF9E1XFMfE0HcC1Roj6jLmYfNXO5m4xJncMCGz47rxhUYNirZfraDVVxkrEQskeVC/deZGUicIwbkXwLBNVWbsJ0BnUysqr7m9F4NTXq/U9NbyfTXMo0d5IAzloJulIWYoSO9iI+T7Y71inkuy8jbz9LuqDPc0uhnyhu+6bEwLL7gtBVF+TVPfv3K41IUB/edOhqZwgWNV5y8Ro0TTPXFfS8zYCZMiCpopVaDMFkLpLFsdsSKwjCm3LCqSq3qgnVtED/kOZeVrjWDQ7TKfh3ul1oApbMErv49T2x7Rhz7aXZ5ToltB73X1DfWLzMrAcTfUNFELHEMUo4KvPH47ZMCNbAZxlkwcOvVCvIsNai1phNGk24V0Mhio7Czm5xf+LrA9xtZfRO1tdITtAI5qm5lrkjSM5RdsjXQm7Y5HRLbIF2Mh9fGPzJiATXTMrvr1vqovq+zE6JQZRuzOvnTQjNj0gPawZgw8vSXqO0fdO5W9tOJivz/ALTCywJ6PNgSAkYCqTiadxr+/KcRerdF1bwvQHHoOEBKlh2D0S6+jOd+rvtgpmh+EbIrG5ibT8g5Z5DBiBaRp14wUJNsreBLCTG2Dfnx8KltR4NSA2nOkR1F6v6PpuPtkFTTShHc2AB5r3enmD7lPfRX+MAeGBphS6S1x8poek7A08l2Nlvb+debNOmrSJ5Kij1pWaj4KYrylaEtgbonvjIKlmzI+4LIzLnYZ7QcE16ObIEHQIug4MXnHaVPt27idECEjyyy5IEt2rSb7ChUfmBUnzw+PYuudx2O94OLscYx4muoveSeBvEeTpyFp1GMWD2x9X8jLSlHeCvd5sW04QSrlEfsiDN5hotMi4xHplBzadjrdQFiN5RnTUXREso6UcfY3Pqa6ROn1TDUW1FPXKREULWu3UuuHaI22MI11bV7NW790brofJOPA3PrRSLUr44sUoGlpExARToRBVCpfOBibSEOjWspk8+cJa/YSaa0tUh/Q3QNzXmuAt1OZQ0+jEAZJ3lyU7Wn+gdKoSCYyaNKVV37Gsz4B0UGCAVxu4HomaviprgjTIALcwudaKMNusNhK/4oPqJImmDUvYxGQ0hnKMA3jnMhEX7Uo/nkgXG4aGrHOBhSJPsYimtJvhGtnWGdPHs02t/ehEEtqJYVy5V0mSMoLx1zFQxbIYlTHTswBwL0OpKMnlvq8zUDxJBus229oZ6zj2wOprdoSzLh5k34R88Z/s+Vo8gG1WeLu3oUEuO+IElB3xizyqtmmjO0eVqa5QK+GUQgTkC6jC0dD/m3EWIa8R19/M5MvU6scM6KHEy7iUEEab+gh80n50HAy4pcdcejgN3EvyZB7OocYE4GZ2NeKKlS4LvqrqniCaEehh7FMA+wUG8c3Vvf2Hhj65i/pbGHfIelwdYBAixy7CuAtH22wu+VjUApmvbfNns5EgQobQjmOtVtNHjSBAFYpex24jTfCNJH9ccTv/2gKpSZFgWVLmN+2ray1Ix9JiU0Itoo4QoKUuvAC2o4hC2edGUwLvdVTfoVqwp59d3jK9YJgyi0YEEO7+r7AFJCoujhHOR\"/>\n",
      "<script src=\"/ScriptResource.axd?d=ntkUhZ7j_D3OOxKDVuO0vAofvj6tUsAbVi8IQBwthKtawFCnFYKKI32deGGmgiMNbS7xWo8dBEQrlEIdmUEVOmneyL65HoQjZm4lnFQp7AvjbMDo73ky0G7Ff9qfNu9B0&amp;t=734d43f5\" type=\"text/javascript\"></script>\n",
      "<script src=\"/ScriptResource.axd?d=G0pVyeONhB9xbl6cowoHzBc2N66nmjJkQAiE_pJVXkP7_fdr-oAU1-CkwOB5DH2RURiRdydSDT5djMqkf69hJhVY_TBf_UKgidC1iqOOpvgvRuo0hjXa6USXE6EzTBs10&amp;t=734d43f5\" type=\"text/javascript\"></script>\n",
      "<script src=\"/ScriptResource.axd?d=r6xZObukeg4uqBClD88cP9hUBMT-yUnxAPBezXb32Dwt38KOlxyYsCnfMtlOEcDHoxw6kGWGYctdVlVjdnMK_9CeBNHdYGQ8vbQZ7DjhhJx8LuOjG2TvRGuAMmVK4LtaYNkwy5N59hvYGBQM1h2PBw2&amp;t=734d43f5\" type=\"text/javascript\"></script>\n",
      "<script src=\"/ScriptResource.axd?d=hkJyUZF8E2NMyNkq1boHj_1QrJfDUda7wba8kbiXJv0iHrQ9vkSGaKqDQXy4NjQzLG-Sjk7XUvSOzFxVMziNbLjX67sRC6pC5yntSSrBbipIZh8IjIUFdRG5tDvHG5p80&amp;t=734d43f5\" type=\"text/javascript\"></script>\n",
      "<script src=\"/ScriptResource.axd?d=X13GkhI4wOr-ZPZG-1_7idZku-aRVJXGv3rtAhGYVMxui070SM3Vgw_bAdsnwZcvrfllGBdhXZPOrpVtx4IOb2nDDWEAHHyUPA7SIhBRU_727N1bMWNKU4B8-f08O3_iBU9U49M8FgOUNVEZvGsJPQn4q9A0wCpE6bLHJieTnII1&amp;t=734d43f5\" type=\"text/javascript\"></script>\n",
      "<script src=\"/ScriptResource.axd?d=WqaYDFRtFXUACHD_-ZlwDK3_daFscgSfXD1rU5Qw_hwRUVKKqtzaZUaIGpGscgVRxNx6hCqTe_Ko-a90LMxCfC6cIgQ-ioqIucWaunErIwz2SZoepkgdY7-wdjex8DOCUwamp1nclaEDAGF4xATtqQ2&amp;t=734d43f5\" type=\"text/javascript\"></script>\n",
      "<script src=\"/ScriptResource.axd?d=XLdX2Vmbd_u8NYjPsKBqaVoJz5RNN7x8mSeZ9IqXvn4vlpr6ziAFK7849N_0BFZJNJO_Rz0HLXzPbF2bZwFZyqnBTtLjzIaUV1jzz2Jkr6ZDF7SMCswoWRrn357J7SgT6GozjwkB_fwqgLoDmH57nw2&amp;t=734d43f5\" type=\"text/javascript\"></script>\n",
      "<script src=\"/ScriptResource.axd?d=05CvgHL-9TxivTZ3fJcjQAmxhq0m6QQNdtqRYknscBystJ3DQfYNz4ObAg229Ss1-ArvVrAAlf3GRJKoiFcO5Tvc9-CbSGha096qS2V4KSpzmqs9nVG6OdNvvVDArZMLHr4s9f5jfVRW_ykbwxGfKA2&amp;t=734d43f5\" type=\"text/javascript\"></script>\n",
      "<script src=\"/ScriptResource.axd?d=v3LzHocr-GQg55oQTkdPMwF0iF6gMyrQDpC89jXNeuJsS81L93sj8KL5k52HjqEn-sA0oJ_OiTjLQkowvaBwS8d83UloTOxuBFR8Oa6C2icupidOcQQbjLrRfmnRqZMD_iV0jdt63FNww-INVv32YNxM8dgVxnipE7lhH6GyrxQ1&amp;t=734d43f5\" type=\"text/javascript\"></script>\n",
      "<script src=\"/ScriptResource.axd?d=X6fDNeHodHq_KyxbEUwzAYhWjAVE4UJltLdgO53VFfnKPwgHiQebfvHRSUcFybkFpax0CfaIhGm9-ki7kUb0cE61tBysEG7Dp2eeGtaueqacB8EPWfrsg6YGGsrC-DIe166nbP_toPh3Bx7VUwaxdQ2&amp;t=734d43f5\" type=\"text/javascript\"></script>\n",
      "<script src=\"/ScriptResource.axd?d=w51k24NBdVhi9T861IY3T2X_3YxCzgGX-YSYTQktMhtz9bl0hAynWjHJNwIA6xm4G4GfMzbNq0Ss__LmdzIjIBJJP_2uqVuhVGOsl4ptGfTbb4AYa_pV4CTGQJdALPJCv2_dIeVYiemrkq4fiC8UyA2&amp;t=734d43f5\" type=\"text/javascript\"></script>\n",
      "<input id=\"__VIEWSTATEGENERATOR\" name=\"__VIEWSTATEGENERATOR\" type=\"hidden\" value=\"015C1E89\"/>\n",
      "<input id=\"__VIEWSTATEENCRYPTED\" name=\"__VIEWSTATEENCRYPTED\" type=\"hidden\" value=\"\"/>\n",
      "<input id=\"__EVENTVALIDATION\" name=\"__EVENTVALIDATION\" type=\"hidden\" value=\"13MPNV8PsxLuwYlSwHu944AQ6xs+R73ghKhvCYxqMsL3GvpS3KkIu3kebPAQNrAtMfCZrMZWDtv4EyqctqOaOqjYyTjEfBP1U9MKRJ7gzf1A0OkRLb/SHEvp/vjwYtIvrrP4TY/eOoNe65jHtwv4n4O4Njj9PqFh7gFXkkKfou9AWEhBbIDFqmJ5oq0T3WY4NUswK5IR28dXMgDD3NWx9Lwr9kkG4P6stzW6rt3WxFJTZ/dhfzta0Svy+1inRRSNtC6JkpJfbh8Y/tYRmAI+9I2q8YKawMq+GPTDmfDfD78=\"/>\n",
      "<div id=\"pagewrap\">\n",
      "<input id=\"hidDivState\" name=\"ctl00$hidDivState\" type=\"hidden\"/>\n",
      "<!-- Header starts here-->\n",
      "<div id=\"navwrap\">\n",
      "<div class=\"clearfix\" style=\"padding: 5px;\">\n",
      "<div id=\"logo\" style=\"float: left; width: 20%;\">\n",
      "<a href=\"Index.aspx\">\n",
      "<img border=\"0\" id=\"ctl00_imgClientLogo\" src=\"\"/></a></div>\n",
      "<div style=\"float: left; width: 60%; text-align: center;\">\n",
      "<a href=\"Index.aspx\">\n",
      "<img border=\"0\" id=\"ctl00_imgHeaderLogo\" src=\"images/medi-tracking-logo.gif\"/></a>\n",
      "<div class=\"warning\">\n",
      "<span id=\"ctl00_lblClientName\"></span></div>\n",
      "</div>\n",
      "<div style=\"float: left; padding-top: 5px; width: 20%; text-align: right;\">\n",
      "<a href=\"http://www.adfactorspr.com\">\n",
      "<img src=\"images/adfactorspr-logo.gif\"/></a>\n",
      "</div>\n",
      "</div>\n",
      "<div class=\"clearfix\" style=\"background-color: #DDD;\">\n",
      "<div id=\"nav\">\n",
      "<div style=\"float: left;\">\n",
      "<div class=\"navigation\">\n",
      "<ul class=\"clearfix\">\n",
      "<li class=\"menu\">\n",
      "<a class=\"selected\" href=\"javascript:__doPostBack('ctl00$MliHome','')\" id=\"ctl00_MliHome\">Home</a>\n",
      "</li>\n",
      "</ul>\n",
      "</div>\n",
      "</div>\n",
      "</div>\n",
      "<div style=\"float: right; padding: 10px;\">\n",
      "<div id=\"hidediv\" onclick=\"ShowDivToggle('showdiv');\">\n",
      "<span class=\"user\" id=\"ctl00_lblUserName\" style=\"cursor: pointer;\">Welcome USER</span>\n",
      "</div>\n",
      "<div id=\"showdiv\">\n",
      "<div class=\"divbox\">\n",
      "<li>\n",
      "<a class=\"logout\" href=\"javascript:__doPostBack('ctl00$lnkbtnLogout','')\" id=\"ctl00_lnkbtnLogout\">Logout</a></li>\n",
      "<li><a href=\"ChangePassword.aspx\" id=\"ctl00_chngPassword\">Change Password</a></li>\n",
      "</div>\n",
      "</div>\n",
      "</div>\n",
      "</div>\n",
      "<!-- Header ends here-->\n",
      "<!-- Main Content starts here-->\n",
      "<div id=\"contentwrap\">\n",
      "<div class=\"clearfix\" id=\"contentbox\">\n",
      "<div>\n",
      "<div class=\"grid_1of5 nogap\">\n",
      "<div>\n",
      "<div id=\"leftmenu\">\n",
      "</div>\n",
      "</div>\n",
      "</div>\n",
      "</div>\n",
      "<div class=\"grid_4of5 nogap\">\n",
      "<div id=\"ctl00_ContentPlaceHolder1_upNewsDetails\">\n",
      "<div class=\"content\">\n",
      "<div id=\"ctl00_ContentPlaceHolder1_PnlNewsDetail\">\n",
      "<div id=\"ctl00_ContentPlaceHolder1_divNewsdet\" style=\"margin-top: 20px;\">\n",
      "<table bgcolor=\"#ffffff\" border=\"0\" cellpadding=\"0\" cellspacing=\"0\" width=\"100%\">\n",
      "<tr>\n",
      "<td>\n",
      "<table border=\"0\" cellpadding=\"2\" cellspacing=\"3\" width=\"100%\">\n",
      "<tr>\n",
      "<td>\n",
      "<div class=\"subsection\">\n",
      "<h2>\n",
      "<span style=\"color: #ffcc66; text-transform: uppercase;\">Headline: </span>\n",
      "<span id=\"ctl00_ContentPlaceHolder1_lblHeadline\">Can't negotiate tax deals</span></h2>\n",
      "</div>\n",
      "</td>\n",
      "</tr>\n",
      "<tr>\n",
      "<td>\n",
      "<table width=\"100%\">\n",
      "<tr>\n",
      "<td colspan=\"2\" valign=\"top\">\n",
      "<div class=\"modalPopup\" id=\"ctl00_ContentPlaceHolder1_pnlDisplayImage\" style=\"display: none\">\n",
      "<img id=\"ctl00_ContentPlaceHolder1_imgdisp\"/>\n",
      "<br/>\n",
      "<br/>\n",
      "<input id=\"ctl00_ContentPlaceHolder1_btnCancel\" name=\"ctl00$ContentPlaceHolder1$btnCancel\" type=\"submit\" value=\"Close\"/>\n",
      "</div>\n",
      "<a href=\"javascript:__doPostBack('ctl00$ContentPlaceHolder1$LinkButton1','')\" id=\"ctl00_ContentPlaceHolder1_LinkButton1\"></a>\n",
      "</td>\n",
      "</tr>\n",
      "</table>\n",
      "</td>\n",
      "</tr>\n",
      "</table>\n",
      "</td>\n",
      "</tr>\n",
      "<tr>\n",
      "<td bgcolor=\"#f1f1f1\" valign=\"top\">\n",
      "<table border=\"0\" cellpadding=\"7\" cellspacing=\"3\" width=\"100%\">\n",
      "<!--tr>\r\n",
      "                                                <td colspan=\"6\">\r\n",
      "                                                    <div class=\"subsection\">\r\n",
      "                                                        <h2>\r\n",
      "                                                            News Details</h2>\r\n",
      "                                                    </div>\r\n",
      "                                                </td>\r\n",
      "                                            </tr-->\n",
      "<tr>\n",
      "<td class=\"style2\">\n",
      "<b>News Date</b>\n",
      "</td>\n",
      "<td width=\"15%\">\n",
      "<span id=\"ctl00_ContentPlaceHolder1_lblNewsDate\">15-01-2018</span>\n",
      "</td>\n",
      "<td width=\"10%\">\n",
      "<b>Media Type</b>\n",
      "</td>\n",
      "<td width=\"15%\">\n",
      "<span id=\"ctl00_ContentPlaceHolder1_lblMediaType\">Newspapers</span>\n",
      "</td>\n",
      "<td id=\"ctl00_ContentPlaceHolder1_tdpublicastiontype\" width=\"18%\">\n",
      "<b>Publication Type</b>\n",
      "</td>\n",
      "<td width=\"15%\">\n",
      "<span id=\"ctl00_ContentPlaceHolder1_lblPublicationType\">English Business Newspaper</span>\n",
      "</td>\n",
      "</tr>\n",
      "<tr>\n",
      "<td class=\"style2\">\n",
      "<b>Publication</b>\n",
      "</td>\n",
      "<td width=\"20%\">\n",
      "<span id=\"ctl00_ContentPlaceHolder1_lblPublication\">The Financial Express</span>\n",
      "</td>\n",
      "<td width=\"10%\">\n",
      "<b>Language</b>\n",
      "</td>\n",
      "<td width=\"15%\">\n",
      "<span id=\"ctl00_ContentPlaceHolder1_lblLanguage\">English</span>\n",
      "</td>\n",
      "<td id=\"ctl00_ContentPlaceHolder1_tdpageno\" width=\"10%\">\n",
      "<b>Page No</b>\n",
      "</td>\n",
      "<td width=\"15%\">\n",
      "<span id=\"ctl00_ContentPlaceHolder1_lblPageNo\"> 6</span>\n",
      "</td>\n",
      "</tr>\n",
      "<tr>\n",
      "<td class=\"style2\" id=\"ctl00_ContentPlaceHolder1_tdheight\">\n",
      "<b>Height</b>\n",
      "</td>\n",
      "<td width=\"15%\">\n",
      "<span id=\"ctl00_ContentPlaceHolder1_lblHt\"> 15</span>\n",
      "</td>\n",
      "<td id=\"ctl00_ContentPlaceHolder1_tdcolumns\" width=\"10%\">\n",
      "<b>Cols</b>\n",
      "</td>\n",
      "<td width=\"15%\">\n",
      "<span id=\"ctl00_ContentPlaceHolder1_lblCols\"> 1</span>\n",
      "</td>\n",
      "</tr>\n",
      "<tr id=\"ctl00_ContentPlaceHolder1_trAuthor\">\n",
      "<td class=\"style2\">\n",
      "<b>Author</b>\n",
      "</td>\n",
      "<td colspan=\"5\">\n",
      "<span id=\"ctl00_ContentPlaceHolder1_lblAuthor\">Editorial</span>\n",
      "</td>\n",
      "</tr>\n",
      "<tr>\n",
      "<td align=\"top\" class=\"style2\">\n",
      "<b>Edition</b>\n",
      "</td>\n",
      "<td>\n",
      "<span id=\"ctl00_ContentPlaceHolder1_lblEdition\"> All</span>\n",
      "</td>\n",
      "</tr>\n",
      "</table>\n",
      "</td>\n",
      "</tr>\n",
      "</table>\n",
      "</div>\n",
      "<div>\n",
      "<table width=\"100%\">\n",
      "<tr>\n",
      "<td>\n",
      "<div class=\"ajax__tab_xp\" id=\"ctl00_ContentPlaceHolder1_TabContainer1\">\n",
      "<div id=\"ctl00_ContentPlaceHolder1_TabContainer1_header\">\n",
      "<span id=\"ctl00_ContentPlaceHolder1_TabContainer1_TabPanel1_tab\"><span class=\"ajax__tab_outer\"><span class=\"ajax__tab_inner\"><span class=\"ajax__tab_tab\" id=\"__tab_ctl00_ContentPlaceHolder1_TabContainer1_TabPanel1\">\r\n",
      "                                                View Images\r\n",
      "                                            </span></span></span></span><span id=\"ctl00_ContentPlaceHolder1_TabContainer1_TabPanel2_tab\"><span class=\"ajax__tab_outer\"><span class=\"ajax__tab_inner\"><span class=\"ajax__tab_tab\" id=\"__tab_ctl00_ContentPlaceHolder1_TabContainer1_TabPanel2\">\r\n",
      "                                                View Text\r\n",
      "                                            </span></span></span></span>\n",
      "</div><div id=\"ctl00_ContentPlaceHolder1_TabContainer1_body\">\n",
      "<div class=\"ajax__tab_panel\" id=\"ctl00_ContentPlaceHolder1_TabContainer1_TabPanel1\" style=\"display:none;\">\n",
      "<table width=\"50%\">\n",
      "<tr>\n",
      "<td style=\"width: 10%;\">\n",
      "<div style=\"padding: 10px;\">\n",
      "<b>Image</b></div>\n",
      "</td>\n",
      "<td style=\"width: 50%;\">\n",
      "<div style=\"padding: 10px;\">\n",
      "<select id=\"ctl00_ContentPlaceHolder1_TabContainer1_TabPanel1_ddlImages\" name=\"ctl00$ContentPlaceHolder1$TabContainer1$TabPanel1$ddlImages\">\n",
      "<option selected=\"selected\" value=\"1761687\">pg-6</option>\n",
      "</select>\n",
      "</div>\n",
      "</td>\n",
      "</tr>\n",
      "</table>\n",
      "<img border=\"0\" id=\"ctl00_ContentPlaceHolder1_TabContainer1_TabPanel1_Image1\" src=\"http://mtimages.merryspiders.com/ArticleImages/Uploaded_Images/2018/1/15/2018_1_15_cf056bcc-c65b-4d5b-ae64-c5ebafb33240.jpg\"/>\r\n",
      "                                                 <br/>\n",
      "</div><div class=\"ajax__tab_panel\" id=\"ctl00_ContentPlaceHolder1_TabContainer1_TabPanel2\">\n",
      "<div style=\"padding: 10px;\">\n",
      "<span id=\"ctl00_ContentPlaceHolder1_TabContainer1_TabPanel2_lblNews\"><div><span style=\"font-size: 13.3333px;\">That’s a critical lacunae in a nation that has so many disputes  </span></div>\n",
      "<div><span style=\"font-size: 13.3333px;\"><br/>\n",
      "</span></div>\n",
      "<div><span style=\"font-size: 13.3333px;\">IF ALL GOES to plan, the Cairn Energy Plc arbitration against the Indian tax authorities $4.4 billion tax demand—$1.6 billion of this was the original demand, the rest is interest but more penalties could be added—could get resolved towards the end of theyear.The arbitration courtwill have its final hearing in August and a ruling could be out by October or November. No matter who wins, the stage is set for an end of one of the messier chapters—there are others,likeVodafonewhich is also in arbitration,but not as advanced as Cairn— in India’s tax history and relations with foreign investors. Should Cairn win, as most expect given the arbitrary nature of the demand, the question is what the government will do. Normally, it should pay up but so close to the election, it may not want to—keep in mind that, in the DoCoMo arbitration, even after the foreign award against the Tata Group, RBI argued in Indian courts against implementing the award. Life would be so much simpler, forboth the government as well as investors, if there was a robust dispute resolution process. There is a dispute settlement mechanism right now under the tax law, but it is very limited in scope.There is, for instance, no provision to settle on the basic fine—the current resolution allows for just reducing the penalties and interest.</span></div>\n",
      "<div><span style=\"font-size: 13.3333px;\"><br/>\n",
      "</span></div>\n",
      "<div><span style=\"font-size: 13.3333px;\">The current system doesn’t allow companies the option to appeal if the appeal doesn’t go theirway. If there was, however, a system that allowed a Cairn or a Vodafone to not admit guilt— Vodafone, in fact, won in the Supreme Court, after which the government brought in the retrospective amendment—and to negotiate a settlement, chances are the companies would go for it. In the Cairn case,when the taxman seized its shares thatwereworth $1 billion, it had to layoffworkers since it didn’t have the capital to invest in otherventures.The shares lost a substantial part of theirvalue once oil prices collapsed, andwhile some of this has been recouped with oil touching $70, the opportunity cost has been large. Since the company was always aware of India’s tortuous legal system, as it celebrates the fourth anniversary of its tax case, it may have preferred to settle for a few hundred million dollars. Hopefully, sooner rather than later, the finance minister will look into this. Given how large the unresolved tax demands are—^6.8 lakh crore in FY16 or equal to around 47% of total tax collections—this is a big source of potential revenue for the government, and closure for corporates. </span></div></span></div>\n",
      "</div>\n",
      "</div>\n",
      "</div>\n",
      "</td>\n",
      "</tr>\n",
      "</table>\n",
      "</div>\n",
      "</div>\n",
      "<input id=\"ctl00_ContentPlaceHolder1_btnPDF\" name=\"ctl00$ContentPlaceHolder1$btnPDF\" type=\"submit\" value=\"Export to PDF\"/>\n",
      "<input id=\"ctl00_ContentPlaceHolder1_btnDownload\" name=\"ctl00$ContentPlaceHolder1$btnDownload\" type=\"submit\" value=\"Download Image\"/>\n",
      "<br/>\n",
      "</div>\n",
      "<div id=\"ctl00_ContentPlaceHolder1_UpdateProgress1\" style=\"display:none;\">\n",
      "<div class=\"modal\">\n",
      "<div class=\"center\">\n",
      "<img align=\"middle\" border=\"0\" id=\"ctl00_ContentPlaceHolder1_imgProgress\" src=\"images/ajax-loader.gif\"/>\n",
      "</div>\n",
      "</div>\n",
      "</div>\n",
      "</div>\n",
      "</div>\n",
      "</div>\n",
      "</div>\n",
      "<!-- Main Content ends here-->\n",
      "<!-- Copyright starts here-->\n",
      "<div id=\"copyrightwrap\">\n",
      "<div id=\"copyright\">\r\n",
      "                    Copyright ©2014 <a href=\"#\">Media Tracking</a>.<br/>\n",
      "<a href=\"Index.aspx\">\n",
      "<img border=\"0\" id=\"ctl00_imgFooterLogo\" src=\"images/radar-logo.png\"/></a></div>\n",
      "</div>\n",
      "<!-- Copyright ends here-->\n",
      "</div>\n",
      "</div>\n",
      "<script type=\"text/javascript\">\r\n",
      "//<![CDATA[\r\n",
      "Sys.Application.add_init(function() {\r\n",
      "    $create(Sys.Extended.UI.ModalPopupBehavior, {\"BackgroundCssClass\":\"modalBackground\",\"CancelControlID\":\"ctl00_ContentPlaceHolder1_btnCancel\",\"PopupControlID\":\"ctl00_ContentPlaceHolder1_pnlDisplayImage\",\"dynamicServicePath\":\"/NewsDetailsPublished.aspx\",\"id\":\"ctl00_ContentPlaceHolder1_mdlpopupDisplayImage\"}, null, null, $get(\"ctl00_ContentPlaceHolder1_LinkButton1\"));\r\n",
      "});\r\n",
      "Sys.Application.add_init(function() {\r\n",
      "    $create(Sys.Extended.UI.TabPanel, {\"headerTab\":$get(\"__tab_ctl00_ContentPlaceHolder1_TabContainer1_TabPanel1\"),\"ownerID\":\"ctl00_ContentPlaceHolder1_TabContainer1\"}, null, {\"owner\":\"ctl00_ContentPlaceHolder1_TabContainer1\"}, $get(\"ctl00_ContentPlaceHolder1_TabContainer1_TabPanel1\"));\r\n",
      "});\r\n",
      "Sys.Application.add_init(function() {\r\n",
      "    $create(Sys.Extended.UI.TabPanel, {\"headerTab\":$get(\"__tab_ctl00_ContentPlaceHolder1_TabContainer1_TabPanel2\"),\"ownerID\":\"ctl00_ContentPlaceHolder1_TabContainer1\"}, null, {\"owner\":\"ctl00_ContentPlaceHolder1_TabContainer1\"}, $get(\"ctl00_ContentPlaceHolder1_TabContainer1_TabPanel2\"));\r\n",
      "});\r\n",
      "Sys.Application.add_init(function() {\r\n",
      "    $create(Sys.Extended.UI.TabContainer, {\"activeTabIndex\":1,\"autoPostBackId\":\"ctl00$ContentPlaceHolder1$TabContainer1\",\"clientStateField\":$get(\"ctl00_ContentPlaceHolder1_TabContainer1_ClientState\")}, null, null, $get(\"ctl00_ContentPlaceHolder1_TabContainer1\"));\r\n",
      "});\r\n",
      "//]]>\r\n",
      "</script>\n",
      "</form>\n",
      "</body>\n",
      "</html>\n",
      "\n"
     ]
    }
   ],
   "source": [
    "print(soup_mysite)"
   ]
  },
  {
   "cell_type": "code",
   "execution_count": 63,
   "id": "f8aed0d5",
   "metadata": {},
   "outputs": [
    {
     "name": "stdout",
     "output_type": "stream",
     "text": [
      "\n",
      "\n",
      "\n",
      "\r\n",
      "\tCan't negotiate tax deals\r\n",
      "\n",
      "\n",
      "\n",
      "\n",
      "\n",
      "\n",
      "\n",
      "\n",
      "\n",
      "\n",
      "\n",
      "\n",
      "\n",
      "\n",
      "\n",
      "\n",
      "\n",
      "\n",
      "\n",
      "\n",
      "\n",
      "\n",
      "\n",
      "\n",
      "\n",
      "\n",
      "\n",
      "\n",
      "\n",
      "\n",
      "\n",
      "\n",
      "\n",
      "\n",
      "\n",
      "\n",
      "\n",
      "\n",
      "\n",
      "\n",
      "\n",
      "\n",
      "\n",
      "\n",
      "\n",
      "\n",
      "\n",
      "\n",
      "\n",
      "\n",
      "\n",
      "\n",
      "\n",
      "Home\n",
      "\n",
      "\n",
      "\n",
      "\n",
      "\n",
      "\n",
      "\n",
      "Welcome USER\n",
      "\n",
      "\n",
      "\n",
      "\n",
      "Logout\n",
      "Change Password\n",
      "\n",
      "\n",
      "\n",
      "\n",
      "\n",
      "\n",
      "\n",
      "\n",
      "\n",
      "\n",
      "\n",
      "\n",
      "\n",
      "\n",
      "\n",
      "\n",
      "\n",
      "\n",
      "\n",
      "\n",
      "\n",
      "\n",
      "\n",
      "\n",
      "\n",
      "\n",
      "\n",
      "\n",
      "\n",
      "Headline: \n",
      "Can't negotiate tax deals\n",
      "\n",
      "\n",
      "\n",
      "\n",
      "\n",
      "\n",
      "\n",
      "\n",
      "\n",
      "\n",
      "\n",
      "\n",
      "\n",
      "\n",
      "\n",
      "\n",
      "\n",
      "\n",
      "\n",
      "\n",
      "\n",
      "\n",
      "\n",
      "\n",
      "\n",
      "\n",
      "\n",
      "\n",
      "\n",
      "News Date\n",
      "\n",
      "\n",
      "15-01-2018\n",
      "\n",
      "\n",
      "Media Type\n",
      "\n",
      "\n",
      "Newspapers\n",
      "\n",
      "\n",
      "Publication Type\n",
      "\n",
      "\n",
      "English Business Newspaper\n",
      "\n",
      "\n",
      "\n",
      "\n",
      "Publication\n",
      "\n",
      "\n",
      "The Financial Express\n",
      "\n",
      "\n",
      "Language\n",
      "\n",
      "\n",
      "English\n",
      "\n",
      "\n",
      "Page No\n",
      "\n",
      "\n",
      " 6\n",
      "\n",
      "\n",
      "\n",
      "\n",
      "Height\n",
      "\n",
      "\n",
      " 15\n",
      "\n",
      "\n",
      "Cols\n",
      "\n",
      "\n",
      " 1\n",
      "\n",
      "\n",
      "\n",
      "\n",
      "Author\n",
      "\n",
      "\n",
      "Editorial\n",
      "\n",
      "\n",
      "\n",
      "\n",
      "Edition\n",
      "\n",
      "\n",
      " All\n",
      "\n",
      "\n",
      "\n",
      "\n",
      "\n",
      "\n",
      "\n",
      "\n",
      "\n",
      "\n",
      "\n",
      "\n",
      "\n",
      "\r\n",
      "                                                View Images\r\n",
      "                                            \r\n",
      "                                                View Text\r\n",
      "                                            \n",
      "\n",
      "\n",
      "\n",
      "\n",
      "\n",
      "\n",
      "Image\n",
      "\n",
      "\n",
      "\n",
      "\n",
      "pg-6\n",
      "\n",
      "\n",
      "\n",
      "\n",
      "\n",
      "\r\n",
      "                                                 \n",
      "\n",
      "\n",
      "That’s a critical lacunae in a nation that has so many disputes  \n",
      "\n",
      "\n",
      "IF ALL GOES to plan, the Cairn Energy Plc arbitration against the Indian tax authorities $4.4 billion tax demand—$1.6 billion of this was the original demand, the rest is interest but more penalties could be added—could get resolved towards the end of theyear.The arbitration courtwill have its final hearing in August and a ruling could be out by October or November. No matter who wins, the stage is set for an end of one of the messier chapters—there are others,likeVodafonewhich is also in arbitration,but not as advanced as Cairn— in India’s tax history and relations with foreign investors. Should Cairn win, as most expect given the arbitrary nature of the demand, the question is what the government will do. Normally, it should pay up but so close to the election, it may not want to—keep in mind that, in the DoCoMo arbitration, even after the foreign award against the Tata Group, RBI argued in Indian courts against implementing the award. Life would be so much simpler, forboth the government as well as investors, if there was a robust dispute resolution process. There is a dispute settlement mechanism right now under the tax law, but it is very limited in scope.There is, for instance, no provision to settle on the basic fine—the current resolution allows for just reducing the penalties and interest.\n",
      "\n",
      "\n",
      "The current system doesn’t allow companies the option to appeal if the appeal doesn’t go theirway. If there was, however, a system that allowed a Cairn or a Vodafone to not admit guilt— Vodafone, in fact, won in the Supreme Court, after which the government brought in the retrospective amendment—and to negotiate a settlement, chances are the companies would go for it. In the Cairn case,when the taxman seized its shares thatwereworth $1 billion, it had to layoffworkers since it didn’t have the capital to invest in otherventures.The shares lost a substantial part of theirvalue once oil prices collapsed, andwhile some of this has been recouped with oil touching $70, the opportunity cost has been large. Since the company was always aware of India’s tortuous legal system, as it celebrates the fourth anniversary of its tax case, it may have preferred to settle for a few hundred million dollars. Hopefully, sooner rather than later, the finance minister will look into this. Given how large the unresolved tax demands are—^6.8 lakh crore in FY16 or equal to around 47% of total tax collections—this is a big source of potential revenue for the government, and closure for corporates. \n",
      "\n",
      "\n",
      "\n",
      "\n",
      "\n",
      "\n",
      "\n",
      "\n",
      "\n",
      "\n",
      "\n",
      "\n",
      "\n",
      "\n",
      "\n",
      "\n",
      "\n",
      "\n",
      "\n",
      "\n",
      "\n",
      "\n",
      "\n",
      "\n",
      "\n",
      "\n",
      "\r\n",
      "                    Copyright ©2014 Media Tracking.\n",
      "\n",
      "\n",
      "\n",
      "\n",
      "\n",
      "\n",
      "\n",
      "\n",
      "\n",
      "\n",
      "\n"
     ]
    }
   ],
   "source": [
    "\n",
    "texts = soup.get_text()\n",
    "print(texts)"
   ]
  },
  {
   "cell_type": "code",
   "execution_count": 68,
   "id": "592b0751",
   "metadata": {},
   "outputs": [
    {
     "name": "stdout",
     "output_type": "stream",
     "text": [
      "IF ALL GOES to plan, the Cairn Energy Plc arbitration against the Indian tax authorities $4.4 billion tax demand—$1.6 billion of this was the original demand, the rest is interest but more penalties could be added—could get resolved towards the end of theyear.The arbitration courtwill have its final hearing in August and a ruling could be out by October or November. No matter who wins, the stage is set for an end of one of the messier chapters—there are others,likeVodafonewhich is also in arbitration,but not as advanced as Cairn— in India’s tax history and relations with foreign investors. Should Cairn win, as most expect given the arbitrary nature of the demand, the question is what the government will do. Normally, it should pay up but so close to the election, it may not want to—keep in mind that, in the DoCoMo arbitration, even after the foreign award against the Tata Group, RBI argued in Indian courts against implementing the award. Life would be so much simpler, forboth the government as well as investors, if there was a robust dispute resolution process. There is a dispute settlement mechanism right now under the tax law, but it is very limited in scope.There is, for instance, no provision to settle on the basic fine—the current resolution allows for just reducing the penalties and interest.\n"
     ]
    }
   ],
   "source": [
    "webpage = requests.get(url)\n",
    "soup = BeautifulSoup(webpage.content, \"html.parser\")\n",
    "dom = etree.HTML(str(soup))\n",
    "print(dom.xpath('//*[@id=\"ctl00_ContentPlaceHolder1_TabContainer1_TabPanel2_lblNews\"]/div[3]/span')[0].text)"
   ]
  },
  {
   "cell_type": "code",
   "execution_count": 65,
   "id": "bc65ed32",
   "metadata": {},
   "outputs": [],
   "source": [
    "from lxml import etree\n",
    "import requests"
   ]
  },
  {
   "cell_type": "code",
   "execution_count": 73,
   "id": "4f3153ad",
   "metadata": {},
   "outputs": [],
   "source": [
    "lfound=list(keywords_found)"
   ]
  },
  {
   "cell_type": "code",
   "execution_count": 85,
   "id": "07370c27",
   "metadata": {},
   "outputs": [
    {
     "name": "stdout",
     "output_type": "stream",
     "text": [
      "good to go\n"
     ]
    }
   ],
   "source": [
    "if ((\"Cairn Energy\" or \"Cairn plc\" in lfound)) and (('arbitration' or 'retrospective tax' or 'retro tax')in lfound):\n",
    "    print(\"good to go\")"
   ]
  },
  {
   "cell_type": "code",
   "execution_count": 84,
   "id": "d6d97ac4",
   "metadata": {},
   "outputs": [],
   "source": [
    "lfound=['Cairn Energy','arbitration']"
   ]
  },
  {
   "cell_type": "code",
   "execution_count": 87,
   "id": "dbb99052",
   "metadata": {},
   "outputs": [],
   "source": [
    "id_date=(dom.xpath('//*[@id=\"ctl00_ContentPlaceHolder1_lblNewsDate\"]')[0].text)"
   ]
  },
  {
   "cell_type": "code",
   "execution_count": 88,
   "id": "122cebaf",
   "metadata": {},
   "outputs": [],
   "source": [
    "from datetime import datetime\n",
    "\n",
    "datetime_object = datetime.strptime(id_date, '%d-%m-%Y')"
   ]
  },
  {
   "cell_type": "code",
   "execution_count": 92,
   "id": "fd846744",
   "metadata": {},
   "outputs": [
    {
     "name": "stdout",
     "output_type": "stream",
     "text": [
      "2018-01-15\n"
     ]
    }
   ],
   "source": [
    "print(datetime.strftime(datetime.strptime(id_date, '%d-%m-%Y'), '%Y-%m-%d'))"
   ]
  },
  {
   "cell_type": "code",
   "execution_count": 93,
   "id": "eb99533a",
   "metadata": {},
   "outputs": [
    {
     "data": {
      "text/plain": [
       "71"
      ]
     },
     "execution_count": 93,
     "metadata": {},
     "output_type": "execute_result"
    }
   ],
   "source": [
    "71 %100"
   ]
  },
  {
   "cell_type": "code",
   "execution_count": 94,
   "id": "cef5f56e",
   "metadata": {},
   "outputs": [
    {
     "data": {
      "text/plain": [
       "0"
      ]
     },
     "execution_count": 94,
     "metadata": {},
     "output_type": "execute_result"
    }
   ],
   "source": [
    "200%100"
   ]
  },
  {
   "cell_type": "code",
   "execution_count": 97,
   "id": "28d1def2",
   "metadata": {},
   "outputs": [
    {
     "name": "stdout",
     "output_type": "stream",
     "text": [
      "0\n",
      "50\n",
      "100\n"
     ]
    }
   ],
   "source": [
    "for i in range (150):\n",
    "    if i%50==0:date, publication,author, headline, items\n",
    "        print(i)date, publication,author, headline, items"
   ]
  },
  {
   "cell_type": "code",
   "execution_count": null,
   "id": "399e0d6c",
   "metadata": {},
   "outputs": [],
   "source": [
    "#create db\n",
    "import sqlite\n",
    "with sqlite3.connect('d:\\raje\\bert\\cairndb.db') as con:\n",
    "        cur = con.cursor().executescript(\"\"\"\n",
    "            CREATE TABLE \"cairn_table\" (\n",
    "                \"id\" INTEGER PRIMARY KEY AUTOINCREMENT, -- rowid\n",
    "                \"date\" INTEGER,\n",
    "                \n",
    "            );\n",
    "            \"\"\")\n",
    "    print \"created %s\" % _DBPATH\n"
   ]
  }
 ],
 "metadata": {
  "kernelspec": {
   "display_name": "Python 3 (ipykernel)",
   "language": "python",
   "name": "python3"
  },
  "language_info": {
   "codemirror_mode": {
    "name": "ipython",
    "version": 3
   },
   "file_extension": ".py",
   "mimetype": "text/x-python",
   "name": "python",
   "nbconvert_exporter": "python",
   "pygments_lexer": "ipython3",
   "version": "3.9.2"
  }
 },
 "nbformat": 4,
 "nbformat_minor": 5
}
