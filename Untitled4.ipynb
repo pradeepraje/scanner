{
 "cells": [
  {
   "cell_type": "code",
   "execution_count": 3,
   "id": "56b0f9f6",
   "metadata": {},
   "outputs": [
    {
     "name": "stderr",
     "output_type": "stream",
     "text": [
      "Warning message:\n",
      "\"package 'RSQLite' was built under R version 4.0.5\"\n"
     ]
    }
   ],
   "source": [
    "#Monday 13 December\n",
    "library(\"RSQLite\")"
   ]
  },
  {
   "cell_type": "code",
   "execution_count": 10,
   "id": "f0dae785",
   "metadata": {},
   "outputs": [],
   "source": [
    "con <- dbConnect(RSQLite::SQLite(), \"tempa.db\")"
   ]
  },
  {
   "cell_type": "code",
   "execution_count": 7,
   "id": "fc855216",
   "metadata": {},
   "outputs": [],
   "source": [
    "temp <- DBI::dbConnect(RSQLite::SQLite(), \"tempa.db\")"
   ]
  },
  {
   "cell_type": "code",
   "execution_count": 13,
   "id": "107b2d0c",
   "metadata": {},
   "outputs": [],
   "source": [
    "tables <- dbListTables(con)"
   ]
  },
  {
   "cell_type": "code",
   "execution_count": 12,
   "id": "48bcccc9",
   "metadata": {},
   "outputs": [],
   "source": [
    "con <- dbConnect(drv=RSQLite::SQLite(), dbname=\"d:/raje/bert/tempa.db\")"
   ]
  },
  {
   "cell_type": "code",
   "execution_count": null,
   "id": "7fe8f307",
   "metadata": {},
   "outputs": [],
   "source": []
  }
 ],
 "metadata": {
  "kernelspec": {
   "display_name": "R",
   "language": "R",
   "name": "ir"
  },
  "language_info": {
   "codemirror_mode": "r",
   "file_extension": ".r",
   "mimetype": "text/x-r-source",
   "name": "R",
   "pygments_lexer": "r",
   "version": "4.0.4"
  }
 },
 "nbformat": 4,
 "nbformat_minor": 5
}
