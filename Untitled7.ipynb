{
 "cells": [
  {
   "cell_type": "code",
   "execution_count": 1,
   "id": "2bcc1639",
   "metadata": {},
   "outputs": [
    {
     "data": {
      "text/html": [
       "'R version 4.1.2 (2021-11-01)'"
      ],
      "text/latex": [
       "'R version 4.1.2 (2021-11-01)'"
      ],
      "text/markdown": [
       "'R version 4.1.2 (2021-11-01)'"
      ],
      "text/plain": [
       "[1] \"R version 4.1.2 (2021-11-01)\""
      ]
     },
     "metadata": {},
     "output_type": "display_data"
    }
   ],
   "source": [
    "R.version.string"
   ]
  },
  {
   "cell_type": "code",
   "execution_count": 2,
   "id": "1c8d2ce1",
   "metadata": {},
   "outputs": [],
   "source": [
    "library(RSQLite)"
   ]
  },
  {
   "cell_type": "code",
   "execution_count": 3,
   "id": "c6c71890",
   "metadata": {},
   "outputs": [
    {
     "ename": "ERROR",
     "evalue": "Error: Could not connect to database:\nunable to open database file\n",
     "output_type": "error",
     "traceback": [
      "Error: Could not connect to database:\nunable to open database file\nTraceback:\n",
      "1. dbConnect(drv = RSQLite::SQLite(), dbname = \"d:\\raje\\bert\\tempa.db\")",
      "2. dbConnect(drv = RSQLite::SQLite(), dbname = \"d:\\raje\\bert\\tempa.db\")",
      "3. .local(drv, ...)",
      "4. new(\"SQLiteConnection\", ptr = connection_connect(dbname, loadable.extensions, \n .     flags, vfs, extended_types), dbname = dbname, flags = flags, \n .     vfs = vfs, loadable.extensions = loadable.extensions, ref = new.env(parent = emptyenv()), \n .     bigint = bigint, extended_types = extended_types)",
      "5. initialize(value, ...)",
      "6. initialize(value, ...)",
      "7. connection_connect(dbname, loadable.extensions, flags, vfs, extended_types)"
     ]
    }
   ],
   "source": [
    "con <- dbConnect(drv=RSQLite::SQLite(), dbname=\"d:\\raje\\bert\\tempa.db\")"
   ]
  },
  {
   "cell_type": "code",
   "execution_count": null,
   "id": "6139520b",
   "metadata": {},
   "outputs": [],
   "source": []
  }
 ],
 "metadata": {
  "kernelspec": {
   "display_name": "R",
   "language": "R",
   "name": "ir"
  },
  "language_info": {
   "codemirror_mode": "r",
   "file_extension": ".r",
   "mimetype": "text/x-r-source",
   "name": "R",
   "pygments_lexer": "r",
   "version": "4.1.2"
  }
 },
 "nbformat": 4,
 "nbformat_minor": 5
}
