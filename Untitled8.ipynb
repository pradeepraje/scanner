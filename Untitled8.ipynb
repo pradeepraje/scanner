{
 "cells": [
  {
   "cell_type": "code",
   "execution_count": 1,
   "id": "89ef0f9e",
   "metadata": {},
   "outputs": [
    {
     "data": {
      "text/html": [
       "'R version 4.1.2 (2021-11-01)'"
      ],
      "text/latex": [
       "'R version 4.1.2 (2021-11-01)'"
      ],
      "text/markdown": [
       "'R version 4.1.2 (2021-11-01)'"
      ],
      "text/plain": [
       "[1] \"R version 4.1.2 (2021-11-01)\""
      ]
     },
     "metadata": {},
     "output_type": "display_data"
    }
   ],
   "source": [
    "R.version.string\n"
   ]
  },
  {
   "cell_type": "code",
   "execution_count": 14,
   "id": "99c63c0d",
   "metadata": {},
   "outputs": [
    {
     "data": {
      "text/html": [
       "'D:/Raje/BERT'"
      ],
      "text/latex": [
       "'D:/Raje/BERT'"
      ],
      "text/markdown": [
       "'D:/Raje/BERT'"
      ],
      "text/plain": [
       "[1] \"D:/Raje/BERT\""
      ]
     },
     "metadata": {},
     "output_type": "display_data"
    }
   ],
   "source": [
    "getwd()"
   ]
  },
  {
   "cell_type": "code",
   "execution_count": 19,
   "id": "024ecd2a",
   "metadata": {},
   "outputs": [],
   "source": [
    "library(RSQLite)\n",
    "library(DBI)\n"
   ]
  },
  {
   "cell_type": "code",
   "execution_count": 23,
   "id": "19a5b652",
   "metadata": {},
   "outputs": [],
   "source": [
    "dba <- read.csv(\"tempa.csv\")\n"
   ]
  },
  {
   "cell_type": "markdown",
   "id": "c4f0e3e0",
   "metadata": {},
   "source": [
    "head)dba)"
   ]
  },
  {
   "cell_type": "code",
   "execution_count": 24,
   "id": "013634f4",
   "metadata": {
    "scrolled": false
   },
   "outputs": [
    {
     "data": {
      "text/html": [
       "<table class=\"dataframe\">\n",
       "<caption>A data.frame: 6 × 6</caption>\n",
       "<thead>\n",
       "\t<tr><th></th><th scope=col>id</th><th scope=col>date</th><th scope=col>publication</th><th scope=col>author</th><th scope=col>headline</th><th scope=col>items</th></tr>\n",
       "\t<tr><th></th><th scope=col>&lt;int&gt;</th><th scope=col>&lt;chr&gt;</th><th scope=col>&lt;chr&gt;</th><th scope=col>&lt;chr&gt;</th><th scope=col>&lt;chr&gt;</th><th scope=col>&lt;chr&gt;</th></tr>\n",
       "</thead>\n",
       "<tbody>\n",
       "\t<tr><th scope=row>1</th><td>37</td><td>2018-01-09</td><td>Business India                </td><td> Rakesh Joshi</td><td>Flood of arbitrations?                                      </td><td>Cairn Energy, arbitration                   </td></tr>\n",
       "\t<tr><th scope=row>2</th><td>38</td><td>2018-01-15</td><td>The Statesman                 </td><td>PTI          </td><td>Vedanta urges govt to resolve retro tax issues              </td><td>arbitration, Cairn Energy, retrospective tax</td></tr>\n",
       "\t<tr><th scope=row>3</th><td>39</td><td>2018-01-15</td><td>The Financial Express         </td><td>Editorial    </td><td>Can't negotiate tax deals                                   </td><td>arbitration, Cairn Energy                   </td></tr>\n",
       "\t<tr><th scope=row>4</th><td>40</td><td>2018-01-19</td><td>Financial Chronicle           </td><td>Editorial    </td><td>A pipe dream                                                </td><td>Cairn Energy, arbitration                   </td></tr>\n",
       "\t<tr><th scope=row>5</th><td>41</td><td>2018-01-20</td><td>The Political &amp; Business Daily</td><td><span style=white-space:pre-wrap>PTI          </span></td><td><span style=white-space:pre-wrap>Proposed investment pact terms to hit foreign partners      </span></td><td>Cairn Energy, arbitration, retrospective tax</td></tr>\n",
       "\t<tr><th scope=row>6</th><td>42</td><td>2018-01-24</td><td>The Financial Express         </td><td>PTI          </td><td>Final arbitration hearings on India tax demand in Aug: Cairn</td><td>arbitration, Cairn Energy, retrospective tax</td></tr>\n",
       "</tbody>\n",
       "</table>\n"
      ],
      "text/latex": [
       "A data.frame: 6 × 6\n",
       "\\begin{tabular}{r|llllll}\n",
       "  & id & date & publication & author & headline & items\\\\\n",
       "  & <int> & <chr> & <chr> & <chr> & <chr> & <chr>\\\\\n",
       "\\hline\n",
       "\t1 & 37 & 2018-01-09 & Business India                 &  Rakesh Joshi & Flood of arbitrations?                                       & Cairn Energy, arbitration                   \\\\\n",
       "\t2 & 38 & 2018-01-15 & The Statesman                  & PTI           & Vedanta urges govt to resolve retro tax issues               & arbitration, Cairn Energy, retrospective tax\\\\\n",
       "\t3 & 39 & 2018-01-15 & The Financial Express          & Editorial     & Can't negotiate tax deals                                    & arbitration, Cairn Energy                   \\\\\n",
       "\t4 & 40 & 2018-01-19 & Financial Chronicle            & Editorial     & A pipe dream                                                 & Cairn Energy, arbitration                   \\\\\n",
       "\t5 & 41 & 2018-01-20 & The Political \\& Business Daily & PTI           & Proposed investment pact terms to hit foreign partners       & Cairn Energy, arbitration, retrospective tax\\\\\n",
       "\t6 & 42 & 2018-01-24 & The Financial Express          & PTI           & Final arbitration hearings on India tax demand in Aug: Cairn & arbitration, Cairn Energy, retrospective tax\\\\\n",
       "\\end{tabular}\n"
      ],
      "text/markdown": [
       "\n",
       "A data.frame: 6 × 6\n",
       "\n",
       "| <!--/--> | id &lt;int&gt; | date &lt;chr&gt; | publication &lt;chr&gt; | author &lt;chr&gt; | headline &lt;chr&gt; | items &lt;chr&gt; |\n",
       "|---|---|---|---|---|---|---|\n",
       "| 1 | 37 | 2018-01-09 | Business India                 |  Rakesh Joshi | Flood of arbitrations?                                       | Cairn Energy, arbitration                    |\n",
       "| 2 | 38 | 2018-01-15 | The Statesman                  | PTI           | Vedanta urges govt to resolve retro tax issues               | arbitration, Cairn Energy, retrospective tax |\n",
       "| 3 | 39 | 2018-01-15 | The Financial Express          | Editorial     | Can't negotiate tax deals                                    | arbitration, Cairn Energy                    |\n",
       "| 4 | 40 | 2018-01-19 | Financial Chronicle            | Editorial     | A pipe dream                                                 | Cairn Energy, arbitration                    |\n",
       "| 5 | 41 | 2018-01-20 | The Political &amp; Business Daily | PTI           | Proposed investment pact terms to hit foreign partners       | Cairn Energy, arbitration, retrospective tax |\n",
       "| 6 | 42 | 2018-01-24 | The Financial Express          | PTI           | Final arbitration hearings on India tax demand in Aug: Cairn | arbitration, Cairn Energy, retrospective tax |\n",
       "\n"
      ],
      "text/plain": [
       "  id date       publication                    author       \n",
       "1 37 2018-01-09 Business India                  Rakesh Joshi\n",
       "2 38 2018-01-15 The Statesman                  PTI          \n",
       "3 39 2018-01-15 The Financial Express          Editorial    \n",
       "4 40 2018-01-19 Financial Chronicle            Editorial    \n",
       "5 41 2018-01-20 The Political & Business Daily PTI          \n",
       "6 42 2018-01-24 The Financial Express          PTI          \n",
       "  headline                                                    \n",
       "1 Flood of arbitrations?                                      \n",
       "2 Vedanta urges govt to resolve retro tax issues              \n",
       "3 Can't negotiate tax deals                                   \n",
       "4 A pipe dream                                                \n",
       "5 Proposed investment pact terms to hit foreign partners      \n",
       "6 Final arbitration hearings on India tax demand in Aug: Cairn\n",
       "  items                                       \n",
       "1 Cairn Energy, arbitration                   \n",
       "2 arbitration, Cairn Energy, retrospective tax\n",
       "3 arbitration, Cairn Energy                   \n",
       "4 Cairn Energy, arbitration                   \n",
       "5 Cairn Energy, arbitration, retrospective tax\n",
       "6 arbitration, Cairn Energy, retrospective tax"
      ]
     },
     "metadata": {},
     "output_type": "display_data"
    }
   ],
   "source": [
    "head(dba)"
   ]
  },
  {
   "cell_type": "code",
   "execution_count": 25,
   "id": "c31a24e1",
   "metadata": {},
   "outputs": [
    {
     "data": {
      "text/plain": [
       "[1] \"2018-01-09 IST\""
      ]
     },
     "metadata": {},
     "output_type": "display_data"
    }
   ],
   "source": [
    "as.POSIXct('2018-01-09', format=\"%Y-%m-%d\")"
   ]
  },
  {
   "cell_type": "code",
   "execution_count": 26,
   "id": "28257936",
   "metadata": {},
   "outputs": [],
   "source": [
    "mmyy <- format(as.Date('2018-01-09'), \"%Y-%m\")"
   ]
  },
  {
   "cell_type": "code",
   "execution_count": 27,
   "id": "ec83eb8f",
   "metadata": {},
   "outputs": [
    {
     "data": {
      "text/html": [
       "'2018-01'"
      ],
      "text/latex": [
       "'2018-01'"
      ],
      "text/markdown": [
       "'2018-01'"
      ],
      "text/plain": [
       "[1] \"2018-01\""
      ]
     },
     "metadata": {},
     "output_type": "display_data"
    }
   ],
   "source": [
    "mmyy"
   ]
  },
  {
   "cell_type": "code",
   "execution_count": 30,
   "id": "b5a53e5f",
   "metadata": {},
   "outputs": [],
   "source": [
    "dba$MY <- format(as.Date(dba$date), \"%Y-%m\")"
   ]
  },
  {
   "cell_type": "code",
   "execution_count": 31,
   "id": "01195a10",
   "metadata": {},
   "outputs": [
    {
     "data": {
      "text/html": [
       "<table class=\"dataframe\">\n",
       "<caption>A data.frame: 6 × 7</caption>\n",
       "<thead>\n",
       "\t<tr><th></th><th scope=col>id</th><th scope=col>date</th><th scope=col>publication</th><th scope=col>author</th><th scope=col>headline</th><th scope=col>items</th><th scope=col>MY</th></tr>\n",
       "\t<tr><th></th><th scope=col>&lt;int&gt;</th><th scope=col>&lt;chr&gt;</th><th scope=col>&lt;chr&gt;</th><th scope=col>&lt;chr&gt;</th><th scope=col>&lt;chr&gt;</th><th scope=col>&lt;chr&gt;</th><th scope=col>&lt;chr&gt;</th></tr>\n",
       "</thead>\n",
       "<tbody>\n",
       "\t<tr><th scope=row>1</th><td>37</td><td>2018-01-09</td><td>Business India                </td><td> Rakesh Joshi</td><td>Flood of arbitrations?                                      </td><td>Cairn Energy, arbitration                   </td><td>2018-01</td></tr>\n",
       "\t<tr><th scope=row>2</th><td>38</td><td>2018-01-15</td><td>The Statesman                 </td><td>PTI          </td><td>Vedanta urges govt to resolve retro tax issues              </td><td>arbitration, Cairn Energy, retrospective tax</td><td>2018-01</td></tr>\n",
       "\t<tr><th scope=row>3</th><td>39</td><td>2018-01-15</td><td>The Financial Express         </td><td>Editorial    </td><td>Can't negotiate tax deals                                   </td><td>arbitration, Cairn Energy                   </td><td>2018-01</td></tr>\n",
       "\t<tr><th scope=row>4</th><td>40</td><td>2018-01-19</td><td>Financial Chronicle           </td><td>Editorial    </td><td>A pipe dream                                                </td><td>Cairn Energy, arbitration                   </td><td>2018-01</td></tr>\n",
       "\t<tr><th scope=row>5</th><td>41</td><td>2018-01-20</td><td>The Political &amp; Business Daily</td><td><span style=white-space:pre-wrap>PTI          </span></td><td><span style=white-space:pre-wrap>Proposed investment pact terms to hit foreign partners      </span></td><td>Cairn Energy, arbitration, retrospective tax</td><td>2018-01</td></tr>\n",
       "\t<tr><th scope=row>6</th><td>42</td><td>2018-01-24</td><td>The Financial Express         </td><td>PTI          </td><td>Final arbitration hearings on India tax demand in Aug: Cairn</td><td>arbitration, Cairn Energy, retrospective tax</td><td>2018-01</td></tr>\n",
       "</tbody>\n",
       "</table>\n"
      ],
      "text/latex": [
       "A data.frame: 6 × 7\n",
       "\\begin{tabular}{r|lllllll}\n",
       "  & id & date & publication & author & headline & items & MY\\\\\n",
       "  & <int> & <chr> & <chr> & <chr> & <chr> & <chr> & <chr>\\\\\n",
       "\\hline\n",
       "\t1 & 37 & 2018-01-09 & Business India                 &  Rakesh Joshi & Flood of arbitrations?                                       & Cairn Energy, arbitration                    & 2018-01\\\\\n",
       "\t2 & 38 & 2018-01-15 & The Statesman                  & PTI           & Vedanta urges govt to resolve retro tax issues               & arbitration, Cairn Energy, retrospective tax & 2018-01\\\\\n",
       "\t3 & 39 & 2018-01-15 & The Financial Express          & Editorial     & Can't negotiate tax deals                                    & arbitration, Cairn Energy                    & 2018-01\\\\\n",
       "\t4 & 40 & 2018-01-19 & Financial Chronicle            & Editorial     & A pipe dream                                                 & Cairn Energy, arbitration                    & 2018-01\\\\\n",
       "\t5 & 41 & 2018-01-20 & The Political \\& Business Daily & PTI           & Proposed investment pact terms to hit foreign partners       & Cairn Energy, arbitration, retrospective tax & 2018-01\\\\\n",
       "\t6 & 42 & 2018-01-24 & The Financial Express          & PTI           & Final arbitration hearings on India tax demand in Aug: Cairn & arbitration, Cairn Energy, retrospective tax & 2018-01\\\\\n",
       "\\end{tabular}\n"
      ],
      "text/markdown": [
       "\n",
       "A data.frame: 6 × 7\n",
       "\n",
       "| <!--/--> | id &lt;int&gt; | date &lt;chr&gt; | publication &lt;chr&gt; | author &lt;chr&gt; | headline &lt;chr&gt; | items &lt;chr&gt; | MY &lt;chr&gt; |\n",
       "|---|---|---|---|---|---|---|---|\n",
       "| 1 | 37 | 2018-01-09 | Business India                 |  Rakesh Joshi | Flood of arbitrations?                                       | Cairn Energy, arbitration                    | 2018-01 |\n",
       "| 2 | 38 | 2018-01-15 | The Statesman                  | PTI           | Vedanta urges govt to resolve retro tax issues               | arbitration, Cairn Energy, retrospective tax | 2018-01 |\n",
       "| 3 | 39 | 2018-01-15 | The Financial Express          | Editorial     | Can't negotiate tax deals                                    | arbitration, Cairn Energy                    | 2018-01 |\n",
       "| 4 | 40 | 2018-01-19 | Financial Chronicle            | Editorial     | A pipe dream                                                 | Cairn Energy, arbitration                    | 2018-01 |\n",
       "| 5 | 41 | 2018-01-20 | The Political &amp; Business Daily | PTI           | Proposed investment pact terms to hit foreign partners       | Cairn Energy, arbitration, retrospective tax | 2018-01 |\n",
       "| 6 | 42 | 2018-01-24 | The Financial Express          | PTI           | Final arbitration hearings on India tax demand in Aug: Cairn | arbitration, Cairn Energy, retrospective tax | 2018-01 |\n",
       "\n"
      ],
      "text/plain": [
       "  id date       publication                    author       \n",
       "1 37 2018-01-09 Business India                  Rakesh Joshi\n",
       "2 38 2018-01-15 The Statesman                  PTI          \n",
       "3 39 2018-01-15 The Financial Express          Editorial    \n",
       "4 40 2018-01-19 Financial Chronicle            Editorial    \n",
       "5 41 2018-01-20 The Political & Business Daily PTI          \n",
       "6 42 2018-01-24 The Financial Express          PTI          \n",
       "  headline                                                    \n",
       "1 Flood of arbitrations?                                      \n",
       "2 Vedanta urges govt to resolve retro tax issues              \n",
       "3 Can't negotiate tax deals                                   \n",
       "4 A pipe dream                                                \n",
       "5 Proposed investment pact terms to hit foreign partners      \n",
       "6 Final arbitration hearings on India tax demand in Aug: Cairn\n",
       "  items                                        MY     \n",
       "1 Cairn Energy, arbitration                    2018-01\n",
       "2 arbitration, Cairn Energy, retrospective tax 2018-01\n",
       "3 arbitration, Cairn Energy                    2018-01\n",
       "4 Cairn Energy, arbitration                    2018-01\n",
       "5 Cairn Energy, arbitration, retrospective tax 2018-01\n",
       "6 arbitration, Cairn Energy, retrospective tax 2018-01"
      ]
     },
     "metadata": {},
     "output_type": "display_data"
    }
   ],
   "source": [
    "head(dba)"
   ]
  },
  {
   "cell_type": "code",
   "execution_count": 32,
   "id": "b5f12017",
   "metadata": {},
   "outputs": [
    {
     "name": "stderr",
     "output_type": "stream",
     "text": [
      "Warning message in seq_len(head.end.idx):\n",
      "\"first element used of 'length.out' argument\"\n",
      "ERROR while rich displaying an object: Error in seq_len(head.end.idx): argument must be coercible to non-negative integer\n",
      "\n",
      "Traceback:\n",
      "1. FUN(X[[i]], ...)\n",
      "2. tryCatch(withCallingHandlers({\n",
      " .     if (!mime %in% names(repr::mime2repr)) \n",
      " .         stop(\"No repr_* for mimetype \", mime, \" in repr::mime2repr\")\n",
      " .     rpr <- repr::mime2repr[[mime]](obj)\n",
      " .     if (is.null(rpr)) \n",
      " .         return(NULL)\n",
      " .     prepare_content(is.raw(rpr), rpr)\n",
      " . }, error = error_handler), error = outer_handler)\n",
      "3. tryCatchList(expr, classes, parentenv, handlers)\n",
      "4. tryCatchOne(expr, names, parentenv, handlers[[1L]])\n",
      "5. doTryCatch(return(expr), name, parentenv, handler)\n",
      "6. withCallingHandlers({\n",
      " .     if (!mime %in% names(repr::mime2repr)) \n",
      " .         stop(\"No repr_* for mimetype \", mime, \" in repr::mime2repr\")\n",
      " .     rpr <- repr::mime2repr[[mime]](obj)\n",
      " .     if (is.null(rpr)) \n",
      " .         return(NULL)\n",
      " .     prepare_content(is.raw(rpr), rpr)\n",
      " . }, error = error_handler)\n",
      "7. repr::mime2repr[[mime]](obj)\n",
      "8. repr_html.help_files_with_topic(obj)\n",
      "9. repr_help_files_with_topic_generic(obj, Rd2HTML)\n"
     ]
    }
   ],
   "source": [
    "help(merge)"
   ]
  },
  {
   "cell_type": "code",
   "execution_count": 33,
   "id": "1a4dbfbb",
   "metadata": {},
   "outputs": [],
   "source": [
    "dba <- read.csv(\"tempa.csv\")\n",
    "dbb <- read.csv(\"tempb.csv\")\n"
   ]
  },
  {
   "cell_type": "code",
   "execution_count": 34,
   "id": "a8926804",
   "metadata": {},
   "outputs": [
    {
     "name": "stdout",
     "output_type": "stream",
     "text": [
      "'data.frame':\t2295 obs. of  6 variables:\n",
      " $ id         : int  37 38 39 40 41 42 43 44 45 46 ...\n",
      " $ date       : chr  \"2018-01-09\" \"2018-01-15\" \"2018-01-15\" \"2018-01-19\" ...\n",
      " $ publication: chr  \"Business India\" \"The Statesman\" \"The Financial Express\" \"Financial Chronicle\" ...\n",
      " $ author     : chr  \" Rakesh Joshi\" \"PTI\" \"Editorial\" \"Editorial\" ...\n",
      " $ headline   : chr  \"Flood of arbitrations?\" \"Vedanta urges govt to resolve retro tax issues\" \"Can't negotiate tax deals\" \"A pipe dream\" ...\n",
      " $ items      : chr  \"Cairn Energy, arbitration\" \"arbitration, Cairn Energy, retrospective tax\" \"arbitration, Cairn Energy\" \"Cairn Energy, arbitration\" ...\n"
     ]
    }
   ],
   "source": [
    "str(dba)"
   ]
  },
  {
   "cell_type": "code",
   "execution_count": 35,
   "id": "0a59b223",
   "metadata": {},
   "outputs": [
    {
     "name": "stdout",
     "output_type": "stream",
     "text": [
      "'data.frame':\t274 obs. of  6 variables:\n",
      " $ id         : int  1 2 3 4 5 6 7 8 9 10 ...\n",
      " $ date       : chr  \"2018-01-09\" \"2017-01-01\" \"2017-01-02\" \"2017-01-12\" ...\n",
      " $ publication: chr  \"Business India\" \"Business Standard\" \"Western Times\" \"Business Standard\" ...\n",
      " $ author     : chr  \"Rakesh Joshi\" \"Bureau\" \"Bureau\" \" Sayan ghosal\" ...\n",
      " $ headline   : chr  \"Flood of arbitrations?\" \"Deals dominate oil & gas sector\" \"Cos must drop retro tax cases to avail settlement scheme: CBDT\" \"HC asks Cairn to go for arbitration in 2 weeks\" ...\n",
      " $ items      : chr  \"Cairn Energy, arbitration\" \"arbitration\" \"retrospective tax, arbitration, Cairn Energy\" \"arbitration\" ...\n"
     ]
    }
   ],
   "source": [
    "str(dbb)"
   ]
  },
  {
   "cell_type": "code",
   "execution_count": 36,
   "id": "669f9cc3",
   "metadata": {},
   "outputs": [],
   "source": [
    "temp<-rbind(dba,dbb)"
   ]
  },
  {
   "cell_type": "code",
   "execution_count": 37,
   "id": "d302ddb0",
   "metadata": {},
   "outputs": [
    {
     "name": "stdout",
     "output_type": "stream",
     "text": [
      "'data.frame':\t2569 obs. of  6 variables:\n",
      " $ id         : int  37 38 39 40 41 42 43 44 45 46 ...\n",
      " $ date       : chr  \"2018-01-09\" \"2018-01-15\" \"2018-01-15\" \"2018-01-19\" ...\n",
      " $ publication: chr  \"Business India\" \"The Statesman\" \"The Financial Express\" \"Financial Chronicle\" ...\n",
      " $ author     : chr  \" Rakesh Joshi\" \"PTI\" \"Editorial\" \"Editorial\" ...\n",
      " $ headline   : chr  \"Flood of arbitrations?\" \"Vedanta urges govt to resolve retro tax issues\" \"Can't negotiate tax deals\" \"A pipe dream\" ...\n",
      " $ items      : chr  \"Cairn Energy, arbitration\" \"arbitration, Cairn Energy, retrospective tax\" \"arbitration, Cairn Energy\" \"Cairn Energy, arbitration\" ...\n"
     ]
    }
   ],
   "source": [
    "str(temp)\n"
   ]
  },
  {
   "cell_type": "code",
   "execution_count": 38,
   "id": "153386fa",
   "metadata": {},
   "outputs": [],
   "source": [
    "temp$MY <- format(as.Date(temp$date), \"%Y-%m\")"
   ]
  },
  {
   "cell_type": "code",
   "execution_count": 39,
   "id": "6618247c",
   "metadata": {},
   "outputs": [
    {
     "data": {
      "text/html": [
       "<table class=\"dataframe\">\n",
       "<caption>A data.frame: 6 × 7</caption>\n",
       "<thead>\n",
       "\t<tr><th></th><th scope=col>id</th><th scope=col>date</th><th scope=col>publication</th><th scope=col>author</th><th scope=col>headline</th><th scope=col>items</th><th scope=col>MY</th></tr>\n",
       "\t<tr><th></th><th scope=col>&lt;int&gt;</th><th scope=col>&lt;chr&gt;</th><th scope=col>&lt;chr&gt;</th><th scope=col>&lt;chr&gt;</th><th scope=col>&lt;chr&gt;</th><th scope=col>&lt;chr&gt;</th><th scope=col>&lt;chr&gt;</th></tr>\n",
       "</thead>\n",
       "<tbody>\n",
       "\t<tr><th scope=row>1</th><td>37</td><td>2018-01-09</td><td>Business India                </td><td> Rakesh Joshi</td><td>Flood of arbitrations?                                      </td><td>Cairn Energy, arbitration                   </td><td>2018-01</td></tr>\n",
       "\t<tr><th scope=row>2</th><td>38</td><td>2018-01-15</td><td>The Statesman                 </td><td>PTI          </td><td>Vedanta urges govt to resolve retro tax issues              </td><td>arbitration, Cairn Energy, retrospective tax</td><td>2018-01</td></tr>\n",
       "\t<tr><th scope=row>3</th><td>39</td><td>2018-01-15</td><td>The Financial Express         </td><td>Editorial    </td><td>Can't negotiate tax deals                                   </td><td>arbitration, Cairn Energy                   </td><td>2018-01</td></tr>\n",
       "\t<tr><th scope=row>4</th><td>40</td><td>2018-01-19</td><td>Financial Chronicle           </td><td>Editorial    </td><td>A pipe dream                                                </td><td>Cairn Energy, arbitration                   </td><td>2018-01</td></tr>\n",
       "\t<tr><th scope=row>5</th><td>41</td><td>2018-01-20</td><td>The Political &amp; Business Daily</td><td><span style=white-space:pre-wrap>PTI          </span></td><td><span style=white-space:pre-wrap>Proposed investment pact terms to hit foreign partners      </span></td><td>Cairn Energy, arbitration, retrospective tax</td><td>2018-01</td></tr>\n",
       "\t<tr><th scope=row>6</th><td>42</td><td>2018-01-24</td><td>The Financial Express         </td><td>PTI          </td><td>Final arbitration hearings on India tax demand in Aug: Cairn</td><td>arbitration, Cairn Energy, retrospective tax</td><td>2018-01</td></tr>\n",
       "</tbody>\n",
       "</table>\n"
      ],
      "text/latex": [
       "A data.frame: 6 × 7\n",
       "\\begin{tabular}{r|lllllll}\n",
       "  & id & date & publication & author & headline & items & MY\\\\\n",
       "  & <int> & <chr> & <chr> & <chr> & <chr> & <chr> & <chr>\\\\\n",
       "\\hline\n",
       "\t1 & 37 & 2018-01-09 & Business India                 &  Rakesh Joshi & Flood of arbitrations?                                       & Cairn Energy, arbitration                    & 2018-01\\\\\n",
       "\t2 & 38 & 2018-01-15 & The Statesman                  & PTI           & Vedanta urges govt to resolve retro tax issues               & arbitration, Cairn Energy, retrospective tax & 2018-01\\\\\n",
       "\t3 & 39 & 2018-01-15 & The Financial Express          & Editorial     & Can't negotiate tax deals                                    & arbitration, Cairn Energy                    & 2018-01\\\\\n",
       "\t4 & 40 & 2018-01-19 & Financial Chronicle            & Editorial     & A pipe dream                                                 & Cairn Energy, arbitration                    & 2018-01\\\\\n",
       "\t5 & 41 & 2018-01-20 & The Political \\& Business Daily & PTI           & Proposed investment pact terms to hit foreign partners       & Cairn Energy, arbitration, retrospective tax & 2018-01\\\\\n",
       "\t6 & 42 & 2018-01-24 & The Financial Express          & PTI           & Final arbitration hearings on India tax demand in Aug: Cairn & arbitration, Cairn Energy, retrospective tax & 2018-01\\\\\n",
       "\\end{tabular}\n"
      ],
      "text/markdown": [
       "\n",
       "A data.frame: 6 × 7\n",
       "\n",
       "| <!--/--> | id &lt;int&gt; | date &lt;chr&gt; | publication &lt;chr&gt; | author &lt;chr&gt; | headline &lt;chr&gt; | items &lt;chr&gt; | MY &lt;chr&gt; |\n",
       "|---|---|---|---|---|---|---|---|\n",
       "| 1 | 37 | 2018-01-09 | Business India                 |  Rakesh Joshi | Flood of arbitrations?                                       | Cairn Energy, arbitration                    | 2018-01 |\n",
       "| 2 | 38 | 2018-01-15 | The Statesman                  | PTI           | Vedanta urges govt to resolve retro tax issues               | arbitration, Cairn Energy, retrospective tax | 2018-01 |\n",
       "| 3 | 39 | 2018-01-15 | The Financial Express          | Editorial     | Can't negotiate tax deals                                    | arbitration, Cairn Energy                    | 2018-01 |\n",
       "| 4 | 40 | 2018-01-19 | Financial Chronicle            | Editorial     | A pipe dream                                                 | Cairn Energy, arbitration                    | 2018-01 |\n",
       "| 5 | 41 | 2018-01-20 | The Political &amp; Business Daily | PTI           | Proposed investment pact terms to hit foreign partners       | Cairn Energy, arbitration, retrospective tax | 2018-01 |\n",
       "| 6 | 42 | 2018-01-24 | The Financial Express          | PTI           | Final arbitration hearings on India tax demand in Aug: Cairn | arbitration, Cairn Energy, retrospective tax | 2018-01 |\n",
       "\n"
      ],
      "text/plain": [
       "  id date       publication                    author       \n",
       "1 37 2018-01-09 Business India                  Rakesh Joshi\n",
       "2 38 2018-01-15 The Statesman                  PTI          \n",
       "3 39 2018-01-15 The Financial Express          Editorial    \n",
       "4 40 2018-01-19 Financial Chronicle            Editorial    \n",
       "5 41 2018-01-20 The Political & Business Daily PTI          \n",
       "6 42 2018-01-24 The Financial Express          PTI          \n",
       "  headline                                                    \n",
       "1 Flood of arbitrations?                                      \n",
       "2 Vedanta urges govt to resolve retro tax issues              \n",
       "3 Can't negotiate tax deals                                   \n",
       "4 A pipe dream                                                \n",
       "5 Proposed investment pact terms to hit foreign partners      \n",
       "6 Final arbitration hearings on India tax demand in Aug: Cairn\n",
       "  items                                        MY     \n",
       "1 Cairn Energy, arbitration                    2018-01\n",
       "2 arbitration, Cairn Energy, retrospective tax 2018-01\n",
       "3 arbitration, Cairn Energy                    2018-01\n",
       "4 Cairn Energy, arbitration                    2018-01\n",
       "5 Cairn Energy, arbitration, retrospective tax 2018-01\n",
       "6 arbitration, Cairn Energy, retrospective tax 2018-01"
      ]
     },
     "metadata": {},
     "output_type": "display_data"
    }
   ],
   "source": [
    "head(temp)\n"
   ]
  },
  {
   "cell_type": "code",
   "execution_count": 40,
   "id": "672041e3",
   "metadata": {},
   "outputs": [],
   "source": [
    "library(plyr)"
   ]
  },
  {
   "cell_type": "code",
   "execution_count": 41,
   "id": "8bfce1d6",
   "metadata": {},
   "outputs": [],
   "source": [
    "a1<-count(temp,'MY')"
   ]
  },
  {
   "cell_type": "code",
   "execution_count": 44,
   "id": "b04c5652",
   "metadata": {},
   "outputs": [
    {
     "ename": "ERROR",
     "evalue": "Error in barplot.default(a1): 'height' must be a vector or a matrix\n",
     "output_type": "error",
     "traceback": [
      "Error in barplot.default(a1): 'height' must be a vector or a matrix\nTraceback:\n",
      "1. barplot(a1)",
      "2. barplot.default(a1)",
      "3. stop(\"'height' must be a vector or a matrix\")"
     ]
    }
   ],
   "source": [
    "barplot(a1)\n"
   ]
  },
  {
   "cell_type": "code",
   "execution_count": 45,
   "id": "a37cdb4e",
   "metadata": {},
   "outputs": [
    {
     "name": "stdout",
     "output_type": "stream",
     "text": [
      "'data.frame':\t81 obs. of  2 variables:\n",
      " $ MY  : chr  \"2015-02\" \"2015-03\" \"2015-04\" \"2015-05\" ...\n",
      " $ freq: int  14 64 29 15 28 2 48 28 49 49 ...\n"
     ]
    }
   ],
   "source": [
    "str(a1)"
   ]
  },
  {
   "cell_type": "code",
   "execution_count": 48,
   "id": "972174ab",
   "metadata": {},
   "outputs": [
    {
     "data": {
      "image/png": "[encoded data removed]",
      "text/plain": [
       "plot without title"
      ]
     },
     "metadata": {
      "image/png": {
       "height": 420,
       "width": 420
      }
     },
     "output_type": "display_data"
    }
   ],
   "source": [
    "barplot(a1$freq)"
   ]
  },
  {
   "cell_type": "code",
   "execution_count": 50,
   "id": "75e8de34",
   "metadata": {},
   "outputs": [],
   "source": [
    "save(temp,file=\"temp_final.Rda\")"
   ]
  },
  {
   "cell_type": "code",
   "execution_count": null,
   "id": "8881d11b",
   "metadata": {},
   "outputs": [],
   "source": []
  }
 ],
 "metadata": {
  "kernelspec": {
   "display_name": "R",
   "language": "R",
   "name": "ir"
  },
  "language_info": {
   "codemirror_mode": "r",
   "file_extension": ".r",
   "mimetype": "text/x-r-source",
   "name": "R",
   "pygments_lexer": "r",
   "version": "4.1.2"
  }
 },
 "nbformat": 4,
 "nbformat_minor": 5
}
