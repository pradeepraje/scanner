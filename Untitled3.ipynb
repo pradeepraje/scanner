{
 "cells": [
  {
   "cell_type": "code",
   "execution_count": 18,
   "id": "a118f122",
   "metadata": {},
   "outputs": [],
   "source": [
    "from lxml import etree\n",
    "import time,xlrd,sqlite3, pickle\n",
    "#from bs4 import BeautifulSoup\n",
    "from datetime import datetime\n",
    "import selenium as se\n",
    "from selenium import webdriver\n"
   ]
  },
  {
   "cell_type": "code",
   "execution_count": 4,
   "id": "bb6489ef",
   "metadata": {},
   "outputs": [],
   "source": [
    "ibook = xlrd.open_workbook(\"cairn17.xls\", formatting_info=True)\n",
    "isheet = ibook.sheet_by_index(0)\n"
   ]
  },
  {
   "cell_type": "code",
   "execution_count": 19,
   "id": "e46d469d",
   "metadata": {},
   "outputs": [],
   "source": [
    "import requests\n",
    "import bs4\n",
    "from lxml import etree\n",
    "from bs4 import BeautifulSoup\n"
   ]
  },
  {
   "cell_type": "code",
   "execution_count": 27,
   "id": "af75e890",
   "metadata": {
    "scrolled": false
   },
   "outputs": [
    {
     "name": "stdout",
     "output_type": "stream",
     "text": [
      "Agency: \t01-01-2017\tBureau\n",
      "Agency: \t02-01-2017\tBureau\n",
      "Agency: \t02-01-2017\tBureau\n",
      "Journalist:   \t03-01-2017\t Rejesh Naidu\n",
      "Journalist:   \t03-01-2017\t Kunal Bose\n",
      "Agency: \t03-01-2017\tBureau\n",
      "Agency: \t04-01-2017\tBureau\n",
      "Agency: \t04-01-2017\tPTI\n",
      "Agency: \t04-01-2017\tPTI\n",
      "Agency: \t04-01-2017\tBureau\n"
     ]
    }
   ],
   "source": [
    "options = se.webdriver.ChromeOptions()\n",
    "options.add_argument('headless')\n",
    "driver=se.webdriver.Chrome(options=options)   \n",
    "ibook = xlrd.open_workbook(\"cairn17.xls\", formatting_info=True)\n",
    "isheet = ibook.sheet_by_index(0)\n",
    "for row in range(11):\n",
    "    if (isheet.cell_value(row,5).lower()=='english'):\n",
    "        link = isheet.hyperlink_map.get((row, 1))\n",
    "        url = '(No URL)' if link is None else link.url_or_path        \n",
    "        driver.get(url)            \n",
    "        time.sleep(5)\n",
    "        id_date=datetime.strftime(datetime.strptime(datex, '%d-%m-%Y'), '%Y-%m-%d')\n",
    "        webpage=requests.get(url)\n",
    "        soup=BeautifulSoup(webpage.content, 'html.parser')\n",
    "        dom=etree.HTML(str(soup))\n",
    "        id_date=dom.xpath('//*[@id=\"ctl00_ContentPlaceHolder1_lblNewsDate\"]')[0].text\n",
    "\n",
    "        if dom.xpath( '//*[@id=\"ctl00_ContentPlaceHolder1_lblJournalist\"]'):\n",
    "            print(\"Journalist:   \"+'\\t'+id_date+'\\t'+ dom.xpath( '//*[@id=\"ctl00_ContentPlaceHolder1_lblJournalist\"]')[0].text)\n",
    "        elif  dom.xpath('//*[@id=\"ctl00_ContentPlaceHolder1_lblAgency\"]'):\n",
    "            print('Agency: '+'\\t'+id_date+'\\t'+dom.xpath('//*[@id=\"ctl00_ContentPlaceHolder1_lblAgency\"]')[0].text)\n",
    "        elif dom.xpath( '//*[@id=\"ctl00_ContentPlaceHolder1_lblAuthor\"]'):\n",
    "                    print('Author: '+'\\t'+id_date +'\\t'+dom.xpath('//*[@id=\"ctl00_ContentPlaceHolder1_lblAuthor\"]')[0].text)\n",
    "        else:\n",
    "            print (\"Nothing recorded\")"
   ]
  },
  {
   "cell_type": "code",
   "execution_count": 16,
   "id": "cf51784b",
   "metadata": {},
   "outputs": [
    {
     "name": "stdout",
     "output_type": "stream",
     "text": [
      "100\n"
     ]
    }
   ],
   "source": [
    "ibook = xlrd.open_workbook(\"cairn17.xls\", formatting_info=True)\n",
    "isheet = ibook.sheet_by_index(0)\n",
    "print(isheet.nrows)"
   ]
  },
  {
   "cell_type": "code",
   "execution_count": 22,
   "id": "1d3d81fa",
   "metadata": {},
   "outputs": [],
   "source": [
    "url='http://mtrack.merryspiders.com/NewsDetailsPublished.aspx?NewsId=Kz14iYUqklsFJjwdoptEIw==&MediaType='"
   ]
  },
  {
   "cell_type": "code",
   "execution_count": 28,
   "id": "fc45cc65",
   "metadata": {},
   "outputs": [
    {
     "data": {
      "text/plain": [
       "'04-01-2017'"
      ]
     },
     "execution_count": 28,
     "metadata": {},
     "output_type": "execute_result"
    }
   ],
   "source": [
    "id_date"
   ]
  },
  {
   "cell_type": "code",
   "execution_count": 29,
   "id": "88be7945",
   "metadata": {},
   "outputs": [
    {
     "name": "stdout",
     "output_type": "stream",
     "text": [
      "2017-01-04\n"
     ]
    }
   ],
   "source": [
    "print(datetime.strftime(datetime.strptime(id_date, '%d-%m-%Y'), '%Y-%m-%d'))"
   ]
  },
  {
   "cell_type": "code",
   "execution_count": 33,
   "id": "e8074e89",
   "metadata": {},
   "outputs": [
    {
     "ename": "OperationalError",
     "evalue": "table \"cairn_table\" already exists",
     "output_type": "error",
     "traceback": [
      "\u001b[1;31m---------------------------------------------------------------------------\u001b[0m",
      "\u001b[1;31mOperationalError\u001b[0m                          Traceback (most recent call last)",
      "\u001b[1;32m~\\AppData\\Local\\Temp/ipykernel_2396/4005422808.py\u001b[0m in \u001b[0;36m<module>\u001b[1;34m\u001b[0m\n\u001b[0;32m     12\u001b[0m             )\n\u001b[0;32m     13\u001b[0m             \"\"\"\n\u001b[1;32m---> 14\u001b[1;33m     \u001b[0mcur\u001b[0m\u001b[1;33m.\u001b[0m\u001b[0mexecute\u001b[0m\u001b[1;33m(\u001b[0m\u001b[0mtable\u001b[0m\u001b[1;33m)\u001b[0m\u001b[1;33m\u001b[0m\u001b[1;33m\u001b[0m\u001b[0m\n\u001b[0m\u001b[0;32m     15\u001b[0m     \u001b[0mprint\u001b[0m \u001b[1;33m(\u001b[0m\u001b[1;34m\"created Cairn_table\"\u001b[0m\u001b[1;33m)\u001b[0m\u001b[1;33m\u001b[0m\u001b[1;33m\u001b[0m\u001b[0m\n\u001b[0;32m     16\u001b[0m \u001b[0mcon\u001b[0m\u001b[1;33m.\u001b[0m\u001b[0mclose\u001b[0m\u001b[1;33m(\u001b[0m\u001b[1;33m)\u001b[0m\u001b[1;33m\u001b[0m\u001b[1;33m\u001b[0m\u001b[0m\n",
      "\u001b[1;31mOperationalError\u001b[0m: table \"cairn_table\" already exists"
     ]
    }
   ],
   "source": [
    "#to create db\n",
    "import sqlite3\n",
    "with sqlite3.connect('cairndb.db') as con:\n",
    "    cur=con.cursor()\n",
    "    table=\"\"\"CREATE TABLE \"cairn_table\" (\n",
    "                \"id\" INTEGER PRIMARY KEY AUTOINCREMENT, -- rowid\n",
    "                \"date\" TEXT,\n",
    "                \"publication\" TEXT,\n",
    "                \"author\" TEXT,\n",
    "                \"headline\" TEXT,\n",
    "                \"items\" TEXT                \n",
    "            )\n",
    "            \"\"\"\n",
    "    cur.execute(table)\n",
    "    print (\"created Cairn_table\") \n",
    "con.close()"
   ]
  },
  {
   "cell_type": "code",
   "execution_count": 34,
   "id": "389c0752",
   "metadata": {},
   "outputs": [],
   "source": [
    "import xlrd"
   ]
  },
  {
   "cell_type": "code",
   "execution_count": 43,
   "id": "141a7ea9",
   "metadata": {},
   "outputs": [
    {
     "name": "stdout",
     "output_type": "stream",
     "text": [
      "['2018', '2021', '2015', '2017', '2016', '2019', '2020']\n"
     ]
    }
   ],
   "source": [
    "ibook = xlrd.open_workbook(\"cairn18.xls\", formatting_info=True)\n",
    "#for ix in range (7):\n",
    "    #isheet = ibook.sheet_by_index(i\n",
    "names= (ibook.sheet_names)\n",
    "print (ibook.sheet_names())\n",
    "    "
   ]
  },
  {
   "cell_type": "code",
   "execution_count": 44,
   "id": "714729c3",
   "metadata": {},
   "outputs": [
    {
     "name": "stdout",
     "output_type": "stream",
     "text": [
      "2018\n",
      "2021\n",
      "2015\n",
      "2017\n",
      "2016\n",
      "2019\n",
      "2020\n"
     ]
    }
   ],
   "source": [
    "ibook = xlrd.open_workbook(\"cairn18.xls\", formatting_info=True)\n",
    "for ix in range (7):\n",
    "    isheet = ibook.sheet_by_index(ix)\n",
    "    print (isheet.name)\n",
    "    "
   ]
  },
  {
   "cell_type": "code",
   "execution_count": 46,
   "id": "234d01d0",
   "metadata": {},
   "outputs": [],
   "source": [
    "import pandas as pd"
   ]
  },
  {
   "cell_type": "code",
   "execution_count": 54,
   "id": "23809217",
   "metadata": {},
   "outputs": [
    {
     "data": {
      "text/html": [
       "<div>\n",
       "<style scoped>\n",
       "    .dataframe tbody tr th:only-of-type {\n",
       "        vertical-align: middle;\n",
       "    }\n",
       "\n",
       "    .dataframe tbody tr th {\n",
       "        vertical-align: top;\n",
       "    }\n",
       "\n",
       "    .dataframe thead th {\n",
       "        text-align: right;\n",
       "    }\n",
       "</style>\n",
       "<table border=\"1\" class=\"dataframe\">\n",
       "  <thead>\n",
       "    <tr style=\"text-align: right;\">\n",
       "      <th></th>\n",
       "      <th>Date</th>\n",
       "      <th>publication</th>\n",
       "      <th>Author</th>\n",
       "      <th>Headline</th>\n",
       "      <th>Items</th>\n",
       "    </tr>\n",
       "  </thead>\n",
       "  <tbody>\n",
       "  </tbody>\n",
       "</table>\n",
       "</div>"
      ],
      "text/plain": [
       "Empty DataFrame\n",
       "Columns: [Date, publication, Author, Headline, Items]\n",
       "Index: []"
      ]
     },
     "execution_count": 54,
     "metadata": {},
     "output_type": "execute_result"
    }
   ],
   "source": [
    "df=pd.read_pickle('cairn.pkl')\n",
    "df.head()"
   ]
  },
  {
   "cell_type": "code",
   "execution_count": 49,
   "id": "ab21fecd",
   "metadata": {},
   "outputs": [
    {
     "data": {
      "text/html": [
       "<div>\n",
       "<style scoped>\n",
       "    .dataframe tbody tr th:only-of-type {\n",
       "        vertical-align: middle;\n",
       "    }\n",
       "\n",
       "    .dataframe tbody tr th {\n",
       "        vertical-align: top;\n",
       "    }\n",
       "\n",
       "    .dataframe thead th {\n",
       "        text-align: right;\n",
       "    }\n",
       "</style>\n",
       "<table border=\"1\" class=\"dataframe\">\n",
       "  <thead>\n",
       "    <tr style=\"text-align: right;\">\n",
       "      <th></th>\n",
       "      <th>Date</th>\n",
       "      <th>publication</th>\n",
       "      <th>Author</th>\n",
       "      <th>Headline</th>\n",
       "      <th>Items</th>\n",
       "    </tr>\n",
       "  </thead>\n",
       "  <tbody>\n",
       "  </tbody>\n",
       "</table>\n",
       "</div>"
      ],
      "text/plain": [
       "Empty DataFrame\n",
       "Columns: [Date, publication, Author, Headline, Items]\n",
       "Index: []"
      ]
     },
     "execution_count": 49,
     "metadata": {},
     "output_type": "execute_result"
    }
   ],
   "source": [
    "df.head()"
   ]
  },
  {
   "cell_type": "code",
   "execution_count": 55,
   "id": "ef9f7c19",
   "metadata": {},
   "outputs": [],
   "source": [
    "from selenium.webdriver.common.by import By\n"
   ]
  },
  {
   "cell_type": "code",
   "execution_count": 56,
   "id": "18e9cbf1",
   "metadata": {},
   "outputs": [
    {
     "data": {
      "text/plain": [
       "114.66666666666667"
      ]
     },
     "execution_count": 56,
     "metadata": {},
     "output_type": "execute_result"
    }
   ],
   "source": [
    "6880\n"
   ]
  },
  {
   "cell_type": "code",
   "execution_count": 58,
   "id": "38b100b6",
   "metadata": {},
   "outputs": [
    {
     "name": "stdout",
     "output_type": "stream",
     "text": [
      "0\n",
      "50\n",
      "100\n",
      "150\n",
      "200\n"
     ]
    }
   ],
   "source": [
    "for iy in range(221):\n",
    "    if iy%50==0:\n",
    "        print(iy)\n",
    "                "
   ]
  },
  {
   "cell_type": "code",
   "execution_count": 59,
   "id": "b5d8efcc",
   "metadata": {},
   "outputs": [
    {
     "name": "stdout",
     "output_type": "stream",
     "text": [
      "2\n",
      "3\n",
      "4\n",
      "5\n",
      "6\n",
      "7\n"
     ]
    }
   ],
   "source": [
    "for ix in range(2,8):\n",
    "    print(ix)"
   ]
  },
  {
   "cell_type": "code",
   "execution_count": 60,
   "id": "12e17c1f",
   "metadata": {},
   "outputs": [
    {
     "name": "stdout",
     "output_type": "stream",
     "text": [
      "2018 t 688\n",
      "2021 t 2038\n",
      "2015 t 3623\n",
      "2017 t 1487\n",
      "2016 t 2574\n",
      "2019 t 651\n",
      "2020 t 618\n"
     ]
    }
   ],
   "source": [
    "ibook = xlrd.open_workbook(\"cairn18.xls\", formatting_info=True)\n",
    "for ix in range(7):\n",
    "    isheet = ibook.sheet_by_index(ix)\n",
    "    print(isheet.name, 't', str(isheet.nrows))"
   ]
  },
  {
   "cell_type": "code",
   "execution_count": 66,
   "id": "7d65fd9a",
   "metadata": {},
   "outputs": [
    {
     "name": "stdout",
     "output_type": "stream",
     "text": [
      "2017 \t 1487\n",
      "2016 \t 2574\n",
      "2019 \t 651\n",
      "2020 \t 618\n"
     ]
    }
   ],
   "source": [
    "ibook = xlrd.open_workbook(\"cairn18.xls\", formatting_info=True)\n",
    "for ix in [3,4,5,6]:\n",
    "    isheet = ibook.sheet_by_index(ix)\n",
    "    print(isheet.name, '\\t', str(isheet.nrows))"
   ]
  },
  {
   "cell_type": "code",
   "execution_count": 71,
   "id": "5d99a91e",
   "metadata": {},
   "outputs": [
    {
     "name": "stdout",
     "output_type": "stream",
     "text": [
      "2017 \t 1487\n",
      "2016 \t 2574\n",
      "2019 \t 651\n",
      "2020 \t 618\n"
     ]
    }
   ],
   "source": [
    "ibook = xlrd.open_workbook(\"cairn18.xls\", formatting_info=True)\n",
    "for ix in range(3,7):\n",
    "    isheet = ibook.sheet_by_index(ix)\n",
    "    print(isheet.name, '\\t', str(isheet.nrows))"
   ]
  },
  {
   "cell_type": "code",
   "execution_count": null,
   "id": "037a8520",
   "metadata": {},
   "outputs": [],
   "source": []
  }
 ],
 "metadata": {
  "kernelspec": {
   "display_name": "Python 3 (ipykernel)",
   "language": "python",
   "name": "python3"
  },
  "language_info": {
   "codemirror_mode": {
    "name": "ipython",
    "version": 3
   },
   "file_extension": ".py",
   "mimetype": "text/x-python",
   "name": "python",
   "nbconvert_exporter": "python",
   "pygments_lexer": "ipython3",
   "version": "3.9.2"
  }
 },
 "nbformat": 4,
 "nbformat_minor": 5
}
